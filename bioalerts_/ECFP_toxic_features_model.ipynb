{
 "cells": [
  {
   "cell_type": "code",
   "execution_count": 1,
   "metadata": {},
   "outputs": [],
   "source": [
    "import bioalerts\n",
    "from bioalerts import LoadMolecules, Alerts, FPCalculator\n",
    "import sys"
   ]
  },
  {
   "cell_type": "code",
   "execution_count": 2,
   "metadata": {},
   "outputs": [],
   "source": [
    "import numpy as np \n",
    "import scipy\n",
    "import matplotlib.pyplot as plt\n",
    "\n",
    "from rdkit.Chem.Draw import IPythonConsole \n",
    "from rdkit.Chem import PandasTools \n",
    "\n",
    "import pandas as pd \n",
    "\n",
    "from sklearn.neighbors import KNeighborsRegressor #knn\n",
    "from sklearn.ensemble import RandomForestRegressor #RF\n",
    "from sklearn.svm import SVR #SVR\n",
    "from sklearn.neural_network import MLPRegressor #MLP \n",
    "\n",
    "from sklearn.model_selection import train_test_split, cross_val_score \n",
    "from sklearn.model_selection import RepeatedKFold\n",
    "from sklearn.metrics import mean_squared_error\n",
    "from sklearn.metrics import r2_score"
   ]
  },
  {
   "cell_type": "code",
   "execution_count": 3,
   "metadata": {},
   "outputs": [],
   "source": [
    "import sys, numpy as np, scipy as sc, rdkit, matplotlib as pylab, pandas as pd, IPython\n",
    "#print \" Python:\", sys.version, \"\\n\"\n",
    "#print \" Numpy:\", np.__version__\n",
    "#print \" Scipy:\", sc.__version__\n",
    "#print \" Rdkit:\", rdkit.rdBase.rdkitVersion\n",
    "#print \" Matplotlib:\", pylab.__version__\n",
    "#print \" Pandas:\", pd.__version__\n",
    "#print \" Ipython:\", IPython.__version__\n",
    "#print \" Scikit-Learn:\", sklearn.__version__\n",
    "#print \" Scipy:\", scipy.__version__"
   ]
  },
  {
   "cell_type": "markdown",
   "metadata": {},
   "source": [
    "## Extract toxic substructure "
   ]
  },
  {
   "cell_type": "code",
   "execution_count": 4,
   "metadata": {},
   "outputs": [],
   "source": [
    "#proteinTarget = 'NR-AR'\n",
    "read_dir = './tutorial/datasets/tox21/'\n",
    "smi = 'tox21_wholetraining.smi'\n",
    "bio = 'tox21_wholetraining.bio'"
   ]
  },
  {
   "cell_type": "code",
   "execution_count": 5,
   "metadata": {},
   "outputs": [
    {
     "name": "stdout",
     "output_type": "stream",
     "text": [
      "Format of the structures file = SMILES\n",
      "All molecules in the input file were processed correctly\n",
      "Total number of input molecules:  8332\n"
     ]
    }
   ],
   "source": [
    "molecules = bioalerts.LoadMolecules.LoadMolecules(read_dir + smi,name_field=None)\n",
    "molecules.ReadMolecules()\n",
    "print \"Total number of input molecules: \", len(molecules.mols)"
   ]
  },
  {
   "cell_type": "code",
   "execution_count": 6,
   "metadata": {},
   "outputs": [
    {
     "name": "stdout",
     "output_type": "stream",
     "text": [
      "8332\n"
     ]
    }
   ],
   "source": [
    "print len(molecules.mols)"
   ]
  },
  {
   "cell_type": "code",
   "execution_count": 7,
   "metadata": {},
   "outputs": [
    {
     "data": {
      "text/plain": [
       "[0, 1, 2, 3, 4]"
      ]
     },
     "execution_count": 7,
     "metadata": {},
     "output_type": "execute_result"
    }
   ],
   "source": [
    "molecules.mols_ids[0:5]"
   ]
  },
  {
   "cell_type": "code",
   "execution_count": 8,
   "metadata": {},
   "outputs": [],
   "source": [
    "training_dataset_info = bioalerts.LoadMolecules.GetDataSetInfo()"
   ]
  },
  {
   "cell_type": "code",
   "execution_count": 9,
   "metadata": {},
   "outputs": [],
   "source": [
    "training_dataset_info.extract_substructure_information(radii=[2,3,4],mols=molecules.mols)"
   ]
  },
  {
   "cell_type": "code",
   "execution_count": 10,
   "metadata": {},
   "outputs": [
    {
     "name": "stdout",
     "output_type": "stream",
     "text": [
      "97905\n"
     ]
    }
   ],
   "source": [
    "print len(training_dataset_info.substructure_dictionary.keys())"
   ]
  },
  {
   "cell_type": "code",
   "execution_count": 11,
   "metadata": {},
   "outputs": [],
   "source": [
    "bioactivities = np.genfromtxt(read_dir + bio,\n",
    "                              dtype='int',\n",
    "                              skip_header=0)\n",
    "arr = np.arange(0,len(bioactivities))\n",
    "mask = np.ones(arr.shape,dtype=bool)\n",
    "mask[molecules.molserr]=0\n",
    "bioactivities =  bioactivities[mask]"
   ]
  },
  {
   "cell_type": "code",
   "execution_count": 12,
   "metadata": {},
   "outputs": [
    {
     "name": "stdout",
     "output_type": "stream",
     "text": [
      "8332\n",
      "8332\n"
     ]
    }
   ],
   "source": [
    "print len(bioactivities)\n",
    "print len(molecules.mols)"
   ]
  },
  {
   "cell_type": "code",
   "execution_count": 13,
   "metadata": {},
   "outputs": [
    {
     "name": "stdout",
     "output_type": "stream",
     "text": [
      "Number of substructures processed:  385705\n",
      "Significant toxic substructures:  94 substructures\n",
      "Significant non toxic substructures : 4517 substructures\n"
     ]
    }
   ],
   "source": [
    "Alerts_categorical = bioalerts.Alerts.CalculatePvaluesCategorical(max_radius=4)\n",
    "toxic, nontoxic = {}, {}\n",
    "\n",
    "toxic, nontoxic = Alerts_categorical.calculate_toxic_and_nontoxic_substructure(mols=molecules.mols,\n",
    "                                      substructure_dictionary=training_dataset_info.substructure_dictionary,\n",
    "                                      bioactivities=bioactivities,\n",
    "                                      mols_ids=training_dataset_info.mols_ids,\n",
    "                                      threshold_nb_substructures = 5,\n",
    "                                      threshold_pvalue = 0.05,\n",
    "                                      threshold_frequency = 0.7,\n",
    "                                      Bonferroni=True)"
   ]
  },
  {
   "cell_type": "code",
   "execution_count": 18,
   "metadata": {},
   "outputs": [
    {
     "data": {
      "text/plain": [
       "{59582328: [1.0],\n",
       " 144862996: [0.8333333333333334],\n",
       " 238332961: [0.875],\n",
       " 243031988: [0.9],\n",
       " 248538045: [0.8333333333333334],\n",
       " 289742792: [0.7142857142857143],\n",
       " 291625364: [0.8333333333333334],\n",
       " 293645588: [0.75],\n",
       " 303065576: [1.0],\n",
       " 316861206: [0.8461538461538461],\n",
       " 408935666: [1.0],\n",
       " 441214936: [0.7142857142857143],\n",
       " 464679642: [0.8571428571428571],\n",
       " 487877969: [1.0],\n",
       " 491206018: [0.7142857142857143],\n",
       " 528413146: [1.0],\n",
       " 529228269: [1.0],\n",
       " 590401100: [0.8333333333333334],\n",
       " 601301716: [0.7272727272727273],\n",
       " 665316820: [0.8333333333333334],\n",
       " 685620941: [0.8571428571428571],\n",
       " 776025833: [0.875],\n",
       " 780020950: [0.7142857142857143],\n",
       " 817010262: [0.8333333333333334],\n",
       " 856674059: [0.8333333333333334],\n",
       " 885218005: [0.7272727272727273],\n",
       " 907194548: [0.7142857142857143],\n",
       " 973747042: [0.8181818181818182],\n",
       " 1018193551: [0.9],\n",
       " 1025187852: [0.8333333333333334],\n",
       " 1040552245: [0.7142857142857143],\n",
       " 1072783936: [0.8333333333333334],\n",
       " 1210732435: [0.8181818181818182],\n",
       " 1220447184: [1.0],\n",
       " 1233810244: [0.8333333333333334],\n",
       " 1269851781: [1.0],\n",
       " 1299092894: [0.8333333333333334],\n",
       " 1300724914: [0.8],\n",
       " 1322529363: [0.8333333333333334],\n",
       " 1378206585: [1.0],\n",
       " 1437747071: [0.75],\n",
       " 1518432449: [0.8461538461538461],\n",
       " 1609125206: [0.7142857142857143],\n",
       " 1616758320: [1.0],\n",
       " 1632286252: [0.8333333333333334],\n",
       " 1833028715: [0.8333333333333334],\n",
       " 1837362276: [0.7272727272727273],\n",
       " 1887419926: [0.8181818181818182],\n",
       " 1904321503: [0.8333333333333334],\n",
       " 1906629638: [0.875],\n",
       " 1914835207: [0.7142857142857143],\n",
       " 1926414473: [0.8181818181818182],\n",
       " 2092096443: [0.8333333333333334],\n",
       " 2096291241: [0.8181818181818182],\n",
       " 2110713573: [0.8333333333333334],\n",
       " 2128830929: [0.7142857142857143],\n",
       " 2292238093L: [0.8333333333333334],\n",
       " 2295371384L: [0.7777777777777778],\n",
       " 2396384619L: [0.8333333333333334],\n",
       " 2441201613L: [0.8333333333333334],\n",
       " 2455943357L: [0.8333333333333334],\n",
       " 2486452475L: [0.7272727272727273],\n",
       " 2547260028L: [0.7142857142857143],\n",
       " 2586477428L: [0.7692307692307693],\n",
       " 2632265184L: [0.8461538461538461],\n",
       " 2666267517L: [0.7142857142857143],\n",
       " 2676693293L: [0.7142857142857143],\n",
       " 2685957082L: [0.8571428571428571],\n",
       " 2700364449L: [0.8571428571428571],\n",
       " 2730581186L: [0.8571428571428571],\n",
       " 2854154172L: [0.75],\n",
       " 2927177866L: [0.8333333333333334],\n",
       " 2956273779L: [0.8333333333333334],\n",
       " 2960320475L: [1.0],\n",
       " 2969511302L: [0.8333333333333334],\n",
       " 3047048782L: [0.7777777777777778],\n",
       " 3115087023L: [0.9],\n",
       " 3432086929L: [0.8333333333333334],\n",
       " 3445050409L: [0.8333333333333334],\n",
       " 3479423841L: [0.8571428571428571],\n",
       " 3491936091L: [0.8181818181818182],\n",
       " 3663265415L: [0.8333333333333334],\n",
       " 3669900705L: [1.0],\n",
       " 3743793454L: [0.75],\n",
       " 3744626343L: [0.7647058823529411],\n",
       " 3774802668L: [0.7142857142857143],\n",
       " 3864161222L: [0.8333333333333334],\n",
       " 3926336955L: [1.0],\n",
       " 4098238333L: [0.7142857142857143],\n",
       " 4158306861L: [0.7727272727272727],\n",
       " 4236605231L: [0.7777777777777778],\n",
       " 4242283111L: [0.8333333333333334],\n",
       " 4246700814L: [0.8333333333333334],\n",
       " 4275705722L: [0.8333333333333334]}"
      ]
     },
     "execution_count": 18,
     "metadata": {},
     "output_type": "execute_result"
    }
   ],
   "source": [
    "toxic\n",
    "#len(toxic) # >>> 94"
   ]
  },
  {
   "cell_type": "code",
   "execution_count": null,
   "metadata": {},
   "outputs": [],
   "source": [
    "nontoxic\n",
    "#len(nontoxic) # >>> 4517"
   ]
  },
  {
   "cell_type": "code",
   "execution_count": 106,
   "metadata": {},
   "outputs": [],
   "source": [
    "toxic = {59582328: [1.0],\n",
    " 144862996: [0.8333333333333334],\n",
    " 238332961: [0.875],\n",
    " 243031988: [0.9],\n",
    " 248538045: [0.8333333333333334],\n",
    " 289742792: [0.7142857142857143],\n",
    " 291625364: [0.8333333333333334],\n",
    " 293645588: [0.75],\n",
    " 303065576: [1.0],\n",
    " 316861206: [0.8461538461538461],\n",
    " 408935666: [1.0],\n",
    " 441214936: [0.7142857142857143],\n",
    " 464679642: [0.8571428571428571],\n",
    " 487877969: [1.0],\n",
    " 491206018: [0.7142857142857143],\n",
    " 528413146: [1.0],\n",
    " 529228269: [1.0],\n",
    " 590401100: [0.8333333333333334],\n",
    " 601301716: [0.7272727272727273],\n",
    " 665316820: [0.8333333333333334],\n",
    " 685620941: [0.8571428571428571],\n",
    " 776025833: [0.875],\n",
    " 780020950: [0.7142857142857143],\n",
    " 817010262: [0.8333333333333334],\n",
    " 856674059: [0.8333333333333334],\n",
    " 885218005: [0.7272727272727273],\n",
    " 907194548: [0.7142857142857143],\n",
    " 973747042: [0.8181818181818182],\n",
    " 1018193551: [0.9],\n",
    " 1025187852: [0.8333333333333334],\n",
    " 1040552245: [0.7142857142857143],\n",
    " 1072783936: [0.8333333333333334],\n",
    " 1210732435: [0.8181818181818182],\n",
    " 1220447184: [1.0],\n",
    " 1233810244: [0.8333333333333334],\n",
    " 1269851781: [1.0],\n",
    " 1299092894: [0.8333333333333334],\n",
    " 1300724914: [0.8],\n",
    " 1322529363: [0.8333333333333334],\n",
    " 1378206585: [1.0],\n",
    " 1437747071: [0.75],\n",
    " 1518432449: [0.8461538461538461],\n",
    " 1609125206: [0.7142857142857143],\n",
    " 1616758320: [1.0],\n",
    " 1632286252: [0.8333333333333334],\n",
    " 1833028715: [0.8333333333333334],\n",
    " 1837362276: [0.7272727272727273],\n",
    " 1887419926: [0.8181818181818182],\n",
    " 1904321503: [0.8333333333333334],\n",
    " 1906629638: [0.875],\n",
    " 1914835207: [0.7142857142857143],\n",
    " 1926414473: [0.8181818181818182],\n",
    " 2092096443: [0.8333333333333334],\n",
    " 2096291241: [0.8181818181818182],\n",
    " 2110713573: [0.8333333333333334],\n",
    " 2128830929: [0.7142857142857143],\n",
    " 2292238093L: [0.8333333333333334],\n",
    " 2295371384L: [0.7777777777777778],\n",
    " 2396384619L: [0.8333333333333334],\n",
    " 2441201613L: [0.8333333333333334],\n",
    " 2455943357L: [0.8333333333333334],\n",
    " 2486452475L: [0.7272727272727273],\n",
    " 2547260028L: [0.7142857142857143],\n",
    " 2586477428L: [0.7692307692307693],\n",
    " 2632265184L: [0.8461538461538461],\n",
    " 2666267517L: [0.7142857142857143],\n",
    " 2676693293L: [0.7142857142857143],\n",
    " 2685957082L: [0.8571428571428571],\n",
    " 2700364449L: [0.8571428571428571],\n",
    " 2730581186L: [0.8571428571428571],\n",
    " 2854154172L: [0.75],\n",
    " 2927177866L: [0.8333333333333334],\n",
    " 2956273779L: [0.8333333333333334],\n",
    " 2960320475L: [1.0],\n",
    " 2969511302L: [0.8333333333333334],\n",
    " 3047048782L: [0.7777777777777778],\n",
    " 3115087023L: [0.9],\n",
    " 3432086929L: [0.8333333333333334],\n",
    " 3445050409L: [0.8333333333333334],\n",
    " 3479423841L: [0.8571428571428571],\n",
    " 3491936091L: [0.8181818181818182],\n",
    " 3663265415L: [0.8333333333333334],\n",
    " 3669900705L: [1.0],\n",
    " 3743793454L: [0.75],\n",
    " 3744626343L: [0.7647058823529411],\n",
    " 3774802668L: [0.7142857142857143],\n",
    " 3864161222L: [0.8333333333333334],\n",
    " 3926336955L: [1.0],\n",
    " 4098238333L: [0.7142857142857143],\n",
    " 4158306861L: [0.7727272727272727],\n",
    " 4236605231L: [0.7777777777777778],\n",
    " 4242283111L: [0.8333333333333334],\n",
    " 4246700814L: [0.8333333333333334],\n",
    " 4275705722L: [0.8333333333333334]}"
   ]
  },
  {
   "cell_type": "markdown",
   "metadata": {},
   "source": [
    "##  Calculating Morgan fingerprints"
   ]
  },
  {
   "cell_type": "code",
   "execution_count": 79,
   "metadata": {},
   "outputs": [],
   "source": [
    "proteinTarget = 'mmc1_estrogen'"
   ]
  },
  {
   "cell_type": "code",
   "execution_count": 80,
   "metadata": {},
   "outputs": [],
   "source": [
    "AR_mols = bioalerts.LoadMolecules.LoadMolecules(\"./tutorial/datasets/\"+ proteinTarget +\".smi\",name_field=None) \n",
    "#COX2.smi is a set of only SMILES data"
   ]
  },
  {
   "cell_type": "code",
   "execution_count": 81,
   "metadata": {
    "scrolled": true
   },
   "outputs": [
    {
     "name": "stdout",
     "output_type": "stream",
     "text": [
      "Format of the structures file = SMILES\n",
      "3 molecules (starting at zero) could not be processed.\n",
      "\n",
      "This information has been saved in the following file: incorrect_molecules.csv\n",
      "\n",
      "NOTE: the indexes of the molecules start at zero. Thus the first molecule is molecule 0.\n"
     ]
    }
   ],
   "source": [
    "AR_mols.ReadMolecules()"
   ]
  },
  {
   "cell_type": "code",
   "execution_count": 82,
   "metadata": {},
   "outputs": [
    {
     "name": "stdout",
     "output_type": "stream",
     "text": [
      "1275\n",
      "1278\n"
     ]
    }
   ],
   "source": [
    "AR_bio = np.genfromtxt('./tutorial/datasets/'+ proteinTarget +'.bio.txt',skip_header=0)\n",
    "print len(AR_mols.mols)\n",
    "print len(AR_bio)"
   ]
  },
  {
   "cell_type": "code",
   "execution_count": 83,
   "metadata": {},
   "outputs": [],
   "source": [
    "if len(AR_mols.molserr)!= 0:\n",
    "    AR_bio = np.delete(AR_bio,AR_mols.molserr)"
   ]
  },
  {
   "cell_type": "code",
   "execution_count": 84,
   "metadata": {},
   "outputs": [
    {
     "name": "stdout",
     "output_type": "stream",
     "text": [
      "1275\n",
      "1275\n"
     ]
    }
   ],
   "source": [
    "print len(AR_mols.mols)\n",
    "print len(AR_bio)"
   ]
  },
  {
   "cell_type": "markdown",
   "metadata": {},
   "source": [
    "## Input data preparation (feature insertion)"
   ]
  },
  {
   "cell_type": "code",
   "execution_count": 85,
   "metadata": {},
   "outputs": [],
   "source": [
    "#  Reference molecules\n",
    "reference_molecules = bioalerts.LoadMolecules.GetDataSetInfo(name_field=None)"
   ]
  },
  {
   "cell_type": "code",
   "execution_count": 86,
   "metadata": {},
   "outputs": [],
   "source": [
    "reference_molecules.extract_substructure_information(radii=[0,1,2],mols=AR_mols.mols)"
   ]
  },
  {
   "cell_type": "code",
   "execution_count": 87,
   "metadata": {},
   "outputs": [
    {
     "name": "stdout",
     "output_type": "stream",
     "text": [
      "4063\n"
     ]
    }
   ],
   "source": [
    "reference_keys = reference_molecules.substructure_dictionary.keys()\n",
    "reference_dict = reference_molecules.substructure_dictionary\n",
    "print len(reference_keys)"
   ]
  },
  {
   "cell_type": "code",
   "execution_count": null,
   "metadata": {},
   "outputs": [],
   "source": []
  },
  {
   "cell_type": "code",
   "execution_count": 88,
   "metadata": {},
   "outputs": [],
   "source": [
    "fps_experiments = bioalerts.FPCalculator.CalculateFPs(radii=[0,1,2],mols=AR_mols.mols)"
   ]
  },
  {
   "cell_type": "code",
   "execution_count": 89,
   "metadata": {},
   "outputs": [],
   "source": [
    "fps_experiments.calculate_hashed_fps(nBits=128)"
   ]
  },
  {
   "cell_type": "code",
   "execution_count": 90,
   "metadata": {},
   "outputs": [
    {
     "name": "stdout",
     "output_type": "stream",
     "text": [
      "(1275L, 128L)\n",
      "(1275L, 128L)\n"
     ]
    }
   ],
   "source": [
    "print fps_experiments.fps_hashed_counts.shape\n",
    "print fps_experiments.fps_hashed_binary.shape "
   ]
  },
  {
   "cell_type": "code",
   "execution_count": 91,
   "metadata": {},
   "outputs": [],
   "source": [
    "fps_exp_cnt = fps_experiments.fps_hashed_counts\n",
    "fps_exp_bin = fps_experiments.fps_hashed_binary"
   ]
  },
  {
   "cell_type": "code",
   "execution_count": 92,
   "metadata": {},
   "outputs": [],
   "source": [
    "df_fps_cnt = pd.DataFrame(fps_exp_cnt,columns=list(range(len(fps_exp_cnt[0]))))\n",
    "df_fps_bin = pd.DataFrame(fps_exp_bin,columns=list(range(len(fps_exp_bin[0]))))"
   ]
  },
  {
   "cell_type": "code",
   "execution_count": null,
   "metadata": {},
   "outputs": [],
   "source": []
  },
  {
   "cell_type": "code",
   "execution_count": 110,
   "metadata": {},
   "outputs": [],
   "source": [
    "for substr,indices in reference_dict.items() : \n",
    "    if substr in toxic.keys() :\n",
    "        for idx in indices :\n",
    "            if 0.7 <= toxic[substr][0] < 0.8 :\n",
    "                for i in range(8):  \n",
    "                    df_fps_cnt.loc[idx,'significant_feature_{}'.format(i)] = 1.0\n",
    "                    df_fps_bin.loc[idx,'significant_feature_{}'.format(i)] = 1.0\n",
    "            elif 0.8 <= toxic[substr][0] < 0.9 : \n",
    "                for i in range(8):\n",
    "                    df_fps_cnt.loc[idx,'significant_feature_{}'.format(i)] = 2.0\n",
    "                    df_fps_bin.loc[idx,'significant_feature_{}'.format(i)] = 2.0\n",
    "            elif 0.9 <= toxic[substr][0] <1.0 : \n",
    "                for i in range(8):\n",
    "                    df_fps_cnt.loc[idx,'significant_feature_{}'.format(i)] = 3.0\n",
    "                    df_fps_bin.loc[idx,'significant_feature_{}'.format(i)] = 3.0\n",
    "            else:\n",
    "                for i in range(8):\n",
    "                    df_fps_cnt.loc[idx,'significant_feature_{}'.format(i)] = 0.0\n",
    "                    df_fps_bin.loc[idx,'significant_feature_{}'.format(i)] = 0.0"
   ]
  },
  {
   "cell_type": "code",
   "execution_count": 111,
   "metadata": {},
   "outputs": [],
   "source": [
    "df_fps_cnt = df_fps_cnt.replace(np.nan,0.0)\n",
    "df_fps_bin = df_fps_bin.replace(np.nan,0.0)"
   ]
  },
  {
   "cell_type": "code",
   "execution_count": 112,
   "metadata": {},
   "outputs": [
    {
     "name": "stdout",
     "output_type": "stream",
     "text": [
      "67\n",
      "1275\n",
      "\n",
      "67\n",
      "1275\n"
     ]
    }
   ],
   "source": [
    "print(len(df_fps_cnt[df_fps_cnt.significant_feature_1!=0.0]))\n",
    "print(len(df_fps_cnt))\n",
    "print\n",
    "print(len(df_fps_bin[df_fps_bin.significant_feature_1!=0.0]))\n",
    "print(len(df_fps_bin))"
   ]
  },
  {
   "cell_type": "code",
   "execution_count": 115,
   "metadata": {},
   "outputs": [],
   "source": [
    "# y label\n",
    "df_bio = pd.DataFrame(AR_bio,columns=None)"
   ]
  },
  {
   "cell_type": "markdown",
   "metadata": {},
   "source": [
    "## Data Split"
   ]
  },
  {
   "cell_type": "code",
   "execution_count": 65,
   "metadata": {},
   "outputs": [],
   "source": [
    "#if you wanna train models without additional features, \n",
    "#do not run above codes which insert features"
   ]
  },
  {
   "cell_type": "code",
   "execution_count": 116,
   "metadata": {},
   "outputs": [],
   "source": [
    "test_size = 0.05 \n",
    "fps_cnt_train, fps_cnt_test, bio_cnt_train, bio_cnt_test = train_test_split(df_fps_cnt,df_bio,test_size = test_size, shuffle = True)"
   ]
  },
  {
   "cell_type": "code",
   "execution_count": 117,
   "metadata": {},
   "outputs": [],
   "source": [
    "test_size = 0.05 \n",
    "fps_bin_train, fps_bin_test, bio_bin_train, bio_bin_test = train_test_split(df_fps_bin,df_bio,test_size = test_size, shuffle = True)"
   ]
  },
  {
   "cell_type": "code",
   "execution_count": null,
   "metadata": {},
   "outputs": [],
   "source": []
  },
  {
   "cell_type": "markdown",
   "metadata": {},
   "source": [
    "## Train models "
   ]
  },
  {
   "cell_type": "code",
   "execution_count": 118,
   "metadata": {},
   "outputs": [],
   "source": [
    "from sklearn.ensemble import RandomForestClassifier\n",
    "from sklearn.neighbors import KNeighborsClassifier\n",
    "from sklearn.metrics import accuracy_score\n",
    "from sklearn import metrics \n",
    "from sklearn.metrics import f1_score"
   ]
  },
  {
   "cell_type": "code",
   "execution_count": 119,
   "metadata": {},
   "outputs": [],
   "source": [
    "n_estimators = 100\n",
    "min_samples_split= 2\n",
    "max_depth = None\n",
    "\n",
    "n_neighbors = 6 \n",
    "metric = 'matching'"
   ]
  },
  {
   "cell_type": "code",
   "execution_count": 120,
   "metadata": {},
   "outputs": [
    {
     "name": "stderr",
     "output_type": "stream",
     "text": [
      "C:\\Users\\chon0\\Anaconda3\\envs\\py27\\lib\\site-packages\\ipykernel_launcher.py:4: DataConversionWarning: A column-vector y was passed when a 1d array was expected. Please change the shape of y to (n_samples,), for example using ravel().\n",
      "  after removing the cwd from sys.path.\n",
      "C:\\Users\\chon0\\Anaconda3\\envs\\py27\\lib\\site-packages\\ipykernel_launcher.py:9: DataConversionWarning: A column-vector y was passed when a 1d array was expected. Please change the shape of y to (n_samples,), for example using ravel().\n",
      "  if __name__ == '__main__':\n"
     ]
    },
    {
     "data": {
      "text/plain": [
       "RandomForestClassifier(bootstrap=True, class_weight=None, criterion='gini',\n",
       "            max_depth=None, max_features='auto', max_leaf_nodes=None,\n",
       "            min_impurity_decrease=0.0, min_impurity_split=None,\n",
       "            min_samples_leaf=1, min_samples_split=2,\n",
       "            min_weight_fraction_leaf=0.0, n_estimators=100, n_jobs=2,\n",
       "            oob_score=False, random_state=23, verbose=0, warm_start=False)"
      ]
     },
     "execution_count": 120,
     "metadata": {},
     "output_type": "execute_result"
    }
   ],
   "source": [
    "#RF\n",
    "seed = 23\n",
    "RF_hashed_counts = RandomForestClassifier(n_estimators=n_estimators,max_depth=max_depth,min_samples_split=min_samples_split,random_state=seed,n_jobs=2)\n",
    "RF_hashed_counts.fit(fps_cnt_train, bio_cnt_train)\n",
    "\n",
    "# RF binary \n",
    "seed = 23 \n",
    "RF_hashed_binary = RandomForestClassifier(n_estimators=n_estimators,max_depth=max_depth, min_samples_split=min_samples_split,random_state=seed,n_jobs=2)\n",
    "RF_hashed_binary.fit(fps_bin_train, bio_bin_train)"
   ]
  },
  {
   "cell_type": "code",
   "execution_count": 121,
   "metadata": {},
   "outputs": [
    {
     "name": "stderr",
     "output_type": "stream",
     "text": [
      "C:\\Users\\chon0\\Anaconda3\\envs\\py27\\lib\\site-packages\\ipykernel_launcher.py:3: DataConversionWarning: A column-vector y was passed when a 1d array was expected. Please change the shape of y to (n_samples, ), for example using ravel().\n",
      "  This is separate from the ipykernel package so we can avoid doing imports until\n",
      "C:\\Users\\chon0\\Anaconda3\\envs\\py27\\lib\\site-packages\\ipykernel_launcher.py:7: DataConversionWarning: A column-vector y was passed when a 1d array was expected. Please change the shape of y to (n_samples, ), for example using ravel().\n",
      "  import sys\n"
     ]
    },
    {
     "data": {
      "text/plain": [
       "KNeighborsClassifier(algorithm='auto', leaf_size=30, metric='matching',\n",
       "           metric_params=None, n_jobs=None, n_neighbors=6, p=2,\n",
       "           weights='distance')"
      ]
     },
     "execution_count": 121,
     "metadata": {},
     "output_type": "execute_result"
    }
   ],
   "source": [
    "# KNN\n",
    "KNN_hashed_counts = KNeighborsClassifier(n_neighbors=n_neighbors, weights='distance', algorithm='auto',metric=metric)\n",
    "KNN_hashed_counts.fit(fps_cnt_train, bio_cnt_train)\n",
    "\n",
    "#KNN binary\n",
    "KNN_hashed_binary = KNeighborsClassifier(n_neighbors=n_neighbors, weights='distance', algorithm='auto',metric=metric)\n",
    "KNN_hashed_binary.fit(fps_bin_train, bio_bin_train)"
   ]
  },
  {
   "cell_type": "markdown",
   "metadata": {},
   "source": [
    "#### counts"
   ]
  },
  {
   "cell_type": "code",
   "execution_count": 122,
   "metadata": {},
   "outputs": [
    {
     "name": "stderr",
     "output_type": "stream",
     "text": [
      "C:\\Users\\chon0\\Anaconda3\\envs\\py27\\lib\\site-packages\\ipykernel_launcher.py:21: DataConversionWarning: A column-vector y was passed when a 1d array was expected. Please change the shape of y to (n_samples,), for example using ravel().\n"
     ]
    },
    {
     "name": "stdout",
     "output_type": "stream",
     "text": [
      "[0.9053497942386831, 0.9421487603305785, 0.9545454545454546, 0.9504132231404959, 0.9380165289256198]\n",
      "('mean : ', 0.9380947522361665)\n",
      "[0.9465020576131687, 0.9586776859504132, 0.9338842975206612, 0.9090909090909091, 0.9338842975206612]\n",
      "('mean : ', 0.9364078495391628)\n",
      "[0.9135802469135802, 0.9421487603305785, 0.9256198347107438, 0.9297520661157025, 0.9628099173553719]\n",
      "('mean : ', 0.9347821650851953)\n",
      "[0.9629629629629629, 0.9008264462809917, 0.9504132231404959, 0.9256198347107438, 0.9421487603305785]\n",
      "('mean : ', 0.9363942454851546)\n",
      "[0.934156378600823, 0.9338842975206612, 0.9628099173553719, 0.9421487603305785, 0.9173553719008265]\n",
      "('mean : ', 0.9380709451416521)\n",
      "[0.9382716049382716, 0.9173553719008265, 0.9338842975206612, 0.9462809917355371, 0.9214876033057852]\n",
      "('mean : ', 0.9314559738802162)\n",
      "[0.8888888888888888, 0.9297520661157025, 0.9338842975206612, 0.9380165289256198, 0.9380165289256198]\n",
      "('mean : ', 0.9257116620752985)\n",
      "[0.9465020576131687, 0.9297520661157025, 0.9462809917355371, 0.9545454545454546, 0.9090909090909091]\n",
      "('mean : ', 0.9372342958201545)\n",
      "[0.8888888888888888, 0.9380165289256198, 0.9256198347107438, 0.9628099173553719, 0.9421487603305785]\n",
      "('mean : ', 0.9314967860422406)\n",
      "[0.9506172839506173, 0.9338842975206612, 0.9338842975206612, 0.9297520661157025, 0.9297520661157025]\n",
      "('mean : ', 0.9355780022446689)\n",
      "\n",
      "each CV RMSE average : [0.9380947522361665, 0.9364078495391628, 0.9347821650851953, 0.9363942454851546, 0.9380709451416521, 0.9314559738802162, 0.9257116620752985, 0.9372342958201545, 0.9314967860422406, 0.9355780022446689]\n",
      "\n",
      "total fold mean :  0.9345\n",
      "VARIANCE of RMSE of every folds : 0.0003\n",
      "F1 SCORE :  0.9637959029298928\n",
      "AUC :  0.764573846953017\n"
     ]
    },
    {
     "name": "stderr",
     "output_type": "stream",
     "text": [
      "C:\\Users\\chon0\\Anaconda3\\envs\\py27\\lib\\site-packages\\ipykernel_launcher.py:52: DataConversionWarning: A column-vector y was passed when a 1d array was expected. Please change the shape of y to (n_samples,), for example using ravel().\n"
     ]
    },
    {
     "data": {
      "text/plain": [
       "RandomForestClassifier(bootstrap=True, class_weight=None, criterion='gini',\n",
       "            max_depth=None, max_features='auto', max_leaf_nodes=None,\n",
       "            min_impurity_decrease=0.0, min_impurity_split=None,\n",
       "            min_samples_leaf=1, min_samples_split=2,\n",
       "            min_weight_fraction_leaf=0.0, n_estimators=100, n_jobs=2,\n",
       "            oob_score=False, random_state=23, verbose=0, warm_start=False)"
      ]
     },
     "execution_count": 122,
     "metadata": {},
     "output_type": "execute_result"
    }
   ],
   "source": [
    "#fold setting\n",
    "kf = RepeatedKFold(n_splits = 5,n_repeats=10)\n",
    "kf.get_n_splits(fps_cnt_train)\n",
    "#kf\n",
    "#>>> KFold(n_splits=5, random_state=None, shuffle=False)\n",
    "\n",
    "#for numbering k folds\n",
    "k=0\n",
    "cv_rmse = []\n",
    "cv_rmse_mean = []\n",
    "tmp = []\n",
    "AUC = []\n",
    "f1_List = []\n",
    "fpr_RF, tpr_RF, thresholds_RF = None, None, None \n",
    "\n",
    "#cross-val training\n",
    "for train_idx, test_idx in kf.split(fps_cnt_train):\n",
    "    x_cv_train , x_cv_test = fps_cnt_train.iloc[train_idx], fps_cnt_train.iloc[test_idx]\n",
    "    y_cv_train , y_cv_test = bio_cnt_train.iloc[train_idx], bio_cnt_train.iloc[test_idx]\n",
    "    \n",
    "    RF_hashed_counts.fit(x_cv_train,y_cv_train)\n",
    "    \n",
    "    y_cv_testidx = test_idx\n",
    "    y_cv_pred = RF_hashed_counts.predict(x_cv_test)\n",
    "    #cv_rmse.append(round(np.sqrt(mean_squared_error(y_cv_test,y_cv_pred)),4))\n",
    "    #cv_rmse_mean.append(round(np.sqrt(mean_squared_error(y_cv_test,y_cv_pred)),4))\n",
    "    cv_rmse.append(accuracy_score(y_cv_test,y_cv_pred))\n",
    "    cv_rmse_mean.append(accuracy_score(y_cv_test,y_cv_pred))\n",
    "    \n",
    "    f1_List.append(f1_score(y_cv_test,y_cv_pred))\n",
    "    \n",
    "    fpr_RF, tpr_RF, thresholds_RF = metrics.roc_curve(y_cv_test, y_cv_pred, pos_label=1)\n",
    "    AUC.append(metrics.auc(fpr_RF, tpr_RF))\n",
    "    \n",
    "    k += 1 \n",
    "    \n",
    "    if k % 5 == 0 : \n",
    "        tmp.append(np.mean(cv_rmse_mean))\n",
    "        print(cv_rmse_mean) # per fold rmse value in one cv \n",
    "        print(\"mean : \",np.mean(cv_rmse_mean)) # RMSE mean value per iteration of cv  \n",
    "        del cv_rmse_mean[:]\n",
    "        \n",
    "print\n",
    "print (\"each CV RMSE average : {}\".format(tmp))\n",
    "print\n",
    "print \"total fold mean : \", round(np.mean(cv_rmse),4)\n",
    "print (\"VARIANCE of RMSE of every folds : {}\".format(round(np.var(cv_rmse),4)))\n",
    "print \"F1 SCORE : \" , np.mean(f1_List)\n",
    "print \"AUC : \", np.mean(AUC)\n",
    "\n",
    "#model retrain with all train data  \n",
    "RF_hashed_counts.fit(fps_cnt_train,bio_cnt_train) # > model train"
   ]
  },
  {
   "cell_type": "code",
   "execution_count": 123,
   "metadata": {},
   "outputs": [
    {
     "name": "stderr",
     "output_type": "stream",
     "text": [
      "C:\\Users\\chon0\\Anaconda3\\envs\\py27\\lib\\site-packages\\ipykernel_launcher.py:21: DataConversionWarning: A column-vector y was passed when a 1d array was expected. Please change the shape of y to (n_samples, ), for example using ravel().\n"
     ]
    },
    {
     "name": "stdout",
     "output_type": "stream",
     "text": [
      "[0.9176954732510288, 0.9297520661157025, 0.9297520661157025, 0.9173553719008265, 0.9462809917355371]\n",
      "('mean : ', 0.9281671938237596)\n",
      "[0.9053497942386831, 0.9380165289256198, 0.9297520661157025, 0.9380165289256198, 0.9297520661157025]\n",
      "('mean : ', 0.9281773968642655)\n",
      "[0.9711934156378601, 0.9008264462809917, 0.9008264462809917, 0.9380165289256198, 0.9256198347107438]\n",
      "('mean : ', 0.9272965343672415)\n",
      "[0.9218106995884774, 0.9049586776859504, 0.9462809917355371, 0.9338842975206612, 0.9090909090909091]\n",
      "('mean : ', 0.923205115124307)\n",
      "[0.9176954732510288, 0.9256198347107438, 0.9132231404958677, 0.9504132231404959, 0.9256198347107438]\n",
      "('mean : ', 0.9265143012617759)\n",
      "[0.9423868312757202, 0.9132231404958677, 0.9132231404958677, 0.9380165289256198, 0.9214876033057852]\n",
      "('mean : ', 0.925667448899772)\n",
      "[0.9259259259259259, 0.9338842975206612, 0.9338842975206612, 0.9297520661157025, 0.8966942148760331]\n",
      "('mean : ', 0.9240281603917968)\n",
      "[0.9053497942386831, 0.9462809917355371, 0.9173553719008265, 0.9297520661157025, 0.9338842975206612]\n",
      "('mean : ', 0.9265245043022821)\n",
      "[0.9588477366255144, 0.9256198347107438, 0.9586776859504132, 0.9132231404958677, 0.9173553719008265]\n",
      "('mean : ', 0.9347447539366731)\n",
      "[0.9259259259259259, 0.9173553719008265, 0.9380165289256198, 0.9132231404958677, 0.9421487603305785]\n",
      "('mean : ', 0.9273339455157636)\n",
      "\n",
      "each CV RMSE average : [0.9281671938237596, 0.9281773968642655, 0.9272965343672415, 0.923205115124307, 0.9265143012617759, 0.925667448899772, 0.9240281603917968, 0.9265245043022821, 0.9347447539366731, 0.9273339455157636]\n",
      "\n",
      "total fold mean :  0.9272\n",
      "VARIANCE of RMSE of every folds : 0.0003\n",
      "F1 SCORE :  0.9593922669417503\n",
      "AUC :  0.7818872072349133\n"
     ]
    },
    {
     "name": "stderr",
     "output_type": "stream",
     "text": [
      "C:\\Users\\chon0\\Anaconda3\\envs\\py27\\lib\\site-packages\\ipykernel_launcher.py:56: DataConversionWarning: A column-vector y was passed when a 1d array was expected. Please change the shape of y to (n_samples, ), for example using ravel().\n"
     ]
    },
    {
     "data": {
      "text/plain": [
       "KNeighborsClassifier(algorithm='auto', leaf_size=30, metric='matching',\n",
       "           metric_params=None, n_jobs=None, n_neighbors=6, p=2,\n",
       "           weights='distance')"
      ]
     },
     "execution_count": 123,
     "metadata": {},
     "output_type": "execute_result"
    }
   ],
   "source": [
    "#fold setting\n",
    "kf = RepeatedKFold(n_splits = 5,n_repeats=10)\n",
    "kf.get_n_splits(fps_cnt_train)\n",
    "#kf\n",
    "#>>> KFold(n_splits=5, random_state=None, shuffle=False)\n",
    "\n",
    "#for numbering k folds\n",
    "k=0\n",
    "cv_rmse = []\n",
    "cv_rmse_mean = []\n",
    "tmp = []\n",
    "f1_List = []\n",
    "AUC = []\n",
    "fpr_KNN, tpr_KNN, thresholds_KNN = None, None, None \n",
    "\n",
    "#cross-val training\n",
    "for train_idx, test_idx in kf.split(fps_cnt_train):\n",
    "    x_cv_train , x_cv_test = fps_cnt_train.iloc[train_idx], fps_cnt_train.iloc[test_idx]\n",
    "    y_cv_train , y_cv_test = bio_cnt_train.iloc[train_idx], bio_cnt_train.iloc[test_idx]\n",
    "    \n",
    "    KNN_hashed_counts.fit(x_cv_train,y_cv_train)\n",
    "    \n",
    "    y_cv_testidx = test_idx\n",
    "    y_cv_pred = KNN_hashed_counts.predict(x_cv_test)\n",
    "    #cv_rmse.append(round(np.sqrt(mean_squared_error(y_cv_test,y_cv_pred)),4))\n",
    "    #cv_rmse_mean.append(round(np.sqrt(mean_squared_error(y_cv_test,y_cv_pred)),4))\n",
    "    cv_rmse.append(accuracy_score(y_cv_test,y_cv_pred))\n",
    "    \n",
    "    cv_rmse_mean.append(accuracy_score(y_cv_test,y_cv_pred))\n",
    "    \n",
    "    f1_List.append(f1_score(y_cv_test,y_cv_pred))\n",
    "    \n",
    "    fpr_KNN, tpr_KNN, thresholds_KNN = metrics.roc_curve(y_cv_test, y_cv_pred, pos_label=1)\n",
    "    AUC.append(metrics.auc(fpr_KNN, tpr_KNN))\n",
    "    \n",
    "    k += 1 \n",
    "    \n",
    "    if k % 5 == 0 : \n",
    "        tmp.append(np.mean(cv_rmse_mean))\n",
    "        print(cv_rmse_mean) # per fold rmse value in one cv \n",
    "        print(\"mean : \",np.mean(cv_rmse_mean)) # RMSE mean value per iteration of cv  \n",
    "        del cv_rmse_mean[:]\n",
    "        \n",
    "\n",
    "#print(\"total fold mean : \", round(np.mean(cv_rmse),4)) # mean of 50 cv rmse (1회 iter돌 때의 모든 rmse의 평균 (50회의 평균)) \n",
    "#print(\"total cv mean : \",round(np.mean(tmp),4)) # mean of cv's mean of 1 iter (각 cv rmse 평균의 평균) # we need var of this value \n",
    "print\n",
    "print (\"each CV RMSE average : {}\".format(tmp))\n",
    "print\n",
    "print \"total fold mean : \", round(np.mean(cv_rmse),4)\n",
    "print (\"VARIANCE of RMSE of every folds : {}\".format(round(np.var(cv_rmse),4)))\n",
    "print \"F1 SCORE : \" , np.mean(f1_List)\n",
    "print \"AUC : \", np.mean(AUC)\n",
    "\n",
    "#model retrain with all train data  \n",
    "KNN_hashed_counts.fit(fps_cnt_train,bio_cnt_train) # > model train"
   ]
  },
  {
   "cell_type": "markdown",
   "metadata": {},
   "source": [
    "#### binary \n"
   ]
  },
  {
   "cell_type": "code",
   "execution_count": 124,
   "metadata": {},
   "outputs": [
    {
     "name": "stderr",
     "output_type": "stream",
     "text": [
      "C:\\Users\\chon0\\Anaconda3\\envs\\py27\\lib\\site-packages\\ipykernel_launcher.py:21: DataConversionWarning: A column-vector y was passed when a 1d array was expected. Please change the shape of y to (n_samples,), for example using ravel().\n"
     ]
    },
    {
     "name": "stdout",
     "output_type": "stream",
     "text": [
      "[0.9218106995884774, 0.9421487603305785, 0.9504132231404959, 0.9462809917355371, 0.9173553719008265]\n",
      "('mean : ', 0.935601809339183)\n",
      "[0.9382716049382716, 0.9256198347107438, 0.9173553719008265, 0.9256198347107438, 0.9214876033057852]\n",
      "('mean : ', 0.9256708499132742)\n",
      "[0.9094650205761317, 0.9462809917355371, 0.9338842975206612, 0.9214876033057852, 0.9545454545454546]\n",
      "('mean : ', 0.933132673536714)\n",
      "[0.9218106995884774, 0.9214876033057852, 0.9338842975206612, 0.9545454545454546, 0.9338842975206612]\n",
      "('mean : ', 0.9331224704962079)\n",
      "[0.9218106995884774, 0.9338842975206612, 0.9421487603305785, 0.9338842975206612, 0.9256198347107438]\n",
      "('mean : ', 0.9314695779342245)\n",
      "[0.9423868312757202, 0.9132231404958677, 0.9214876033057852, 0.9297520661157025, 0.9462809917355371]\n",
      "('mean : ', 0.9306261265857225)\n",
      "[0.9382716049382716, 0.9338842975206612, 0.9132231404958677, 0.8884297520661157, 0.9421487603305785]\n",
      "('mean : ', 0.9231915110702988)\n",
      "[0.9176954732510288, 0.9132231404958677, 0.9710743801652892, 0.9421487603305785, 0.9256198347107438]\n",
      "('mean : ', 0.9339523177907015)\n",
      "[0.9382716049382716, 0.9256198347107438, 0.8966942148760331, 0.9462809917355371, 0.9421487603305785]\n",
      "('mean : ', 0.9298030813182327)\n",
      "[0.9506172839506173, 0.9173553719008265, 0.9586776859504132, 0.9338842975206612, 0.9173553719008265]\n",
      "('mean : ', 0.9355780022446689)\n",
      "\n",
      "each CV RMSE average : [0.935601809339183, 0.9256708499132742, 0.933132673536714, 0.9331224704962079, 0.9314695779342245, 0.9306261265857225, 0.9231915110702988, 0.9339523177907015, 0.9298030813182327, 0.9355780022446689]\n",
      "\n",
      "total fold mean :  0.9312\n",
      "VARIANCE of RMSE of every folds : 0.0002\n",
      "F1 SCORE :  0.9619618812986676\n",
      "AUC :  0.7598398517124142\n"
     ]
    },
    {
     "name": "stderr",
     "output_type": "stream",
     "text": [
      "C:\\Users\\chon0\\Anaconda3\\envs\\py27\\lib\\site-packages\\ipykernel_launcher.py:50: DataConversionWarning: A column-vector y was passed when a 1d array was expected. Please change the shape of y to (n_samples,), for example using ravel().\n"
     ]
    },
    {
     "data": {
      "text/plain": [
       "RandomForestClassifier(bootstrap=True, class_weight=None, criterion='gini',\n",
       "            max_depth=None, max_features='auto', max_leaf_nodes=None,\n",
       "            min_impurity_decrease=0.0, min_impurity_split=None,\n",
       "            min_samples_leaf=1, min_samples_split=2,\n",
       "            min_weight_fraction_leaf=0.0, n_estimators=100, n_jobs=2,\n",
       "            oob_score=False, random_state=23, verbose=0, warm_start=False)"
      ]
     },
     "execution_count": 124,
     "metadata": {},
     "output_type": "execute_result"
    }
   ],
   "source": [
    "#fold setting\n",
    "kf = RepeatedKFold(n_splits = 5,n_repeats=10)\n",
    "kf.get_n_splits(fps_bin_train)\n",
    "#kf\n",
    "#>>> KFold(n_splits=5, random_state=None, shuffle=False)\n",
    "\n",
    "#for numbering k folds\n",
    "k=0\n",
    "cv_rmse = []\n",
    "cv_rmse_mean = []\n",
    "tmp = []\n",
    "AUC = []\n",
    "f1_List = []\n",
    "fpr_RF, tpr_RF, thresholds_RF = None, None, None \n",
    "\n",
    "#cross-val training\n",
    "for train_idx, test_idx in kf.split(fps_bin_train):\n",
    "    x_cv_train , x_cv_test = fps_bin_train.iloc[train_idx], fps_bin_train.iloc[test_idx]\n",
    "    y_cv_train , y_cv_test = bio_bin_train.iloc[train_idx], bio_bin_train.iloc[test_idx]\n",
    "    \n",
    "    RF_hashed_binary.fit(x_cv_train,y_cv_train)\n",
    "    \n",
    "    y_cv_testidx = test_idx\n",
    "    y_cv_pred = RF_hashed_binary.predict(x_cv_test)\n",
    "    #cv_rmse.append(round(np.sqrt(mean_squared_error(y_cv_test,y_cv_pred)),4))\n",
    "    #cv_rmse_mean.append(round(np.sqrt(mean_squared_error(y_cv_test,y_cv_pred)),4))\n",
    "    cv_rmse.append(accuracy_score(y_cv_test,y_cv_pred))\n",
    "    cv_rmse_mean.append(accuracy_score(y_cv_test,y_cv_pred))\n",
    "    \n",
    "    f1_List.append(f1_score(y_cv_test,y_cv_pred))\n",
    "    \n",
    "    fpr_RF, tpr_RF, thresholds_RF = metrics.roc_curve(y_cv_test, y_cv_pred, pos_label=1)\n",
    "    AUC.append(metrics.auc(fpr_RF, tpr_RF))\n",
    "    k += 1 \n",
    "    \n",
    "    if k % 5 == 0 : \n",
    "        tmp.append(np.mean(cv_rmse_mean))\n",
    "        print(cv_rmse_mean) # per fold rmse value in one cv \n",
    "        print(\"mean : \",np.mean(cv_rmse_mean)) # RMSE mean value per iteration of cv  \n",
    "        del cv_rmse_mean[:]\n",
    "        \n",
    "print\n",
    "print (\"each CV RMSE average : {}\".format(tmp))\n",
    "print\n",
    "print \"total fold mean : \", round(np.mean(cv_rmse),4)\n",
    "print (\"VARIANCE of RMSE of every folds : {}\".format(round(np.var(cv_rmse),4)))\n",
    "print \"F1 SCORE : \" , np.mean(f1_List)\n",
    "print \"AUC : \", np.mean(AUC)\n",
    "#model retrain with all train data  \n",
    "RF_hashed_binary.fit(fps_bin_train,bio_bin_train) # > model train"
   ]
  },
  {
   "cell_type": "code",
   "execution_count": 125,
   "metadata": {},
   "outputs": [
    {
     "name": "stderr",
     "output_type": "stream",
     "text": [
      "C:\\Users\\chon0\\Anaconda3\\envs\\py27\\lib\\site-packages\\ipykernel_launcher.py:21: DataConversionWarning: A column-vector y was passed when a 1d array was expected. Please change the shape of y to (n_samples, ), for example using ravel().\n"
     ]
    },
    {
     "name": "stdout",
     "output_type": "stream",
     "text": [
      "[0.9094650205761317, 0.9132231404958677, 0.9132231404958677, 0.9752066115702479, 0.9214876033057852]\n",
      "('mean : ', 0.92652110328878)\n",
      "[0.9218106995884774, 0.9049586776859504, 0.9090909090909091, 0.9297520661157025, 0.9545454545454546]\n",
      "('mean : ', 0.9240315614052989)\n",
      "[0.9382716049382716, 0.9256198347107438, 0.9132231404958677, 0.9338842975206612, 0.9173553719008265]\n",
      "('mean : ', 0.9256708499132742)\n",
      "[0.9135802469135802, 0.9132231404958677, 0.9297520661157025, 0.9421487603305785, 0.9380165289256198]\n",
      "('mean : ', 0.9273441485562698)\n",
      "[0.9259259259259259, 0.9338842975206612, 0.9214876033057852, 0.8966942148760331, 0.9338842975206612]\n",
      "('mean : ', 0.9223752678298134)\n",
      "[0.9053497942386831, 0.9256198347107438, 0.8925619834710744, 0.9421487603305785, 0.9380165289256198]\n",
      "('mean : ', 0.92073938033534)\n",
      "[0.9176954732510288, 0.9380165289256198, 0.9173553719008265, 0.9380165289256198, 0.9173553719008265]\n",
      "('mean : ', 0.9256878549807842)\n",
      "[0.9176954732510288, 0.9338842975206612, 0.9297520661157025, 0.9173553719008265, 0.9297520661157025]\n",
      "('mean : ', 0.9256878549807844)\n",
      "[0.9259259259259259, 0.9338842975206612, 0.9421487603305785, 0.9297520661157025, 0.9049586776859504]\n",
      "('mean : ', 0.9273339455157636)\n",
      "[0.9382716049382716, 0.9090909090909091, 0.9421487603305785, 0.9256198347107438, 0.9297520661157025]\n",
      "('mean : ', 0.928976635037241)\n",
      "\n",
      "each CV RMSE average : [0.92652110328878, 0.9240315614052989, 0.9256708499132742, 0.9273441485562698, 0.9223752678298134, 0.92073938033534, 0.9256878549807842, 0.9256878549807844, 0.9273339455157636, 0.928976635037241]\n",
      "\n",
      "total fold mean :  0.9254\n",
      "VARIANCE of RMSE of every folds : 0.0002\n",
      "F1 SCORE :  0.9584957739633089\n",
      "AUC :  0.7691572348110348\n"
     ]
    },
    {
     "name": "stderr",
     "output_type": "stream",
     "text": [
      "C:\\Users\\chon0\\Anaconda3\\envs\\py27\\lib\\site-packages\\ipykernel_launcher.py:50: DataConversionWarning: A column-vector y was passed when a 1d array was expected. Please change the shape of y to (n_samples, ), for example using ravel().\n"
     ]
    },
    {
     "data": {
      "text/plain": [
       "KNeighborsClassifier(algorithm='auto', leaf_size=30, metric='matching',\n",
       "           metric_params=None, n_jobs=None, n_neighbors=6, p=2,\n",
       "           weights='distance')"
      ]
     },
     "execution_count": 125,
     "metadata": {},
     "output_type": "execute_result"
    }
   ],
   "source": [
    "#fold setting\n",
    "kf = RepeatedKFold(n_splits = 5,n_repeats=10)\n",
    "kf.get_n_splits(fps_bin_train)\n",
    "#kf\n",
    "#>>> KFold(n_splits=5, random_state=None, shuffle=False)\n",
    "\n",
    "#for numbering k folds\n",
    "k=0\n",
    "cv_rmse = []\n",
    "cv_rmse_mean = []\n",
    "tmp = []\n",
    "f1_List = []\n",
    "AUC = []\n",
    "fpr_KNN, tpr_KNN, thresholds_KNN = None, None, None \n",
    "\n",
    "#cross-val training\n",
    "for train_idx, test_idx in kf.split(fps_bin_train):\n",
    "    x_cv_train , x_cv_test = fps_bin_train.iloc[train_idx], fps_bin_train.iloc[test_idx]\n",
    "    y_cv_train , y_cv_test = bio_bin_train.iloc[train_idx], bio_bin_train.iloc[test_idx]\n",
    "    \n",
    "    KNN_hashed_binary.fit(x_cv_train,y_cv_train)\n",
    "    \n",
    "    y_cv_testidx = test_idx\n",
    "    y_cv_pred = KNN_hashed_binary.predict(x_cv_test)\n",
    "    #cv_rmse.append(round(np.sqrt(mean_squared_error(y_cv_test,y_cv_pred)),4))\n",
    "    #cv_rmse_mean.append(round(np.sqrt(mean_squared_error(y_cv_test,y_cv_pred)),4))\n",
    "    cv_rmse.append(accuracy_score(y_cv_test,y_cv_pred))\n",
    "    cv_rmse_mean.append(accuracy_score(y_cv_test,y_cv_pred))\n",
    "    \n",
    "    f1_List.append(f1_score(y_cv_test,y_cv_pred))\n",
    "    \n",
    "    fpr_KNN, tpr_KNN, thresholds_KNN = metrics.roc_curve(y_cv_test, y_cv_pred, pos_label=1)\n",
    "    AUC.append(metrics.auc(fpr_KNN, tpr_KNN))\n",
    "    k += 1 \n",
    "    \n",
    "    if k % 5 == 0 : \n",
    "        tmp.append(np.mean(cv_rmse_mean))\n",
    "        print(cv_rmse_mean) # per fold rmse value in one cv \n",
    "        print(\"mean : \",np.mean(cv_rmse_mean)) # RMSE mean value per iteration of cv  \n",
    "        del cv_rmse_mean[:]\n",
    "        \n",
    "print\n",
    "print (\"each CV RMSE average : {}\".format(tmp))\n",
    "print\n",
    "print \"total fold mean : \", round(np.mean(cv_rmse),4)\n",
    "print (\"VARIANCE of RMSE of every folds : {}\".format(round(np.var(cv_rmse),4)))\n",
    "print \"F1 SCORE : \" , np.mean(f1_List)\n",
    "print \"AUC : \", np.mean(AUC)\n",
    "#model retrain with all train data  \n",
    "KNN_hashed_binary.fit(fps_bin_train,bio_bin_train) # > model train"
   ]
  },
  {
   "cell_type": "markdown",
   "metadata": {},
   "source": [
    "##   predict bioactivities for the test set"
   ]
  },
  {
   "cell_type": "code",
   "execution_count": 126,
   "metadata": {},
   "outputs": [],
   "source": [
    "def Rsquared(pred,true):\n",
    "    slope, intercept, r_value, p_value, std_err = scipy.stats.linregress(true,pred)\n",
    "    return r_value**2\n",
    "\n",
    "def RMSE(pred,true):\n",
    "    rmse = np.sqrt(mean_squared_error(true,pred))\n",
    "    return rmse"
   ]
  },
  {
   "cell_type": "code",
   "execution_count": 127,
   "metadata": {},
   "outputs": [],
   "source": [
    "RF_preds_hashed = RF_hashed_counts.predict(fps_cnt_test)\n",
    "KNN_preds_hashed = KNN_hashed_counts.predict(fps_cnt_test)\n",
    "\n",
    "RF_preds_hashed_bin = RF_hashed_binary.predict(fps_bin_test)\n",
    "KNN_preds_hashed_bin = KNN_hashed_binary.predict(fps_bin_test)"
   ]
  },
  {
   "cell_type": "code",
   "execution_count": 128,
   "metadata": {},
   "outputs": [
    {
     "name": "stdout",
     "output_type": "stream",
     "text": [
      "========= COUNTS ========= \n",
      "CA RF hashed counts fps:  0.90625\n",
      "CA KNN hashed counts fps:  0.859375\n",
      "\n",
      "========= BINARY ========= \n",
      "RMSE RF hashed binary fps:  0.953125\n",
      "RMSE KNN hashed binary fps:  0.90625\n",
      "\n"
     ]
    }
   ],
   "source": [
    "print \"========= COUNTS ========= \"\n",
    "#print \"RMSE RF hashed counts fps: \", RMSE(RF_preds_hashed, bio_cnt_test)\n",
    "#print \"RMSE KNN hashed counts fps: \", RMSE(KNN_preds_hashed, bio_cnt_test)\n",
    "print \"CA RF hashed counts fps: \",accuracy_score(bio_cnt_test, RF_preds_hashed)\n",
    "print \"CA KNN hashed counts fps: \", accuracy_score(bio_cnt_test, KNN_preds_hashed)\n",
    "print\n",
    "print \"========= BINARY ========= \"\n",
    "#print \"RMSE RF hashed binary fps: \", RMSE(RF_preds_hashed_bin, bio_bin_test)\n",
    "#print \"RMSE KNN hashed binary fps: \", RMSE(KNN_preds_hashed_bin, bio_bin_test)\n",
    "print \"RMSE RF hashed binary fps: \", accuracy_score(bio_bin_test, RF_preds_hashed_bin)\n",
    "print \"RMSE KNN hashed binary fps: \", accuracy_score(bio_bin_test,KNN_preds_hashed_bin)\n",
    "print\n"
   ]
  },
  {
   "cell_type": "code",
   "execution_count": null,
   "metadata": {},
   "outputs": [],
   "source": []
  },
  {
   "cell_type": "code",
   "execution_count": null,
   "metadata": {},
   "outputs": [],
   "source": []
  }
 ],
 "metadata": {
  "kernelspec": {
   "display_name": "Python 2",
   "language": "python",
   "name": "python2"
  },
  "language_info": {
   "codemirror_mode": {
    "name": "ipython",
    "version": 2
   },
   "file_extension": ".py",
   "mimetype": "text/x-python",
   "name": "python",
   "nbconvert_exporter": "python",
   "pygments_lexer": "ipython2",
   "version": "2.7.16"
  }
 },
 "nbformat": 4,
 "nbformat_minor": 2
}
