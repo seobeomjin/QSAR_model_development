{
 "cells": [
  {
   "cell_type": "code",
   "execution_count": 5,
   "metadata": {},
   "outputs": [],
   "source": [
    "from rdkit.Chem.AllChem import GetMorganFingerprintAsBitVect as _GetMorganFingerprintAsBitVect, GetMorganFingerprint as _GetMorganFingerprint\n",
    "from bioalerts import LoadMolecules, Alerts, FPCalculator \n",
    "from rdkit import Chem \n",
    "\n",
    "# >>> _GetMorganFingerprint #Returns a Morgan fingerprint for a molecule\n",
    "# >>> _GetMorganFingerprintAsBitVect  #Returns a Morgan fingerprint for a molecule as a bit vector"
   ]
  },
  {
   "cell_type": "code",
   "execution_count": 28,
   "metadata": {},
   "outputs": [
    {
     "name": "stdout",
     "output_type": "stream",
     "text": [
      "Help on built-in function GetMorganFingerprint in module rdkit.Chem.rdMolDescriptors:\n",
      "\n",
      "GetMorganFingerprint(...)\n",
      "    GetMorganFingerprint( (Mol)mol, (int)radius [, (AtomPairsParameters)invariants=[] [, (AtomPairsParameters)fromAtoms=[] [, (bool)useChirality=False [, (bool)useBondTypes=True [, (bool)useFeatures=False [, (bool)useCounts=True [, (AtomPairsParameters)bitInfo=None]]]]]]]) -> UIntSparseIntVect :\n",
      "        Returns a Morgan fingerprint for a molecule\n",
      "    \n",
      "        C++ signature :\n",
      "            class RDKit::SparseIntVect<unsigned int> * __ptr64 GetMorganFingerprint(class RDKit::ROMol,int [,class boost::python::api::object=[] [,class boost::python::api::object=[] [,bool=False [,bool=True [,bool=False [,bool=True [,class boost::python::api::object=None]]]]]]])\n",
      "\n"
     ]
    }
   ],
   "source": [
    "help(_GetMorganFingerprint)"
   ]
  },
  {
   "cell_type": "code",
   "execution_count": 30,
   "metadata": {},
   "outputs": [
    {
     "name": "stdout",
     "output_type": "stream",
     "text": [
      "Format of the structures file = SMILES\n",
      "All molecules in the input file were processed correctly\n",
      "(278, 28, 250)\n"
     ]
    }
   ],
   "source": [
    "molecules = LoadMolecules.LoadMolecules(\"./tutorial/datasets/5AR.smi\",name_field=None)\n",
    "molecules.ReadMolecules() \n",
    "stride = int(len(molecules.mols)*0.9)\n",
    "training = molecules.mols[0:stride]\n",
    "test = molecules.mols[stride:len(molecules.mols)]\n",
    "print (len(molecules.mols), len(test), len(training))\n",
    "\n",
    "radii = [2,3,4,5,6]\n",
    "info = {}\n",
    "for i,m in enumerate(training): \n",
    "    if i!=0: \n",
    "        break \n",
    "    fp = _GetMorganFingerprint(m,max(radii),bitInfo=info) #Returns a Morgan fingerprint for a molecule\n",
    "    mol_id = i \n",
    "    substructure_dictionary = {k:[mol_id] for k, v in info.items() if v[0][1] in radii}\n",
    "    \n",
    "    "
   ]
  },
  {
   "cell_type": "code",
   "execution_count": 36,
   "metadata": {},
   "outputs": [
    {
     "data": {
      "text/plain": [
       "{218993025: [0],\n",
       " 283298767: [0],\n",
       " 474155470: [0],\n",
       " 757425542: [0],\n",
       " 820930172: [0],\n",
       " 854758963: [0],\n",
       " 871938796: [0],\n",
       " 923051828: [0],\n",
       " 950023157: [0],\n",
       " 969364581: [0],\n",
       " 1199130834: [0],\n",
       " 1338498024: [0],\n",
       " 1430255103: [0],\n",
       " 1731759250: [0],\n",
       " 1749261451: [0],\n",
       " 1914066391: [0],\n",
       " 1946271420: [0],\n",
       " 2098549444: [0],\n",
       " 2308630503L: [0],\n",
       " 2323861776L: [0],\n",
       " 2329178365L: [0],\n",
       " 2466514498L: [0],\n",
       " 2490756178L: [0],\n",
       " 2575624905L: [0],\n",
       " 2590563377L: [0],\n",
       " 2706051504L: [0],\n",
       " 2835647840L: [0],\n",
       " 2888025154L: [0],\n",
       " 2931695851L: [0],\n",
       " 3046963862L: [0],\n",
       " 3117292559L: [0],\n",
       " 3125399090L: [0],\n",
       " 3235487076L: [0],\n",
       " 3454070996L: [0],\n",
       " 3824240601L: [0],\n",
       " 4159914933L: [0]}"
      ]
     },
     "execution_count": 36,
     "metadata": {},
     "output_type": "execute_result"
    }
   ],
   "source": [
    "substructure_dictionary"
   ]
  }
 ],
 "metadata": {
  "kernelspec": {
   "display_name": "Python 2",
   "language": "python",
   "name": "python2"
  },
  "language_info": {
   "codemirror_mode": {
    "name": "ipython",
    "version": 2
   },
   "file_extension": ".py",
   "mimetype": "text/x-python",
   "name": "python",
   "nbconvert_exporter": "python",
   "pygments_lexer": "ipython2",
   "version": "2.7.16"
  }
 },
 "nbformat": 4,
 "nbformat_minor": 2
}
