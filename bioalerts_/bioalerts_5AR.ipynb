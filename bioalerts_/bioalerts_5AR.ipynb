{
 "cells": [
  {
   "cell_type": "code",
   "execution_count": 1,
   "metadata": {},
   "outputs": [],
   "source": [
    "import bioalerts\n",
    "import numpy as np"
   ]
  },
  {
   "cell_type": "code",
   "execution_count": 2,
   "metadata": {},
   "outputs": [],
   "source": [
    "from bioalerts import LoadMolecules, Alerts, FPCalculator"
   ]
  },
  {
   "cell_type": "code",
   "execution_count": 3,
   "metadata": {},
   "outputs": [],
   "source": [
    "from rdkit.Chem.Draw import IPythonConsole\n",
    "from rdkit.Chem import PandasTools\n",
    "# Machine learning modules\n",
    "import sklearn\n",
    "from sklearn import preprocessing\n",
    "import scipy\n",
    "from sklearn.metrics import mean_squared_error\n",
    "from sklearn.ensemble import RandomForestRegressor\n",
    "from sklearn.metrics import r2_score\n",
    "\n",
    "from sklearn.neighbors import KNeighborsRegressor"
   ]
  },
  {
   "cell_type": "code",
   "execution_count": 4,
   "metadata": {},
   "outputs": [
    {
     "name": "stdout",
     "output_type": "stream",
     "text": [
      " Python: 2.7.16 |Anaconda, Inc.| (default, Mar 14 2019, 15:42:17) [MSC v.1500 64 bit (AMD64)] \n",
      "\n",
      " Numpy: 1.16.5\n",
      " Scipy: 1.2.1\n",
      " Rdkit: 2017.09.1\n",
      " Matplotlib: 2.2.3\n",
      " Pandas: 0.24.2\n",
      " Ipython: 5.8.0\n",
      " Scikit-Learn: 0.20.3\n",
      " Scipy: 1.2.1\n"
     ]
    }
   ],
   "source": [
    "import sys, numpy as np, scipy as sc, rdkit, matplotlib as pylab, pandas as pd, IPython\n",
    "print \" Python:\", sys.version, \"\\n\"\n",
    "print \" Numpy:\", np.__version__\n",
    "print \" Scipy:\", sc.__version__\n",
    "print \" Rdkit:\", rdkit.rdBase.rdkitVersion\n",
    "print \" Matplotlib:\", pylab.__version__\n",
    "print \" Pandas:\", pd.__version__\n",
    "print \" Ipython:\", IPython.__version__\n",
    "print \" Scikit-Learn:\", sklearn.__version__\n",
    "print \" Scipy:\", scipy.__version__"
   ]
  },
  {
   "cell_type": "code",
   "execution_count": 5,
   "metadata": {},
   "outputs": [],
   "source": [
    "import time\n",
    "initial_time = time.clock()"
   ]
  },
  {
   "cell_type": "markdown",
   "metadata": {},
   "source": [
    "# A. Calculating p.values for substructures. Continuous bioactivity values"
   ]
  },
  {
   "cell_type": "code",
   "execution_count": 6,
   "metadata": {
    "scrolled": true
   },
   "outputs": [
    {
     "name": "stdout",
     "output_type": "stream",
     "text": [
      "Format of the structures file = SMILES\n",
      "All molecules in the input file were processed correctly\n"
     ]
    }
   ],
   "source": [
    "molecules = bioalerts.LoadMolecules.LoadMolecules(\"./tutorial/datasets/5AR.smi\",name_field=None) \n",
    "#COX2.smi is a set of only SMILES data\n",
    "molecules.ReadMolecules()"
   ]
  },
  {
   "cell_type": "code",
   "execution_count": 7,
   "metadata": {},
   "outputs": [
    {
     "name": "stdout",
     "output_type": "stream",
     "text": [
      "278\n",
      "278\n"
     ]
    }
   ],
   "source": [
    "cox_bio = np.genfromtxt('./tutorial/datasets/5AR.bio.txt',skip_header=0) \n",
    "#COX2.bio dataset is a set of pIC50 values\n",
    "# skiprows was removed in version 1.10 Please use skip_header instead.\n",
    "cox_bio.shape\n",
    "arr = np.arange(0,len(cox_bio))\n",
    "mask = np.ones(arr.shape,dtype=bool)\n",
    "mask[molecules.molserr]=0\n",
    "cox_bio = cox_bio[mask]\n",
    "print len(cox_bio)\n",
    "print len(molecules.mols)"
   ]
  },
  {
   "cell_type": "markdown",
   "metadata": {},
   "source": [
    "## A.1.1 base method"
   ]
  },
  {
   "cell_type": "code",
   "execution_count": null,
   "metadata": {},
   "outputs": [],
   "source": [
    "#training, test, bio_training, bio_test = [],[],[],[]"
   ]
  },
  {
   "cell_type": "code",
   "execution_count": 8,
   "metadata": {},
   "outputs": [
    {
     "name": "stdout",
     "output_type": "stream",
     "text": [
      "278 28 250\n"
     ]
    }
   ],
   "source": [
    "\n",
    "#Please divide with more creative method. \n",
    "stride = int(len(molecules.mols) * 0.9)\n",
    "training = molecules.mols[0:stride]\n",
    "test = molecules.mols[stride:len(molecules.mols)]\n",
    "print len(molecules.mols), len(test), len(training)\n"
   ]
  },
  {
   "cell_type": "code",
   "execution_count": 9,
   "metadata": {},
   "outputs": [
    {
     "name": "stdout",
     "output_type": "stream",
     "text": [
      "278 28 250\n"
     ]
    }
   ],
   "source": [
    "bio_training = cox_bio[0:stride]\n",
    "bio_test = cox_bio[stride:len(molecules.mols)]\n",
    "print len(cox_bio), len(bio_test), len(bio_training)"
   ]
  },
  {
   "cell_type": "markdown",
   "metadata": {},
   "source": [
    "in this process, we derive the p value from the distribution of test set, \n",
    "and derive substructure information with training set and then compare between training and test ,, \n",
    "so ,, if we use bootstrapping to total dataset, there are some non-included data. \n",
    "that will make wrong results I think"
   ]
  },
  {
   "cell_type": "markdown",
   "metadata": {},
   "source": [
    "## A.1.2 method (i) - Error when run Alerts_continuous.calculate_p_values function"
   ]
  },
  {
   "cell_type": "code",
   "execution_count": null,
   "metadata": {},
   "outputs": [],
   "source": [
    "def bootstrapping (mol_data, bio_data, test_ratio):\n",
    "    \n",
    "    training, test, bio_training, bio_test = [],[],[],[]\n",
    "    datasize = int(len(mol_data))\n",
    "    train_size = int(datasize * (1-test_ratio))\n",
    "    \n",
    "    if int(len(bio_data)) != datasize : \n",
    "        Error = \"data size between molecule.mols and bioactivity is not matched. Please confirm it.\"\n",
    "        print Error\n",
    "        return None\n",
    "    \n",
    "    train_idx = list(np.random.choice(datasize,size=train_size,replace=False))\n",
    "    for i in train_idx:\n",
    "        training.append(mol_data[i])\n",
    "        bio_training.append(bio_data[i])\n",
    "        \n",
    "    for j in range(datasize):\n",
    "        if j not in train_idx:\n",
    "            test.append(mol_data[j])\n",
    "            bio_test.append(bio_data[j])\n",
    "            \n",
    "    return training, test, bio_training, bio_test\n",
    "\n",
    "\n",
    "#Please divide with more creative method. \n",
    "training, test, bio_training, bio_test = bootstrapping(molecules.mols, cox_bio, 0.1)\n",
    "print len(molecules.mols), len(test), len(training)\n",
    "print len(cox_bio), len(bio_test), len(bio_training)\n"
   ]
  },
  {
   "cell_type": "markdown",
   "metadata": {},
   "source": [
    "## A.1.3 method (ii)  - Error when run Alerts_continuous.calculate_p_values function"
   ]
  },
  {
   "cell_type": "code",
   "execution_count": null,
   "metadata": {},
   "outputs": [],
   "source": [
    "training, test, bio_training, bio_test = [],[],[],[]"
   ]
  },
  {
   "cell_type": "code",
   "execution_count": null,
   "metadata": {},
   "outputs": [],
   "source": [
    "train_idx = list(np.random.choice(int(len(molecules.mols)),size=int(len(molecules.mols) * 0.9),replace=False))\n",
    "test_idx = []\n",
    "for i in range(int(len(molecules.mols))):\n",
    "    if i not in train_idx:\n",
    "        test_idx.append(i)"
   ]
  },
  {
   "cell_type": "code",
   "execution_count": null,
   "metadata": {},
   "outputs": [],
   "source": [
    "#stride = int(len(molecules.mols) * 0.9)\n",
    "for i in train_idx:\n",
    "    training.append(molecules.mols[i])\n",
    "for j in test_idx:\n",
    "    test.append(molecules.mols[j])\n",
    "print len(molecules.mols), len(test), len(training)"
   ]
  },
  {
   "cell_type": "code",
   "execution_count": null,
   "metadata": {},
   "outputs": [],
   "source": [
    "for i in train_idx:\n",
    "    bio_training.append(cox_bio[i])\n",
    "for j in test_idx:\n",
    "    bio_test.append(cox_bio[j])\n",
    "print len(cox_bio), len(bio_test), len(bio_training)"
   ]
  },
  {
   "cell_type": "markdown",
   "metadata": {},
   "source": [
    "**-------------------------------------------------------------------------------------------------------------------**"
   ]
  },
  {
   "cell_type": "markdown",
   "metadata": {},
   "source": [
    "## A.2.1 calculate p value with significant substructure "
   ]
  },
  {
   "cell_type": "code",
   "execution_count": 15,
   "metadata": {},
   "outputs": [],
   "source": [
    "training_dataset_info = bioalerts.LoadMolecules.GetDataSetInfo(name_field=None)\n",
    "training_dataset_info.extract_substructure_information(radii=[2,3,4,5,6],mols=training)"
   ]
  },
  {
   "cell_type": "code",
   "execution_count": 11,
   "metadata": {},
   "outputs": [],
   "source": [
    "Alerts_continuous = bioalerts.Alerts.CalculatePvaluesContinuous(radii_ext=[2,3,4,5,6])"
   ]
  },
  {
   "cell_type": "code",
   "execution_count": 12,
   "metadata": {},
   "outputs": [
    {
     "name": "stdout",
     "output_type": "stream",
     "text": [
      "number of substructures processed:  2442\n"
     ]
    }
   ],
   "source": [
    "Alerts_continuous.calculate_p_values(mols=test,\n",
    "                                     substructure_dictionary = training_dataset_info.substructure_dictionary,\n",
    "                                     bioactivities = bio_training,\n",
    "                                     mols_ids = molecules.mols_ids[0:stride],\n",
    "                                     threshold_nb_substructures = 5,\n",
    "                                     threshold_pvalue = 0.05,\n",
    "                                     threshold_ratio=0.2)"
   ]
  },
  {
   "cell_type": "code",
   "execution_count": 13,
   "metadata": {},
   "outputs": [
    {
     "data": {
      "text/plain": [
       "8"
      ]
     },
     "execution_count": 13,
     "metadata": {},
     "output_type": "execute_result"
    }
   ],
   "source": [
    "len(Alerts_continuous.output)"
   ]
  },
  {
   "cell_type": "code",
   "execution_count": 14,
   "metadata": {},
   "outputs": [
    {
     "data": {
      "image/png": "[encoded data removed]",
      "text/plain": [
       "<rdkit.Chem.rdchem.Mol at 0xe709ad8>"
      ]
     },
     "execution_count": 14,
     "metadata": {},
     "output_type": "execute_result"
    }
   ],
   "source": [
    "Alerts_continuous.output['Substructure in Molecule'][1]"
   ]
  },
  {
   "cell_type": "code",
   "execution_count": null,
   "metadata": {},
   "outputs": [],
   "source": [
    "Alerts_continuous.output.columns"
   ]
  },
  {
   "cell_type": "code",
   "execution_count": null,
   "metadata": {},
   "outputs": [],
   "source": [
    "Alerts_continuous.XlSXOutputWriter(Alerts_continuous.output,'test_continuous_5AR.xlsx')"
   ]
  },
  {
   "cell_type": "markdown",
   "metadata": {},
   "source": [
    "## A.2.2 calculate p value with significant substructures which get high activities "
   ]
  },
  {
   "cell_type": "code",
   "execution_count": 23,
   "metadata": {},
   "outputs": [
    {
     "data": {
      "text/plain": [
       "7.489991487"
      ]
     },
     "execution_count": 23,
     "metadata": {},
     "output_type": "execute_result"
    }
   ],
   "source": [
    "def calculate_bioactivity_threshold(bio,threshold):\n",
    "    \n",
    "    sorted_bio = sorted(bio)\n",
    "    threshold_bio_value = sorted_bio[int(len(sorted_bio)*threshold)]\n",
    "    return threshold_bio_value\n",
    "\n",
    "threshold_= 0.6\n",
    "threshold_bio_value = calculate_bioactivity_threshold(bio_training,threshold_)\n",
    "threshold_bio_value"
   ]
  },
  {
   "cell_type": "code",
   "execution_count": 24,
   "metadata": {},
   "outputs": [],
   "source": [
    "Alerts_continuous_high_activity = bioalerts.Alerts.CalculatePvaluesContinuous(radii_ext=[2,3,4,5,6])"
   ]
  },
  {
   "cell_type": "code",
   "execution_count": 25,
   "metadata": {},
   "outputs": [
    {
     "name": "stdout",
     "output_type": "stream",
     "text": [
      "using student's t-test\n",
      "using student's t-test\n",
      "using student's t-test\n",
      "using student's t-test\n",
      "using student's t-test\n",
      "using student's t-test\n",
      "using student's t-test\n",
      "using student's t-test\n",
      "number of substructures processed:  2442\n"
     ]
    }
   ],
   "source": [
    "Alerts_continuous_high_activity.calculate_p_values_with_bioactivity_threshold(mols=test,\n",
    "                                     substructure_dictionary = training_dataset_info.substructure_dictionary,\n",
    "                                     bioactivities = bio_training,\n",
    "                                     mols_ids = molecules.mols_ids[0:stride],\n",
    "                                     threshold_nb_substructures = 5,\n",
    "                                     threshold_pvalue = 0.05,\n",
    "                                     threshold_ratio=0.2,\n",
    "                                     threshold_high_act_nb_substructures=10,\n",
    "                                     threshold_high_act_ratio = 0.6,                                                                        \n",
    "                                     threshold_bioactivity=threshold_bio_value)"
   ]
  },
  {
   "cell_type": "code",
   "execution_count": 26,
   "metadata": {},
   "outputs": [
    {
     "data": {
      "text/plain": [
       "8"
      ]
     },
     "execution_count": 26,
     "metadata": {},
     "output_type": "execute_result"
    }
   ],
   "source": [
    "len(Alerts_continuous_high_activity.output)"
   ]
  },
  {
   "cell_type": "code",
   "execution_count": 27,
   "metadata": {},
   "outputs": [
    {
     "data": {
      "image/png": "[encoded data removed]",
      "text/plain": [
       "<rdkit.Chem.rdchem.Mol at 0xe709ad8>"
      ]
     },
     "execution_count": 27,
     "metadata": {},
     "output_type": "execute_result"
    }
   ],
   "source": [
    "Alerts_continuous_high_activity.output['Substructure in Molecule'][0]"
   ]
  },
  {
   "cell_type": "code",
   "execution_count": 27,
   "metadata": {},
   "outputs": [
    {
     "data": {
      "text/plain": [
       "Index([u'Compound ID', u'Number compounds', u'statistic', u'p_value', u'Diff. distribution means (w - wo)', u'Compounds with substr.', u'Substructure', u'Substructure in Molecule'], dtype='object')"
      ]
     },
     "execution_count": 27,
     "metadata": {},
     "output_type": "execute_result"
    }
   ],
   "source": [
    "Alerts_continuous_high_activity.output.columns"
   ]
  },
  {
   "cell_type": "markdown",
   "metadata": {},
   "source": [
    "## Alerts_continuous_high_activity.XlSXOutputWriter(Alerts_continuous_high_activity.output,'test_continuous_5AR_high_activity_0.6_10_0.6.xlsx')"
   ]
  },
  {
   "cell_type": "markdown",
   "metadata": {},
   "source": [
    "# B. Calculating Morgan fingerprints"
   ]
  },
  {
   "cell_type": "markdown",
   "metadata": {},
   "source": [
    "In this section, we will see how to calculate hashed and unhashed Morgan fingerprints for a set of molecules, and will train __Random Forest models__ on them."
   ]
  },
  {
   "cell_type": "code",
   "execution_count": null,
   "metadata": {},
   "outputs": [],
   "source": [
    "AR_mols = bioalerts.LoadMolecules.LoadMolecules(\"./tutorial/datasets/5AR.smi\",name_field=None) \n",
    "#COX2.smi is a set of only SMILES data"
   ]
  },
  {
   "cell_type": "code",
   "execution_count": null,
   "metadata": {},
   "outputs": [],
   "source": [
    "AR_mols.ReadMolecules()"
   ]
  },
  {
   "cell_type": "code",
   "execution_count": null,
   "metadata": {},
   "outputs": [],
   "source": [
    "AR_bio = np.genfromtxt('./tutorial/datasets/5AR.bio.txt',skip_header=0) \n",
    "print len(AR_mols.mols)\n",
    "print len(AR_bio)"
   ]
  },
  {
   "cell_type": "code",
   "execution_count": null,
   "metadata": {},
   "outputs": [],
   "source": [
    "stride = int(len(AR_mols.mols) * 0.9)\n",
    "training = AR_mols.mols[0:stride]\n",
    "test = AR_mols.mols[stride:len(AR_mols.mols)]\n",
    "print len(AR_mols.mols), len(test), len(training)\n",
    "\n",
    "bio_training = AR_bio[0:stride]\n",
    "bio_test = AR_bio[stride:len(AR_mols.mols)]\n",
    "print len(AR_bio), len(bio_test), len(bio_training)"
   ]
  },
  {
   "cell_type": "markdown",
   "metadata": {},
   "source": [
    "### B.1 Computating HASHED Morgan fingerprints for the TRAINING set: "
   ]
  },
  {
   "cell_type": "markdown",
   "metadata": {},
   "source": [
    "We first initialize the class bioalerts.FPCalculator.CalculateFPs()"
   ]
  },
  {
   "cell_type": "code",
   "execution_count": null,
   "metadata": {},
   "outputs": [],
   "source": [
    "fps_training = bioalerts.FPCalculator.CalculateFPs(radii=[0,1,2],mols=training)"
   ]
  },
  {
   "cell_type": "code",
   "execution_count": null,
   "metadata": {},
   "outputs": [],
   "source": [
    "fps_training.calculate_hashed_fps_binary_quick(nBits=128)"
   ]
  },
  {
   "cell_type": "code",
   "execution_count": null,
   "metadata": {},
   "outputs": [],
   "source": [
    "print fps_training.fps_hashed_binary_quick.shape"
   ]
  },
  {
   "cell_type": "markdown",
   "metadata": {},
   "source": [
    "The method \"*calculate_hashed_fps_binary_quick()*\"  __considers all substructures__ with a bond radius smaller or equal to\n",
    "the maximum value of the argument *radii*. In this example, 2. \n",
    "Thus, in this case this method will consider all substructures with a bond radius of 0, 1 and 2."
   ]
  },
  {
   "cell_type": "code",
   "execution_count": null,
   "metadata": {},
   "outputs": [],
   "source": [
    "fps_training.calculate_hashed_fps(nBits=128)"
   ]
  },
  {
   "cell_type": "code",
   "execution_count": null,
   "metadata": {},
   "outputs": [],
   "source": [
    "print fps_training.fps_hashed_binary.shape\n",
    "print fps_training.fps_hashed_counts.shape"
   ]
  },
  {
   "cell_type": "markdown",
   "metadata": {},
   "source": [
    "The method *\"calculate_hashed_fps()*\" computes hashed fingerpints in (i) count and (ii) also binary format. The difference \n",
    "of the  method *calculate_hashed_fps()* with respect to the method *calculate_hashed_fps_binary_quick()* is that\n",
    "the former __only consider the substructures with a bond radius in the list input to the argument radii__ when instantiating the class\n",
    "*bioalerts.FPCalculator.CalculateFPs()*. In the example above: [1,2].\n",
    "\n",
    "Therefore, the hashed fingerprints in binary format calculated by these two methods __will be identical__ if the bond radii\n",
    "especified in the aforesaid argument radii comprise all natural number from 0 to the maximum bond radius.\n",
    "In this example, this would be correspond to setting the value of the argument radii to [0,1,2]."
   ]
  },
  {
   "cell_type": "code",
   "execution_count": null,
   "metadata": {},
   "outputs": [],
   "source": [
    "print (fps_training.fps_hashed_binary_quick == fps_training.fps_hashed_binary).all()"
   ]
  },
  {
   "cell_type": "code",
   "execution_count": null,
   "metadata": {},
   "outputs": [],
   "source": [
    "toto = fps_training.fps_hashed_counts\n",
    "toto[1:10,1:10]"
   ]
  },
  {
   "cell_type": "code",
   "execution_count": null,
   "metadata": {},
   "outputs": [],
   "source": [
    "fps_training.fps_hashed_binary[1:10,1:10]"
   ]
  },
  {
   "cell_type": "code",
   "execution_count": null,
   "metadata": {},
   "outputs": [],
   "source": [
    "fps_training.fps_hashed_binary_quick[1:10,1:10]"
   ]
  },
  {
   "cell_type": "markdown",
   "metadata": {},
   "source": [
    "### B.2 Computating UNHASHED Morgan fingerprints for the TRAINING set: "
   ]
  },
  {
   "cell_type": "code",
   "execution_count": null,
   "metadata": {},
   "outputs": [],
   "source": [
    "fps_training.calculate_unhashed_fps(draw_substructures=True)"
   ]
  },
  {
   "cell_type": "markdown",
   "metadata": {},
   "source": [
    "### B.3 Computating Morgan fingerprints for the TEST set: "
   ]
  },
  {
   "cell_type": "markdown",
   "metadata": {},
   "source": [
    "#### B.3.1 Computating UNHASHED Morgan fingerprints for the test set using a different set of molecules: "
   ]
  },
  {
   "cell_type": "markdown",
   "metadata": {},
   "source": [
    "Since the positions of the substructures in the unhashed fingerprints depend on the training set, the method *calculate_unhashed_fps()* allows the computation of unhashed fingerprints for new compounds using a basis defined by the substructures present in the training set. This basis is defined by the keys of the substructure dictionary calculated for the molecules from the training set. This reference substructure dictionary is input to the class *CalculateFPs()* using the argument reference_substucture_keys. \n",
    "\n",
    "This ensures that substructures in new compounds map to the same locations on the fingerprint and allows enhanced model interpretation by noting which exact substructures are deemed important by the learning algorithm."
   ]
  },
  {
   "cell_type": "code",
   "execution_count": null,
   "metadata": {},
   "outputs": [],
   "source": [
    "#  Reference molecules\n",
    "reference_molecules = bioalerts.LoadMolecules.GetDataSetInfo(name_field=None)"
   ]
  },
  {
   "cell_type": "code",
   "execution_count": null,
   "metadata": {},
   "outputs": [],
   "source": [
    "fps_training.substructure_ids"
   ]
  },
  {
   "cell_type": "code",
   "execution_count": null,
   "metadata": {},
   "outputs": [],
   "source": [
    "reference_molecules.extract_substructure_information(radii=[0,1,2],mols=training)"
   ]
  },
  {
   "cell_type": "code",
   "execution_count": null,
   "metadata": {},
   "outputs": [],
   "source": [
    "reference_keys = reference_molecules.substructure_dictionary.keys()\n",
    "print len(reference_keys)"
   ]
  },
  {
   "cell_type": "code",
   "execution_count": null,
   "metadata": {},
   "outputs": [],
   "source": [
    "fps_test = bioalerts.FPCalculator.CalculateFPs(radii=[0,1,2],\n",
    "                                         mols=test,\n",
    "                                         reference_substructure_keys=reference_keys)"
   ]
  },
  {
   "cell_type": "code",
   "execution_count": null,
   "metadata": {},
   "outputs": [],
   "source": [
    "fps_test.calculate_unhashed_fps()"
   ]
  },
  {
   "cell_type": "code",
   "execution_count": null,
   "metadata": {},
   "outputs": [],
   "source": [
    "fps_test.fps_unhashed_counts.shape"
   ]
  },
  {
   "cell_type": "code",
   "execution_count": null,
   "metadata": {},
   "outputs": [],
   "source": [
    "len(fps_training.columns_unhashed)"
   ]
  },
  {
   "cell_type": "markdown",
   "metadata": {},
   "source": [
    "#### B.3.2 Computating HASHED Morgan fingerprints for the test set (e.g. using a different set of molecules): "
   ]
  },
  {
   "cell_type": "code",
   "execution_count": null,
   "metadata": {},
   "outputs": [],
   "source": [
    "fps_test.calculate_hashed_fps(nBits=128)"
   ]
  },
  {
   "cell_type": "markdown",
   "metadata": {},
   "source": [
    "### B.4 Training a Random Forest (RF) model: "
   ]
  },
  {
   "cell_type": "markdown",
   "metadata": {},
   "source": [
    "Two RF models are next trained, using hashed and unhashed Morgan fps, respectively, in count format in both cases."
   ]
  },
  {
   "cell_type": "markdown",
   "metadata": {},
   "source": [
    "#### B.4.1 Using hashed fps "
   ]
  },
  {
   "cell_type": "code",
   "execution_count": null,
   "metadata": {},
   "outputs": [],
   "source": [
    "seed = 23\n",
    "model_hashed_counts = RandomForestRegressor(n_estimators=100,random_state=seed,n_jobs=2)\n",
    "model_hashed_counts.fit(fps_training.fps_hashed_counts,bio_training)"
   ]
  },
  {
   "cell_type": "markdown",
   "metadata": {},
   "source": [
    "#### B.4.2 Using unhashed fps"
   ]
  },
  {
   "cell_type": "code",
   "execution_count": null,
   "metadata": {},
   "outputs": [],
   "source": [
    "seed = 23\n",
    "model_UNhashed_counts = RandomForestRegressor(n_estimators=100,random_state=seed,n_jobs=2)\n",
    "model_UNhashed_counts.fit(fps_training.fps_unhashed_counts,bio_training)"
   ]
  },
  {
   "cell_type": "markdown",
   "metadata": {},
   "source": [
    "### B.5 Training a K-nearest neighbor (Knn) model: "
   ]
  },
  {
   "cell_type": "markdown",
   "metadata": {},
   "source": [
    "#### B.5.1 Using hashed fps"
   ]
  },
  {
   "cell_type": "code",
   "execution_count": null,
   "metadata": {},
   "outputs": [],
   "source": [
    "seed = 23\n",
    "knn_hashed_counts = KNeighborsRegressor(n_neighbors=5,weights='uniform',metric='jaccard',n_jobs=2)\n",
    "knn_hashed_counts.fit(fps_training.fps_hashed_counts,bio_training)"
   ]
  },
  {
   "cell_type": "markdown",
   "metadata": {},
   "source": [
    "#### B.5.2 Using unhashed fps"
   ]
  },
  {
   "cell_type": "code",
   "execution_count": null,
   "metadata": {},
   "outputs": [],
   "source": [
    "seed = 23\n",
    "knn_UNhashed_counts = KNeighborsRegressor(n_neighbors=5,weights='uniform',metric='jaccard',n_jobs=2)\n",
    "knn_UNhashed_counts.fit(fps_training.fps_unhashed_counts,bio_training)"
   ]
  },
  {
   "cell_type": "markdown",
   "metadata": {},
   "source": [
    "### B.6 Training a Support Vector Regressor (SVR) model : "
   ]
  },
  {
   "cell_type": "markdown",
   "metadata": {},
   "source": [
    "#### B.6.1 Using hashed fps "
   ]
  },
  {
   "cell_type": "code",
   "execution_count": null,
   "metadata": {},
   "outputs": [],
   "source": []
  },
  {
   "cell_type": "markdown",
   "metadata": {},
   "source": [
    "#### B.6.2 Using unhashed fps"
   ]
  },
  {
   "cell_type": "code",
   "execution_count": null,
   "metadata": {},
   "outputs": [],
   "source": []
  },
  {
   "cell_type": "code",
   "execution_count": null,
   "metadata": {},
   "outputs": [],
   "source": []
  },
  {
   "cell_type": "markdown",
   "metadata": {},
   "source": [
    "### B.7 Predict the bioactivities for the test set: "
   ]
  },
  {
   "cell_type": "markdown",
   "metadata": {},
   "source": [
    "We define two functions for validating our predictions, namely: Pearson's correlation coefficient (R2) and root mean squared errro (RMSE)"
   ]
  },
  {
   "cell_type": "code",
   "execution_count": null,
   "metadata": {},
   "outputs": [],
   "source": [
    "def Rsquared(pred,true):\n",
    "    slope, intercept, r_value, p_value, std_err = scipy.stats.linregress(true,pred)\n",
    "    return r_value**2\n",
    "\n",
    "def RMSE(pred,true):\n",
    "    rmse = np.sqrt(mean_squared_error(true,pred))\n",
    "    return rmse"
   ]
  },
  {
   "cell_type": "code",
   "execution_count": null,
   "metadata": {},
   "outputs": [],
   "source": [
    "preds_hashed = model_hashed_counts.predict(fps_test.fps_hashed_counts)"
   ]
  },
  {
   "cell_type": "code",
   "execution_count": null,
   "metadata": {},
   "outputs": [],
   "source": [
    "preds_UNhashed = model_UNhashed_counts.predict(fps_test.fps_unhashed_counts)                                         "
   ]
  },
  {
   "cell_type": "code",
   "execution_count": null,
   "metadata": {},
   "outputs": [],
   "source": [
    "preds_knn_hashed = knn_hashed_counts.predict(fps_test.fps_hashed_counts)"
   ]
  },
  {
   "cell_type": "code",
   "execution_count": null,
   "metadata": {},
   "outputs": [],
   "source": [
    "preds_knn_UNhashed = knn_UNhashed_counts.predict(fps_test.fps_unhashed_counts)"
   ]
  },
  {
   "cell_type": "markdown",
   "metadata": {},
   "source": [
    "# B.6 Model validation: "
   ]
  },
  {
   "cell_type": "code",
   "execution_count": null,
   "metadata": {},
   "outputs": [],
   "source": [
    "print \"RMSE hashed fps: \", RMSE(preds_hashed, bio_test)\n",
    "print \"RMSE UNhashed fps: \", RMSE(preds_UNhashed, bio_test)\n",
    "print \"RMSE knn hashed fps: \", RMSE(preds_knn_hashed, bio_test)\n",
    "print \"RMSE knn UNhashed fps: \", RMSE(preds_knn_UNhashed, bio_test)"
   ]
  },
  {
   "cell_type": "code",
   "execution_count": null,
   "metadata": {},
   "outputs": [],
   "source": [
    "print \"R2 hashed fps: \", Rsquared(preds_hashed, bio_test)\n",
    "print \"R2 UNhashed fps: \", Rsquared(preds_UNhashed, bio_test)\n",
    "print \"R2 knn hashed fps: \", Rsquared(preds_knn_hashed, bio_test)\n",
    "print \"R2 knn UNhashed fps: \", Rsquared(preds_knn_UNhashed, bio_test)"
   ]
  },
  {
   "cell_type": "code",
   "execution_count": null,
   "metadata": {},
   "outputs": [],
   "source": [
    "print \"Running time of the whole tutorial in minutes: \", round(time.clock() - initial_time)/60"
   ]
  }
 ],
 "metadata": {
  "kernelspec": {
   "display_name": "Python 2",
   "language": "python",
   "name": "python2"
  },
  "language_info": {
   "codemirror_mode": {
    "name": "ipython",
    "version": 2
   },
   "file_extension": ".py",
   "mimetype": "text/x-python",
   "name": "python",
   "nbconvert_exporter": "python",
   "pygments_lexer": "ipython2",
   "version": "2.7.16"
  }
 },
 "nbformat": 4,
 "nbformat_minor": 2
}
