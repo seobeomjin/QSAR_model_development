{
 "cells": [
  {
   "cell_type": "markdown",
   "metadata": {},
   "source": [
    "## extract tox21, removing duplicated molecules"
   ]
  },
  {
   "cell_type": "code",
   "execution_count": 2,
   "metadata": {},
   "outputs": [],
   "source": [
    "import pandas as pd \n",
    "\n",
    "data_dir = './tutorial/datasets/tox21/'\n",
    "\n",
    "NR_AhR = 'NR-AhR_wholetraining.csv'\n",
    "NR_AR = 'NR-AR_wholetraining.csv'\n",
    "NR_AR_LBD = 'NR-AR-LBD_wholetraining.csv'\n",
    "NR_Aromatase = 'NR-Aromatase_wholetraining.csv'\n",
    "NR_ER = 'NR-ER_wholetraining.csv'\n",
    "NR_ER_LBD = 'NR-ER_wholetraining.csv'\n",
    "NR_PPAR_gamma = 'NR-PPAR-gamma_wholetraining.csv'\n",
    "SR_ARE = 'SR-ARE_wholetraining.csv'\n",
    "SR_ATAD5 = 'SR-ATAD5_wholetraining.csv'\n",
    "SR_HSE = 'SR-HSE_wholetraining.csv'\n",
    "SR_MMP = 'SR-MMP_wholetraining.csv'\n",
    "SR_p53 = 'SR-p53_wholetraining.csv'\n",
    "\n",
    "\n",
    "df_NR_AhR = pd.read_csv(data_dir+NR_AhR)\n",
    "df_NR_AR = pd.read_csv(data_dir+NR_AR)\n",
    "df_NR_AR_LBD = pd.read_csv(data_dir+NR_AR_LBD)\n",
    "df_NR_Aromatase = pd.read_csv(data_dir+NR_Aromatase)\n",
    "df_NR_ER = pd.read_csv(data_dir+NR_ER)\n",
    "df_NR_ER_LBD = pd.read_csv(data_dir+NR_ER_LBD)\n",
    "df_NR_PPAR_gamma = pd.read_csv(data_dir+NR_PPAR_gamma)\n",
    "df_SR_ARE = pd.read_csv(data_dir+SR_ARE)\n",
    "df_SR_ATAD5 = pd.read_csv(data_dir+SR_ATAD5)\n",
    "df_SR_HSE = pd.read_csv(data_dir+SR_HSE)\n",
    "df_SR_MMP = pd.read_csv(data_dir+SR_MMP)\n",
    "df_SR_p53 = pd.read_csv(data_dir+SR_p53)"
   ]
  },
  {
   "cell_type": "code",
   "execution_count": 9,
   "metadata": {},
   "outputs": [
    {
     "data": {
      "text/plain": [
       "<bound method DataFrame.duplicated of                                                  SMILES  Label\n",
       "0     Br.Br.CN(C)CCCc1cc(C(=O)Nc2ccc(-c3ccncc3)cc2)c...    0.0\n",
       "1                                      Br.Br.N=C(N)SCCN    0.0\n",
       "2                 Br.C/N=c1/nc(-c2ccccc2)n(-c2ccccc2)s1    0.0\n",
       "3       Br.C=CCN1CCc2c(cc(O)c(O)c2Br)[C@@H](c2ccccc2)C1    0.0\n",
       "4            Br.C=CCN1CCc2c(cc(O)c(O)c2Cl)C(c2ccccc2)C1    0.0\n",
       "...                                                 ...    ...\n",
       "6933                                  c1coc(Cn2cccc2)c1    0.0\n",
       "6934                        c1csc(-c2ccc(-c3cccs3)s2)c1    1.0\n",
       "6935                        c1csc(C2(N3CCCCC3)CCCCC2)c1    0.0\n",
       "6936                                 c1csc(SSc2cccs2)c1    0.0\n",
       "6937                                         c1nc[nH]n1    0.0\n",
       "\n",
       "[6938 rows x 2 columns]>"
      ]
     },
     "execution_count": 9,
     "metadata": {},
     "output_type": "execute_result"
    }
   ],
   "source": [
    "#df_result = pd.concat([std_val, df_sim], axis=1, ignore_index=True)\n",
    "df_NR_AhR.duplicated"
   ]
  },
  {
   "cell_type": "code",
   "execution_count": 3,
   "metadata": {},
   "outputs": [],
   "source": [
    "#df = pd.DataFrame()\n",
    "df = pd.concat([df_NR_AhR,df_NR_AR,df_NR_AR_LBD,df_NR_Aromatase,df_NR_ER,df_NR_ER_LBD,\n",
    "                df_NR_PPAR_gamma,df_SR_ARE,df_SR_ATAD5,df_SR_HSE,df_SR_MMP,df_SR_p53],ignore_index=True)"
   ]
  },
  {
   "cell_type": "code",
   "execution_count": 4,
   "metadata": {},
   "outputs": [
    {
     "data": {
      "text/plain": [
       "True     73170\n",
       "False     8332\n",
       "dtype: int64"
      ]
     },
     "execution_count": 4,
     "metadata": {},
     "output_type": "execute_result"
    }
   ],
   "source": [
    "df.duplicated(subset=['SMILES']).value_counts()"
   ]
  },
  {
   "cell_type": "code",
   "execution_count": 9,
   "metadata": {},
   "outputs": [],
   "source": [
    "df= df.drop_duplicates(subset=['SMILES'])"
   ]
  },
  {
   "cell_type": "code",
   "execution_count": 14,
   "metadata": {},
   "outputs": [],
   "source": [
    "df_smi = df['SMILES']\n",
    "df_label = df['Label']"
   ]
  },
  {
   "cell_type": "code",
   "execution_count": 18,
   "metadata": {},
   "outputs": [],
   "source": [
    "df.to_csv(data_dir + 'tox21_wholetraining.csv')\n",
    "df_smi.to_csv(data_dir + 'tox21_wholetraining.smi',index=False,header=False)\n",
    "df_label.to_csv(data_dir + 'tox21_wholetraining.bio',index=False,header=False)"
   ]
  },
  {
   "cell_type": "markdown",
   "metadata": {},
   "source": [
    "## extract tox21, remaining toxic molecules"
   ]
  },
  {
   "cell_type": "code",
   "execution_count": 56,
   "metadata": {},
   "outputs": [],
   "source": [
    "df_toxic = df[df.Label!=0.0]"
   ]
  },
  {
   "cell_type": "code",
   "execution_count": 57,
   "metadata": {},
   "outputs": [
    {
     "data": {
      "text/html": [
       "<div>\n",
       "<style scoped>\n",
       "    .dataframe tbody tr th:only-of-type {\n",
       "        vertical-align: middle;\n",
       "    }\n",
       "\n",
       "    .dataframe tbody tr th {\n",
       "        vertical-align: top;\n",
       "    }\n",
       "\n",
       "    .dataframe thead th {\n",
       "        text-align: right;\n",
       "    }\n",
       "</style>\n",
       "<table border=\"1\" class=\"dataframe\">\n",
       "  <thead>\n",
       "    <tr style=\"text-align: right;\">\n",
       "      <th></th>\n",
       "      <th>SMILES</th>\n",
       "      <th>Label</th>\n",
       "    </tr>\n",
       "  </thead>\n",
       "  <tbody>\n",
       "    <tr>\n",
       "      <th>13</th>\n",
       "      <td>Br.CCCN1CCc2cc(O)cc3c2[C@H]1Cc1ccc(O)c(O)c1-3</td>\n",
       "      <td>1.0</td>\n",
       "    </tr>\n",
       "    <tr>\n",
       "      <th>23</th>\n",
       "      <td>Br.C[C@@H]1[C@@H]2Cc3ccc(O)cc3[C@@]1(C)CCN2CCc...</td>\n",
       "      <td>1.0</td>\n",
       "    </tr>\n",
       "    <tr>\n",
       "      <th>28</th>\n",
       "      <td>Br.Nc1nc(-c2ccccc2)cs1.O</td>\n",
       "      <td>1.0</td>\n",
       "    </tr>\n",
       "    <tr>\n",
       "      <th>53</th>\n",
       "      <td>Brc1cc(-c2ccc(Br)c(Br)c2Br)cc(Br)c1Br</td>\n",
       "      <td>1.0</td>\n",
       "    </tr>\n",
       "    <tr>\n",
       "      <th>59</th>\n",
       "      <td>Brc1ccc(Oc2cc(Br)c(Br)cc2Br)c(Br)c1</td>\n",
       "      <td>1.0</td>\n",
       "    </tr>\n",
       "    <tr>\n",
       "      <th>...</th>\n",
       "      <td>...</td>\n",
       "      <td>...</td>\n",
       "    </tr>\n",
       "    <tr>\n",
       "      <th>81464</th>\n",
       "      <td>c1ccc2c(c1)ccc1cc3c(ccc4ccccc43)cc12</td>\n",
       "      <td>1.0</td>\n",
       "    </tr>\n",
       "    <tr>\n",
       "      <th>81466</th>\n",
       "      <td>c1ccc2c(c1)ccc1ncccc12</td>\n",
       "      <td>1.0</td>\n",
       "    </tr>\n",
       "    <tr>\n",
       "      <th>81471</th>\n",
       "      <td>c1ccc2cc3c(cc2c1)-c1cccc2cccc-3c12</td>\n",
       "      <td>1.0</td>\n",
       "    </tr>\n",
       "    <tr>\n",
       "      <th>81491</th>\n",
       "      <td>c1cnc2c(c1)ccc1cccnc12</td>\n",
       "      <td>1.0</td>\n",
       "    </tr>\n",
       "    <tr>\n",
       "      <th>81498</th>\n",
       "      <td>c1csc(-c2ccc(-c3cccs3)s2)c1</td>\n",
       "      <td>1.0</td>\n",
       "    </tr>\n",
       "  </tbody>\n",
       "</table>\n",
       "<p>6094 rows × 2 columns</p>\n",
       "</div>"
      ],
      "text/plain": [
       "                                                  SMILES  Label\n",
       "13         Br.CCCN1CCc2cc(O)cc3c2[C@H]1Cc1ccc(O)c(O)c1-3    1.0\n",
       "23     Br.C[C@@H]1[C@@H]2Cc3ccc(O)cc3[C@@]1(C)CCN2CCc...    1.0\n",
       "28                              Br.Nc1nc(-c2ccccc2)cs1.O    1.0\n",
       "53                 Brc1cc(-c2ccc(Br)c(Br)c2Br)cc(Br)c1Br    1.0\n",
       "59                   Brc1ccc(Oc2cc(Br)c(Br)cc2Br)c(Br)c1    1.0\n",
       "...                                                  ...    ...\n",
       "81464               c1ccc2c(c1)ccc1cc3c(ccc4ccccc43)cc12    1.0\n",
       "81466                             c1ccc2c(c1)ccc1ncccc12    1.0\n",
       "81471                 c1ccc2cc3c(cc2c1)-c1cccc2cccc-3c12    1.0\n",
       "81491                             c1cnc2c(c1)ccc1cccnc12    1.0\n",
       "81498                        c1csc(-c2ccc(-c3cccs3)s2)c1    1.0\n",
       "\n",
       "[6094 rows x 2 columns]"
      ]
     },
     "execution_count": 57,
     "metadata": {},
     "output_type": "execute_result"
    }
   ],
   "source": [
    "df_toxic"
   ]
  },
  {
   "cell_type": "code",
   "execution_count": 58,
   "metadata": {},
   "outputs": [],
   "source": [
    "df_toxic_smiles = df_toxic['SMILES']"
   ]
  },
  {
   "cell_type": "code",
   "execution_count": 60,
   "metadata": {},
   "outputs": [],
   "source": [
    "df_toxic_smiles.to_csv(data_dir + 'toxic_smiles_wholetraining.csv')\n",
    "df_toxic_smiles.to_csv(data_dir + 'toxic_smiles_wholetraining.smi')"
   ]
  },
  {
   "cell_type": "code",
   "execution_count": null,
   "metadata": {},
   "outputs": [],
   "source": []
  },
  {
   "cell_type": "code",
   "execution_count": 45,
   "metadata": {},
   "outputs": [
    {
     "name": "stdout",
     "output_type": "stream",
     "text": [
      "9\n",
      "3\n"
     ]
    }
   ],
   "source": [
    "dic,dic_ = {},{}\n",
    "dic.update({'k':[9,3]})\n",
    "dic.update({'u':[99]})\n",
    "dic_.update({'k':[9,3]})\n",
    "for k,v in dic.items(): \n",
    "    if k in dic_.keys():\n",
    "        for i in v:\n",
    "            print (i)\n"
   ]
  },
  {
   "cell_type": "code",
   "execution_count": 53,
   "metadata": {},
   "outputs": [
    {
     "data": {
      "text/plain": [
       "3"
      ]
     },
     "execution_count": 53,
     "metadata": {},
     "output_type": "execute_result"
    }
   ],
   "source": [
    "dic['k'][1]"
   ]
  }
 ],
 "metadata": {
  "kernelspec": {
   "display_name": "develroom-pytorch",
   "language": "python",
   "name": "develroom"
  },
  "language_info": {
   "codemirror_mode": {
    "name": "ipython",
    "version": 3
   },
   "file_extension": ".py",
   "mimetype": "text/x-python",
   "name": "python",
   "nbconvert_exporter": "python",
   "pygments_lexer": "ipython3",
   "version": "3.7.5"
  }
 },
 "nbformat": 4,
 "nbformat_minor": 4
}
