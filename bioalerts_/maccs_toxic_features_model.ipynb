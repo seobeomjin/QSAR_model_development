{
 "cells": [
  {
   "cell_type": "code",
   "execution_count": 55,
   "metadata": {},
   "outputs": [],
   "source": [
    "import bioalerts\n",
    "from bioalerts import LoadMolecules, Alerts, FPCalculator\n",
    "import sys"
   ]
  },
  {
   "cell_type": "code",
   "execution_count": 56,
   "metadata": {},
   "outputs": [],
   "source": [
    "import numpy as np \n",
    "import scipy\n",
    "import matplotlib.pyplot as plt\n",
    "\n",
    "from rdkit.Chem.Draw import IPythonConsole \n",
    "from rdkit.Chem import PandasTools \n",
    "\n",
    "import pandas as pd \n",
    "\n",
    "from sklearn.neighbors import KNeighborsRegressor #knn\n",
    "from sklearn.ensemble import RandomForestRegressor #RF\n",
    "from sklearn.svm import SVR #SVR\n",
    "from sklearn.neural_network import MLPRegressor #MLP \n",
    "\n",
    "from sklearn.model_selection import train_test_split, cross_val_score \n",
    "from sklearn.model_selection import RepeatedKFold\n",
    "from sklearn.metrics import mean_squared_error\n",
    "from sklearn.metrics import r2_score"
   ]
  },
  {
   "cell_type": "code",
   "execution_count": 57,
   "metadata": {},
   "outputs": [],
   "source": [
    "import sys, numpy as np, scipy as sc, rdkit, matplotlib as pylab, pandas as pd, IPython\n",
    "\n",
    "from rdkit.Chem import MACCSkeys                       #MACCS Keys\n",
    "from rdkit import Chem, DataStructs"
   ]
  },
  {
   "cell_type": "code",
   "execution_count": 58,
   "metadata": {},
   "outputs": [],
   "source": [
    "def fingerprint_bitgenerator(fps):\n",
    "    np_fps = []\n",
    "    \n",
    "    for fp in fps:\n",
    "        arr = np.zeros((1,))\n",
    "        DataStructs.ConvertToNumpyArray(fp,arr)\n",
    "        np_fps.append(arr)\n",
    "        \n",
    "    return np_fps"
   ]
  },
  {
   "cell_type": "code",
   "execution_count": 59,
   "metadata": {},
   "outputs": [],
   "source": [
    "proteinTarget = 'mmc1_estrogen'\n",
    "data_path = './tutorial/datasets/'"
   ]
  },
  {
   "cell_type": "code",
   "execution_count": 60,
   "metadata": {},
   "outputs": [],
   "source": [
    "mols = bioalerts.LoadMolecules.LoadMolecules(data_path + proteinTarget +\".smi\",name_field=None) "
   ]
  },
  {
   "cell_type": "code",
   "execution_count": 61,
   "metadata": {
    "scrolled": false
   },
   "outputs": [
    {
     "name": "stdout",
     "output_type": "stream",
     "text": [
      "Format of the structures file = SMILES\n",
      "3 molecules (starting at zero) could not be processed.\n",
      "\n",
      "This information has been saved in the following file: incorrect_molecules.csv\n",
      "\n",
      "NOTE: the indexes of the molecules start at zero. Thus the first molecule is molecule 0.\n"
     ]
    }
   ],
   "source": [
    "mols.ReadMolecules()"
   ]
  },
  {
   "cell_type": "code",
   "execution_count": 62,
   "metadata": {},
   "outputs": [
    {
     "name": "stdout",
     "output_type": "stream",
     "text": [
      "1275\n",
      "1278\n"
     ]
    }
   ],
   "source": [
    "mols_bio = np.genfromtxt(data_path + proteinTarget +'.bio.txt',skip_header=0)\n",
    "print len(mols.mols)\n",
    "print len(mols_bio)"
   ]
  },
  {
   "cell_type": "code",
   "execution_count": 63,
   "metadata": {},
   "outputs": [],
   "source": [
    "if len(mols.molserr)!= 0:\n",
    "    mols_bio = np.delete(mols_bio,mols.molserr)"
   ]
  },
  {
   "cell_type": "code",
   "execution_count": 64,
   "metadata": {},
   "outputs": [
    {
     "name": "stdout",
     "output_type": "stream",
     "text": [
      "1275\n",
      "1275\n"
     ]
    }
   ],
   "source": [
    "print len(mols.mols)\n",
    "print len(mols_bio)"
   ]
  },
  {
   "cell_type": "code",
   "execution_count": 65,
   "metadata": {},
   "outputs": [],
   "source": [
    "df = pd.DataFrame()\n",
    "fr = open(data_path + proteinTarget +\".smi\",\"r\")\n",
    "lines = fr.readlines()\n",
    "for i, line in enumerate(lines):\n",
    "    df.loc[i,'SMILES'] = line "
   ]
  },
  {
   "cell_type": "code",
   "execution_count": 66,
   "metadata": {},
   "outputs": [],
   "source": [
    "df = df.drop(mols.molserr,axis=0)"
   ]
  },
  {
   "cell_type": "code",
   "execution_count": 67,
   "metadata": {},
   "outputs": [],
   "source": [
    "smi = df['SMILES']\n",
    "sd = [Chem.MolFromSmiles(m) for m in smi]\n",
    "maccfps = [MACCSkeys.GenMACCSKeys(m) for m in sd]\n",
    "maccfps_bit = fingerprint_bitgenerator(maccfps)\n",
    "df_FP = pd.DataFrame(maccfps_bit,columns=list(range(len(maccfps_bit[0]))))"
   ]
  },
  {
   "cell_type": "code",
   "execution_count": 68,
   "metadata": {},
   "outputs": [],
   "source": [
    "#Remove features with low variance\n",
    "remove_cols = []\n",
    "for c in df_FP.columns : \n",
    "    if df_FP[c].std() < 0.01:\n",
    "        remove_cols.append(c)\n",
    "df_FP = df_FP.drop(remove_cols,axis=1)\n",
    "corr = df_FP.corr().iloc[0]"
   ]
  },
  {
   "cell_type": "code",
   "execution_count": null,
   "metadata": {},
   "outputs": [],
   "source": []
  },
  {
   "cell_type": "code",
   "execution_count": 69,
   "metadata": {},
   "outputs": [],
   "source": [
    "#  Reference molecules\n",
    "reference_molecules = bioalerts.LoadMolecules.GetDataSetInfo(name_field=None)"
   ]
  },
  {
   "cell_type": "code",
   "execution_count": 70,
   "metadata": {},
   "outputs": [],
   "source": [
    "reference_molecules.extract_substructure_information(radii=[0,1,2],mols=mols.mols)"
   ]
  },
  {
   "cell_type": "code",
   "execution_count": 71,
   "metadata": {},
   "outputs": [
    {
     "name": "stdout",
     "output_type": "stream",
     "text": [
      "4063\n"
     ]
    }
   ],
   "source": [
    "reference_keys = reference_molecules.substructure_dictionary.keys()\n",
    "reference_dict = reference_molecules.substructure_dictionary\n",
    "print len(reference_keys)"
   ]
  },
  {
   "cell_type": "code",
   "execution_count": null,
   "metadata": {},
   "outputs": [],
   "source": []
  },
  {
   "cell_type": "code",
   "execution_count": 72,
   "metadata": {},
   "outputs": [],
   "source": [
    "toxic = {59582328: [1.0],\n",
    " 144862996: [0.8333333333333334],\n",
    " 238332961: [0.875],\n",
    " 243031988: [0.9],\n",
    " 248538045: [0.8333333333333334],\n",
    " 289742792: [0.7142857142857143],\n",
    " 291625364: [0.8333333333333334],\n",
    " 293645588: [0.75],\n",
    " 303065576: [1.0],\n",
    " 316861206: [0.8461538461538461],\n",
    " 408935666: [1.0],\n",
    " 441214936: [0.7142857142857143],\n",
    " 464679642: [0.8571428571428571],\n",
    " 487877969: [1.0],\n",
    " 491206018: [0.7142857142857143],\n",
    " 528413146: [1.0],\n",
    " 529228269: [1.0],\n",
    " 590401100: [0.8333333333333334],\n",
    " 601301716: [0.7272727272727273],\n",
    " 665316820: [0.8333333333333334],\n",
    " 685620941: [0.8571428571428571],\n",
    " 776025833: [0.875],\n",
    " 780020950: [0.7142857142857143],\n",
    " 817010262: [0.8333333333333334],\n",
    " 856674059: [0.8333333333333334],\n",
    " 885218005: [0.7272727272727273],\n",
    " 907194548: [0.7142857142857143],\n",
    " 973747042: [0.8181818181818182],\n",
    " 1018193551: [0.9],\n",
    " 1025187852: [0.8333333333333334],\n",
    " 1040552245: [0.7142857142857143],\n",
    " 1072783936: [0.8333333333333334],\n",
    " 1210732435: [0.8181818181818182],\n",
    " 1220447184: [1.0],\n",
    " 1233810244: [0.8333333333333334],\n",
    " 1269851781: [1.0],\n",
    " 1299092894: [0.8333333333333334],\n",
    " 1300724914: [0.8],\n",
    " 1322529363: [0.8333333333333334],\n",
    " 1378206585: [1.0],\n",
    " 1437747071: [0.75],\n",
    " 1518432449: [0.8461538461538461],\n",
    " 1609125206: [0.7142857142857143],\n",
    " 1616758320: [1.0],\n",
    " 1632286252: [0.8333333333333334],\n",
    " 1833028715: [0.8333333333333334],\n",
    " 1837362276: [0.7272727272727273],\n",
    " 1887419926: [0.8181818181818182],\n",
    " 1904321503: [0.8333333333333334],\n",
    " 1906629638: [0.875],\n",
    " 1914835207: [0.7142857142857143],\n",
    " 1926414473: [0.8181818181818182],\n",
    " 2092096443: [0.8333333333333334],\n",
    " 2096291241: [0.8181818181818182],\n",
    " 2110713573: [0.8333333333333334],\n",
    " 2128830929: [0.7142857142857143],\n",
    " 2292238093L: [0.8333333333333334],\n",
    " 2295371384L: [0.7777777777777778],\n",
    " 2396384619L: [0.8333333333333334],\n",
    " 2441201613L: [0.8333333333333334],\n",
    " 2455943357L: [0.8333333333333334],\n",
    " 2486452475L: [0.7272727272727273],\n",
    " 2547260028L: [0.7142857142857143],\n",
    " 2586477428L: [0.7692307692307693],\n",
    " 2632265184L: [0.8461538461538461],\n",
    " 2666267517L: [0.7142857142857143],\n",
    " 2676693293L: [0.7142857142857143],\n",
    " 2685957082L: [0.8571428571428571],\n",
    " 2700364449L: [0.8571428571428571],\n",
    " 2730581186L: [0.8571428571428571],\n",
    " 2854154172L: [0.75],\n",
    " 2927177866L: [0.8333333333333334],\n",
    " 2956273779L: [0.8333333333333334],\n",
    " 2960320475L: [1.0],\n",
    " 2969511302L: [0.8333333333333334],\n",
    " 3047048782L: [0.7777777777777778],\n",
    " 3115087023L: [0.9],\n",
    " 3432086929L: [0.8333333333333334],\n",
    " 3445050409L: [0.8333333333333334],\n",
    " 3479423841L: [0.8571428571428571],\n",
    " 3491936091L: [0.8181818181818182],\n",
    " 3663265415L: [0.8333333333333334],\n",
    " 3669900705L: [1.0],\n",
    " 3743793454L: [0.75],\n",
    " 3744626343L: [0.7647058823529411],\n",
    " 3774802668L: [0.7142857142857143],\n",
    " 3864161222L: [0.8333333333333334],\n",
    " 3926336955L: [1.0],\n",
    " 4098238333L: [0.7142857142857143],\n",
    " 4158306861L: [0.7727272727272727],\n",
    " 4236605231L: [0.7777777777777778],\n",
    " 4242283111L: [0.8333333333333334],\n",
    " 4246700814L: [0.8333333333333334],\n",
    " 4275705722L: [0.8333333333333334]}"
   ]
  },
  {
   "cell_type": "code",
   "execution_count": 84,
   "metadata": {},
   "outputs": [],
   "source": [
    "for substr,indices in reference_dict.items() : \n",
    "    if substr in toxic.keys() :\n",
    "        for idx in indices :\n",
    "            if 0.7 <= toxic[substr][0] < 0.8 :\n",
    "                for i in range(8):  \n",
    "                    df_FP.loc[idx,'significant_feature_{}'.format(i)] = 1.0\n",
    "                    #df_fps_bin.loc[idx,'significant_feature_{}'.format(i)] = 1.0\n",
    "            elif 0.8 <= toxic[substr][0] < 0.9 : \n",
    "                for i in range(8):\n",
    "                    df_FP.loc[idx,'significant_feature_{}'.format(i)] = 2.0\n",
    "                    #df_fps_bin.loc[idx,'significant_feature_{}'.format(i)] = 2.0\n",
    "            elif 0.9 <= toxic[substr][0] <1.0 : \n",
    "                for i in range(8):\n",
    "                    df_FP.loc[idx,'significant_feature_{}'.format(i)] = 3.0\n",
    "                    #df_fps_bin.loc[idx,'significant_feature_{}'.format(i)] = 3.0\n",
    "            else:\n",
    "                for i in range(8):\n",
    "                    df_FP.loc[idx,'significant_feature_{}'.format(i)] = 0.0\n",
    "                    #df_fps_bin.loc[idx,'significant_feature_{}'.format(i)] = 0.0"
   ]
  },
  {
   "cell_type": "code",
   "execution_count": 85,
   "metadata": {},
   "outputs": [],
   "source": [
    "df_FP = df_FP.replace(np.nan,0.0)"
   ]
  },
  {
   "cell_type": "code",
   "execution_count": 86,
   "metadata": {},
   "outputs": [
    {
     "name": "stdout",
     "output_type": "stream",
     "text": [
      "67\n",
      "1275\n"
     ]
    }
   ],
   "source": [
    "print(len(df_FP[df_FP.significant_feature_1!=0.0]))\n",
    "print(len(df_FP))"
   ]
  },
  {
   "cell_type": "code",
   "execution_count": 87,
   "metadata": {},
   "outputs": [],
   "source": [
    "# y label\n",
    "df_bio = pd.DataFrame(mols_bio,columns=None)"
   ]
  },
  {
   "cell_type": "code",
   "execution_count": 88,
   "metadata": {},
   "outputs": [],
   "source": [
    "test_size = 0.05 \n",
    "fps_train, fps_test, bio_train, bio_test = train_test_split(df_FP,df_bio,test_size = test_size, shuffle = True)"
   ]
  },
  {
   "cell_type": "code",
   "execution_count": 89,
   "metadata": {},
   "outputs": [],
   "source": [
    "from sklearn.ensemble import RandomForestClassifier\n",
    "from sklearn.neighbors import KNeighborsClassifier\n",
    "from sklearn.metrics import accuracy_score\n",
    "from sklearn import metrics \n",
    "from sklearn.metrics import f1_score"
   ]
  },
  {
   "cell_type": "code",
   "execution_count": 90,
   "metadata": {},
   "outputs": [],
   "source": [
    "n_estimators = 100\n",
    "min_samples_split= 2\n",
    "max_depth = None\n",
    "\n",
    "n_neighbors = 6 \n",
    "metric = 'matching'"
   ]
  },
  {
   "cell_type": "code",
   "execution_count": 91,
   "metadata": {},
   "outputs": [
    {
     "name": "stderr",
     "output_type": "stream",
     "text": [
      "C:\\Users\\chon0\\Anaconda3\\envs\\py27\\lib\\site-packages\\ipykernel_launcher.py:4: DataConversionWarning: A column-vector y was passed when a 1d array was expected. Please change the shape of y to (n_samples,), for example using ravel().\n",
      "  after removing the cwd from sys.path.\n",
      "C:\\Users\\chon0\\Anaconda3\\envs\\py27\\lib\\site-packages\\ipykernel_launcher.py:8: DataConversionWarning: A column-vector y was passed when a 1d array was expected. Please change the shape of y to (n_samples, ), for example using ravel().\n",
      "  \n"
     ]
    },
    {
     "data": {
      "text/plain": [
       "KNeighborsClassifier(algorithm='auto', leaf_size=30, metric='matching',\n",
       "           metric_params=None, n_jobs=None, n_neighbors=6, p=2,\n",
       "           weights='distance')"
      ]
     },
     "execution_count": 91,
     "metadata": {},
     "output_type": "execute_result"
    }
   ],
   "source": [
    "#RF\n",
    "seed = 23\n",
    "RF_hashed_counts = RandomForestClassifier(n_estimators=n_estimators,max_depth=max_depth,min_samples_split=min_samples_split,random_state=seed,n_jobs=2)\n",
    "RF_hashed_counts.fit(fps_train, bio_train)\n",
    "\n",
    "# KNN\n",
    "KNN_hashed_counts = KNeighborsClassifier(n_neighbors=n_neighbors, weights='distance', algorithm='auto',metric=metric)\n",
    "KNN_hashed_counts.fit(fps_train, bio_train)\n"
   ]
  },
  {
   "cell_type": "code",
   "execution_count": 92,
   "metadata": {
    "scrolled": true
   },
   "outputs": [
    {
     "name": "stderr",
     "output_type": "stream",
     "text": [
      "C:\\Users\\chon0\\Anaconda3\\envs\\py27\\lib\\site-packages\\ipykernel_launcher.py:21: DataConversionWarning: A column-vector y was passed when a 1d array was expected. Please change the shape of y to (n_samples,), for example using ravel().\n"
     ]
    },
    {
     "name": "stdout",
     "output_type": "stream",
     "text": [
      "[0.9094650205761317, 0.9256198347107438, 0.9380165289256198, 0.9132231404958677, 0.9173553719008265]\n",
      "('mean : ', 0.9207359793218378)\n",
      "[0.9423868312757202, 0.9008264462809917, 0.9256198347107438, 0.9090909090909091, 0.9173553719008265]\n",
      "('mean : ', 0.9190558786518382)\n",
      "[0.934156378600823, 0.9256198347107438, 0.8925619834710744, 0.9504132231404959, 0.9421487603305785]\n",
      "('mean : ', 0.9289800360507432)\n",
      "[0.9300411522633745, 0.8801652892561983, 0.9380165289256198, 0.9504132231404959, 0.9214876033057852]\n",
      "('mean : ', 0.9240247593782949)\n",
      "[0.9259259259259259, 0.9297520661157025, 0.9214876033057852, 0.9338842975206612, 0.9173553719008265]\n",
      "('mean : ', 0.9256810529537802)\n",
      "[0.9053497942386831, 0.9049586776859504, 0.9297520661157025, 0.9380165289256198, 0.9338842975206612]\n",
      "('mean : ', 0.9223922728973234)\n",
      "[0.9423868312757202, 0.9380165289256198, 0.9173553719008265, 0.9462809917355371, 0.9049586776859504]\n",
      "('mean : ', 0.9297996803047308)\n",
      "[0.8888888888888888, 0.9545454545454546, 0.9338842975206612, 0.8966942148760331, 0.9421487603305785]\n",
      "('mean : ', 0.9232323232323232)\n",
      "[0.8888888888888888, 0.9545454545454546, 0.9173553719008265, 0.9380165289256198, 0.9090909090909091]\n",
      "('mean : ', 0.9215794306703398)\n",
      "[0.934156378600823, 0.8966942148760331, 0.9545454545454546, 0.9380165289256198, 0.8966942148760331]\n",
      "('mean : ', 0.9240213583647927)\n",
      "\n",
      "('total fold mean : ', 0.924)\n",
      "('total cv mean : ', 0.924)\n",
      "\n",
      "each CV RMSE average : \n",
      "[0.9207359793218378, 0.9190558786518382, 0.9289800360507432, 0.9240247593782949, 0.9256810529537802, 0.9223922728973234, 0.9297996803047308, 0.9232323232323232, 0.9215794306703398, 0.9240213583647927] \n",
      "VARIANCE of RMSE of every folds : 0.0004\n",
      "\n",
      "F1 SCORE :  0.95761289949848\n",
      "AUC :  0.7659392318759985\n"
     ]
    },
    {
     "name": "stderr",
     "output_type": "stream",
     "text": [
      "C:\\Users\\chon0\\Anaconda3\\envs\\py27\\lib\\site-packages\\ipykernel_launcher.py:52: DataConversionWarning: A column-vector y was passed when a 1d array was expected. Please change the shape of y to (n_samples,), for example using ravel().\n"
     ]
    },
    {
     "data": {
      "text/plain": [
       "RandomForestClassifier(bootstrap=True, class_weight=None, criterion='gini',\n",
       "            max_depth=None, max_features='auto', max_leaf_nodes=None,\n",
       "            min_impurity_decrease=0.0, min_impurity_split=None,\n",
       "            min_samples_leaf=1, min_samples_split=2,\n",
       "            min_weight_fraction_leaf=0.0, n_estimators=100, n_jobs=2,\n",
       "            oob_score=False, random_state=23, verbose=0, warm_start=False)"
      ]
     },
     "execution_count": 92,
     "metadata": {},
     "output_type": "execute_result"
    }
   ],
   "source": [
    "#fold setting\n",
    "kf = RepeatedKFold(n_splits = 5,n_repeats=10)\n",
    "kf.get_n_splits(fps_train)\n",
    "#kf\n",
    "#>>> KFold(n_splits=5, random_state=None, shuffle=False)\n",
    "\n",
    "#for numbering k folds\n",
    "k=0\n",
    "cv_rmse = []\n",
    "cv_rmse_mean = []\n",
    "tmp = []\n",
    "AUC = []\n",
    "f1_List = []\n",
    "fpr_RF, tpr_RF, thresholds_RF = None, None, None \n",
    "\n",
    "#cross-val training\n",
    "for train_idx, test_idx in kf.split(fps_train):\n",
    "    x_cv_train , x_cv_test = fps_train.iloc[train_idx], fps_train.iloc[test_idx]\n",
    "    y_cv_train , y_cv_test = bio_train.iloc[train_idx], bio_train.iloc[test_idx]\n",
    "    \n",
    "    RF_hashed_counts.fit(x_cv_train,y_cv_train)\n",
    "    \n",
    "    y_cv_testidx = test_idx\n",
    "    y_cv_pred = RF_hashed_counts.predict(x_cv_test)\n",
    "    #cv_rmse.append(round(np.sqrt(mean_squared_error(y_cv_test,y_cv_pred)),4))\n",
    "    #cv_rmse_mean.append(round(np.sqrt(mean_squared_error(y_cv_test,y_cv_pred)),4))\n",
    "    cv_rmse.append(accuracy_score(y_cv_test,y_cv_pred))\n",
    "    cv_rmse_mean.append(accuracy_score(y_cv_test,y_cv_pred))\n",
    "    \n",
    "    f1_List.append(f1_score(y_cv_test,y_cv_pred))\n",
    "    \n",
    "    fpr_RF, tpr_RF, thresholds_RF = metrics.roc_curve(y_cv_test, y_cv_pred, pos_label=1)\n",
    "    AUC.append(metrics.auc(fpr_RF, tpr_RF))\n",
    "    \n",
    "    k += 1 \n",
    "    \n",
    "    if k % 5 == 0 : \n",
    "        tmp.append(np.mean(cv_rmse_mean))\n",
    "        print(cv_rmse_mean) # per fold rmse value in one cv \n",
    "        print(\"mean : \",np.mean(cv_rmse_mean)) # RMSE mean value per iteration of cv  \n",
    "        del cv_rmse_mean[:]\n",
    "        \n",
    "print\n",
    "print (\"each CV RMSE average : {}\".format(tmp))\n",
    "print\n",
    "print \"total fold mean : \", round(np.mean(cv_rmse),4)\n",
    "print (\"VARIANCE of RMSE of every folds : {}\".format(round(np.var(cv_rmse),4)))\n",
    "print \"F1 SCORE : \" , np.mean(f1_List)\n",
    "print \"AUC : \", np.mean(AUC)\n",
    "\n",
    "#model retrain with all train data  \n",
    "RF_hashed_counts.fit(fps_train,bio_train) # > model train"
   ]
  },
  {
   "cell_type": "code",
   "execution_count": 93,
   "metadata": {},
   "outputs": [
    {
     "name": "stderr",
     "output_type": "stream",
     "text": [
      "C:\\Users\\chon0\\Anaconda3\\envs\\py27\\lib\\site-packages\\ipykernel_launcher.py:21: DataConversionWarning: A column-vector y was passed when a 1d array was expected. Please change the shape of y to (n_samples, ), for example using ravel().\n"
     ]
    },
    {
     "name": "stdout",
     "output_type": "stream",
     "text": [
      "[0.934156378600823, 0.9173553719008265, 0.9214876033057852, 0.9132231404958677, 0.9049586776859504]\n",
      "('mean : ', 0.9182362343978505)\n",
      "[0.9053497942386831, 0.9421487603305785, 0.871900826446281, 0.9297520661157025, 0.9545454545454546]\n",
      "('mean : ', 0.9207393803353398)\n",
      "[0.9012345679012346, 0.9297520661157025, 0.9421487603305785, 0.9173553719008265, 0.9214876033057852]\n",
      "('mean : ', 0.9223956739108253)\n",
      "[0.9218106995884774, 0.9297520661157025, 0.9214876033057852, 0.8842975206611571, 0.9338842975206612]\n",
      "('mean : ', 0.9182464374383568)\n",
      "[0.8888888888888888, 0.9421487603305785, 0.9090909090909091, 0.9132231404958677, 0.9338842975206612]\n",
      "('mean : ', 0.917447199265381)\n",
      "[0.9094650205761317, 0.9214876033057852, 0.9214876033057852, 0.9297520661157025, 0.9256198347107438]\n",
      "('mean : ', 0.9215624256028295)\n",
      "[0.9382716049382716, 0.9008264462809917, 0.9214876033057852, 0.9462809917355371, 0.9256198347107438]\n",
      "('mean : ', 0.9264972961942659)\n",
      "[0.9135802469135802, 0.9380165289256198, 0.9132231404958677, 0.9214876033057852, 0.9173553719008265]\n",
      "('mean : ', 0.9207325783083359)\n",
      "[0.9423868312757202, 0.9132231404958677, 0.9421487603305785, 0.9008264462809917, 0.9090909090909091]\n",
      "('mean : ', 0.9215352174948134)\n",
      "[0.9176954732510288, 0.9008264462809917, 0.9132231404958677, 0.9297520661157025, 0.9256198347107438]\n",
      "('mean : ', 0.917423392170867)\n",
      "\n",
      "('total fold mean : ', 0.9205)\n",
      "('total cv mean : ', 0.9205)\n",
      "\n",
      "each CV RMSE average : \n",
      "[0.9182362343978505, 0.9207393803353398, 0.9223956739108253, 0.9182464374383568, 0.917447199265381, 0.9215624256028295, 0.9264972961942659, 0.9207325783083359, 0.9215352174948134, 0.917423392170867] \n",
      "VARIANCE of RMSE of every folds : 0.0003\n",
      "\n",
      "F1 SCORE :  0.9557936692319957\n",
      "AUC :  0.7480033140286654\n"
     ]
    },
    {
     "name": "stderr",
     "output_type": "stream",
     "text": [
      "C:\\Users\\chon0\\Anaconda3\\envs\\py27\\lib\\site-packages\\ipykernel_launcher.py:52: DataConversionWarning: A column-vector y was passed when a 1d array was expected. Please change the shape of y to (n_samples, ), for example using ravel().\n"
     ]
    },
    {
     "data": {
      "text/plain": [
       "KNeighborsClassifier(algorithm='auto', leaf_size=30, metric='matching',\n",
       "           metric_params=None, n_jobs=None, n_neighbors=6, p=2,\n",
       "           weights='distance')"
      ]
     },
     "execution_count": 93,
     "metadata": {},
     "output_type": "execute_result"
    }
   ],
   "source": [
    "#fold setting\n",
    "kf = RepeatedKFold(n_splits = 5,n_repeats=10)\n",
    "kf.get_n_splits(fps_train)\n",
    "#kf\n",
    "#>>> KFold(n_splits=5, random_state=None, shuffle=False)\n",
    "\n",
    "#for numbering k folds\n",
    "k=0\n",
    "cv_rmse = []\n",
    "cv_rmse_mean = []\n",
    "tmp = []\n",
    "f1_List = []\n",
    "AUC = []\n",
    "fpr_KNN, tpr_KNN, thresholds_KNN = None, None, None \n",
    "\n",
    "#cross-val training\n",
    "for train_idx, test_idx in kf.split(fps_train):\n",
    "    x_cv_train , x_cv_test = fps_train.iloc[train_idx], fps_train.iloc[test_idx]\n",
    "    y_cv_train , y_cv_test = bio_train.iloc[train_idx], bio_train.iloc[test_idx]\n",
    "    \n",
    "    KNN_hashed_counts.fit(x_cv_train,y_cv_train)\n",
    "    \n",
    "    y_cv_testidx = test_idx\n",
    "    y_cv_pred = KNN_hashed_counts.predict(x_cv_test)\n",
    "    #cv_rmse.append(round(np.sqrt(mean_squared_error(y_cv_test,y_cv_pred)),4))\n",
    "    #cv_rmse_mean.append(round(np.sqrt(mean_squared_error(y_cv_test,y_cv_pred)),4))\n",
    "    cv_rmse.append(accuracy_score(y_cv_test,y_cv_pred))\n",
    "    cv_rmse_mean.append(accuracy_score(y_cv_test,y_cv_pred))\n",
    "    \n",
    "    f1_List.append(f1_score(y_cv_test,y_cv_pred))\n",
    "    \n",
    "    fpr_KNN, tpr_KNN, thresholds_KNN = metrics.roc_curve(y_cv_test, y_cv_pred, pos_label=1)\n",
    "    AUC.append(metrics.auc(fpr_KNN, tpr_KNN))\n",
    "    \n",
    "    k += 1 \n",
    "    \n",
    "    if k % 5 == 0 : \n",
    "        tmp.append(np.mean(cv_rmse_mean))\n",
    "        print(cv_rmse_mean) # per fold rmse value in one cv \n",
    "        print(\"mean : \",np.mean(cv_rmse_mean)) # RMSE mean value per iteration of cv  \n",
    "        del cv_rmse_mean[:]\n",
    "print\n",
    "print (\"each CV RMSE average : {}\".format(tmp))\n",
    "print\n",
    "print \"total fold mean : \", round(np.mean(cv_rmse),4)\n",
    "print (\"VARIANCE of RMSE of every folds : {}\".format(round(np.var(cv_rmse),4)))\n",
    "print \"F1 SCORE : \" , np.mean(f1_List)\n",
    "print \"AUC : \", np.mean(AUC)\n",
    "\n",
    "#model retrain with all train data  \n",
    "KNN_hashed_counts.fit(fps_train,bio_train) # > model train"
   ]
  },
  {
   "cell_type": "code",
   "execution_count": 94,
   "metadata": {},
   "outputs": [],
   "source": [
    "def Rsquared(pred,true):\n",
    "    slope, intercept, r_value, p_value, std_err = scipy.stats.linregress(true,pred)\n",
    "    return r_value**2\n",
    "\n",
    "def RMSE(pred,true):\n",
    "    rmse = np.sqrt(mean_squared_error(true,pred))\n",
    "    return rmse"
   ]
  },
  {
   "cell_type": "code",
   "execution_count": 95,
   "metadata": {},
   "outputs": [],
   "source": [
    "RF_preds_hashed = RF_hashed_counts.predict(fps_test)\n",
    "KNN_preds_hashed = KNN_hashed_counts.predict(fps_test)\n",
    "\n",
    "fpr_RF, tpr_RF, thresholds_RF = metrics.roc_curve(bio_test, RF_preds_hashed, pos_label=1)\n",
    "fpr_KNN, tpr_KNN, thresholds_KNN = metrics.roc_curve(bio_test, KNN_preds_hashed, pos_label=1)\n"
   ]
  },
  {
   "cell_type": "code",
   "execution_count": 96,
   "metadata": {},
   "outputs": [
    {
     "name": "stdout",
     "output_type": "stream",
     "text": [
      "========= COUNTS ========= \n",
      "CA RF fps:  0.9375\n",
      "CA KNN fps:  0.921875\n",
      "\n",
      "AUC RF fps:  0.8395989974937343\n",
      "AUC KNN fps:  0.7681704260651628\n"
     ]
    }
   ],
   "source": [
    "print \"========= COUNTS ========= \"\n",
    "#print \"RMSE RF hashed counts fps: \", RMSE(RF_preds_hashed, bio_test)\n",
    "#print \"RMSE KNN hashed counts fps: \", RMSE(KNN_preds_hashed, bio_test)\n",
    "print \"CA RF fps: \",accuracy_score(bio_test, RF_preds_hashed)\n",
    "print \"CA KNN fps: \", accuracy_score(bio_test, KNN_preds_hashed)\n",
    "print\n",
    "print \"AUC RF fps: \", metrics.auc(fpr_RF, tpr_RF)\n",
    "print \"AUC KNN fps: \", metrics.auc(fpr_KNN, tpr_KNN)"
   ]
  },
  {
   "cell_type": "code",
   "execution_count": null,
   "metadata": {},
   "outputs": [],
   "source": []
  }
 ],
 "metadata": {
  "kernelspec": {
   "display_name": "Python 2",
   "language": "python",
   "name": "python2"
  },
  "language_info": {
   "codemirror_mode": {
    "name": "ipython",
    "version": 2
   },
   "file_extension": ".py",
   "mimetype": "text/x-python",
   "name": "python",
   "nbconvert_exporter": "python",
   "pygments_lexer": "ipython2",
   "version": "2.7.16"
  }
 },
 "nbformat": 4,
 "nbformat_minor": 2
}
