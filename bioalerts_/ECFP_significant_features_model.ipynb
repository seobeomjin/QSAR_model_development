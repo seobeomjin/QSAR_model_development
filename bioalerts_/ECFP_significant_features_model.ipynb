{
 "cells": [
  {
   "cell_type": "code",
   "execution_count": 1,
   "metadata": {},
   "outputs": [],
   "source": [
    "import bioalerts\n",
    "from bioalerts import LoadMolecules, Alerts, FPCalculator\n",
    "import sys"
   ]
  },
  {
   "cell_type": "code",
   "execution_count": 2,
   "metadata": {},
   "outputs": [],
   "source": [
    "import numpy as np \n",
    "import scipy\n",
    "import matplotlib.pyplot as plt\n",
    "\n",
    "from rdkit.Chem.Draw import IPythonConsole \n",
    "from rdkit.Chem import PandasTools \n",
    "\n",
    "import pandas as pd \n",
    "\n",
    "from sklearn.neighbors import KNeighborsRegressor #knn\n",
    "from sklearn.ensemble import RandomForestRegressor #RF\n",
    "from sklearn.svm import SVR #SVR\n",
    "from sklearn.neural_network import MLPRegressor #MLP \n",
    "\n",
    "from sklearn.model_selection import train_test_split, cross_val_score \n",
    "from sklearn.model_selection import RepeatedKFold\n",
    "from sklearn.metrics import mean_squared_error\n",
    "from sklearn.metrics import r2_score"
   ]
  },
  {
   "cell_type": "code",
   "execution_count": 3,
   "metadata": {},
   "outputs": [],
   "source": [
    "import sys, numpy as np, scipy as sc, rdkit, matplotlib as pylab, pandas as pd, IPython\n",
    "#print \" Python:\", sys.version, \"\\n\"\n",
    "#print \" Numpy:\", np.__version__\n",
    "#print \" Scipy:\", sc.__version__\n",
    "#print \" Rdkit:\", rdkit.rdBase.rdkitVersion\n",
    "#print \" Matplotlib:\", pylab.__version__\n",
    "#print \" Pandas:\", pd.__version__\n",
    "#print \" Ipython:\", IPython.__version__\n",
    "#print \" Scikit-Learn:\", sklearn.__version__\n",
    "#print \" Scipy:\", scipy.__version__"
   ]
  },
  {
   "cell_type": "markdown",
   "metadata": {},
   "source": [
    "## Extract toxic substructure "
   ]
  },
  {
   "cell_type": "code",
   "execution_count": 4,
   "metadata": {},
   "outputs": [],
   "source": [
    "#proteinTarget = 'NR-AR'\n",
    "read_dir = './tutorial/datasets/tox21/'\n",
    "smi = 'tox21_wholetraining.smi'\n",
    "bio = 'tox21_wholetraining.bio'"
   ]
  },
  {
   "cell_type": "code",
   "execution_count": 5,
   "metadata": {},
   "outputs": [
    {
     "name": "stdout",
     "output_type": "stream",
     "text": [
      "Format of the structures file = SMILES\n",
      "All molecules in the input file were processed correctly\n",
      "Total number of input molecules:  8332\n"
     ]
    }
   ],
   "source": [
    "molecules = bioalerts.LoadMolecules.LoadMolecules(read_dir + smi,name_field=None)\n",
    "molecules.ReadMolecules()\n",
    "print \"Total number of input molecules: \", len(molecules.mols)"
   ]
  },
  {
   "cell_type": "code",
   "execution_count": 6,
   "metadata": {},
   "outputs": [
    {
     "name": "stdout",
     "output_type": "stream",
     "text": [
      "8332\n"
     ]
    }
   ],
   "source": [
    "print len(molecules.mols)"
   ]
  },
  {
   "cell_type": "code",
   "execution_count": 7,
   "metadata": {},
   "outputs": [
    {
     "data": {
      "text/plain": [
       "[0, 1, 2, 3, 4]"
      ]
     },
     "execution_count": 7,
     "metadata": {},
     "output_type": "execute_result"
    }
   ],
   "source": [
    "molecules.mols_ids[0:5]"
   ]
  },
  {
   "cell_type": "code",
   "execution_count": 8,
   "metadata": {},
   "outputs": [],
   "source": [
    "training_dataset_info = bioalerts.LoadMolecules.GetDataSetInfo()"
   ]
  },
  {
   "cell_type": "code",
   "execution_count": 9,
   "metadata": {},
   "outputs": [],
   "source": [
    "training_dataset_info.extract_substructure_information(radii=[2,3,4],mols=molecules.mols)"
   ]
  },
  {
   "cell_type": "code",
   "execution_count": 10,
   "metadata": {},
   "outputs": [
    {
     "name": "stdout",
     "output_type": "stream",
     "text": [
      "97905\n"
     ]
    }
   ],
   "source": [
    "print len(training_dataset_info.substructure_dictionary.keys())"
   ]
  },
  {
   "cell_type": "code",
   "execution_count": 11,
   "metadata": {},
   "outputs": [],
   "source": [
    "bioactivities = np.genfromtxt(read_dir + bio,\n",
    "                              dtype='int',\n",
    "                              skip_header=0)\n",
    "arr = np.arange(0,len(bioactivities))\n",
    "mask = np.ones(arr.shape,dtype=bool)\n",
    "mask[molecules.molserr]=0\n",
    "bioactivities =  bioactivities[mask]"
   ]
  },
  {
   "cell_type": "code",
   "execution_count": 12,
   "metadata": {},
   "outputs": [
    {
     "name": "stdout",
     "output_type": "stream",
     "text": [
      "8332\n",
      "8332\n"
     ]
    }
   ],
   "source": [
    "print len(bioactivities)\n",
    "print len(molecules.mols)"
   ]
  },
  {
   "cell_type": "code",
   "execution_count": null,
   "metadata": {},
   "outputs": [],
   "source": [
    "Alerts_categorical = bioalerts.Alerts.CalculatePvaluesCategorical(max_radius=4)\n",
    "toxic, nontoxic = {}, {}\n",
    "\n",
    "toxic, nontoxic = Alerts_categorical.calculate_toxic_and_nontoxic_substructure(mols=molecules.mols,\n",
    "                                      substructure_dictionary=training_dataset_info.substructure_dictionary,\n",
    "                                      bioactivities=bioactivities,\n",
    "                                      mols_ids=training_dataset_info.mols_ids,\n",
    "                                      threshold_nb_substructures = 5,\n",
    "                                      threshold_pvalue = 0.05,\n",
    "                                      threshold_frequency = 0.7,\n",
    "                                      Bonferroni=True)"
   ]
  },
  {
   "cell_type": "code",
   "execution_count": null,
   "metadata": {},
   "outputs": [],
   "source": [
    "toxic"
   ]
  },
  {
   "cell_type": "code",
   "execution_count": null,
   "metadata": {},
   "outputs": [],
   "source": [
    "nontoxic"
   ]
  },
  {
   "cell_type": "code",
   "execution_count": null,
   "metadata": {},
   "outputs": [],
   "source": [
    "toxic = {59582328: [1.0],\n",
    " 144862996: [0.8333333333333334],\n",
    " 238332961: [0.875],\n",
    " 243031988: [0.9],\n",
    " 248538045: [0.8333333333333334],\n",
    " 289742792: [0.7142857142857143],\n",
    " 291625364: [0.8333333333333334],\n",
    " 293645588: [0.75],\n",
    " 303065576: [1.0],\n",
    " 316861206: [0.8461538461538461],\n",
    " 408935666: [1.0],\n",
    " 441214936: [0.7142857142857143],\n",
    " 464679642: [0.8571428571428571],\n",
    " 487877969: [1.0],\n",
    " 491206018: [0.7142857142857143],\n",
    " 528413146: [1.0],\n",
    " 529228269: [1.0],\n",
    " 590401100: [0.8333333333333334],\n",
    " 601301716: [0.7272727272727273],\n",
    " 665316820: [0.8333333333333334],\n",
    " 685620941: [0.8571428571428571],\n",
    " 776025833: [0.875],\n",
    " 780020950: [0.7142857142857143],\n",
    " 817010262: [0.8333333333333334],\n",
    " 856674059: [0.8333333333333334],\n",
    " 885218005: [0.7272727272727273],\n",
    " 907194548: [0.7142857142857143],\n",
    " 973747042: [0.8181818181818182],\n",
    " 1018193551: [0.9],\n",
    " 1025187852: [0.8333333333333334],\n",
    " 1040552245: [0.7142857142857143],\n",
    " 1072783936: [0.8333333333333334],\n",
    " 1210732435: [0.8181818181818182],\n",
    " 1220447184: [1.0],\n",
    " 1233810244: [0.8333333333333334],\n",
    " 1269851781: [1.0],\n",
    " 1299092894: [0.8333333333333334],\n",
    " 1300724914: [0.8],\n",
    " 1322529363: [0.8333333333333334],\n",
    " 1378206585: [1.0],\n",
    " 1437747071: [0.75],\n",
    " 1518432449: [0.8461538461538461],\n",
    " 1609125206: [0.7142857142857143],\n",
    " 1616758320: [1.0],\n",
    " 1632286252: [0.8333333333333334],\n",
    " 1833028715: [0.8333333333333334],\n",
    " 1837362276: [0.7272727272727273],\n",
    " 1887419926: [0.8181818181818182],\n",
    " 1904321503: [0.8333333333333334],\n",
    " 1906629638: [0.875],\n",
    " 1914835207: [0.7142857142857143],\n",
    " 1926414473: [0.8181818181818182],\n",
    " 2092096443: [0.8333333333333334],\n",
    " 2096291241: [0.8181818181818182],\n",
    " 2110713573: [0.8333333333333334],\n",
    " 2128830929: [0.7142857142857143],\n",
    " 2292238093L: [0.8333333333333334],\n",
    " 2295371384L: [0.7777777777777778],\n",
    " 2396384619L: [0.8333333333333334],\n",
    " 2441201613L: [0.8333333333333334],\n",
    " 2455943357L: [0.8333333333333334],\n",
    " 2486452475L: [0.7272727272727273],\n",
    " 2547260028L: [0.7142857142857143],\n",
    " 2586477428L: [0.7692307692307693],\n",
    " 2632265184L: [0.8461538461538461],\n",
    " 2666267517L: [0.7142857142857143],\n",
    " 2676693293L: [0.7142857142857143],\n",
    " 2685957082L: [0.8571428571428571],\n",
    " 2700364449L: [0.8571428571428571],\n",
    " 2730581186L: [0.8571428571428571],\n",
    " 2854154172L: [0.75],\n",
    " 2927177866L: [0.8333333333333334],\n",
    " 2956273779L: [0.8333333333333334],\n",
    " 2960320475L: [1.0],\n",
    " 2969511302L: [0.8333333333333334],\n",
    " 3047048782L: [0.7777777777777778],\n",
    " 3115087023L: [0.9],\n",
    " 3432086929L: [0.8333333333333334],\n",
    " 3445050409L: [0.8333333333333334],\n",
    " 3479423841L: [0.8571428571428571],\n",
    " 3491936091L: [0.8181818181818182],\n",
    " 3663265415L: [0.8333333333333334],\n",
    " 3669900705L: [1.0],\n",
    " 3743793454L: [0.75],\n",
    " 3744626343L: [0.7647058823529411],\n",
    " 3774802668L: [0.7142857142857143],\n",
    " 3864161222L: [0.8333333333333334],\n",
    " 3926336955L: [1.0],\n",
    " 4098238333L: [0.7142857142857143],\n",
    " 4158306861L: [0.7727272727272727],\n",
    " 4236605231L: [0.7777777777777778],\n",
    " 4242283111L: [0.8333333333333334],\n",
    " 4246700814L: [0.8333333333333334],\n",
    " 4275705722L: [0.8333333333333334]}"
   ]
  },
  {
   "cell_type": "markdown",
   "metadata": {},
   "source": [
    "## A. Calculating Morgan fingerprints"
   ]
  },
  {
   "cell_type": "markdown",
   "metadata": {},
   "source": [
    "In this section, we will see how to calculate hashed and unhashed Morgan fingerprints for a set of molecules, and will train some models. "
   ]
  },
  {
   "cell_type": "code",
   "execution_count": 4,
   "metadata": {},
   "outputs": [],
   "source": [
    "targetProtein = 'mmc1_androgen'"
   ]
  },
  {
   "cell_type": "code",
   "execution_count": 5,
   "metadata": {},
   "outputs": [],
   "source": [
    "AR_mols = bioalerts.LoadMolecules.LoadMolecules(\"./tutorial/datasets/\" + targetProtein + \".smi\",name_field=None) \n",
    "#COX2.smi is a set of only SMILES data"
   ]
  },
  {
   "cell_type": "code",
   "execution_count": 6,
   "metadata": {
    "scrolled": true
   },
   "outputs": [
    {
     "name": "stdout",
     "output_type": "stream",
     "text": [
      "Format of the structures file = SMILES\n",
      "8 molecules (starting at zero) could not be processed.\n",
      "\n",
      "This information has been saved in the following file: incorrect_molecules.csv\n",
      "\n",
      "NOTE: the indexes of the molecules start at zero. Thus the first molecule is molecule 0.\n"
     ]
    }
   ],
   "source": [
    "AR_mols.ReadMolecules()"
   ]
  },
  {
   "cell_type": "code",
   "execution_count": 26,
   "metadata": {},
   "outputs": [],
   "source": [
    "AR_bio = np.genfromtxt('./tutorial/datasets/' + targetProtein + '.bio.txt',skip_header=0) "
   ]
  },
  {
   "cell_type": "code",
   "execution_count": 27,
   "metadata": {
    "scrolled": true
   },
   "outputs": [],
   "source": [
    "if len(AR_mols.molserr)!= 0:\n",
    "    AR_bio = np.delete(AR_bio,AR_mols.molserr)"
   ]
  },
  {
   "cell_type": "code",
   "execution_count": 28,
   "metadata": {},
   "outputs": [
    {
     "name": "stdout",
     "output_type": "stream",
     "text": [
      "1270\n",
      "1270\n"
     ]
    }
   ],
   "source": [
    "print len(AR_mols.mols)\n",
    "print len(AR_bio)"
   ]
  },
  {
   "cell_type": "code",
   "execution_count": 29,
   "metadata": {},
   "outputs": [
    {
     "name": "stdout",
     "output_type": "stream",
     "text": [
      "1270 127 1143\n",
      "1270 127 1143\n"
     ]
    }
   ],
   "source": [
    "stride = int(len(AR_mols.mols) * 0.9)\n",
    "training = AR_mols.mols[0:stride]\n",
    "test = AR_mols.mols[stride:len(AR_mols.mols)]\n",
    "training_mols_ids = AR_mols.mols_ids[0:stride] # for sig-sub-extract\n",
    "print len(AR_mols.mols), len(test), len(training)\n",
    "\n",
    "bio_training = AR_bio[0:stride]\n",
    "bio_test = AR_bio[stride:len(AR_mols.mols)]\n",
    "print len(AR_bio), len(bio_test), len(bio_training)"
   ]
  },
  {
   "cell_type": "markdown",
   "metadata": {},
   "source": [
    "### A.0 substructure extraction"
   ]
  },
  {
   "cell_type": "markdown",
   "metadata": {},
   "source": [
    "The length of the substructure dictionary indicates the total number of distinct substructures present in the training set **satisfying the bond radii indicated by the user**, whereas the number of keys for each dictionary element indicates the number of distinct molecules in which the substructure is present."
   ]
  },
  {
   "cell_type": "markdown",
   "metadata": {},
   "source": [
    "#### A.0.1 whole substructure extraction"
   ]
  },
  {
   "cell_type": "code",
   "execution_count": 8,
   "metadata": {},
   "outputs": [],
   "source": [
    "#  Reference molecules\n",
    "reference_molecules = bioalerts.LoadMolecules.GetDataSetInfo(name_field=None)"
   ]
  },
  {
   "cell_type": "code",
   "execution_count": 9,
   "metadata": {},
   "outputs": [],
   "source": [
    "#fps_training.substructure_ids"
   ]
  },
  {
   "cell_type": "code",
   "execution_count": 10,
   "metadata": {},
   "outputs": [],
   "source": [
    "reference_molecules.extract_substructure_information(radii=[0,1,2],mols=training)"
   ]
  },
  {
   "cell_type": "code",
   "execution_count": 11,
   "metadata": {},
   "outputs": [
    {
     "name": "stdout",
     "output_type": "stream",
     "text": [
      "1205\n"
     ]
    }
   ],
   "source": [
    "reference_keys = reference_molecules.substructure_dictionary.keys()\n",
    "print len(reference_keys)"
   ]
  },
  {
   "cell_type": "markdown",
   "metadata": {},
   "source": [
    "#### A.0.2 significant substructure extraction"
   ]
  },
  {
   "cell_type": "code",
   "execution_count": 12,
   "metadata": {},
   "outputs": [],
   "source": [
    "significant_reference_molecules = bioalerts.LoadMolecules.GetDataSetInfo(name_field=None)\n",
    "significant_reference_molecules.extract_substructure_information(radii=[0,1,2],mols=training)"
   ]
  },
  {
   "cell_type": "code",
   "execution_count": 13,
   "metadata": {},
   "outputs": [],
   "source": [
    "Alerts_continuous_high_activity = bioalerts.Alerts.CalculatePvaluesContinuous(radii_ext=[0,1,2])"
   ]
  },
  {
   "cell_type": "code",
   "execution_count": 14,
   "metadata": {},
   "outputs": [],
   "source": [
    "def calculate_bioactivity_threshold(bio,threshold):\n",
    "    # a pIC50 is smaller, higher activity \n",
    "    \n",
    "    sorted_bio = sorted(bio)\n",
    "    threshold_bio_value = sorted_bio[int(len(sorted_bio)*threshold)]\n",
    "    \n",
    "    print(\"activity ratio is {}\".format(1-threshold))\n",
    "    print(\"threshold value is {}\".format(threshold_bio_value))\n",
    "    print(\"actual bioactivity value is {}\".format(np.power(10,9 - threshold_bio_value)))\n",
    "    return threshold_bio_value"
   ]
  },
  {
   "cell_type": "code",
   "execution_count": 15,
   "metadata": {},
   "outputs": [
    {
     "name": "stdout",
     "output_type": "stream",
     "text": [
      "activity ratio is 0.67\n",
      "threshold value is 6.525783736\n",
      "actual bioactivity value is 297.999999948\n"
     ]
    }
   ],
   "source": [
    "threshold_= 0.33\n",
    "threshold_bio_value = calculate_bioactivity_threshold(AR_bio,threshold_)\n",
    "\n",
    "threshold_nb_substructures = 10\n",
    "threshold_ratio = 0.3\n",
    "threshold_high_act_nb_substructures = 3 #5\n",
    "threshold_high_act_ratio = 0.15 #0.5                                                                  \n",
    "\n",
    "# maybe no necessary to change\n",
    "threshold_pvalue = 0.05 "
   ]
  },
  {
   "cell_type": "code",
   "execution_count": 16,
   "metadata": {},
   "outputs": [],
   "source": [
    "significant_substructure = {}\n",
    "significant_substructure = Alerts_continuous_high_activity.get_significant_substructure_with_high_bioactivity(\n",
    "mols = training,\n",
    "     substructure_dictionary = significant_reference_molecules.substructure_dictionary,\n",
    "     bioactivities = bio_training,\n",
    "     mols_ids = training_mols_ids[:],\n",
    "     threshold_nb_substructures = threshold_nb_substructures,\n",
    "     threshold_pvalue = threshold_pvalue,\n",
    "     threshold_ratio=threshold_ratio,\n",
    "     threshold_high_act_nb_substructures=threshold_high_act_nb_substructures,\n",
    "     threshold_high_act_ratio = threshold_high_act_ratio,                                                                        \n",
    "     threshold_bioactivity=threshold_bio_value)"
   ]
  },
  {
   "cell_type": "code",
   "execution_count": 17,
   "metadata": {},
   "outputs": [
    {
     "data": {
      "text/plain": [
       "30"
      ]
     },
     "execution_count": 17,
     "metadata": {},
     "output_type": "execute_result"
    }
   ],
   "source": [
    "significant_reference_keys = significant_substructure.keys()\n",
    "len(significant_reference_keys)"
   ]
  },
  {
   "cell_type": "code",
   "execution_count": 31,
   "metadata": {},
   "outputs": [],
   "source": [
    "mol_id_set = set()\n",
    "for k,v in significant_substructure.items():\n",
    "    for mol_id in v: \n",
    "        mol_id_set.add(mol_id)"
   ]
  },
  {
   "cell_type": "code",
   "execution_count": 32,
   "metadata": {},
   "outputs": [
    {
     "name": "stdout",
     "output_type": "stream",
     "text": [
      "number of total substructure : 1205\n",
      "number of extracted significant substructure : 31\n",
      "250 out of 250 have the label which represent remaining significant substructure\n",
      "\n",
      "THRESHOLD - \n",
      "\tnumber of substructures : 10\n",
      "\tp value : 0.05\n",
      "\tratio : 0.3\n",
      "\tnumber of high activity threshold : 3\n",
      "\thigh activity ratio : 0.15\n",
      "\thigh bioactivity threshold : 0.33\n",
      "\n"
     ]
    }
   ],
   "source": [
    "print('number of total substructure : {}'.format(len(significant_reference_molecules.substructure_dictionary)))\n",
    "print('number of extracted significant substructure : {}'.format(len(significant_substructure)))\n",
    "print('{} out of {} have the label which represent remaining significant substructure\\n'.format(len(mol_id_set),len(bio_training)))\n",
    "\n",
    "print ('THRESHOLD - \\n\\tnumber of substructures : {}\\n\\tp value : {}\\n\\tratio : {}\\n\\tnumber of high activity threshold : {}\\n\\thigh activity ratio : {}\\n\\thigh bioactivity threshold : {}\\n'\n",
    "       .format(threshold_nb_substructures,threshold_pvalue,threshold_ratio,threshold_high_act_nb_substructures,threshold_high_act_ratio,threshold_ ))"
   ]
  },
  {
   "cell_type": "code",
   "execution_count": 28,
   "metadata": {},
   "outputs": [],
   "source": [
    "# run the code when you repair hyperparameter\n",
    "if len(significant_substructure) is not 0 :\n",
    "    significant_substructure.clear()\n",
    "if len(mol_id_set) is not 0 :\n",
    "    mol_id_set.clear()\n",
    "if len(significant_reference_keys) is not 0:\n",
    "    significant_reference_keys = []"
   ]
  },
  {
   "cell_type": "markdown",
   "metadata": {},
   "source": [
    "### A.1 Computating HASHED Morgan fingerprints for the TRAINING set"
   ]
  },
  {
   "cell_type": "markdown",
   "metadata": {},
   "source": [
    "We first initialize the class bioalerts.FPCalculator.CalculateFPs()"
   ]
  },
  {
   "cell_type": "code",
   "execution_count": 18,
   "metadata": {},
   "outputs": [],
   "source": [
    "fps_training = bioalerts.FPCalculator.CalculateFPs(radii=[0,1,2],mols=training)\n",
    "\n",
    "fps_training_with_refer = bioalerts.FPCalculator.CalculateFPs(radii=[0,1,2],mols=training,reference_substructure_keys=reference_keys)\n",
    "fps_training_with_sig_refer = bioalerts.FPCalculator.CalculateFPs(radii=[2,3,4,5],mols=training,reference_substructure_keys=significant_reference_keys)\n",
    "\n",
    "# reference keys have no effect to hashed, only to unhashed "
   ]
  },
  {
   "cell_type": "code",
   "execution_count": 19,
   "metadata": {},
   "outputs": [],
   "source": [
    "fps_training.calculate_hashed_fps_binary_quick(nBits=128)"
   ]
  },
  {
   "cell_type": "code",
   "execution_count": 20,
   "metadata": {},
   "outputs": [
    {
     "name": "stdout",
     "output_type": "stream",
     "text": [
      "(250L, 128L)\n"
     ]
    }
   ],
   "source": [
    "print fps_training.fps_hashed_binary_quick.shape"
   ]
  },
  {
   "cell_type": "markdown",
   "metadata": {},
   "source": [
    "The method \"calculate_hashed_fps_binary_quick()\" considers all substructures with a bond radius smaller or equal to the maximum value of the argument radii. In this example, 2. Thus, in this case this method will consider all substructures with a bond radius of 0, 1 and 2."
   ]
  },
  {
   "cell_type": "code",
   "execution_count": 21,
   "metadata": {},
   "outputs": [],
   "source": [
    "fps_training.calculate_hashed_fps(nBits=128)"
   ]
  },
  {
   "cell_type": "code",
   "execution_count": 22,
   "metadata": {},
   "outputs": [
    {
     "name": "stdout",
     "output_type": "stream",
     "text": [
      "(250L, 128L)\n",
      "(250L, 128L)\n"
     ]
    }
   ],
   "source": [
    "print fps_training.fps_hashed_binary.shape\n",
    "print fps_training.fps_hashed_counts.shape"
   ]
  },
  {
   "cell_type": "markdown",
   "metadata": {},
   "source": [
    "The method **\"calculate_hashed_fps()\"** computes hashed fingerpints in **(i) count** and **(ii) also binary format**. The difference of the method *calculate_hashed_fps()* with respect to the method *calculate_hashed_fps_binary_quick()* is that the **former only consider the substructures with a bond radius in the list input** to the argument radii when instantiating the class bioalerts.FPCalculator.CalculateFPs(). In the example above: [1,2].\n",
    "\n",
    "Therefore, the hashed fingerprints in binary format calculated by these two methods will be *identical* if the bond radii especified in the aforesaid argument radii comprise all natural number from 0 to the maximum bond radius. In this example, this would be correspond to setting the value of the argument radii to [0,1,2]."
   ]
  },
  {
   "cell_type": "code",
   "execution_count": 38,
   "metadata": {},
   "outputs": [
    {
     "name": "stdout",
     "output_type": "stream",
     "text": [
      "True\n"
     ]
    }
   ],
   "source": [
    "print (fps_training.fps_hashed_binary_quick == fps_training.fps_hashed_binary).all()"
   ]
  },
  {
   "cell_type": "code",
   "execution_count": 39,
   "metadata": {},
   "outputs": [
    {
     "data": {
      "text/plain": [
       "array([[0, 1, 0, ..., 1, 0, 0],\n",
       "       [0, 1, 0, ..., 0, 1, 0],\n",
       "       [0, 0, 0, ..., 0, 0, 0],\n",
       "       ...,\n",
       "       [0, 1, 0, ..., 1, 0, 0],\n",
       "       [0, 1, 0, ..., 1, 0, 0],\n",
       "       [0, 0, 0, ..., 0, 0, 0]])"
      ]
     },
     "execution_count": 39,
     "metadata": {},
     "output_type": "execute_result"
    }
   ],
   "source": [
    "toto = fps_training.fps_hashed_counts\n",
    "toto\n",
    "#toto.shape #(250L, 128L)"
   ]
  },
  {
   "cell_type": "code",
   "execution_count": 40,
   "metadata": {},
   "outputs": [
    {
     "data": {
      "text/plain": [
       "array([[1, 0, 0, 1, 1, 0, 0, 0, 0],\n",
       "       [0, 0, 0, 0, 0, 0, 0, 0, 0],\n",
       "       [0, 1, 0, 0, 0, 0, 1, 0, 0],\n",
       "       [1, 0, 0, 0, 0, 0, 1, 1, 0],\n",
       "       [0, 0, 0, 0, 0, 0, 1, 1, 0],\n",
       "       [1, 0, 0, 0, 0, 0, 0, 1, 0],\n",
       "       [0, 0, 0, 0, 1, 0, 0, 0, 0],\n",
       "       [0, 0, 1, 0, 0, 0, 0, 0, 0],\n",
       "       [1, 1, 0, 0, 1, 1, 1, 1, 0]])"
      ]
     },
     "execution_count": 40,
     "metadata": {},
     "output_type": "execute_result"
    }
   ],
   "source": [
    "fps_training.fps_hashed_binary[1:10,1:10]"
   ]
  },
  {
   "cell_type": "code",
   "execution_count": 41,
   "metadata": {
    "scrolled": true
   },
   "outputs": [
    {
     "data": {
      "text/plain": [
       "array([[1, 0, 0, 1, 1, 0, 0, 0, 0],\n",
       "       [0, 0, 0, 0, 0, 0, 0, 0, 0],\n",
       "       [0, 1, 0, 0, 0, 0, 1, 0, 0],\n",
       "       [1, 0, 0, 0, 0, 0, 1, 1, 0],\n",
       "       [0, 0, 0, 0, 0, 0, 1, 1, 0],\n",
       "       [1, 0, 0, 0, 0, 0, 0, 1, 0],\n",
       "       [0, 0, 0, 0, 1, 0, 0, 0, 0],\n",
       "       [0, 0, 1, 0, 0, 0, 0, 0, 0],\n",
       "       [1, 1, 0, 0, 1, 1, 1, 1, 0]])"
      ]
     },
     "execution_count": 41,
     "metadata": {},
     "output_type": "execute_result"
    }
   ],
   "source": [
    "fps_training.fps_hashed_binary_quick[1:10,1:10]"
   ]
  },
  {
   "cell_type": "markdown",
   "metadata": {},
   "source": [
    "### A.2 Computating UNHASHED Morgan fingerprints for the TRAINING set"
   ]
  },
  {
   "cell_type": "markdown",
   "metadata": {},
   "source": [
    "#### A.2.1 UNHASHED without reference dict"
   ]
  },
  {
   "cell_type": "code",
   "execution_count": 42,
   "metadata": {
    "scrolled": true
   },
   "outputs": [
    {
     "name": "stdout",
     "output_type": "stream",
     "text": [
      "No input set of keys for the substructures. \n",
      "Thus, the substructures present in the input molecules will be considered for the calculation of unhashed fingerprints.\n"
     ]
    }
   ],
   "source": [
    "fps_training.calculate_unhashed_fps(draw_substructures=True)"
   ]
  },
  {
   "cell_type": "code",
   "execution_count": 43,
   "metadata": {},
   "outputs": [
    {
     "data": {
      "text/plain": [
       "(250, 1205)"
      ]
     },
     "execution_count": 43,
     "metadata": {},
     "output_type": "execute_result"
    }
   ],
   "source": [
    "fps_training.fps_unhashed_binary.shape"
   ]
  },
  {
   "cell_type": "markdown",
   "metadata": {},
   "source": [
    "#### A.2.2 UNHASHED with reference dict"
   ]
  },
  {
   "cell_type": "code",
   "execution_count": 38,
   "metadata": {},
   "outputs": [],
   "source": [
    "fps_training_with_refer.calculate_unhashed_fps(draw_substructures=True)"
   ]
  },
  {
   "cell_type": "code",
   "execution_count": 41,
   "metadata": {
    "collapsed": true
   },
   "outputs": [
    {
     "data": {
      "text/plain": [
       "array([[0, 0, 0, 0],\n",
       "       [0, 0, 0, 1],\n",
       "       [0, 0, 0, 0],\n",
       "       [0, 0, 0, 0],\n",
       "       [0, 0, 0, 0],\n",
       "       [0, 0, 0, 0],\n",
       "       [0, 0, 0, 1],\n",
       "       [0, 0, 0, 0],\n",
       "       [0, 0, 0, 1],\n",
       "       [0, 0, 0, 0],\n",
       "       [0, 0, 0, 0],\n",
       "       [0, 0, 0, 0],\n",
       "       [0, 0, 0, 0],\n",
       "       [0, 0, 0, 0],\n",
       "       [0, 0, 0, 0],\n",
       "       [0, 0, 0, 0],\n",
       "       [0, 0, 0, 1],\n",
       "       [0, 0, 0, 0],\n",
       "       [0, 0, 0, 0],\n",
       "       [0, 0, 0, 0],\n",
       "       [0, 0, 0, 0],\n",
       "       [0, 0, 0, 0],\n",
       "       [0, 0, 0, 0],\n",
       "       [0, 0, 0, 0],\n",
       "       [0, 0, 0, 0],\n",
       "       [0, 0, 0, 0],\n",
       "       [0, 0, 0, 0],\n",
       "       [0, 0, 0, 0],\n",
       "       [0, 0, 0, 0],\n",
       "       [0, 0, 0, 0],\n",
       "       [0, 0, 0, 0],\n",
       "       [0, 0, 0, 0],\n",
       "       [0, 0, 2, 0],\n",
       "       [0, 0, 0, 0],\n",
       "       [0, 0, 0, 0],\n",
       "       [0, 0, 0, 0],\n",
       "       [0, 0, 0, 1],\n",
       "       [0, 0, 0, 0],\n",
       "       [0, 0, 0, 0],\n",
       "       [0, 0, 0, 0],\n",
       "       [0, 0, 0, 0],\n",
       "       [0, 0, 0, 0],\n",
       "       [0, 0, 1, 0],\n",
       "       [0, 0, 0, 0],\n",
       "       [0, 0, 0, 0],\n",
       "       [0, 0, 0, 0],\n",
       "       [0, 0, 1, 0],\n",
       "       [0, 0, 0, 0],\n",
       "       [0, 0, 0, 0],\n",
       "       [0, 0, 0, 0],\n",
       "       [0, 0, 0, 0],\n",
       "       [0, 0, 0, 0],\n",
       "       [0, 0, 0, 0],\n",
       "       [0, 0, 0, 1],\n",
       "       [0, 0, 0, 0],\n",
       "       [0, 0, 0, 0],\n",
       "       [0, 0, 0, 0],\n",
       "       [4, 0, 0, 0],\n",
       "       [0, 0, 0, 0],\n",
       "       [0, 0, 0, 0],\n",
       "       [0, 0, 0, 0],\n",
       "       [0, 0, 0, 0],\n",
       "       [0, 0, 0, 0],\n",
       "       [0, 0, 0, 0],\n",
       "       [0, 0, 0, 0],\n",
       "       [0, 0, 0, 0],\n",
       "       [0, 0, 0, 0],\n",
       "       [0, 0, 0, 0],\n",
       "       [0, 0, 0, 0],\n",
       "       [0, 0, 0, 0],\n",
       "       [0, 0, 0, 0],\n",
       "       [0, 0, 0, 0],\n",
       "       [0, 0, 0, 0],\n",
       "       [0, 0, 0, 0],\n",
       "       [0, 0, 0, 0],\n",
       "       [0, 0, 0, 0],\n",
       "       [0, 0, 0, 0],\n",
       "       [0, 0, 0, 0],\n",
       "       [0, 0, 0, 0],\n",
       "       [0, 0, 0, 0],\n",
       "       [0, 0, 0, 0],\n",
       "       [0, 0, 0, 0],\n",
       "       [0, 0, 0, 0],\n",
       "       [0, 0, 0, 0],\n",
       "       [0, 0, 0, 0],\n",
       "       [0, 0, 0, 0],\n",
       "       [0, 0, 0, 0],\n",
       "       [0, 0, 0, 1],\n",
       "       [0, 0, 0, 0],\n",
       "       [0, 0, 0, 0],\n",
       "       [0, 0, 0, 0],\n",
       "       [0, 0, 0, 0],\n",
       "       [0, 0, 0, 0],\n",
       "       [0, 0, 0, 1],\n",
       "       [0, 0, 0, 0],\n",
       "       [0, 0, 0, 0],\n",
       "       [0, 0, 0, 1],\n",
       "       [0, 0, 0, 0],\n",
       "       [0, 0, 0, 0],\n",
       "       [0, 0, 0, 0],\n",
       "       [0, 0, 0, 1],\n",
       "       [1, 0, 0, 0],\n",
       "       [0, 0, 0, 0],\n",
       "       [0, 0, 0, 1],\n",
       "       [0, 0, 0, 0],\n",
       "       [0, 0, 0, 0],\n",
       "       [0, 0, 0, 0],\n",
       "       [0, 0, 0, 1],\n",
       "       [0, 0, 0, 1],\n",
       "       [0, 0, 0, 1],\n",
       "       [0, 0, 0, 0],\n",
       "       [0, 0, 0, 0],\n",
       "       [0, 0, 0, 0],\n",
       "       [0, 0, 0, 0],\n",
       "       [0, 0, 0, 1],\n",
       "       [0, 0, 0, 0],\n",
       "       [0, 0, 0, 0],\n",
       "       [0, 0, 0, 0],\n",
       "       [0, 0, 0, 0],\n",
       "       [0, 0, 0, 0],\n",
       "       [0, 0, 0, 0],\n",
       "       [0, 0, 0, 0],\n",
       "       [0, 0, 0, 0],\n",
       "       [0, 0, 0, 0],\n",
       "       [0, 0, 0, 1],\n",
       "       [0, 0, 0, 0],\n",
       "       [0, 0, 0, 0],\n",
       "       [0, 0, 0, 0],\n",
       "       [0, 0, 0, 0],\n",
       "       [0, 0, 0, 0],\n",
       "       [0, 0, 0, 0],\n",
       "       [1, 0, 0, 0],\n",
       "       [0, 0, 0, 0],\n",
       "       [0, 0, 0, 1],\n",
       "       [0, 0, 0, 0],\n",
       "       [0, 0, 0, 1],\n",
       "       [0, 0, 0, 0],\n",
       "       [0, 0, 0, 1],\n",
       "       [0, 0, 0, 0],\n",
       "       [1, 0, 0, 1],\n",
       "       [1, 0, 0, 0],\n",
       "       [0, 0, 0, 1],\n",
       "       [0, 0, 0, 0],\n",
       "       [0, 0, 0, 1],\n",
       "       [0, 0, 0, 1],\n",
       "       [0, 0, 0, 0],\n",
       "       [0, 0, 0, 0],\n",
       "       [0, 0, 0, 0],\n",
       "       [0, 0, 0, 0],\n",
       "       [0, 0, 0, 0],\n",
       "       [0, 0, 0, 0],\n",
       "       [0, 0, 0, 1],\n",
       "       [0, 0, 0, 0],\n",
       "       [0, 0, 0, 1],\n",
       "       [0, 0, 0, 0],\n",
       "       [0, 0, 0, 0],\n",
       "       [0, 0, 0, 0],\n",
       "       [0, 0, 0, 0],\n",
       "       [0, 0, 0, 0],\n",
       "       [0, 0, 0, 0],\n",
       "       [0, 0, 0, 1],\n",
       "       [0, 0, 0, 1],\n",
       "       [0, 0, 0, 0],\n",
       "       [0, 0, 0, 0],\n",
       "       [0, 0, 0, 1],\n",
       "       [0, 0, 0, 0],\n",
       "       [0, 0, 0, 1],\n",
       "       [0, 0, 0, 0],\n",
       "       [0, 0, 0, 0],\n",
       "       [0, 0, 0, 0],\n",
       "       [0, 0, 0, 0],\n",
       "       [0, 0, 0, 0],\n",
       "       [0, 0, 0, 0],\n",
       "       [0, 0, 0, 0],\n",
       "       [0, 0, 0, 1],\n",
       "       [0, 0, 0, 1],\n",
       "       [0, 0, 0, 0],\n",
       "       [0, 0, 0, 0],\n",
       "       [2, 0, 0, 1],\n",
       "       [0, 0, 0, 1],\n",
       "       [0, 0, 0, 0],\n",
       "       [0, 0, 0, 0],\n",
       "       [0, 0, 0, 1],\n",
       "       [0, 0, 0, 0],\n",
       "       [1, 0, 0, 0],\n",
       "       [0, 0, 0, 0],\n",
       "       [0, 0, 0, 0],\n",
       "       [0, 0, 0, 0],\n",
       "       [0, 0, 0, 0],\n",
       "       [0, 0, 0, 0],\n",
       "       [0, 0, 0, 0],\n",
       "       [0, 0, 0, 0],\n",
       "       [0, 0, 0, 0],\n",
       "       [0, 0, 0, 0],\n",
       "       [0, 0, 0, 0],\n",
       "       [0, 0, 0, 0],\n",
       "       [0, 0, 0, 0],\n",
       "       [2, 0, 0, 0],\n",
       "       [0, 0, 0, 0],\n",
       "       [0, 0, 0, 0],\n",
       "       [0, 0, 0, 2],\n",
       "       [0, 0, 0, 0],\n",
       "       [0, 0, 0, 0],\n",
       "       [0, 0, 0, 0],\n",
       "       [0, 0, 0, 0],\n",
       "       [0, 0, 0, 0],\n",
       "       [0, 0, 0, 0],\n",
       "       [0, 0, 0, 1],\n",
       "       [0, 0, 0, 1],\n",
       "       [0, 0, 0, 1],\n",
       "       [0, 0, 0, 0],\n",
       "       [0, 0, 0, 0],\n",
       "       [0, 0, 0, 0],\n",
       "       [0, 0, 0, 0],\n",
       "       [0, 1, 0, 0],\n",
       "       [0, 0, 0, 0],\n",
       "       [0, 0, 0, 1],\n",
       "       [0, 0, 0, 0],\n",
       "       [0, 0, 0, 0],\n",
       "       [0, 0, 0, 0],\n",
       "       [0, 0, 0, 0],\n",
       "       [0, 0, 0, 0],\n",
       "       [0, 0, 0, 0],\n",
       "       [0, 0, 0, 0],\n",
       "       [0, 0, 0, 0],\n",
       "       [0, 0, 0, 0],\n",
       "       [0, 0, 0, 1],\n",
       "       [0, 0, 0, 1],\n",
       "       [0, 0, 0, 0],\n",
       "       [0, 0, 0, 0],\n",
       "       [0, 0, 0, 0],\n",
       "       [0, 0, 0, 0],\n",
       "       [0, 0, 0, 0],\n",
       "       [0, 1, 0, 0],\n",
       "       [0, 0, 0, 1],\n",
       "       [0, 0, 0, 0],\n",
       "       [0, 0, 0, 1],\n",
       "       [0, 0, 0, 1],\n",
       "       [0, 0, 0, 1],\n",
       "       [0, 0, 0, 0],\n",
       "       [0, 0, 0, 0],\n",
       "       [0, 0, 0, 0],\n",
       "       [0, 0, 0, 0],\n",
       "       [0, 0, 0, 0],\n",
       "       [0, 0, 0, 1],\n",
       "       [0, 0, 0, 1],\n",
       "       [0, 0, 0, 0],\n",
       "       [0, 0, 0, 1],\n",
       "       [0, 0, 0, 1],\n",
       "       [0, 0, 0, 0]])"
      ]
     },
     "execution_count": 41,
     "metadata": {},
     "output_type": "execute_result"
    }
   ],
   "source": [
    "fps_training_with_refer.fps_unhashed_counts[:,6:10]"
   ]
  },
  {
   "cell_type": "markdown",
   "metadata": {},
   "source": [
    "check whether unhashed counts are same value or not between fps without refer and fps with refer"
   ]
  },
  {
   "cell_type": "code",
   "execution_count": 47,
   "metadata": {},
   "outputs": [
    {
     "name": "stdout",
     "output_type": "stream",
     "text": [
      "True\n"
     ]
    }
   ],
   "source": [
    "print (fps_training.fps_unhashed_counts == fps_training_with_refer.fps_unhashed_counts).all()"
   ]
  },
  {
   "cell_type": "markdown",
   "metadata": {},
   "source": [
    "#### A.2.3 UNHASHED with significant reference dict"
   ]
  },
  {
   "cell_type": "code",
   "execution_count": 23,
   "metadata": {},
   "outputs": [
    {
     "data": {
      "text/plain": [
       "(250L, 30L)"
      ]
     },
     "execution_count": 23,
     "metadata": {},
     "output_type": "execute_result"
    }
   ],
   "source": [
    "fps_training_with_sig_refer.calculate_unhashed_fps(draw_substructures=True)\n",
    "fps_training_with_sig_refer.fps_unhashed_counts.shape"
   ]
  },
  {
   "cell_type": "code",
   "execution_count": 31,
   "metadata": {},
   "outputs": [
    {
     "data": {
      "text/plain": [
       "array([[0, 0, 0, ..., 0, 0, 0],\n",
       "       [0, 0, 0, ..., 0, 0, 0],\n",
       "       [0, 0, 0, ..., 0, 0, 0],\n",
       "       ...,\n",
       "       [0, 0, 0, ..., 0, 0, 0],\n",
       "       [0, 0, 0, ..., 0, 0, 0],\n",
       "       [0, 0, 0, ..., 0, 0, 0]])"
      ]
     },
     "execution_count": 31,
     "metadata": {},
     "output_type": "execute_result"
    }
   ],
   "source": [
    "fps_training_with_sig_refer.fps_unhashed_binary"
   ]
  },
  {
   "cell_type": "code",
   "execution_count": 37,
   "metadata": {},
   "outputs": [
    {
     "data": {
      "text/plain": [
       "array([[0, 0, 0, 0],\n",
       "       [0, 0, 0, 0],\n",
       "       [0, 0, 0, 0],\n",
       "       [0, 0, 0, 0],\n",
       "       [0, 0, 1, 0],\n",
       "       [0, 0, 1, 0],\n",
       "       [0, 0, 0, 0],\n",
       "       [0, 0, 0, 0],\n",
       "       [0, 0, 0, 0],\n",
       "       [0, 0, 0, 0],\n",
       "       [0, 0, 1, 0],\n",
       "       [0, 0, 0, 0],\n",
       "       [0, 0, 1, 0],\n",
       "       [0, 0, 1, 0],\n",
       "       [0, 0, 1, 0],\n",
       "       [0, 0, 1, 0],\n",
       "       [0, 0, 0, 0],\n",
       "       [0, 0, 1, 0],\n",
       "       [0, 0, 1, 0],\n",
       "       [0, 0, 0, 0],\n",
       "       [0, 0, 1, 0],\n",
       "       [0, 0, 0, 0],\n",
       "       [0, 0, 0, 0],\n",
       "       [0, 0, 1, 0],\n",
       "       [0, 0, 0, 0],\n",
       "       [0, 0, 1, 0],\n",
       "       [0, 0, 1, 0],\n",
       "       [0, 0, 0, 0],\n",
       "       [0, 0, 0, 0],\n",
       "       [0, 0, 1, 0],\n",
       "       [0, 0, 0, 0],\n",
       "       [0, 0, 1, 0],\n",
       "       [0, 0, 1, 0],\n",
       "       [0, 0, 0, 0],\n",
       "       [0, 0, 0, 0],\n",
       "       [0, 0, 0, 0],\n",
       "       [0, 0, 0, 0],\n",
       "       [0, 0, 0, 0],\n",
       "       [0, 0, 0, 0],\n",
       "       [0, 0, 0, 0],\n",
       "       [0, 0, 1, 0],\n",
       "       [0, 0, 1, 0],\n",
       "       [0, 0, 1, 0],\n",
       "       [0, 0, 0, 0],\n",
       "       [0, 0, 1, 0],\n",
       "       [0, 0, 0, 0],\n",
       "       [0, 0, 1, 0],\n",
       "       [0, 0, 0, 0],\n",
       "       [0, 0, 0, 0],\n",
       "       [0, 0, 0, 0],\n",
       "       [0, 0, 1, 0],\n",
       "       [0, 0, 0, 0],\n",
       "       [0, 0, 0, 0],\n",
       "       [0, 0, 0, 0],\n",
       "       [0, 0, 0, 0],\n",
       "       [0, 0, 0, 0],\n",
       "       [0, 0, 0, 0],\n",
       "       [0, 0, 0, 0],\n",
       "       [0, 0, 0, 0],\n",
       "       [0, 0, 0, 0],\n",
       "       [0, 0, 1, 0],\n",
       "       [0, 0, 1, 0],\n",
       "       [0, 0, 0, 0],\n",
       "       [0, 0, 1, 0],\n",
       "       [0, 0, 0, 0],\n",
       "       [0, 0, 1, 0],\n",
       "       [0, 0, 0, 0],\n",
       "       [0, 0, 0, 0],\n",
       "       [0, 0, 0, 0],\n",
       "       [0, 0, 0, 0],\n",
       "       [0, 0, 0, 0],\n",
       "       [0, 0, 0, 0],\n",
       "       [0, 0, 0, 0],\n",
       "       [0, 0, 1, 0],\n",
       "       [0, 0, 0, 0],\n",
       "       [0, 0, 0, 0],\n",
       "       [0, 0, 1, 0],\n",
       "       [0, 0, 2, 0],\n",
       "       [0, 0, 0, 0],\n",
       "       [0, 0, 1, 0],\n",
       "       [0, 0, 0, 0],\n",
       "       [0, 0, 1, 0],\n",
       "       [0, 0, 0, 0],\n",
       "       [0, 0, 1, 0],\n",
       "       [0, 0, 1, 0],\n",
       "       [0, 0, 1, 0],\n",
       "       [0, 0, 1, 0],\n",
       "       [0, 0, 0, 0],\n",
       "       [0, 0, 1, 0],\n",
       "       [0, 0, 0, 0],\n",
       "       [0, 0, 1, 0],\n",
       "       [0, 0, 1, 0],\n",
       "       [0, 0, 0, 0],\n",
       "       [0, 0, 0, 0],\n",
       "       [0, 0, 1, 0],\n",
       "       [0, 0, 0, 0],\n",
       "       [0, 0, 0, 0],\n",
       "       [0, 0, 0, 0],\n",
       "       [0, 0, 0, 0],\n",
       "       [0, 0, 0, 0],\n",
       "       [0, 0, 0, 0],\n",
       "       [0, 0, 0, 0],\n",
       "       [0, 0, 0, 0],\n",
       "       [0, 0, 0, 0],\n",
       "       [0, 0, 1, 0],\n",
       "       [0, 0, 0, 0],\n",
       "       [0, 0, 1, 0],\n",
       "       [0, 0, 0, 0],\n",
       "       [0, 0, 0, 0],\n",
       "       [0, 0, 0, 0],\n",
       "       [0, 0, 0, 0],\n",
       "       [0, 0, 0, 0],\n",
       "       [0, 0, 0, 0],\n",
       "       [0, 0, 0, 0],\n",
       "       [0, 0, 0, 0],\n",
       "       [0, 0, 0, 0],\n",
       "       [0, 0, 0, 0],\n",
       "       [0, 0, 0, 0],\n",
       "       [0, 0, 0, 0],\n",
       "       [0, 0, 1, 0],\n",
       "       [0, 0, 1, 0],\n",
       "       [0, 0, 1, 0],\n",
       "       [0, 0, 0, 0],\n",
       "       [0, 0, 0, 0],\n",
       "       [0, 0, 0, 0],\n",
       "       [0, 0, 1, 0],\n",
       "       [0, 0, 0, 0],\n",
       "       [0, 0, 0, 0],\n",
       "       [0, 0, 0, 0],\n",
       "       [0, 0, 0, 0],\n",
       "       [0, 0, 0, 0],\n",
       "       [0, 0, 0, 0],\n",
       "       [0, 0, 0, 0],\n",
       "       [0, 0, 0, 0],\n",
       "       [0, 0, 1, 0],\n",
       "       [0, 0, 0, 0],\n",
       "       [0, 0, 0, 0],\n",
       "       [0, 0, 0, 0],\n",
       "       [0, 0, 0, 0],\n",
       "       [0, 0, 0, 0],\n",
       "       [0, 0, 0, 0],\n",
       "       [0, 0, 0, 0],\n",
       "       [0, 0, 1, 0],\n",
       "       [0, 0, 0, 0],\n",
       "       [0, 0, 0, 0],\n",
       "       [0, 0, 1, 0],\n",
       "       [0, 0, 0, 0],\n",
       "       [0, 0, 1, 0],\n",
       "       [0, 0, 0, 0],\n",
       "       [0, 0, 0, 0],\n",
       "       [0, 0, 0, 0],\n",
       "       [0, 0, 0, 0],\n",
       "       [0, 0, 1, 0],\n",
       "       [0, 0, 0, 0],\n",
       "       [0, 0, 1, 0],\n",
       "       [0, 0, 1, 0],\n",
       "       [0, 0, 1, 0],\n",
       "       [0, 0, 0, 0],\n",
       "       [0, 0, 1, 0],\n",
       "       [0, 0, 0, 0],\n",
       "       [0, 0, 0, 0],\n",
       "       [0, 0, 0, 0],\n",
       "       [0, 0, 1, 0],\n",
       "       [0, 0, 1, 0],\n",
       "       [0, 0, 0, 0],\n",
       "       [0, 0, 1, 0],\n",
       "       [0, 0, 0, 0],\n",
       "       [0, 0, 1, 0],\n",
       "       [0, 0, 0, 0],\n",
       "       [0, 0, 1, 0],\n",
       "       [0, 0, 0, 0],\n",
       "       [0, 0, 0, 0],\n",
       "       [0, 0, 1, 0],\n",
       "       [0, 0, 1, 0],\n",
       "       [0, 0, 0, 0],\n",
       "       [0, 0, 0, 0],\n",
       "       [0, 0, 1, 0],\n",
       "       [0, 0, 0, 0],\n",
       "       [0, 0, 0, 0],\n",
       "       [0, 0, 0, 0],\n",
       "       [0, 0, 1, 0],\n",
       "       [0, 0, 1, 0],\n",
       "       [0, 0, 0, 0],\n",
       "       [0, 0, 0, 0],\n",
       "       [0, 0, 0, 0],\n",
       "       [0, 0, 0, 0],\n",
       "       [0, 0, 0, 0],\n",
       "       [0, 0, 1, 0],\n",
       "       [0, 0, 0, 0],\n",
       "       [0, 0, 0, 0],\n",
       "       [0, 0, 2, 0],\n",
       "       [0, 0, 1, 0],\n",
       "       [0, 0, 0, 0],\n",
       "       [0, 0, 0, 0],\n",
       "       [0, 0, 0, 0],\n",
       "       [0, 0, 0, 0],\n",
       "       [0, 0, 0, 0],\n",
       "       [0, 0, 1, 0],\n",
       "       [0, 0, 1, 0],\n",
       "       [0, 0, 0, 0],\n",
       "       [0, 0, 0, 0],\n",
       "       [0, 0, 0, 0],\n",
       "       [0, 0, 1, 0],\n",
       "       [0, 0, 0, 0],\n",
       "       [0, 0, 0, 0],\n",
       "       [0, 0, 1, 0],\n",
       "       [0, 0, 0, 0],\n",
       "       [0, 0, 0, 0],\n",
       "       [0, 0, 0, 0],\n",
       "       [0, 0, 0, 0],\n",
       "       [0, 0, 1, 0],\n",
       "       [0, 0, 1, 0],\n",
       "       [0, 0, 0, 0],\n",
       "       [0, 0, 1, 0],\n",
       "       [0, 0, 0, 0],\n",
       "       [0, 0, 1, 0],\n",
       "       [0, 0, 0, 0],\n",
       "       [0, 0, 0, 0],\n",
       "       [0, 0, 1, 0],\n",
       "       [0, 0, 1, 0],\n",
       "       [0, 0, 1, 0],\n",
       "       [0, 0, 1, 0],\n",
       "       [0, 0, 0, 0],\n",
       "       [0, 0, 0, 0],\n",
       "       [0, 0, 0, 0],\n",
       "       [0, 0, 1, 0],\n",
       "       [0, 0, 0, 0],\n",
       "       [0, 0, 0, 0],\n",
       "       [0, 0, 0, 0],\n",
       "       [0, 0, 0, 0],\n",
       "       [0, 0, 0, 0],\n",
       "       [0, 0, 0, 0],\n",
       "       [0, 0, 0, 0],\n",
       "       [0, 0, 1, 0],\n",
       "       [0, 0, 0, 0],\n",
       "       [0, 0, 1, 0],\n",
       "       [0, 0, 0, 0],\n",
       "       [0, 0, 0, 0],\n",
       "       [0, 0, 0, 0],\n",
       "       [0, 0, 0, 0],\n",
       "       [0, 0, 1, 0],\n",
       "       [0, 0, 1, 0],\n",
       "       [0, 0, 1, 0],\n",
       "       [0, 0, 0, 0],\n",
       "       [0, 0, 0, 0],\n",
       "       [0, 0, 0, 0],\n",
       "       [0, 0, 1, 0],\n",
       "       [0, 0, 0, 0],\n",
       "       [0, 0, 0, 0],\n",
       "       [0, 0, 0, 0]])"
      ]
     },
     "execution_count": 37,
     "metadata": {},
     "output_type": "execute_result"
    }
   ],
   "source": [
    "fps_training_with_sig_refer.fps_unhashed_counts[:,11:15]"
   ]
  },
  {
   "cell_type": "markdown",
   "metadata": {},
   "source": [
    "### A.3 Computating Morgan fingerprints for the TEST set "
   ]
  },
  {
   "cell_type": "markdown",
   "metadata": {},
   "source": [
    "#### A.3.1 Computating UNHASHED Morgan fingerprints for the test set using a different set of molecules:"
   ]
  },
  {
   "cell_type": "markdown",
   "metadata": {},
   "source": [
    "Since the positions of the substructures in the unhashed fingerprints depend on the training set, the method calculate_unhashed_fps() allows the computation of unhashed fingerprints for new compounds using a basis defined by the substructures present in the training set. This basis is defined by the keys of the substructure dictionary calculated for the molecules from the training set. This reference substructure dictionary is input to the class CalculateFPs() using the argument reference_substucture_keys.\n",
    "\n",
    "*This ensures that substructures in new compounds map to the same locations on the fingerprint and allows enhanced model interpretation by noting which exact substructures are deemed important by the learning algorithm.*"
   ]
  },
  {
   "cell_type": "code",
   "execution_count": 136,
   "metadata": {},
   "outputs": [],
   "source": [
    "#  Reference molecules\n",
    "#reference_molecules = bioalerts.LoadMolecules.GetDataSetInfo(name_field=None)"
   ]
  },
  {
   "cell_type": "code",
   "execution_count": 137,
   "metadata": {},
   "outputs": [
    {
     "data": {
      "text/plain": [
       "array([ 218993025, 3334525955,  757425542, ..., 1842898132, 1861965050,\n",
       "       1101907775], dtype=int64)"
      ]
     },
     "execution_count": 137,
     "metadata": {},
     "output_type": "execute_result"
    },
    {
     "data": {
      "text/plain": [
       "array([ 218993025, 3334525955,  757425542, ..., 1842898132, 1861965050,\n",
       "       1101907775], dtype=int64)"
      ]
     },
     "execution_count": 137,
     "metadata": {},
     "output_type": "execute_result"
    }
   ],
   "source": [
    "#fps_training.substructure_ids"
   ]
  },
  {
   "cell_type": "code",
   "execution_count": 138,
   "metadata": {},
   "outputs": [],
   "source": [
    "#reference_molecules.extract_substructure_information(radii=[0,1,2],mols=training)"
   ]
  },
  {
   "cell_type": "code",
   "execution_count": 139,
   "metadata": {},
   "outputs": [
    {
     "name": "stdout",
     "output_type": "stream",
     "text": [
      "1205\n",
      "1205\n"
     ]
    }
   ],
   "source": [
    "#reference_keys = reference_molecules.substructure_dictionary.keys()\n",
    "#print len(reference_keys)\n"
   ]
  },
  {
   "cell_type": "code",
   "execution_count": 48,
   "metadata": {},
   "outputs": [],
   "source": [
    "#initialization \n",
    "fps_test = bioalerts.FPCalculator.CalculateFPs(radii=[0,1,2],\n",
    "                                         mols=test,\n",
    "                                         reference_substructure_keys=reference_keys)\n",
    "\n",
    "fps_test_with_sig_refer = bioalerts.FPCalculator.CalculateFPs(radii=[2,3,4,5],\n",
    "                                                             mols=test,\n",
    "                                                             reference_substructure_keys=significant_reference_keys)"
   ]
  },
  {
   "cell_type": "code",
   "execution_count": 49,
   "metadata": {},
   "outputs": [],
   "source": [
    "fps_test.calculate_unhashed_fps()\n",
    "fps_test_with_sig_refer.calculate_unhashed_fps()"
   ]
  },
  {
   "cell_type": "code",
   "execution_count": 50,
   "metadata": {},
   "outputs": [
    {
     "name": "stdout",
     "output_type": "stream",
     "text": [
      "(28, 1205)\n",
      "(28, 31)\n"
     ]
    }
   ],
   "source": [
    "print fps_test.fps_unhashed_binary.shape\n",
    "print fps_test_with_sig_refer.fps_unhashed_binary.shape"
   ]
  },
  {
   "cell_type": "code",
   "execution_count": 51,
   "metadata": {
    "scrolled": true
   },
   "outputs": [
    {
     "data": {
      "text/plain": [
       "1205"
      ]
     },
     "execution_count": 51,
     "metadata": {},
     "output_type": "execute_result"
    }
   ],
   "source": [
    "len(fps_training.columns_unhashed)"
   ]
  },
  {
   "cell_type": "code",
   "execution_count": 52,
   "metadata": {},
   "outputs": [
    {
     "data": {
      "text/plain": [
       "(250, 128)"
      ]
     },
     "execution_count": 52,
     "metadata": {},
     "output_type": "execute_result"
    }
   ],
   "source": [
    "fps_training.fps_hashed_counts.shape"
   ]
  },
  {
   "cell_type": "markdown",
   "metadata": {},
   "source": [
    "#### A.3.2 Computating HASHED Morgan fingerprints for the test set (e.g. using a different set of molecules)"
   ]
  },
  {
   "cell_type": "code",
   "execution_count": 53,
   "metadata": {},
   "outputs": [],
   "source": [
    "fps_test.calculate_hashed_fps(nBits=128)"
   ]
  },
  {
   "cell_type": "markdown",
   "metadata": {},
   "source": [
    "### A.4 toxic feature insertion "
   ]
  },
  {
   "cell_type": "code",
   "execution_count": null,
   "metadata": {},
   "outputs": [],
   "source": [
    "train_reference = bioalerts.LoadMolecules.GetDataSetInfo(name_field=None)\n",
    "train_reference.extract_substructure_information(radii=[0,1,2],mols=training)\n",
    "train_substr_dic = train_reference.substructure_dictionary"
   ]
  },
  {
   "cell_type": "code",
   "execution_count": null,
   "metadata": {},
   "outputs": [],
   "source": [
    "test_reference = bioalerts.LoadMolecules.GetDataSetInfo(name_field=None)\n",
    "test_reference.extract_substructure_information(radii=[0,1,2],mols=test)\n",
    "test_substr_dic = test_reference.substructure_dictionary"
   ]
  },
  {
   "cell_type": "code",
   "execution_count": null,
   "metadata": {},
   "outputs": [],
   "source": [
    "hashed_training_counts_features = fps_training.fps_hashed_counts"
   ]
  },
  {
   "cell_type": "code",
   "execution_count": null,
   "metadata": {},
   "outputs": [],
   "source": [
    "hashed_training_binary_features = fps_training.fps_hashed_binary"
   ]
  },
  {
   "cell_type": "code",
   "execution_count": null,
   "metadata": {},
   "outputs": [],
   "source": []
  },
  {
   "cell_type": "code",
   "execution_count": null,
   "metadata": {},
   "outputs": [],
   "source": []
  },
  {
   "cell_type": "code",
   "execution_count": null,
   "metadata": {},
   "outputs": [],
   "source": []
  },
  {
   "cell_type": "code",
   "execution_count": null,
   "metadata": {},
   "outputs": [],
   "source": [
    "hashed_test_counts_features = fps_test.fps_hashed_counts"
   ]
  },
  {
   "cell_type": "code",
   "execution_count": null,
   "metadata": {},
   "outputs": [],
   "source": [
    "hashed_test_binary_features = fps_test.fps_hashed_binary "
   ]
  },
  {
   "cell_type": "code",
   "execution_count": null,
   "metadata": {},
   "outputs": [],
   "source": []
  },
  {
   "cell_type": "code",
   "execution_count": null,
   "metadata": {},
   "outputs": [],
   "source": []
  },
  {
   "cell_type": "code",
   "execution_count": null,
   "metadata": {},
   "outputs": [],
   "source": []
  },
  {
   "cell_type": "code",
   "execution_count": null,
   "metadata": {},
   "outputs": [],
   "source": []
  },
  {
   "cell_type": "code",
   "execution_count": null,
   "metadata": {},
   "outputs": [],
   "source": []
  },
  {
   "cell_type": "code",
   "execution_count": null,
   "metadata": {},
   "outputs": [],
   "source": []
  },
  {
   "cell_type": "markdown",
   "metadata": {},
   "source": [
    "### A.4 Training models "
   ]
  },
  {
   "cell_type": "markdown",
   "metadata": {},
   "source": [
    "#### A.4.1 Using hashed fps"
   ]
  },
  {
   "cell_type": "code",
   "execution_count": 65,
   "metadata": {},
   "outputs": [
    {
     "data": {
      "text/plain": [
       "RandomForestRegressor(bootstrap=True, criterion='mse', max_depth=None,\n",
       "           max_features='auto', max_leaf_nodes=None,\n",
       "           min_impurity_decrease=0.0, min_impurity_split=None,\n",
       "           min_samples_leaf=1, min_samples_split=2,\n",
       "           min_weight_fraction_leaf=0.0, n_estimators=100, n_jobs=2,\n",
       "           oob_score=False, random_state=23, verbose=0, warm_start=False)"
      ]
     },
     "execution_count": 65,
     "metadata": {},
     "output_type": "execute_result"
    }
   ],
   "source": [
    "#RF\n",
    "seed = 23\n",
    "RF_hashed_counts = RandomForestRegressor(n_estimators=100,random_state=seed,n_jobs=2)\n",
    "RF_hashed_counts.fit(fps_training.fps_hashed_counts,bio_training)\n",
    "\n",
    "# RF binary \n",
    "seed = 23 \n",
    "RF_hashed_binary = RandomForestRegressor(n_estimators=100,random_state=seed,n_jobs=2)\n",
    "RF_hashed_binary.fit(fps_training.fps_hashed_binary,bio_training)"
   ]
  },
  {
   "cell_type": "code",
   "execution_count": 66,
   "metadata": {},
   "outputs": [
    {
     "data": {
      "text/plain": [
       "KNeighborsRegressor(algorithm='auto', leaf_size=30, metric='jaccard',\n",
       "          metric_params=None, n_jobs=None, n_neighbors=5, p=2,\n",
       "          weights='distance')"
      ]
     },
     "execution_count": 66,
     "metadata": {},
     "output_type": "execute_result"
    }
   ],
   "source": [
    "# KNN\n",
    "KNN_hashed_counts = KNeighborsRegressor(n_neighbors=5, weights='distance', algorithm='auto',metric='jaccard')\n",
    "KNN_hashed_counts.fit(fps_training.fps_hashed_counts,bio_training)\n",
    "\n",
    "#KNN binary\n",
    "KNN_hashed_binary = KNeighborsRegressor(n_neighbors=5, weights='distance', algorithm='auto',metric='jaccard')\n",
    "KNN_hashed_binary.fit(fps_training.fps_hashed_binary,bio_training)"
   ]
  },
  {
   "cell_type": "code",
   "execution_count": 67,
   "metadata": {},
   "outputs": [
    {
     "data": {
      "text/plain": [
       "MLPRegressor(activation='relu', alpha=0.0001, batch_size='auto', beta_1=0.9,\n",
       "       beta_2=0.999, early_stopping=False, epsilon=1e-08,\n",
       "       hidden_layer_sizes=(50, 25, 10), learning_rate='adaptive',\n",
       "       learning_rate_init=0.001, max_iter=200, momentum=0.9,\n",
       "       n_iter_no_change=10, nesterovs_momentum=True, power_t=0.5,\n",
       "       random_state=23, shuffle=True, solver='adam', tol=0.0001,\n",
       "       validation_fraction=0.1, verbose=False, warm_start=False)"
      ]
     },
     "execution_count": 67,
     "metadata": {},
     "output_type": "execute_result"
    }
   ],
   "source": [
    "# MLP \n",
    "seed = 23\n",
    "MLP_hashed_counts = MLPRegressor(hidden_layer_sizes=(50,25,10),activation='relu', solver='adam',learning_rate='adaptive', random_state = seed)\n",
    "MLP_hashed_counts.fit(fps_training.fps_hashed_counts,bio_training)"
   ]
  },
  {
   "cell_type": "markdown",
   "metadata": {},
   "source": [
    "#### A.4.2 Using unhashed fps"
   ]
  },
  {
   "cell_type": "code",
   "execution_count": 68,
   "metadata": {},
   "outputs": [
    {
     "data": {
      "text/plain": [
       "RandomForestRegressor(bootstrap=True, criterion='mse', max_depth=None,\n",
       "           max_features='auto', max_leaf_nodes=None,\n",
       "           min_impurity_decrease=0.0, min_impurity_split=None,\n",
       "           min_samples_leaf=1, min_samples_split=2,\n",
       "           min_weight_fraction_leaf=0.0, n_estimators=100, n_jobs=2,\n",
       "           oob_score=False, random_state=23, verbose=0, warm_start=False)"
      ]
     },
     "execution_count": 68,
     "metadata": {},
     "output_type": "execute_result"
    }
   ],
   "source": [
    "#RF\n",
    "seed = 23\n",
    "RF_UNhashed_counts = RandomForestRegressor(n_estimators=100,random_state=seed,n_jobs=2)\n",
    "RF_UNhashed_counts.fit(fps_training.fps_unhashed_counts,bio_training)\n",
    "\n",
    "RF_UNhashed_counts_with_sig_refer = RandomForestRegressor(n_estimators=100,random_state=seed,n_jobs=2)\n",
    "RF_UNhashed_counts_with_sig_refer.fit(fps_training_with_sig_refer.fps_unhashed_counts,bio_training)\n",
    "\n",
    "# RF binary \n",
    "seed = 23 \n",
    "RF_UNhashed_binary = RandomForestRegressor(n_estimators=100,random_state=seed,n_jobs=2)\n",
    "RF_UNhashed_binary.fit(fps_training.fps_unhashed_binary,bio_training)\n",
    "\n",
    "RF_UNhashed_binary_with_sig_refer = RandomForestRegressor(n_estimators=100,random_state=seed,n_jobs=2)\n",
    "RF_UNhashed_binary_with_sig_refer.fit(fps_training_with_sig_refer.fps_unhashed_binary,bio_training)"
   ]
  },
  {
   "cell_type": "code",
   "execution_count": 69,
   "metadata": {},
   "outputs": [
    {
     "data": {
      "text/plain": [
       "KNeighborsRegressor(algorithm='auto', leaf_size=30, metric='jaccard',\n",
       "          metric_params=None, n_jobs=None, n_neighbors=5, p=2,\n",
       "          weights='distance')"
      ]
     },
     "execution_count": 69,
     "metadata": {},
     "output_type": "execute_result"
    }
   ],
   "source": [
    "# KNN\n",
    "KNN_UNhashed_counts = KNeighborsRegressor(n_neighbors=5, weights='distance', algorithm='auto',metric='jaccard')\n",
    "KNN_UNhashed_counts.fit(fps_training.fps_unhashed_counts,bio_training)\n",
    "\n",
    "KNN_UNhashed_counts_with_sig_refer = KNeighborsRegressor(n_neighbors=5, weights='distance', algorithm='auto',metric='jaccard')\n",
    "KNN_UNhashed_counts_with_sig_refer.fit(fps_training_with_sig_refer.fps_unhashed_counts,bio_training)\n",
    "\n",
    "#KNN binary \n",
    "KNN_UNhashed_binary = KNeighborsRegressor(n_neighbors=5, weights='distance', algorithm='auto',metric='jaccard')\n",
    "KNN_UNhashed_binary.fit(fps_training.fps_unhashed_binary,bio_training)\n",
    "\n",
    "KNN_UNhashed_binary_with_sig_refer = KNeighborsRegressor(n_neighbors=5, weights='distance', algorithm='auto',metric='jaccard')\n",
    "KNN_UNhashed_binary_with_sig_refer.fit(fps_training_with_sig_refer.fps_unhashed_binary,bio_training)"
   ]
  },
  {
   "cell_type": "code",
   "execution_count": 70,
   "metadata": {},
   "outputs": [
    {
     "data": {
      "text/plain": [
       "MLPRegressor(activation='relu', alpha=0.0001, batch_size='auto', beta_1=0.9,\n",
       "       beta_2=0.999, early_stopping=False, epsilon=1e-08,\n",
       "       hidden_layer_sizes=(50, 25, 10), learning_rate='adaptive',\n",
       "       learning_rate_init=0.001, max_iter=200, momentum=0.9,\n",
       "       n_iter_no_change=10, nesterovs_momentum=True, power_t=0.5,\n",
       "       random_state=23, shuffle=True, solver='adam', tol=0.0001,\n",
       "       validation_fraction=0.1, verbose=False, warm_start=False)"
      ]
     },
     "execution_count": 70,
     "metadata": {},
     "output_type": "execute_result"
    }
   ],
   "source": [
    "#MLP\n",
    "seed = 23 \n",
    "MLP_UNhashed_counts = MLPRegressor(hidden_layer_sizes=(50,25,10),activation='relu', solver='adam',learning_rate='adaptive', random_state = seed)\n",
    "MLP_UNhashed_counts.fit(fps_training.fps_unhashed_counts,bio_training)                                "
   ]
  },
  {
   "cell_type": "markdown",
   "metadata": {},
   "source": [
    "## A.5  predict bioactivities for the test set"
   ]
  },
  {
   "cell_type": "markdown",
   "metadata": {},
   "source": [
    "We define two functions for validating our predictions, namely: Pearson's correlation coefficient (R2) and root mean squared errro (RMSE)"
   ]
  },
  {
   "cell_type": "code",
   "execution_count": 71,
   "metadata": {},
   "outputs": [],
   "source": [
    "def Rsquared(pred,true):\n",
    "    slope, intercept, r_value, p_value, std_err = scipy.stats.linregress(true,pred)\n",
    "    return r_value**2\n",
    "\n",
    "def RMSE(pred,true):\n",
    "    rmse = np.sqrt(mean_squared_error(true,pred))\n",
    "    return rmse"
   ]
  },
  {
   "cell_type": "code",
   "execution_count": 72,
   "metadata": {},
   "outputs": [],
   "source": [
    "RF_preds_hashed = RF_hashed_counts.predict(fps_test.fps_hashed_counts)\n",
    "MLP_preds_hashed = MLP_hashed_counts.predict(fps_test.fps_hashed_counts)\n",
    "KNN_preds_hashed = KNN_hashed_counts.predict(fps_test.fps_hashed_counts)\n",
    "\n",
    "RF_preds_hashed_bin = RF_hashed_binary.predict(fps_test.fps_hashed_binary)\n",
    "KNN_preds_hashed_bin = KNN_hashed_binary.predict(fps_test.fps_hashed_binary)"
   ]
  },
  {
   "cell_type": "code",
   "execution_count": 73,
   "metadata": {},
   "outputs": [],
   "source": [
    "RF_preds_UNhashed = RF_UNhashed_counts.predict(fps_test.fps_unhashed_counts)\n",
    "KNN_preds_UNhashed = KNN_UNhashed_counts.predict(fps_test.fps_unhashed_counts)\n",
    "MLP_preds_UNhashed = MLP_UNhashed_counts.predict(fps_test.fps_unhashed_counts)\n",
    "\n",
    "RF_preds_UNhashed_bin = RF_UNhashed_binary.predict(fps_test.fps_unhashed_binary)\n",
    "KNN_preds_UNhashed_bin = KNN_UNhashed_binary.predict(fps_test.fps_unhashed_binary)\n",
    "\n",
    "RF_preds_UNhashed_with_sig_refer = RF_UNhashed_counts_with_sig_refer.predict(fps_test_with_sig_refer.fps_unhashed_counts)\n",
    "KNN_preds_UNhashed_with_sig_refer = KNN_UNhashed_counts_with_sig_refer.predict(fps_test_with_sig_refer.fps_unhashed_counts)\n",
    "\n",
    "RF_preds_UNhashed_with_sig_refer_bin = RF_UNhashed_binary_with_sig_refer.predict(fps_test_with_sig_refer.fps_unhashed_binary)\n",
    "KNN_preds_UNhashed_with_sig_refer_bin = KNN_UNhashed_binary_with_sig_refer.predict(fps_test_with_sig_refer.fps_unhashed_binary)"
   ]
  },
  {
   "cell_type": "markdown",
   "metadata": {},
   "source": [
    "## A.6 Model validation "
   ]
  },
  {
   "cell_type": "code",
   "execution_count": 76,
   "metadata": {},
   "outputs": [
    {
     "name": "stdout",
     "output_type": "stream",
     "text": [
      "========= COUNTS ========= \n",
      "RMSE RF hashed counts fps:  0.6349067825593026\n",
      "RMSE KNN hashed counts fps:  0.5902037552372623\n",
      "RMSE MLP hashed counts fps:  0.6775207323120627\n",
      "\n",
      "RMSE RF UNhashed counts fps:  0.644878359553079\n",
      "RMSE KNN UNhashed counts fps:  0.6843179083251608\n",
      "RMSE MLP UNhashed counts fps:  0.9994362650390597\n",
      "RMSE RF UNhashed counts fps with sig refer 0.8472336394014165\n",
      "RMSE KNN UNhashed counts fps with sig refer 0.8744071498994512\n",
      "\n",
      "========= BINARY ========= \n",
      "RMSE RF hashed binary fps:  0.6864513272611216\n",
      "RMSE KNN hashed binary fps:  0.6005301506526197\n",
      "\n",
      "RMSE RF UNhashed binary fps:  0.6070642459961657\n",
      "RMSE KNN UNhashed binary fps:  0.6736750332676493\n",
      "RMSE RF UNhashed binary fps with sig refer 0.8456577374310799\n",
      "RMSE KNN UNhashed binary fps with sig refer 0.8912418212730204\n"
     ]
    }
   ],
   "source": [
    "print \"========= COUNTS ========= \"\n",
    "print \"RMSE RF hashed counts fps: \", RMSE(RF_preds_hashed, bio_test)\n",
    "print \"RMSE KNN hashed counts fps: \", RMSE(KNN_preds_hashed, bio_test)\n",
    "print \"RMSE MLP hashed counts fps: \", RMSE(MLP_preds_hashed, bio_test)\n",
    "print\n",
    "print \"RMSE RF UNhashed counts fps: \", RMSE(RF_preds_UNhashed, bio_test)\n",
    "print \"RMSE KNN UNhashed counts fps: \", RMSE(KNN_preds_UNhashed, bio_test)\n",
    "print \"RMSE MLP UNhashed counts fps: \", RMSE(MLP_preds_UNhashed, bio_test)\n",
    "print \"RMSE RF UNhashed counts fps with sig refer\", RMSE(RF_preds_UNhashed_with_sig_refer,bio_test)\n",
    "print \"RMSE KNN UNhashed counts fps with sig refer\", RMSE(KNN_preds_UNhashed_with_sig_refer,bio_test)\n",
    "print\n",
    "print \"========= BINARY ========= \"\n",
    "print \"RMSE RF hashed binary fps: \", RMSE(RF_preds_hashed_bin, bio_test)\n",
    "print \"RMSE KNN hashed binary fps: \", RMSE(KNN_preds_hashed_bin, bio_test)\n",
    "print\n",
    "print \"RMSE RF UNhashed binary fps: \", RMSE(RF_preds_UNhashed_bin, bio_test)\n",
    "print \"RMSE KNN UNhashed binary fps: \", RMSE(KNN_preds_UNhashed_bin, bio_test)\n",
    "print \"RMSE RF UNhashed binary fps with sig refer\", RMSE(RF_preds_UNhashed_with_sig_refer_bin,bio_test)\n",
    "print \"RMSE KNN UNhashed binary fps with sig refer\", RMSE(KNN_preds_UNhashed_with_sig_refer_bin,bio_test)"
   ]
  },
  {
   "cell_type": "code",
   "execution_count": 80,
   "metadata": {},
   "outputs": [
    {
     "name": "stdout",
     "output_type": "stream",
     "text": [
      "========= COUNTS ========= \n",
      "R2 RF hashed fps:  0.6544171312924008\n",
      "R2 KNN hashed fps:  0.7831289073740177\n",
      "R2 MLP hashed fps:  0.7049414537947494\n",
      "\n",
      "R2 RF UNhashed fps:  0.6496775327858499\n",
      "R2 KNN UNhashed fps:  0.6814441494073264\n",
      "R2 MLP UNhashed fps:  0.43055998155483677\n",
      "R2 RF Unhashed fps with sig refer 0.34041634598514803\n",
      "R2 KNN Unhashed fps with sig refer 0.3530713140574211\n",
      "\n",
      "========= BINARY ========= \n",
      "R2 RF hashed binary fps:  0.5932456217916399\n",
      "R2 KNN hashed binary fps:  0.7736173616322083\n",
      "\n",
      "R2 RF UNhashed binary fps:  0.6895628319078321\n",
      "R2 KNN UNhashed binary fps:  0.6888883921089402\n",
      "R2 RF Unhashed bonary fps with sig refer 0.34065576463664526\n",
      "R2 KNN Unhashed binary fps with sig refer 0.3411916317153259\n"
     ]
    }
   ],
   "source": [
    "print \"========= COUNTS ========= \"\n",
    "print \"R2 RF hashed fps: \", Rsquared(RF_preds_hashed, bio_test)\n",
    "print \"R2 KNN hashed fps: \", Rsquared(KNN_preds_hashed, bio_test)\n",
    "print \"R2 MLP hashed fps: \", Rsquared(MLP_preds_hashed, bio_test)\n",
    "print\n",
    "print \"R2 RF UNhashed fps: \", Rsquared(RF_preds_UNhashed, bio_test)\n",
    "print \"R2 KNN UNhashed fps: \", Rsquared(KNN_preds_UNhashed, bio_test)\n",
    "print \"R2 MLP UNhashed fps: \", Rsquared(MLP_preds_UNhashed, bio_test)\n",
    "print \"R2 RF Unhashed fps with sig refer\", Rsquared(RF_preds_UNhashed_with_sig_refer, bio_test)\n",
    "print \"R2 KNN Unhashed fps with sig refer\", Rsquared(KNN_preds_UNhashed_with_sig_refer, bio_test)\n",
    "print\n",
    "print \"========= BINARY ========= \"\n",
    "print \"R2 RF hashed binary fps: \", Rsquared(RF_preds_hashed_bin, bio_test)\n",
    "print \"R2 KNN hashed binary fps: \", Rsquared(KNN_preds_hashed_bin, bio_test)\n",
    "print\n",
    "print \"R2 RF UNhashed binary fps: \", Rsquared(RF_preds_UNhashed_bin, bio_test)\n",
    "print \"R2 KNN UNhashed binary fps: \", Rsquared(KNN_preds_UNhashed_bin, bio_test)\n",
    "print \"R2 RF Unhashed bonary fps with sig refer\", Rsquared(RF_preds_UNhashed_with_sig_refer_bin, bio_test)\n",
    "print \"R2 KNN Unhashed binary fps with sig refer\", Rsquared(KNN_preds_UNhashed_with_sig_refer_bin, bio_test)"
   ]
  },
  {
   "cell_type": "markdown",
   "metadata": {},
   "source": [
    "### (optional) A.4.3 10 samplings of 5 fold cross validation "
   ]
  },
  {
   "cell_type": "code",
   "execution_count": null,
   "metadata": {},
   "outputs": [],
   "source": [
    "### (optional) A.4.3 10 samplings of 5 fold cross validation \n",
    "\n",
    "########## ########## ########## ########## ########## ########## ########## ########## ########## ########## ########## ########## ########## ########## ########## ##########  \n",
    "\n",
    "def Rsquared(pred,true):\n",
    "    slope, intercept, r_value, p_value, std_err = scipy.stats.linregress(true,pred)\n",
    "    return r_value**2\n",
    "\n",
    "def RMSE(pred,true):\n",
    "    rmse = np.sqrt(mean_squared_error(true,pred))\n",
    "    return rmse\n",
    "\n",
    "########## ########## ########## ########## ########## ########## ########## ########## ########## ########## ########## ########## ########## ########## ########## ##########  \n",
    "\n",
    "test_size = 0\n",
    "x_train, x_test, y_train, y_test = train_test_split(fps_training.fps_unhashed_counts,bio_training,test_size = test_size, shuffle = True)\n",
    "\n",
    "########## ########## ########## ########## ########## ########## ########## ########## ########## ########## ########## ########## ########## ########## ########## ##########  \n",
    "\n",
    "#fold setting\n",
    "kf = RepeatedKFold(n_splits = 5,n_repeats=10)\n",
    "kf.get_n_splits(x_train)\n",
    "#kf\n",
    "#>>> KFold(n_splits=5, random_state=None, shuffle=False)\n",
    "\n",
    "#for numbering k folds\n",
    "k=0\n",
    "cv_rmse = []\n",
    "cv_rmse_mean = []\n",
    "tmp = []\n",
    "\n",
    "#cross-val training\n",
    "for train_idx, test_idx in kf.split(x_train):\n",
    "    #print(\"iteration num : {}\".format(k))\n",
    "    #print(\"train : \", train_idx, \"\\ntest : \", test_idx)\n",
    "    x_cv_train , x_cv_test = x_train[train_idx], x_train[test_idx]\n",
    "    y_cv_train , y_cv_test = y_train[train_idx], y_train[test_idx]\n",
    "    \n",
    "    RF_UNhashed_counts.fit(x_cv_train,y_cv_train)\n",
    "    \n",
    "    y_cv_testidx = test_idx\n",
    "    y_cv_pred = RF_UNhashed_counts.predict(x_cv_test)\n",
    "    cv_rmse.append(round(RMSE(y_cv_pred,y_cv_test),4))\n",
    "    cv_rmse_mean.append(round(RMSE(y_cv_pred,y_cv_test),4))\n",
    "    k += 1 \n",
    "    \n",
    "    if k % 5 == 0 : \n",
    "        tmp.append(np.mean(cv_rmse_mean))\n",
    "        print(cv_rmse_mean) # per fold rmse value in one cv \n",
    "        print(\"mean : \",np.mean(cv_rmse_mean)) # RMSE mean value per iteration of cv  \n",
    "        del cv_rmse_mean[:]\n",
    "        \n",
    "\n",
    "print(\"total fold mean : \", round(np.mean(cv_rmse),4)) # mean of 50 cv rmse (1회 iter돌 때의 모든 rmse의 평균 (50회의 평균)) \n",
    "print(\"total cv mean : \",round(np.mean(tmp),4)) # mean of cv's mean of 1 iter (각 cv rmse 평균의 평균) # we need var of this value "
   ]
  }
 ],
 "metadata": {
  "kernelspec": {
   "display_name": "Python 2",
   "language": "python",
   "name": "python2"
  },
  "language_info": {
   "codemirror_mode": {
    "name": "ipython",
    "version": 2
   },
   "file_extension": ".py",
   "mimetype": "text/x-python",
   "name": "python",
   "nbconvert_exporter": "python",
   "pygments_lexer": "ipython2",
   "version": "2.7.16"
  }
 },
 "nbformat": 4,
 "nbformat_minor": 2
}
