{
 "cells": [
  {
   "cell_type": "code",
   "execution_count": 22,
   "metadata": {},
   "outputs": [],
   "source": [
    "import bioalerts\n",
    "from bioalerts import LoadMolecules, Alerts, FPCalculator\n",
    "import sys"
   ]
  },
  {
   "cell_type": "code",
   "execution_count": 23,
   "metadata": {},
   "outputs": [],
   "source": [
    "import numpy as np \n",
    "import matplotlib.pyplot as plt\n",
    "\n",
    "from rdkit.Chem.Draw import IPythonConsole \n",
    "from rdkit.Chem import PandasTools \n",
    "\n",
    "import pandas as pd \n",
    "\n",
    "from sklearn.neighbors import KNeighborsRegressor #knn\n",
    "from sklearn.ensemble import RandomForestRegressor #RF\n",
    "from sklearn.svm import SVR #SVR\n",
    "\n",
    "from sklearn.model_selection import train_test_split, cross_val_score \n",
    "from sklearn.metrics import mean_squared_error\n",
    "from sklearn.model_selection import RepeatedKFold"
   ]
  },
  {
   "cell_type": "code",
   "execution_count": 24,
   "metadata": {},
   "outputs": [],
   "source": [
    "smiles_path = \"./tutorial/datasets/lipophilicity.smi\"\n",
    "bio_path = './tutorial/datasets/lipophilicity.bio.txt'\n",
    "\n",
    "wdir =  'C:/jupyter_devel/kist-europe/QSAR/AOP_data/moleculenet_dataset/'\n",
    "csv = 'Lipophilicity_check-maccs-remcols-stdval.csv'\n",
    "result_wdir = 'C:/jupyter_devel/kist-europe/QSAR/AOP_data/moleculenet_dataset/'"
   ]
  },
  {
   "cell_type": "code",
   "execution_count": 25,
   "metadata": {},
   "outputs": [],
   "source": [
    "df = pd.read_csv(wdir+csv)"
   ]
  },
  {
   "cell_type": "code",
   "execution_count": 26,
   "metadata": {},
   "outputs": [],
   "source": [
    "y = df['Standard Value']\n",
    "x = df.drop(['Molecule','Standard Value'],axis=1)"
   ]
  },
  {
   "cell_type": "markdown",
   "metadata": {},
   "source": [
    "## A. Data Visualization"
   ]
  },
  {
   "cell_type": "code",
   "execution_count": 27,
   "metadata": {
    "scrolled": true
   },
   "outputs": [
    {
     "data": {
      "text/plain": [
       "<matplotlib.collections.PathCollection at 0x10786da0>"
      ]
     },
     "execution_count": 27,
     "metadata": {},
     "output_type": "execute_result"
    },
    {
     "data": {
      "image/png": "[encoded data removed]",
      "text/plain": [
       "<Figure size 432x288 with 1 Axes>"
      ]
     },
     "metadata": {
      "needs_background": "light"
     },
     "output_type": "display_data"
    }
   ],
   "source": [
    "x_ = range(len(x))\n",
    "plt.scatter(x_,y)\n",
    "#plt.ylim(0,50000)\n",
    "\n",
    "#### PIC transformation Formula ####\n",
    "# PIC = 9 - np.log10(actual activity)\n",
    "# actual activity = np,power(10,9-PIC)"
   ]
  },
  {
   "cell_type": "markdown",
   "metadata": {},
   "source": [
    "## B. calculate significant substructure feature"
   ]
  },
  {
   "cell_type": "code",
   "execution_count": 28,
   "metadata": {},
   "outputs": [
    {
     "name": "stdout",
     "output_type": "stream",
     "text": [
      "Format of the structures file = SMILES\n",
      "All molecules in the input file were processed correctly\n"
     ]
    }
   ],
   "source": [
    "molecules = bioalerts.LoadMolecules.LoadMolecules(smiles_path,name_field=None)\n",
    "molecules.ReadMolecules()"
   ]
  },
  {
   "cell_type": "code",
   "execution_count": 29,
   "metadata": {},
   "outputs": [
    {
     "name": "stdout",
     "output_type": "stream",
     "text": [
      "4200\n",
      "4200\n"
     ]
    }
   ],
   "source": [
    "cox_bio = np.genfromtxt(bio_path,skip_header=0) \n",
    "cox_bio.shape\n",
    "arr = np.arange(0,len(cox_bio))\n",
    "mask = np.ones(arr.shape,dtype=bool)\n",
    "mask[molecules.molserr]=0\n",
    "cox_bio = cox_bio[mask]\n",
    "print len(cox_bio)\n",
    "print len(molecules.mols)"
   ]
  },
  {
   "cell_type": "code",
   "execution_count": 30,
   "metadata": {},
   "outputs": [],
   "source": [
    "dataset_info = bioalerts.LoadMolecules.GetDataSetInfo(name_field=None)\n",
    "dataset_info.extract_substructure_information(radii=[2,3,4,5,6],mols=molecules.mols)"
   ]
  },
  {
   "cell_type": "code",
   "execution_count": 31,
   "metadata": {},
   "outputs": [],
   "source": [
    "Alerts_continuous_high_activity = bioalerts.Alerts.CalculatePvaluesContinuous(radii_ext=[2,3,4,5,6])"
   ]
  },
  {
   "cell_type": "code",
   "execution_count": 32,
   "metadata": {},
   "outputs": [],
   "source": [
    "def calculate_bioactivity_threshold(bio,threshold):\n",
    "    # a pIC50 is smaller, higher activity \n",
    "    \n",
    "    sorted_bio = sorted(bio)\n",
    "    threshold_bio_value = sorted_bio[int(len(sorted_bio)*threshold)]\n",
    "    \n",
    "    print(\"activity ratio is {}\".format(1-threshold))\n",
    "    print(\"threshold value is {}\".format(threshold_bio_value))\n",
    "    print(\"actual bioactivity value is {}\".format(np.power(10,9 - threshold_bio_value)))\n",
    "    return threshold_bio_value"
   ]
  },
  {
   "cell_type": "code",
   "execution_count": 33,
   "metadata": {},
   "outputs": [
    {
     "name": "stdout",
     "output_type": "stream",
     "text": [
      "activity ratio is 0.7\n",
      "threshold value is 1.64\n",
      "actual bioactivity value is 22908676.5277\n"
     ]
    }
   ],
   "source": [
    "threshold_= 0.3\n",
    "threshold_bio_value = calculate_bioactivity_threshold(cox_bio,threshold_)\n",
    "\n",
    "threshold_nb_substructures = 5\n",
    "threshold_ratio = 0.2\n",
    "threshold_high_act_nb_substructures = 0 #5\n",
    "threshold_high_act_ratio = 0.0 #0.5                                                                  \n",
    "\n",
    "# maybe no necessary to change\n",
    "threshold_pvalue = 0.05 "
   ]
  },
  {
   "cell_type": "code",
   "execution_count": 21,
   "metadata": {},
   "outputs": [
    {
     "ename": "KeyboardInterrupt",
     "evalue": "",
     "output_type": "error",
     "traceback": [
      "\u001b[1;31m---------------------------------------------------------------------------\u001b[0m",
      "\u001b[1;31mKeyboardInterrupt\u001b[0m                         Traceback (most recent call last)",
      "\u001b[1;32m<ipython-input-21-9f7c654a2c83>\u001b[0m in \u001b[0;36m<module>\u001b[1;34m()\u001b[0m\n\u001b[0;32m     10\u001b[0m      \u001b[0mthreshold_high_act_nb_substructures\u001b[0m\u001b[1;33m=\u001b[0m\u001b[0mthreshold_high_act_nb_substructures\u001b[0m\u001b[1;33m,\u001b[0m\u001b[1;33m\u001b[0m\u001b[0m\n\u001b[0;32m     11\u001b[0m      \u001b[0mthreshold_high_act_ratio\u001b[0m \u001b[1;33m=\u001b[0m \u001b[0mthreshold_high_act_ratio\u001b[0m\u001b[1;33m,\u001b[0m\u001b[1;33m\u001b[0m\u001b[0m\n\u001b[1;32m---> 12\u001b[1;33m      threshold_bioactivity=threshold_bio_value)\n\u001b[0m\u001b[0;32m     13\u001b[0m \u001b[1;33m\u001b[0m\u001b[0m\n\u001b[0;32m     14\u001b[0m \u001b[1;31m#threshold_high_act_nb_substructure = N of molecules involved significant substructure with high activity\u001b[0m\u001b[1;33m\u001b[0m\u001b[1;33m\u001b[0m\u001b[0m\n",
      "\u001b[1;32mC:\\jupyter_devel\\kist-europe\\bioalerts\\bioalerts\\Alerts.pyc\u001b[0m in \u001b[0;36mget_significant_substructure_with_high_bioactivity\u001b[1;34m(self, mols, substructure_dictionary, bioactivities, mols_ids, threshold_nb_substructures, threshold_pvalue, threshold_ratio, threshold_high_act_nb_substructures, threshold_high_act_ratio, threshold_bioactivity)\u001b[0m\n\u001b[0;32m    463\u001b[0m                 \u001b[0mnb_substructures_processed\u001b[0m \u001b[1;33m+=\u001b[0m \u001b[1;36m1\u001b[0m\u001b[1;33m\u001b[0m\u001b[0m\n\u001b[0;32m    464\u001b[0m                 \u001b[1;31m# check if the substructure is in the reference dictionary\u001b[0m\u001b[1;33m\u001b[0m\u001b[1;33m\u001b[0m\u001b[0m\n\u001b[1;32m--> 465\u001b[1;33m                 \u001b[1;32mif\u001b[0m \u001b[0msubstructure_id\u001b[0m \u001b[1;32min\u001b[0m \u001b[0msubstructures_sub_dict\u001b[0m \u001b[1;32mand\u001b[0m \u001b[0matom_radius\u001b[0m\u001b[1;33m[\u001b[0m\u001b[1;36m0\u001b[0m\u001b[1;33m]\u001b[0m\u001b[1;33m[\u001b[0m\u001b[1;36m1\u001b[0m\u001b[1;33m]\u001b[0m \u001b[1;32min\u001b[0m \u001b[0mself\u001b[0m\u001b[1;33m.\u001b[0m\u001b[0mradii_ext\u001b[0m \u001b[1;32mand\u001b[0m \u001b[0msubstructure_id\u001b[0m \u001b[1;32mnot\u001b[0m \u001b[1;32min\u001b[0m \u001b[0malready_processed\u001b[0m\u001b[1;33m:\u001b[0m\u001b[1;33m\u001b[0m\u001b[0m\n\u001b[0m\u001b[0;32m    466\u001b[0m                     \u001b[0mnb_comp_with_substructure\u001b[0m \u001b[1;33m=\u001b[0m \u001b[0mfloat\u001b[0m\u001b[1;33m(\u001b[0m\u001b[0mlen\u001b[0m\u001b[1;33m(\u001b[0m\u001b[0msubstructure_dictionary\u001b[0m\u001b[1;33m[\u001b[0m\u001b[0msubstructure_id\u001b[0m\u001b[1;33m]\u001b[0m\u001b[1;33m)\u001b[0m\u001b[1;33m)\u001b[0m\u001b[1;33m\u001b[0m\u001b[0m\n\u001b[0;32m    467\u001b[0m \u001b[1;33m\u001b[0m\u001b[0m\n",
      "\u001b[1;31mKeyboardInterrupt\u001b[0m: "
     ]
    }
   ],
   "source": [
    "significant_substructure = {}\n",
    "significant_substructure = Alerts_continuous_high_activity.get_significant_substructure_with_high_bioactivity(\n",
    "mols = molecules.mols,\n",
    "     substructure_dictionary = dataset_info.substructure_dictionary,\n",
    "     bioactivities = cox_bio,\n",
    "     mols_ids = molecules.mols_ids[:],\n",
    "     threshold_nb_substructures = threshold_nb_substructures,\n",
    "     threshold_pvalue = threshold_pvalue,\n",
    "     threshold_ratio=threshold_ratio,\n",
    "     threshold_high_act_nb_substructures=threshold_high_act_nb_substructures,\n",
    "     threshold_high_act_ratio = threshold_high_act_ratio,                                                                        \n",
    "     threshold_bioactivity=threshold_bio_value)\n",
    "\n",
    "#threshold_high_act_nb_substructure = N of molecules involved significant substructure with high activity  \n",
    "#threshold_high_act_ratio = N of molecules involved significant substructure with high activity / N of molecules involved significant substructure\n",
    "#threshold_bioactivity = Top 40% by total bioactivity\n",
    "\n",
    "#return value is significant_substructure dictionary with high activity"
   ]
  },
  {
   "cell_type": "code",
   "execution_count": null,
   "metadata": {},
   "outputs": [],
   "source": [
    "mol_id_set = set()\n",
    "for k,v in significant_substructure.items():\n",
    "    for mol_id in v: \n",
    "        mol_id_set.add(mol_id)"
   ]
  },
  {
   "cell_type": "code",
   "execution_count": null,
   "metadata": {},
   "outputs": [],
   "source": [
    "print('number of total substructure : {}'.format(len(dataset_info.substructure_dictionary)))\n",
    "print('number of extracted significant substructure : {}'.format(len(significant_substructure)))\n",
    "print('{} out of {} have the label which represent remaining significant substructure\\n'.format(len(mol_id_set),len(cox_bio)))\n",
    "\n",
    "print ('THRESHOLD - \\n\\tnumber of substructures : {}\\n\\tp value : {}\\n\\tratio : {}\\n\\tnumber of high activity threshold : {}\\n\\thigh activity ratio : {}\\n\\thigh bioactivity threshold : {}'\n",
    "       .format(threshold_nb_substructures,threshold_pvalue,threshold_ratio,threshold_high_act_nb_substructures,threshold_high_act_ratio,threshold_ ))"
   ]
  },
  {
   "cell_type": "code",
   "execution_count": null,
   "metadata": {},
   "outputs": [],
   "source": [
    "# run the code when you repair hyperparameter\n",
    "if len(significant_substructure) is not 0 :\n",
    "    significant_substructure.clear()\n",
    "if len(mol_id_set) is not 0 :\n",
    "    mol_id_set.clear()"
   ]
  },
  {
   "cell_type": "markdown",
   "metadata": {},
   "source": [
    "## C. insert feature"
   ]
  },
  {
   "cell_type": "code",
   "execution_count": null,
   "metadata": {},
   "outputs": [],
   "source": [
    "y_pic50 = 9 - np.log10(y)"
   ]
  },
  {
   "cell_type": "code",
   "execution_count": null,
   "metadata": {},
   "outputs": [],
   "source": [
    "#insert feature into only train dataset\n",
    "for iter_ in x.index:\n",
    "    for i in range(8): \n",
    "        if iter_ in mol_id_set : \n",
    "            x.loc[iter_,'significant_feature_{}'.format(i)] = 1.0\n",
    "        else :\n",
    "            x.loc[iter_,'significant_feature_{}'.format(i)] = 0.0"
   ]
  },
  {
   "cell_type": "markdown",
   "metadata": {},
   "source": [
    "## D. model train"
   ]
  },
  {
   "cell_type": "code",
   "execution_count": null,
   "metadata": {},
   "outputs": [],
   "source": [
    "test_size = 0.1 \n",
    "x_train, x_test, y_train, y_test = train_test_split(x,y_pic50,test_size = test_size, shuffle = True)"
   ]
  },
  {
   "cell_type": "code",
   "execution_count": 7,
   "metadata": {},
   "outputs": [],
   "source": [
    "test_size = 0.1 \n",
    "x_train, x_test, y_train, y_test = train_test_split(x,y,test_size = test_size, shuffle = True)"
   ]
  },
  {
   "cell_type": "code",
   "execution_count": 8,
   "metadata": {},
   "outputs": [],
   "source": [
    "x_test_idx = []\n",
    "for row in x_test.index:\n",
    "    x_test_idx.append(row)"
   ]
  },
  {
   "cell_type": "markdown",
   "metadata": {},
   "source": [
    "### D.1.1 KNN hyperparameter search "
   ]
  },
  {
   "cell_type": "code",
   "execution_count": null,
   "metadata": {},
   "outputs": [],
   "source": [
    "from sklearn.model_selection import GridSearchCV \n",
    "\n",
    "neigh = KNeighborsRegressor()\n",
    "param_grid = {'n_neighbors':[4,5,6,7,8],\n",
    "              'algorithm':['auto','ball_tree','brute'],\n",
    "              'metric':['jaccard','matching','dice'],\n",
    "             'weights':['uniform','distance']} \n",
    "KNN_search = GridSearchCV(neigh,param_grid,cv=5)\n",
    "KNN_search.fit(x_train,y_train)\n",
    "print(\"Bset Parameters set found on GridSearch CV :\\n\")\n",
    "print(KNN_search.best_params_)"
   ]
  },
  {
   "cell_type": "code",
   "execution_count": null,
   "metadata": {},
   "outputs": [],
   "source": [
    "print(\"Grid scores on GridSearchCV :\\n\")\n",
    "\n",
    "means = KNN_search.cv_results_['mean_test_score']\n",
    "stds = KNN_search.cv_results_['std_test_score']\n",
    "for mean, std, params in zip(means, stds, KNN_search.cv_results_['params']):\n",
    "    print(\"%0.3f (+/-%0.03f) for %r\" % (mean, std * 2, params))"
   ]
  },
  {
   "cell_type": "code",
   "execution_count": null,
   "metadata": {},
   "outputs": [],
   "source": [
    "knn_search_pred = KNN_search.predict(x_test)\n",
    "\n",
    "# test rseult \n",
    "print(\"\\ntest RMSE : {}\".format(round(np.sqrt(mean_squared_error(y_test,knn_search_pred)),4)) )"
   ]
  },
  {
   "cell_type": "code",
   "execution_count": null,
   "metadata": {
    "scrolled": true
   },
   "outputs": [],
   "source": [
    "KNN_search.best_params_"
   ]
  },
  {
   "cell_type": "markdown",
   "metadata": {},
   "source": [
    "### D.1.2 KNN model train"
   ]
  },
  {
   "cell_type": "code",
   "execution_count": 9,
   "metadata": {
    "scrolled": true
   },
   "outputs": [
    {
     "name": "stderr",
     "output_type": "stream",
     "text": [
      "C:\\Users\\chon0\\Anaconda3\\envs\\py27\\lib\\site-packages\\sklearn\\utils\\validation.py:595: DataConversionWarning: Data with input dtype int64 was converted to bool by check_pairwise_arrays.\n",
      "  warnings.warn(msg, DataConversionWarning)\n"
     ]
    },
    {
     "name": "stdout",
     "output_type": "stream",
     "text": [
      "[0.9723, 0.9463, 0.9381, 0.8685, 0.9543]\n",
      "('mean : ', 0.9359)\n",
      "[0.9797, 0.9566, 0.9256, 0.9378, 0.8727]\n",
      "('mean : ', 0.9344800000000001)\n",
      "[0.9255, 0.9039, 0.9409, 0.9542, 0.9625]\n",
      "('mean : ', 0.9374)\n",
      "[0.9204, 0.8948, 0.932, 0.9962, 0.9092]\n",
      "('mean : ', 0.9305199999999999)\n",
      "[0.9711, 0.9166, 0.918, 0.9233, 0.9498]\n",
      "('mean : ', 0.9357599999999999)\n",
      "[0.9017, 0.9779, 0.9422, 0.8964, 0.9684]\n",
      "('mean : ', 0.93732)\n",
      "[0.9317, 0.9586, 0.943, 0.9492, 0.9256]\n",
      "('mean : ', 0.94162)\n",
      "[0.8517, 0.9282, 1.0403, 0.9242, 0.9317]\n",
      "('mean : ', 0.9352199999999999)\n",
      "[0.9496, 0.9447, 0.8826, 0.9329, 0.9493]\n",
      "('mean : ', 0.9318200000000001)\n",
      "[0.9846, 0.9621, 0.8595, 0.9168, 0.9706]\n",
      "('mean : ', 0.93872)\n",
      "('total fold mean : ', 0.9359)\n",
      "('total cv mean : ', 0.9359)\n"
     ]
    }
   ],
   "source": [
    "#fold setting\n",
    "kf = RepeatedKFold(n_splits = 5,n_repeats=10)\n",
    "kf.get_n_splits(x_train)\n",
    "#kf\n",
    "#>>> KFold(n_splits=5, random_state=None, shuffle=False)\n",
    "\n",
    "#for numbering k folds\n",
    "k=0\n",
    "cv_rmse = []\n",
    "cv_rmse_mean = []\n",
    "tmp = []\n",
    "\n",
    "#DataFrame generate\n",
    "y_pic_pred_result = pd.DataFrame()\n",
    "y_pic_pred_result['idx'] = pd.Series([i for i in range(len(y))])\n",
    "\n",
    "\n",
    "##################    using hyperparameter tuning model    ##################    \n",
    "#model generate\n",
    "neigh = KNeighborsRegressor(n_neighbors = 5, metric='matching',weights='distance',algorithm='brute')\n",
    "#KNN without sig, for androgen {'n_neighbors': 5, 'metric': 'matching', 'weights': 'distance', 'algorithm': 'brute'}\n",
    "##################    using hyperparameter tuning model    ##################\n",
    "\n",
    "\n",
    "#cross-val training\n",
    "for train_idx, test_idx in kf.split(x_train):\n",
    "    #print(\"iteration num : {}\".format(k))\n",
    "    #print(\"train : \", train_idx, \"\\ntest : \", test_idx)\n",
    "    x_cv_train , x_cv_test = x_train.iloc[train_idx], x_train.iloc[test_idx]\n",
    "    y_cv_train , y_cv_test = y_train.iloc[train_idx], y_train.iloc[test_idx]\n",
    "    \n",
    "    neigh.fit(x_cv_train,y_cv_train)\n",
    "    \n",
    "    y_cv_testidx = test_idx\n",
    "    y_cv_pred = neigh.predict(x_cv_test)\n",
    "    cv_rmse.append(round(np.sqrt(mean_squared_error(y_cv_test,y_cv_pred)),4))\n",
    "    cv_rmse_mean.append(round(np.sqrt(mean_squared_error(y_cv_test,y_cv_pred)),4))\n",
    "    \n",
    "    y_pic_pred_result['y_cv_testidx_{}'.format(k)] = pd.Series()\n",
    "    y_pic_pred_result['y_cv_pred_{}'.format(k)] = pd.Series()\n",
    "    \n",
    "    for j in range(len(y_cv_testidx)):\n",
    "        y_pic_pred_result.loc[y_cv_testidx[j],'y_cv_testidx_{}'.format(k)] = y_cv_testidx[j]\n",
    "        y_pic_pred_result.loc[y_cv_testidx[j],'y_cv_pred_{}'.format(k)] = y_cv_pred[j]            \n",
    "    \n",
    "    #y_pic_pred_result['y_cv_testidx_{}'.format(i)] = pd.Series(y_cv_testidx)\n",
    "    #y_pic_pred_result['y_cv_pred_{}'.format(i)] = pd.Series(y_cv_pred)\n",
    "    k += 1 \n",
    "    \n",
    "    if k % 5 == 0 : \n",
    "        tmp.append(np.mean(cv_rmse_mean))\n",
    "        print(cv_rmse_mean) # per fold rmse value in one cv \n",
    "        print(\"mean : \",np.mean(cv_rmse_mean)) # RMSE mean value per iteration of cv  \n",
    "        del cv_rmse_mean[:]\n",
    "        \n",
    "\n",
    "print(\"total fold mean : \", round(np.mean(cv_rmse),4)) # mean of 50 cv rmse (1회 iter돌 때의 모든 rmse의 평균 (50회의 평균)) \n",
    "print(\"total cv mean : \",round(np.mean(tmp),4)) # mean of cv's mean of 1 iter (각 cv rmse 평균의 평균) # we need var of this value \n",
    "\n",
    "#model retrain with all train data  \n",
    "neigh.fit(x_train,y_train) # > model train\n",
    "y_pic_test_pred = neigh.predict(x_test) # > model predidction\n",
    "\n",
    "# \n",
    "y_pic_test_pred_df = pd.DataFrame(columns=['y_pic_test_idx','y_pic_test_pred'])\n",
    "for j in range(len(x_test_idx)):\n",
    "        y_pic_test_pred_df.loc[x_test_idx[j],'y_pic_test_idx'] = x_test_idx[j]\n",
    "        y_pic_test_pred_df.loc[x_test_idx[j],'y_pic_test_pred'] = y_pic_test_pred[j]\n",
    "#y_pic_test_pred_df = pd.DataFrame(y_pic_test_pred,columns=['y_pic_test_pred'])\n",
    "y_pic_pred_result = pd.concat([y_pic_pred_result, y_pic_test_pred_df], axis=1, ignore_index=False)\n",
    "\n",
    "#save csv \n",
    "#y_pic_pred_result.to_csv(result_wdir+'5-alpha-reductase_dltnan_y_pic_pred_result+with_significant_feature.csv',index=True)\n"
   ]
  },
  {
   "cell_type": "markdown",
   "metadata": {},
   "source": [
    "### D.1.3 KNN model results"
   ]
  },
  {
   "cell_type": "code",
   "execution_count": 10,
   "metadata": {},
   "outputs": [
    {
     "name": "stdout",
     "output_type": "stream",
     "text": [
      "('train data size : 3780 (0.0%)\\n', 'test data size : 420 (0.0%)\\n')\n",
      "each CV RMSE average : \n",
      "[0.9359, 0.9344800000000001, 0.9374, 0.9305199999999999, 0.9357599999999999, 0.93732, 0.94162, 0.9352199999999999, 0.9318200000000001, 0.93872] \n",
      "VARIANCE of RMSE of every folds : 0.0012\n",
      "\n",
      "('total 50 folds RMSE mean : ', 0.9359)\n",
      "('total 10 CVs RMSE mean : ', 0.9359)\n",
      "\n",
      "test RMSE : 0.9046\n"
     ]
    }
   ],
   "source": [
    "#RESULT\n",
    "print(\"train data size : {} ({}%)\\n\".format(len(x_train),round((len(x_train)/len(x)),2)), \"test data size : {} ({}%)\\n\".format(len(x_test),round((len(x_test)/len(x)),2)))\n",
    "print(\"each CV RMSE average : \\n{} \\nVARIANCE of RMSE of every folds : {}\\n\".format(tmp,round(np.var(cv_rmse),4)))\n",
    "\n",
    "print(\"total 50 folds RMSE mean : \", round(np.mean(cv_rmse),4)) # mean of 50 cv rmse (1회 iter돌 때의 모든 rmse의 평균 (50회의 평균)) \n",
    "print(\"total 10 CVs RMSE mean : \",round(np.mean(tmp),4)) # mean of cv's mean of 1 iter (각 cv rmse 평균의 평균) # we need var of this value \n",
    "\n",
    "# test rseult \n",
    "print(\"\\ntest RMSE : {}\".format(round(np.sqrt(mean_squared_error(y_test,y_pic_test_pred)),4)) )"
   ]
  },
  {
   "cell_type": "markdown",
   "metadata": {},
   "source": [
    "### D.2.1 RF hyperparameter tuning"
   ]
  },
  {
   "cell_type": "code",
   "execution_count": null,
   "metadata": {},
   "outputs": [],
   "source": [
    "from sklearn.model_selection import GridSearchCV\n",
    "RF = RandomForestRegressor()\n",
    "RF_param_grid = {'n_estimators':[40,60,80,100],\n",
    "              'max_depth':[30,40,50,None],\n",
    "                'min_samples_split':[2,3,4,5,6]} \n",
    "RF_search = GridSearchCV(RF,RF_param_grid,cv=5)\n",
    "RF_search.fit(x_train,y_train)\n",
    "print(\"Bset Parameters set found on GridSearch CV :\\n\")\n",
    "print(RF_search.best_params_)"
   ]
  },
  {
   "cell_type": "code",
   "execution_count": null,
   "metadata": {},
   "outputs": [],
   "source": [
    "print(\"Grid scores on GridSearchCV :\\n\")\n",
    "\n",
    "means = RF_search.cv_results_['mean_test_score']\n",
    "stds = RF_search.cv_results_['std_test_score']\n",
    "for mean, std, params in zip(means, stds, RF_search.cv_results_['params']):\n",
    "    print(\"%0.3f (+/-%0.03f) for %r\" % (mean, std * 2, params))"
   ]
  },
  {
   "cell_type": "markdown",
   "metadata": {},
   "source": [
    "### D.2.2 RF model train"
   ]
  },
  {
   "cell_type": "code",
   "execution_count": null,
   "metadata": {},
   "outputs": [],
   "source": [
    "test_size = 0.1 \n",
    "x_train, x_test, y_train, y_test = train_test_split(x,y_pic50,test_size = test_size, shuffle = True)"
   ]
  },
  {
   "cell_type": "code",
   "execution_count": 11,
   "metadata": {},
   "outputs": [],
   "source": [
    "test_size = 0.1 \n",
    "x_train, x_test, y_train, y_test = train_test_split(x,y,test_size = test_size, shuffle = True)"
   ]
  },
  {
   "cell_type": "code",
   "execution_count": 12,
   "metadata": {},
   "outputs": [],
   "source": [
    "x_test_idx = []\n",
    "for row in x_test.index:\n",
    "    x_test_idx.append(row)"
   ]
  },
  {
   "cell_type": "code",
   "execution_count": 13,
   "metadata": {},
   "outputs": [
    {
     "name": "stdout",
     "output_type": "stream",
     "text": [
      "[0.8366, 0.8465, 0.801, 0.8161, 0.8158]\n",
      "('mean : ', 0.8232000000000002)\n",
      "[0.8385, 0.8475, 0.8169, 0.816, 0.7719]\n",
      "('mean : ', 0.81816)\n",
      "[0.8197, 0.7864, 0.8245, 0.7998, 0.8448]\n",
      "('mean : ', 0.81504)\n",
      "[0.8516, 0.7763, 0.8135, 0.8388, 0.8345]\n",
      "('mean : ', 0.82294)\n",
      "[0.7883, 0.8185, 0.834, 0.8971, 0.7857]\n",
      "('mean : ', 0.8247199999999999)\n",
      "[0.8346, 0.8069, 0.7929, 0.845, 0.8259]\n",
      "('mean : ', 0.8210599999999999)\n",
      "[0.8247, 0.8125, 0.814, 0.8552, 0.8478]\n",
      "('mean : ', 0.83084)\n",
      "[0.8455, 0.864, 0.7924, 0.8077, 0.7961]\n",
      "('mean : ', 0.8211400000000001)\n",
      "[0.8062, 0.8002, 0.8274, 0.8002, 0.8626]\n",
      "('mean : ', 0.81932)\n",
      "[0.8391, 0.8141, 0.7787, 0.824, 0.8437]\n",
      "('mean : ', 0.81992)\n",
      "('total fold mean : ', 0.8216)\n",
      "('total cv mean : ', 0.8216)\n"
     ]
    }
   ],
   "source": [
    "#fold setting\n",
    "kf = RepeatedKFold(n_splits = 5,n_repeats=10)\n",
    "kf.get_n_splits(x_train)\n",
    "#kf\n",
    "#>>> KFold(n_splits=5, random_state=None, shuffle=False)\n",
    "\n",
    "#for numbering k folds\n",
    "k=0\n",
    "cv_rmse = []\n",
    "cv_rmse_mean = []\n",
    "tmp = []\n",
    "\n",
    "#DataFrame generate\n",
    "y_pic_pred_result = pd.DataFrame()\n",
    "y_pic_pred_result['idx'] = pd.Series([i for i in range(len(y))])\n",
    "\n",
    "#model generate\n",
    "##################    using hyperparameter tuning model    ##################    \n",
    "RF = RandomForestRegressor(n_estimators= 60,min_samples_split=4,max_depth=None)\n",
    "\n",
    "#RF without sig, for androgen {'min_samples_split': 5, 'n_estimators': 40, 'max_depth': 40}\n",
    "#RF with sig, for androgen \n",
    "\n",
    "#RF without sig, for aromatase {'min_samples_split': 3, 'n_estimators': 60, 'max_depth': 30}\n",
    "#RF with sig , for aromatase {'min_samples_split': 2, 'n_estimators': 40, 'max_depth': None}\n",
    "#\n",
    "##################    using hyperparameter tuning model    ##################\n",
    "\n",
    "#cross-val training\n",
    "for train_idx, test_idx in kf.split(x_train):\n",
    "    #print(\"iteration num : {}\".format(k))\n",
    "    #print(\"train : \", train_idx, \"\\ntest : \", test_idx)\n",
    "    x_cv_train , x_cv_test = x_train.iloc[train_idx], x_train.iloc[test_idx]\n",
    "    y_cv_train , y_cv_test = y_train.iloc[train_idx], y_train.iloc[test_idx]\n",
    "    \n",
    "    RF.fit(x_cv_train,y_cv_train)\n",
    "    \n",
    "    y_cv_testidx = test_idx\n",
    "    y_cv_pred = RF.predict(x_cv_test)\n",
    "    cv_rmse.append(round(np.sqrt(mean_squared_error(y_cv_test,y_cv_pred)),4))\n",
    "    cv_rmse_mean.append(round(np.sqrt(mean_squared_error(y_cv_test,y_cv_pred)),4))\n",
    "    \n",
    "    y_pic_pred_result['y_cv_testidx_{}'.format(k)] = pd.Series()\n",
    "    y_pic_pred_result['y_cv_pred_{}'.format(k)] = pd.Series()\n",
    "    \n",
    "    for j in range(len(y_cv_testidx)):\n",
    "        y_pic_pred_result.loc[y_cv_testidx[j],'y_cv_testidx_{}'.format(k)] = y_cv_testidx[j]\n",
    "        y_pic_pred_result.loc[y_cv_testidx[j],'y_cv_pred_{}'.format(k)] = y_cv_pred[j]\n",
    "        \n",
    "    \n",
    "    \n",
    "    #y_pic_pred_result['y_cv_testidx_{}'.format(i)] = pd.Series(y_cv_testidx)\n",
    "    #y_pic_pred_result['y_cv_pred_{}'.format(i)] = pd.Series(y_cv_pred)\n",
    "    k += 1 \n",
    "    \n",
    "    if k % 5 == 0 : \n",
    "        tmp.append(np.mean(cv_rmse_mean))\n",
    "        print(cv_rmse_mean) # per fold rmse value in one cv \n",
    "        print(\"mean : \",np.mean(cv_rmse_mean)) # RMSE mean value per iteration of cv  \n",
    "        del cv_rmse_mean[:]\n",
    "        \n",
    "\n",
    "print(\"total fold mean : \", round(np.mean(cv_rmse),4)) # mean of 50 cv rmse (1회 iter돌 때의 모든 rmse의 평균 (50회의 평균)) \n",
    "print(\"total cv mean : \",round(np.mean(tmp),4)) # mean of cv's mean of 1 iter (각 cv rmse 평균의 평균) # we need var of this value \n",
    "\n",
    "#model retrain with all train data  \n",
    "RF.fit(x_train,y_train) # > model train\n",
    "y_pic_test_pred = RF.predict(x_test) # > model predidction\n",
    "\n",
    "# \n",
    "y_pic_test_pred_df = pd.DataFrame(columns=['y_pic_test_idx','y_pic_test_pred'])\n",
    "for j in range(len(x_test_idx)):\n",
    "        y_pic_test_pred_df.loc[x_test_idx[j],'y_pic_test_idx'] = x_test_idx[j]\n",
    "        y_pic_test_pred_df.loc[x_test_idx[j],'y_pic_test_pred'] = y_pic_test_pred[j]\n",
    "#y_pic_test_pred_df = pd.DataFrame(y_pic_test_pred,columns=['y_pic_test_pred'])\n",
    "y_pic_pred_result = pd.concat([y_pic_pred_result, y_pic_test_pred_df], axis=1, ignore_index=False)\n",
    "\n",
    "#save csv \n",
    "#y_pic_pred_result.to_csv(result_wdir+'5-alpha-reductase_dltnan_y_pic_pred_result+with_significant_feature.csv',index=True)\n"
   ]
  },
  {
   "cell_type": "markdown",
   "metadata": {},
   "source": [
    "### D.2.3 RF model results"
   ]
  },
  {
   "cell_type": "code",
   "execution_count": 14,
   "metadata": {
    "scrolled": true
   },
   "outputs": [
    {
     "name": "stdout",
     "output_type": "stream",
     "text": [
      "('train data size : 3780 (0.0%)\\n', 'test data size : 420 (0.0%)\\n')\n",
      "each CV RMSE average : \n",
      "[0.8232000000000002, 0.81816, 0.81504, 0.82294, 0.8247199999999999, 0.8210599999999999, 0.83084, 0.8211400000000001, 0.81932, 0.81992] \n",
      "VARIANCE of RMSE of every folds : 0.0006\n",
      "\n",
      "('total 50 folds RMSE mean : ', 0.8216)\n",
      "('total 10 CVs RMSE mean : ', 0.8216)\n",
      "\n",
      "test RMSE : 0.8381\n"
     ]
    }
   ],
   "source": [
    "#RESULT\n",
    "print(\"train data size : {} ({}%)\\n\".format(len(x_train),round((len(x_train)/len(x)),2)), \"test data size : {} ({}%)\\n\".format(len(x_test),round((len(x_test)/len(x)),2)))\n",
    "print(\"each CV RMSE average : \\n{} \\nVARIANCE of RMSE of every folds : {}\\n\".format(tmp,round(np.var(cv_rmse),4)))\n",
    "\n",
    "print(\"total 50 folds RMSE mean : \", round(np.mean(cv_rmse),4)) # mean of 50 cv rmse (1회 iter돌 때의 모든 rmse의 평균 (50회의 평균)) \n",
    "print(\"total 10 CVs RMSE mean : \",round(np.mean(tmp),4)) # mean of cv's mean of 1 iter (각 cv rmse 평균의 평균) # we need var of this value \n",
    "\n",
    "# test rseult \n",
    "print(\"\\ntest RMSE : {}\".format(round(np.sqrt(mean_squared_error(y_test,y_pic_test_pred)),4)) )"
   ]
  },
  {
   "cell_type": "markdown",
   "metadata": {},
   "source": [
    "### D.3.1 SVR hyperparameter tuning "
   ]
  },
  {
   "cell_type": "code",
   "execution_count": null,
   "metadata": {},
   "outputs": [],
   "source": [
    "from sklearn.model_selection import GridSearchCV\n",
    "SVR = SVR()\n",
    "SVR_param_grid = {'kernel':['rbf','linear','poly']} \n",
    "SVR_search = GridSearchCV(SVR,SVR_param_grid,cv=5)\n",
    "SVR_search.fit(x_train,y_train)\n",
    "print(\"Bset Parameters set found on GridSearch CV :\\n\")\n",
    "print(SVR_search.best_params_)"
   ]
  },
  {
   "cell_type": "code",
   "execution_count": null,
   "metadata": {},
   "outputs": [],
   "source": [
    "print(\"Grid scores on GridSearchCV :\\n\")\n",
    "\n",
    "means = SVR_search.cv_results_['mean_test_score']\n",
    "stds = SVR_search.cv_results_['std_test_score']\n",
    "for mean, std, params in zip(means, stds, SVR_search.cv_results_['params']):\n",
    "    print(\"%0.3f (+/-%0.03f) for %r\" % (mean, std * 2, params))"
   ]
  },
  {
   "cell_type": "markdown",
   "metadata": {},
   "source": [
    "### D.3.2 SVR model train"
   ]
  },
  {
   "cell_type": "code",
   "execution_count": null,
   "metadata": {},
   "outputs": [],
   "source": [
    "#fold setting\n",
    "kf = RepeatedKFold(n_splits = 5,n_repeats=10)\n",
    "kf.get_n_splits(x_train)\n",
    "#kf\n",
    "#>>> KFold(n_splits=5, random_state=None, shuffle=False)\n",
    "\n",
    "#for numbering k folds\n",
    "k=0\n",
    "cv_rmse = []\n",
    "cv_rmse_mean = []\n",
    "tmp = []\n",
    "\n",
    "#DataFrame generate\n",
    "y_pic_pred_result = pd.DataFrame()\n",
    "y_pic_pred_result['idx'] = pd.Series([i for i in range(len(y))])\n",
    "\n",
    "#model generate\n",
    "##################    using hyperparameter tuning model    ##################    \n",
    "SVR = SVR(kernel='rbf')\n",
    "##################    using hyperparameter tuning model    ##################\n",
    "\n",
    "#cross-val training\n",
    "for train_idx, test_idx in kf.split(x_train):\n",
    "    print(\"iteration num : {}\".format(k))\n",
    "    #print(\"train : \", train_idx, \"\\ntest : \", test_idx)\n",
    "    x_cv_train , x_cv_test = x_train.iloc[train_idx], x_train.iloc[test_idx]\n",
    "    y_cv_train , y_cv_test = y_train.iloc[train_idx], y_train.iloc[test_idx]\n",
    "    \n",
    "    SVR.fit(x_cv_train,y_cv_train)\n",
    "    \n",
    "    y_cv_testidx = test_idx\n",
    "    y_cv_pred = SVR.predict(x_cv_test)\n",
    "    cv_rmse.append(round(np.sqrt(mean_squared_error(y_cv_test,y_cv_pred)),4))\n",
    "    cv_rmse_mean.append(round(np.sqrt(mean_squared_error(y_cv_test,y_cv_pred)),4))\n",
    "    \n",
    "    y_pic_pred_result['y_cv_testidx_{}'.format(k)] = pd.Series()\n",
    "    y_pic_pred_result['y_cv_pred_{}'.format(k)] = pd.Series()\n",
    "    \n",
    "    for j in range(len(y_cv_testidx)):\n",
    "        y_pic_pred_result.loc[y_cv_testidx[j],'y_cv_testidx_{}'.format(k)] = y_cv_testidx[j]\n",
    "        y_pic_pred_result.loc[y_cv_testidx[j],'y_cv_pred_{}'.format(k)] = y_cv_pred[j]\n",
    "        \n",
    "    \n",
    "    \n",
    "    #y_pic_pred_result['y_cv_testidx_{}'.format(i)] = pd.Series(y_cv_testidx)\n",
    "    #y_pic_pred_result['y_cv_pred_{}'.format(i)] = pd.Series(y_cv_pred)\n",
    "    k += 1 \n",
    "    \n",
    "    if k % 5 == 0 : \n",
    "        tmp.append(np.mean(cv_rmse_mean))\n",
    "        print(cv_rmse_mean) # per fold rmse value in one cv \n",
    "        print(\"mean : \",np.mean(cv_rmse_mean)) # RMSE mean value per iteration of cv  \n",
    "        del cv_rmse_mean[:]\n",
    "        \n",
    "\n",
    "print(\"total fold mean : \", round(np.mean(cv_rmse),4)) # mean of 50 cv rmse (1회 iter돌 때의 모든 rmse의 평균 (50회의 평균)) \n",
    "print(\"total cv mean : \",round(np.mean(tmp),4)) # mean of cv's mean of 1 iter (각 cv rmse 평균의 평균) # we need var of this value \n",
    "\n",
    "#model retrain with all train data  \n",
    "SVR.fit(x_train,y_train) # > model train\n",
    "y_pic_test_pred = SVR.predict(x_test) # > model predidction\n",
    "\n",
    "# \n",
    "y_pic_test_pred_df = pd.DataFrame(columns=['y_pic_test_idx','y_pic_test_pred'])\n",
    "for j in range(len(x_test_idx)):\n",
    "        y_pic_test_pred_df.loc[x_test_idx[j],'y_pic_test_idx'] = x_test_idx[j]\n",
    "        y_pic_test_pred_df.loc[x_test_idx[j],'y_pic_test_pred'] = y_pic_test_pred[j]\n",
    "#y_pic_test_pred_df = pd.DataFrame(y_pic_test_pred,columns=['y_pic_test_pred'])\n",
    "y_pic_pred_result = pd.concat([y_pic_pred_result, y_pic_test_pred_df], axis=1, ignore_index=False)\n",
    "\n",
    "#save csv \n",
    "#y_pic_pred_result.to_csv(result_wdir+'5-alpha-reductase_dltnan_y_pic_pred_result+with_significant_feature.csv',index=True)\n"
   ]
  },
  {
   "cell_type": "markdown",
   "metadata": {},
   "source": [
    "### D.3.3 SVR model results"
   ]
  },
  {
   "cell_type": "code",
   "execution_count": null,
   "metadata": {},
   "outputs": [],
   "source": [
    "#RESULT\n",
    "print(\"train data size : {} ({}%)\\n\".format(len(x_train),round((len(x_train)/len(x)),2)), \"test data size : {} ({}%)\\n\".format(len(x_test),round((len(x_test)/len(x)),2)))\n",
    "print(\"each CV RMSE average : \\n{} \\nVARIANCE of RMSE of every folds : {}\\n\".format(tmp,round(np.var(cv_rmse),4)))\n",
    "\n",
    "print(\"total 50 folds RMSE mean : \", round(np.mean(cv_rmse),4)) # mean of 50 cv rmse (1회 iter돌 때의 모든 rmse의 평균 (50회의 평균)) \n",
    "print(\"total 10 CVs RMSE mean : \",round(np.mean(tmp),4)) # mean of cv's mean of 1 iter (각 cv rmse 평균의 평균) # we need var of this value \n",
    "\n",
    "# test rseult \n",
    "print(\"\\ntest RMSE : {}\".format(round(np.sqrt(mean_squared_error(y_test,y_pic_test_pred)),4)) )"
   ]
  },
  {
   "cell_type": "code",
   "execution_count": null,
   "metadata": {},
   "outputs": [],
   "source": [
    "'''\n",
    "from rdkit.Chem.AllChem import GetMorganFingerprintAsBitVect as _GetMorganFingerprintAsBitVect, GetMorganFingerprint as _GetMorganFingerprint\n",
    "from bioalerts import LoadMolecules, Alerts, FPCalculator \n",
    "from rdkit import Chem \n",
    "\n",
    "# >>> _GetMorganFingerprint #Returns a Morgan fingerprint for a molecule\n",
    "# >>> _GetMorganFingerprintAsBitVect  #Returns a Morgan fingerprint for a molecule as a bit vector\n",
    "\n",
    "molecules = LoadMolecules.LoadMolecules(\"./tutorial/datasets/5AR.smi\",name_field=None)\n",
    "molecules.ReadMolecules() \n",
    "stride = int(len(molecules.mols)*0.9)\n",
    "training = molecules.mols[0:stride]\n",
    "test = molecules.mols[stride:len(molecules.mols)]\n",
    "print (len(molecules.mols), len(test), len(training))\n",
    "\n",
    "radii = [2,3,4,5,6]\n",
    "\n",
    "\n",
    "def extract_substructure_information(radii,mols):\n",
    "    substructure_dictionary = {}\n",
    "    for i,m in enumerate(mols):\n",
    "        info = {}\n",
    "        fp = _GetMorganFingerprint(m,max(radii),bitInfo=info)\n",
    "        for k,v in info.items():\n",
    "            if v[0][1] in radii:\n",
    "                if k in substructure_dictionary.keys():\n",
    "                    substructure_dictionary[k].append(i)\n",
    "                else : \n",
    "                    substructure_dictionary.update({k:[i]})\n",
    "    return substructure_dictionary\n",
    "\n",
    "'''"
   ]
  }
 ],
 "metadata": {
  "kernelspec": {
   "display_name": "Python 2",
   "language": "python",
   "name": "python2"
  },
  "language_info": {
   "codemirror_mode": {
    "name": "ipython",
    "version": 2
   },
   "file_extension": ".py",
   "mimetype": "text/x-python",
   "name": "python",
   "nbconvert_exporter": "python",
   "pygments_lexer": "ipython2",
   "version": "2.7.16"
  }
 },
 "nbformat": 4,
 "nbformat_minor": 2
}
