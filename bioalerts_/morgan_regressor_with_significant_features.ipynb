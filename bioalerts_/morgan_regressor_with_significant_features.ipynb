{
 "cells": [
  {
   "cell_type": "code",
   "execution_count": 1,
   "metadata": {},
   "outputs": [],
   "source": [
    "import bioalerts\n",
    "from bioalerts import LoadMolecules, Alerts, FPCalculator\n",
    "import sys"
   ]
  },
  {
   "cell_type": "code",
   "execution_count": 2,
   "metadata": {},
   "outputs": [],
   "source": [
    "import numpy as np \n",
    "import scipy\n",
    "import matplotlib.pyplot as plt\n",
    "\n",
    "from rdkit.Chem.Draw import IPythonConsole \n",
    "from rdkit.Chem import PandasTools \n",
    "\n",
    "import pandas as pd \n",
    "\n",
    "from sklearn.neighbors import KNeighborsRegressor #knn\n",
    "from sklearn.ensemble import RandomForestRegressor #RF\n",
    "from sklearn.svm import SVR #SVR\n",
    "from sklearn.neural_network import MLPRegressor #MLP \n",
    "\n",
    "from sklearn.model_selection import train_test_split, cross_val_score \n",
    "from sklearn.model_selection import RepeatedKFold\n",
    "from sklearn.metrics import mean_squared_error\n",
    "from sklearn.metrics import r2_score"
   ]
  },
  {
   "cell_type": "code",
   "execution_count": 3,
   "metadata": {},
   "outputs": [],
   "source": [
    "import sys, numpy as np, scipy as sc, rdkit, matplotlib as pylab, pandas as pd, IPython\n",
    "#print \" Python:\", sys.version, \"\\n\"\n",
    "#print \" Numpy:\", np.__version__\n",
    "#print \" Scipy:\", sc.__version__\n",
    "#print \" Rdkit:\", rdkit.rdBase.rdkitVersion\n",
    "#print \" Matplotlib:\", pylab.__version__\n",
    "#print \" Pandas:\", pd.__version__\n",
    "#print \" Ipython:\", IPython.__version__\n",
    "#print \" Scikit-Learn:\", sklearn.__version__\n",
    "#print \" Scipy:\", scipy.__version__"
   ]
  },
  {
   "cell_type": "markdown",
   "metadata": {},
   "source": [
    "## A. Calculating Morgan fingerprints"
   ]
  },
  {
   "cell_type": "markdown",
   "metadata": {},
   "source": [
    "In this section, we will see how to calculate hashed and unhashed Morgan fingerprints for a set of molecules, and will train some models. "
   ]
  },
  {
   "cell_type": "code",
   "execution_count": 4,
   "metadata": {},
   "outputs": [],
   "source": [
    "AR_mols = bioalerts.LoadMolecules.LoadMolecules(\"./tutorial/datasets/5AR.smi\",name_field=None) \n",
    "#COX2.smi is a set of only SMILES data"
   ]
  },
  {
   "cell_type": "code",
   "execution_count": 5,
   "metadata": {},
   "outputs": [
    {
     "name": "stdout",
     "output_type": "stream",
     "text": [
      "Format of the structures file = SMILES\n",
      "All molecules in the input file were processed correctly\n"
     ]
    },
    {
     "name": "stderr",
     "output_type": "stream",
     "text": [
      "RDKit WARNING: [09:34:38] WARNING: no name column found on line 0\n",
      "RDKit WARNING: [09:34:38] WARNING: no name column found on line 1\n",
      "RDKit WARNING: [09:34:38] WARNING: no name column found on line 2\n",
      "RDKit WARNING: [09:34:38] WARNING: no name column found on line 3\n",
      "RDKit WARNING: [09:34:38] WARNING: no name column found on line 4\n",
      "RDKit WARNING: [09:34:38] WARNING: no name column found on line 5\n",
      "RDKit WARNING: [09:34:38] WARNING: no name column found on line 6\n",
      "RDKit WARNING: [09:34:38] WARNING: no name column found on line 7\n",
      "RDKit WARNING: [09:34:38] WARNING: no name column found on line 8\n",
      "RDKit WARNING: [09:34:38] WARNING: no name column found on line 9\n",
      "RDKit WARNING: [09:34:38] WARNING: no name column found on line 10\n",
      "RDKit WARNING: [09:34:38] WARNING: no name column found on line 11\n",
      "RDKit WARNING: [09:34:38] WARNING: no name column found on line 12\n",
      "RDKit WARNING: [09:34:38] WARNING: no name column found on line 13\n",
      "RDKit WARNING: [09:34:38] WARNING: no name column found on line 14\n",
      "RDKit WARNING: [09:34:38] WARNING: no name column found on line 15\n",
      "RDKit WARNING: [09:34:38] WARNING: no name column found on line 16\n",
      "RDKit WARNING: [09:34:38] WARNING: no name column found on line 17\n",
      "RDKit WARNING: [09:34:38] WARNING: no name column found on line 18\n",
      "RDKit WARNING: [09:34:38] WARNING: no name column found on line 19\n",
      "RDKit WARNING: [09:34:38] WARNING: no name column found on line 20\n",
      "RDKit WARNING: [09:34:38] WARNING: no name column found on line 21\n",
      "RDKit WARNING: [09:34:38] WARNING: no name column found on line 22\n",
      "RDKit WARNING: [09:34:38] WARNING: no name column found on line 23\n",
      "RDKit WARNING: [09:34:38] WARNING: no name column found on line 24\n",
      "RDKit WARNING: [09:34:38] WARNING: no name column found on line 25\n",
      "RDKit WARNING: [09:34:38] WARNING: no name column found on line 26\n",
      "RDKit WARNING: [09:34:38] WARNING: no name column found on line 27\n",
      "RDKit WARNING: [09:34:38] WARNING: no name column found on line 28\n",
      "RDKit WARNING: [09:34:38] WARNING: no name column found on line 29\n",
      "RDKit WARNING: [09:34:38] WARNING: no name column found on line 30\n",
      "RDKit WARNING: [09:34:38] WARNING: no name column found on line 31\n",
      "RDKit WARNING: [09:34:38] WARNING: no name column found on line 32\n",
      "RDKit WARNING: [09:34:38] WARNING: no name column found on line 33\n",
      "RDKit WARNING: [09:34:38] WARNING: no name column found on line 34\n",
      "RDKit WARNING: [09:34:38] WARNING: no name column found on line 35\n",
      "RDKit WARNING: [09:34:38] WARNING: no name column found on line 36\n",
      "RDKit WARNING: [09:34:38] WARNING: no name column found on line 37\n",
      "RDKit WARNING: [09:34:38] WARNING: no name column found on line 38\n",
      "RDKit WARNING: [09:34:38] WARNING: no name column found on line 39\n",
      "RDKit WARNING: [09:34:38] WARNING: no name column found on line 40\n",
      "RDKit WARNING: [09:34:38] WARNING: no name column found on line 41\n",
      "RDKit WARNING: [09:34:38] WARNING: no name column found on line 42\n",
      "RDKit WARNING: [09:34:38] WARNING: no name column found on line 43\n",
      "RDKit WARNING: [09:34:38] WARNING: no name column found on line 44\n",
      "RDKit WARNING: [09:34:38] WARNING: no name column found on line 45\n",
      "RDKit WARNING: [09:34:38] WARNING: no name column found on line 46\n",
      "RDKit WARNING: [09:34:38] WARNING: no name column found on line 47\n",
      "RDKit WARNING: [09:34:38] WARNING: no name column found on line 48\n",
      "RDKit WARNING: [09:34:38] WARNING: no name column found on line 49\n",
      "RDKit WARNING: [09:34:38] WARNING: no name column found on line 50\n",
      "RDKit WARNING: [09:34:38] WARNING: no name column found on line 51\n",
      "RDKit WARNING: [09:34:38] WARNING: no name column found on line 52\n",
      "RDKit WARNING: [09:34:38] WARNING: no name column found on line 53\n",
      "RDKit WARNING: [09:34:38] WARNING: no name column found on line 54\n",
      "RDKit WARNING: [09:34:38] WARNING: no name column found on line 55\n",
      "RDKit WARNING: [09:34:38] WARNING: no name column found on line 56\n",
      "RDKit WARNING: [09:34:38] WARNING: no name column found on line 57\n",
      "RDKit WARNING: [09:34:38] WARNING: no name column found on line 58\n",
      "RDKit WARNING: [09:34:38] WARNING: no name column found on line 59\n",
      "RDKit WARNING: [09:34:38] WARNING: no name column found on line 60\n",
      "RDKit WARNING: [09:34:38] WARNING: no name column found on line 61\n",
      "RDKit WARNING: [09:34:38] WARNING: no name column found on line 62\n",
      "RDKit WARNING: [09:34:38] WARNING: no name column found on line 63\n",
      "RDKit WARNING: [09:34:38] WARNING: no name column found on line 64\n",
      "RDKit WARNING: [09:34:38] WARNING: no name column found on line 65\n",
      "RDKit WARNING: [09:34:38] WARNING: no name column found on line 66\n",
      "RDKit WARNING: [09:34:38] WARNING: no name column found on line 67\n",
      "RDKit WARNING: [09:34:38] WARNING: no name column found on line 68\n",
      "RDKit WARNING: [09:34:38] WARNING: no name column found on line 69\n",
      "RDKit WARNING: [09:34:38] WARNING: no name column found on line 70\n",
      "RDKit WARNING: [09:34:38] WARNING: no name column found on line 71\n",
      "RDKit WARNING: [09:34:38] WARNING: no name column found on line 72\n",
      "RDKit WARNING: [09:34:38] WARNING: no name column found on line 73\n",
      "RDKit WARNING: [09:34:38] WARNING: no name column found on line 74\n",
      "RDKit WARNING: [09:34:38] WARNING: no name column found on line 75\n",
      "RDKit WARNING: [09:34:38] WARNING: no name column found on line 76\n",
      "RDKit WARNING: [09:34:38] WARNING: no name column found on line 77\n",
      "RDKit WARNING: [09:34:38] WARNING: no name column found on line 78\n",
      "RDKit WARNING: [09:34:38] WARNING: no name column found on line 79\n",
      "RDKit WARNING: [09:34:38] WARNING: no name column found on line 80\n",
      "RDKit WARNING: [09:34:38] WARNING: no name column found on line 81\n",
      "RDKit WARNING: [09:34:38] WARNING: no name column found on line 82\n",
      "RDKit WARNING: [09:34:38] WARNING: no name column found on line 83\n",
      "RDKit WARNING: [09:34:38] WARNING: no name column found on line 84\n",
      "RDKit WARNING: [09:34:38] WARNING: no name column found on line 85\n",
      "RDKit WARNING: [09:34:38] WARNING: no name column found on line 86\n",
      "RDKit WARNING: [09:34:38] WARNING: no name column found on line 87\n",
      "RDKit WARNING: [09:34:38] WARNING: no name column found on line 88\n",
      "RDKit WARNING: [09:34:38] WARNING: no name column found on line 89\n",
      "RDKit WARNING: [09:34:38] WARNING: no name column found on line 90\n",
      "RDKit WARNING: [09:34:38] WARNING: no name column found on line 91\n",
      "RDKit WARNING: [09:34:38] WARNING: no name column found on line 92\n",
      "RDKit WARNING: [09:34:38] WARNING: no name column found on line 93\n",
      "RDKit WARNING: [09:34:38] WARNING: no name column found on line 94\n",
      "RDKit WARNING: [09:34:38] WARNING: no name column found on line 95\n",
      "RDKit WARNING: [09:34:38] WARNING: no name column found on line 96\n",
      "RDKit WARNING: [09:34:38] WARNING: no name column found on line 97\n",
      "RDKit WARNING: [09:34:38] WARNING: no name column found on line 98\n",
      "RDKit WARNING: [09:34:38] WARNING: no name column found on line 99\n",
      "RDKit WARNING: [09:34:38] WARNING: no name column found on line 100\n",
      "RDKit WARNING: [09:34:38] WARNING: no name column found on line 101\n",
      "RDKit WARNING: [09:34:38] WARNING: no name column found on line 102\n",
      "RDKit WARNING: [09:34:38] WARNING: no name column found on line 103\n",
      "RDKit WARNING: [09:34:38] WARNING: no name column found on line 104\n",
      "RDKit WARNING: [09:34:38] WARNING: no name column found on line 105\n",
      "RDKit WARNING: [09:34:38] WARNING: no name column found on line 106\n",
      "RDKit WARNING: [09:34:38] WARNING: no name column found on line 107\n",
      "RDKit WARNING: [09:34:38] WARNING: no name column found on line 108\n",
      "RDKit WARNING: [09:34:38] WARNING: no name column found on line 109\n",
      "RDKit WARNING: [09:34:38] WARNING: no name column found on line 110\n",
      "RDKit WARNING: [09:34:38] WARNING: no name column found on line 111\n",
      "RDKit WARNING: [09:34:38] WARNING: no name column found on line 112\n",
      "RDKit WARNING: [09:34:38] WARNING: no name column found on line 113\n",
      "RDKit WARNING: [09:34:38] WARNING: no name column found on line 114\n",
      "RDKit WARNING: [09:34:38] WARNING: no name column found on line 115\n",
      "RDKit WARNING: [09:34:38] WARNING: no name column found on line 116\n",
      "RDKit WARNING: [09:34:38] WARNING: no name column found on line 117\n",
      "RDKit WARNING: [09:34:38] WARNING: no name column found on line 118\n",
      "RDKit WARNING: [09:34:38] WARNING: no name column found on line 119\n",
      "RDKit WARNING: [09:34:38] WARNING: no name column found on line 120\n",
      "RDKit WARNING: [09:34:38] WARNING: no name column found on line 121\n",
      "RDKit WARNING: [09:34:38] WARNING: no name column found on line 122\n",
      "RDKit WARNING: [09:34:38] WARNING: no name column found on line 123\n",
      "RDKit WARNING: [09:34:38] WARNING: no name column found on line 124\n",
      "RDKit WARNING: [09:34:38] WARNING: no name column found on line 125\n",
      "RDKit WARNING: [09:34:38] WARNING: no name column found on line 126\n",
      "RDKit WARNING: [09:34:38] WARNING: no name column found on line 127\n",
      "RDKit WARNING: [09:34:38] WARNING: no name column found on line 128\n",
      "RDKit WARNING: [09:34:38] WARNING: no name column found on line 129\n",
      "RDKit WARNING: [09:34:38] WARNING: no name column found on line 130\n",
      "RDKit WARNING: [09:34:38] WARNING: no name column found on line 131\n",
      "RDKit WARNING: [09:34:38] WARNING: no name column found on line 132\n",
      "RDKit WARNING: [09:34:38] WARNING: no name column found on line 133\n",
      "RDKit WARNING: [09:34:38] WARNING: no name column found on line 134\n",
      "RDKit WARNING: [09:34:38] WARNING: no name column found on line 135\n",
      "RDKit WARNING: [09:34:38] WARNING: no name column found on line 136\n",
      "RDKit WARNING: [09:34:38] WARNING: no name column found on line 137\n",
      "RDKit WARNING: [09:34:38] WARNING: no name column found on line 138\n",
      "RDKit WARNING: [09:34:38] WARNING: no name column found on line 139\n",
      "RDKit WARNING: [09:34:38] WARNING: no name column found on line 140\n",
      "RDKit WARNING: [09:34:38] WARNING: no name column found on line 141\n",
      "RDKit WARNING: [09:34:38] WARNING: no name column found on line 142\n",
      "RDKit WARNING: [09:34:38] WARNING: no name column found on line 143\n",
      "RDKit WARNING: [09:34:38] WARNING: no name column found on line 144\n",
      "RDKit WARNING: [09:34:38] WARNING: no name column found on line 145\n",
      "RDKit WARNING: [09:34:38] WARNING: no name column found on line 146\n",
      "RDKit WARNING: [09:34:38] WARNING: no name column found on line 147\n",
      "RDKit WARNING: [09:34:38] WARNING: no name column found on line 148\n",
      "RDKit WARNING: [09:34:38] WARNING: no name column found on line 149\n",
      "RDKit WARNING: [09:34:38] WARNING: no name column found on line 150\n",
      "RDKit WARNING: [09:34:38] WARNING: no name column found on line 151\n",
      "RDKit WARNING: [09:34:38] WARNING: no name column found on line 152\n",
      "RDKit WARNING: [09:34:38] WARNING: no name column found on line 153\n",
      "RDKit WARNING: [09:34:38] WARNING: no name column found on line 154\n",
      "RDKit WARNING: [09:34:38] WARNING: no name column found on line 155\n",
      "RDKit WARNING: [09:34:38] WARNING: no name column found on line 156\n",
      "RDKit WARNING: [09:34:38] WARNING: no name column found on line 157\n",
      "RDKit WARNING: [09:34:38] WARNING: no name column found on line 158\n",
      "RDKit WARNING: [09:34:38] WARNING: no name column found on line 159\n",
      "RDKit WARNING: [09:34:38] WARNING: no name column found on line 160\n",
      "RDKit WARNING: [09:34:38] WARNING: no name column found on line 161\n",
      "RDKit WARNING: [09:34:38] WARNING: no name column found on line 162\n",
      "RDKit WARNING: [09:34:38] WARNING: no name column found on line 163\n",
      "RDKit WARNING: [09:34:38] WARNING: no name column found on line 164\n",
      "RDKit WARNING: [09:34:38] WARNING: no name column found on line 165\n",
      "RDKit WARNING: [09:34:38] WARNING: no name column found on line 166\n",
      "RDKit WARNING: [09:34:38] WARNING: no name column found on line 167\n",
      "RDKit WARNING: [09:34:38] WARNING: no name column found on line 168\n",
      "RDKit WARNING: [09:34:38] WARNING: no name column found on line 169\n",
      "RDKit WARNING: [09:34:38] WARNING: no name column found on line 170\n",
      "RDKit WARNING: [09:34:38] WARNING: no name column found on line 171\n",
      "RDKit WARNING: [09:34:38] WARNING: no name column found on line 172\n",
      "RDKit WARNING: [09:34:38] WARNING: no name column found on line 173\n",
      "RDKit WARNING: [09:34:38] WARNING: no name column found on line 174\n",
      "RDKit WARNING: [09:34:38] WARNING: no name column found on line 175\n",
      "RDKit WARNING: [09:34:38] WARNING: no name column found on line 176\n",
      "RDKit WARNING: [09:34:38] WARNING: no name column found on line 177\n",
      "RDKit WARNING: [09:34:38] WARNING: no name column found on line 178\n",
      "RDKit WARNING: [09:34:38] WARNING: no name column found on line 179\n",
      "RDKit WARNING: [09:34:38] WARNING: no name column found on line 180\n",
      "RDKit WARNING: [09:34:38] WARNING: no name column found on line 181\n",
      "RDKit WARNING: [09:34:38] WARNING: no name column found on line 182\n",
      "RDKit WARNING: [09:34:38] WARNING: no name column found on line 183\n",
      "RDKit WARNING: [09:34:38] WARNING: no name column found on line 184\n",
      "RDKit WARNING: [09:34:38] WARNING: no name column found on line 185\n",
      "RDKit WARNING: [09:34:38] WARNING: no name column found on line 186\n",
      "RDKit WARNING: [09:34:38] WARNING: no name column found on line 187\n",
      "RDKit WARNING: [09:34:38] WARNING: no name column found on line 188\n",
      "RDKit WARNING: [09:34:38] WARNING: no name column found on line 189\n",
      "RDKit WARNING: [09:34:38] WARNING: no name column found on line 190\n",
      "RDKit WARNING: [09:34:38] WARNING: no name column found on line 191\n",
      "RDKit WARNING: [09:34:38] WARNING: no name column found on line 192\n",
      "RDKit WARNING: [09:34:38] WARNING: no name column found on line 193\n",
      "RDKit WARNING: [09:34:38] WARNING: no name column found on line 194\n",
      "RDKit WARNING: [09:34:38] WARNING: no name column found on line 195\n",
      "RDKit WARNING: [09:34:38] WARNING: no name column found on line 196\n",
      "RDKit WARNING: [09:34:38] WARNING: no name column found on line 197\n",
      "RDKit WARNING: [09:34:38] WARNING: no name column found on line 198\n",
      "RDKit WARNING: [09:34:38] WARNING: no name column found on line 199\n",
      "RDKit WARNING: [09:34:38] WARNING: no name column found on line 200\n",
      "RDKit WARNING: [09:34:38] WARNING: no name column found on line 201\n",
      "RDKit WARNING: [09:34:38] WARNING: no name column found on line 202\n",
      "RDKit WARNING: [09:34:38] WARNING: no name column found on line 203\n",
      "RDKit WARNING: [09:34:38] WARNING: no name column found on line 204\n",
      "RDKit WARNING: [09:34:38] WARNING: no name column found on line 205\n",
      "RDKit WARNING: [09:34:38] WARNING: no name column found on line 206\n",
      "RDKit WARNING: [09:34:38] WARNING: no name column found on line 207\n",
      "RDKit WARNING: [09:34:38] WARNING: no name column found on line 208\n",
      "RDKit WARNING: [09:34:38] WARNING: no name column found on line 209\n",
      "RDKit WARNING: [09:34:38] WARNING: no name column found on line 210\n",
      "RDKit WARNING: [09:34:38] WARNING: no name column found on line 211\n",
      "RDKit WARNING: [09:34:38] WARNING: no name column found on line 212\n",
      "RDKit WARNING: [09:34:38] WARNING: no name column found on line 213\n",
      "RDKit WARNING: [09:34:38] WARNING: no name column found on line 214\n",
      "RDKit WARNING: [09:34:38] WARNING: no name column found on line 215\n",
      "RDKit WARNING: [09:34:38] WARNING: no name column found on line 216\n",
      "RDKit WARNING: [09:34:38] WARNING: no name column found on line 217\n",
      "RDKit WARNING: [09:34:38] WARNING: no name column found on line 218\n",
      "RDKit WARNING: [09:34:38] WARNING: no name column found on line 219\n",
      "RDKit WARNING: [09:34:38] WARNING: no name column found on line 220\n",
      "RDKit WARNING: [09:34:38] WARNING: no name column found on line 221\n",
      "RDKit WARNING: [09:34:38] WARNING: no name column found on line 222\n",
      "RDKit WARNING: [09:34:38] WARNING: no name column found on line 223\n",
      "RDKit WARNING: [09:34:38] WARNING: no name column found on line 224\n",
      "RDKit WARNING: [09:34:38] WARNING: no name column found on line 225\n",
      "RDKit WARNING: [09:34:38] WARNING: no name column found on line 226\n",
      "RDKit WARNING: [09:34:38] WARNING: no name column found on line 227\n",
      "RDKit WARNING: [09:34:38] WARNING: no name column found on line 228\n",
      "RDKit WARNING: [09:34:38] WARNING: no name column found on line 229\n",
      "RDKit WARNING: [09:34:38] WARNING: no name column found on line 230\n",
      "RDKit WARNING: [09:34:38] WARNING: no name column found on line 231\n",
      "RDKit WARNING: [09:34:38] WARNING: no name column found on line 232\n",
      "RDKit WARNING: [09:34:38] WARNING: no name column found on line 233\n",
      "RDKit WARNING: [09:34:38] WARNING: no name column found on line 234\n",
      "RDKit WARNING: [09:34:38] WARNING: no name column found on line 235\n",
      "RDKit WARNING: [09:34:38] WARNING: no name column found on line 236\n",
      "RDKit WARNING: [09:34:38] WARNING: no name column found on line 237\n",
      "RDKit WARNING: [09:34:38] WARNING: no name column found on line 238\n",
      "RDKit WARNING: [09:34:38] WARNING: no name column found on line 239\n",
      "RDKit WARNING: [09:34:38] WARNING: no name column found on line 240\n",
      "RDKit WARNING: [09:34:38] WARNING: no name column found on line 241\n",
      "RDKit WARNING: [09:34:38] WARNING: no name column found on line 242\n",
      "RDKit WARNING: [09:34:38] WARNING: no name column found on line 243\n",
      "RDKit WARNING: [09:34:38] WARNING: no name column found on line 244\n",
      "RDKit WARNING: [09:34:38] WARNING: no name column found on line 245\n",
      "RDKit WARNING: [09:34:38] WARNING: no name column found on line 246\n",
      "RDKit WARNING: [09:34:38] WARNING: no name column found on line 247\n",
      "RDKit WARNING: [09:34:38] WARNING: no name column found on line 248\n",
      "RDKit WARNING: [09:34:38] WARNING: no name column found on line 249\n",
      "RDKit WARNING: [09:34:38] WARNING: no name column found on line 250\n",
      "RDKit WARNING: [09:34:38] WARNING: no name column found on line 251\n",
      "RDKit WARNING: [09:34:38] WARNING: no name column found on line 252\n",
      "RDKit WARNING: [09:34:38] WARNING: no name column found on line 253\n",
      "RDKit WARNING: [09:34:38] WARNING: no name column found on line 254\n",
      "RDKit WARNING: [09:34:38] WARNING: no name column found on line 255\n",
      "RDKit WARNING: [09:34:38] WARNING: no name column found on line 256\n",
      "RDKit WARNING: [09:34:38] WARNING: no name column found on line 257\n",
      "RDKit WARNING: [09:34:38] WARNING: no name column found on line 258\n",
      "RDKit WARNING: [09:34:38] WARNING: no name column found on line 259\n",
      "RDKit WARNING: [09:34:38] WARNING: no name column found on line 260\n",
      "RDKit WARNING: [09:34:38] WARNING: no name column found on line 261\n",
      "RDKit WARNING: [09:34:38] WARNING: no name column found on line 262\n",
      "RDKit WARNING: [09:34:38] WARNING: no name column found on line 263\n",
      "RDKit WARNING: [09:34:38] WARNING: no name column found on line 264\n",
      "RDKit WARNING: [09:34:38] WARNING: no name column found on line 265\n",
      "RDKit WARNING: [09:34:38] WARNING: no name column found on line 266\n",
      "RDKit WARNING: [09:34:38] WARNING: no name column found on line 267\n",
      "RDKit WARNING: [09:34:38] WARNING: no name column found on line 268\n",
      "RDKit WARNING: [09:34:38] WARNING: no name column found on line 269\n",
      "RDKit WARNING: [09:34:38] WARNING: no name column found on line 270\n",
      "RDKit WARNING: [09:34:38] WARNING: no name column found on line 271\n",
      "RDKit WARNING: [09:34:38] WARNING: no name column found on line 272\n",
      "RDKit WARNING: [09:34:38] WARNING: no name column found on line 273\n",
      "RDKit WARNING: [09:34:38] WARNING: no name column found on line 274\n",
      "RDKit WARNING: [09:34:38] WARNING: no name column found on line 275\n",
      "RDKit WARNING: [09:34:38] WARNING: no name column found on line 276\n",
      "RDKit WARNING: [09:34:38] WARNING: no name column found on line 277\n"
     ]
    }
   ],
   "source": [
    "AR_mols.ReadMolecules()"
   ]
  },
  {
   "cell_type": "code",
   "execution_count": 6,
   "metadata": {},
   "outputs": [
    {
     "name": "stdout",
     "output_type": "stream",
     "text": [
      "278\n",
      "278\n"
     ]
    }
   ],
   "source": [
    "AR_bio = np.genfromtxt('./tutorial/datasets/5AR.bio.txt',skip_header=0) \n",
    "print len(AR_mols.mols)\n",
    "print len(AR_bio)"
   ]
  },
  {
   "cell_type": "code",
   "execution_count": 8,
   "metadata": {},
   "outputs": [
    {
     "name": "stdout",
     "output_type": "stream",
     "text": [
      "278 28 250\n",
      "278 28 250\n"
     ]
    }
   ],
   "source": [
    "stride = int(len(AR_mols.mols) * 0.9)\n",
    "training = AR_mols.mols[0:stride]\n",
    "test = AR_mols.mols[stride:len(AR_mols.mols)]\n",
    "training_mols_ids = AR_mols.mols_ids[0:stride] # for sig-sub-extract\n",
    "print len(AR_mols.mols), len(test), len(training)\n",
    "\n",
    "bio_training = AR_bio[0:stride]\n",
    "bio_test = AR_bio[stride:len(AR_mols.mols)]\n",
    "print len(AR_bio), len(bio_test), len(bio_training)"
   ]
  },
  {
   "cell_type": "markdown",
   "metadata": {},
   "source": [
    "## A.0 substructure extraction"
   ]
  },
  {
   "cell_type": "markdown",
   "metadata": {},
   "source": [
    "The length of the substructure dictionary indicates the total number of distinct substructures present in the training set **satisfying the bond radii indicated by the user**, whereas the number of keys for each dictionary element indicates the number of distinct molecules in which the substructure is present."
   ]
  },
  {
   "cell_type": "markdown",
   "metadata": {},
   "source": [
    "### A.0.1 whole substructure extraction"
   ]
  },
  {
   "cell_type": "code",
   "execution_count": 9,
   "metadata": {},
   "outputs": [],
   "source": [
    "#  Reference molecules\n",
    "reference_molecules = bioalerts.LoadMolecules.GetDataSetInfo(name_field=None)"
   ]
  },
  {
   "cell_type": "code",
   "execution_count": null,
   "metadata": {},
   "outputs": [],
   "source": [
    "#fps_training.substructure_ids"
   ]
  },
  {
   "cell_type": "code",
   "execution_count": 10,
   "metadata": {},
   "outputs": [],
   "source": [
    "reference_molecules.extract_substructure_information(radii=[0,1,2],mols=training)"
   ]
  },
  {
   "cell_type": "code",
   "execution_count": 11,
   "metadata": {},
   "outputs": [
    {
     "name": "stdout",
     "output_type": "stream",
     "text": [
      "1205\n"
     ]
    }
   ],
   "source": [
    "reference_keys = reference_molecules.substructure_dictionary.keys()\n",
    "print len(reference_keys)"
   ]
  },
  {
   "cell_type": "markdown",
   "metadata": {},
   "source": [
    "### A.0.2 significant substructure extraction"
   ]
  },
  {
   "cell_type": "code",
   "execution_count": 12,
   "metadata": {},
   "outputs": [],
   "source": [
    "significant_reference_molecules = bioalerts.LoadMolecules.GetDataSetInfo(name_field=None)\n",
    "significant_reference_molecules.extract_substructure_information(radii=[0,1,2],mols=training)"
   ]
  },
  {
   "cell_type": "code",
   "execution_count": 13,
   "metadata": {},
   "outputs": [],
   "source": [
    "Alerts_continuous_high_activity = bioalerts.Alerts.CalculatePvaluesContinuous(radii_ext=[0,1,2])"
   ]
  },
  {
   "cell_type": "code",
   "execution_count": 14,
   "metadata": {},
   "outputs": [],
   "source": [
    "def calculate_bioactivity_threshold(bio,threshold):\n",
    "    # a pIC50 is smaller, higher activity \n",
    "    \n",
    "    sorted_bio = sorted(bio)\n",
    "    threshold_bio_value = sorted_bio[int(len(sorted_bio)*threshold)]\n",
    "    \n",
    "    print(\"activity ratio is {}\".format(1-threshold))\n",
    "    print(\"threshold value is {}\".format(threshold_bio_value))\n",
    "    print(\"actual bioactivity value is {}\".format(np.power(10,9 - threshold_bio_value)))\n",
    "    return threshold_bio_value"
   ]
  },
  {
   "cell_type": "code",
   "execution_count": 15,
   "metadata": {},
   "outputs": [
    {
     "name": "stdout",
     "output_type": "stream",
     "text": [
      "activity ratio is 0.67\n",
      "threshold value is 6.525783736\n",
      "actual bioactivity value is 297.999999948\n"
     ]
    }
   ],
   "source": [
    "threshold_= 0.33\n",
    "threshold_bio_value = calculate_bioactivity_threshold(AR_bio,threshold_)\n",
    "\n",
    "threshold_nb_substructures = 10\n",
    "threshold_ratio = 0.3\n",
    "threshold_high_act_nb_substructures = 3 #5\n",
    "threshold_high_act_ratio = 0.15 #0.5                                                                  \n",
    "\n",
    "# maybe no necessary to change\n",
    "threshold_pvalue = 0.05 "
   ]
  },
  {
   "cell_type": "code",
   "execution_count": 29,
   "metadata": {},
   "outputs": [],
   "source": [
    "significant_substructure = {}\n",
    "significant_substructure = Alerts_continuous_high_activity.get_significant_substructure_with_high_bioactivity(\n",
    "mols = training,\n",
    "     substructure_dictionary = significant_reference_molecules.substructure_dictionary,\n",
    "     bioactivities = bio_training,\n",
    "     mols_ids = training_mols_ids[:],\n",
    "     threshold_nb_substructures = threshold_nb_substructures,\n",
    "     threshold_pvalue = threshold_pvalue,\n",
    "     threshold_ratio=threshold_ratio,\n",
    "     threshold_high_act_nb_substructures=threshold_high_act_nb_substructures,\n",
    "     threshold_high_act_ratio = threshold_high_act_ratio,                                                                        \n",
    "     threshold_bioactivity=threshold_bio_value)"
   ]
  },
  {
   "cell_type": "code",
   "execution_count": 30,
   "metadata": {},
   "outputs": [
    {
     "data": {
      "text/plain": [
       "31"
      ]
     },
     "execution_count": 30,
     "metadata": {},
     "output_type": "execute_result"
    }
   ],
   "source": [
    "significant_reference_keys = significant_substructure.keys()\n",
    "len(significant_reference_keys)"
   ]
  },
  {
   "cell_type": "code",
   "execution_count": 31,
   "metadata": {},
   "outputs": [],
   "source": [
    "mol_id_set = set()\n",
    "for k,v in significant_substructure.items():\n",
    "    for mol_id in v: \n",
    "        mol_id_set.add(mol_id)"
   ]
  },
  {
   "cell_type": "code",
   "execution_count": 32,
   "metadata": {},
   "outputs": [
    {
     "name": "stdout",
     "output_type": "stream",
     "text": [
      "number of total substructure : 1205\n",
      "number of extracted significant substructure : 31\n",
      "250 out of 250 have the label which represent remaining significant substructure\n",
      "\n",
      "THRESHOLD - \n",
      "\tnumber of substructures : 10\n",
      "\tp value : 0.05\n",
      "\tratio : 0.3\n",
      "\tnumber of high activity threshold : 3\n",
      "\thigh activity ratio : 0.15\n",
      "\thigh bioactivity threshold : 0.33\n",
      "\n"
     ]
    }
   ],
   "source": [
    "print('number of total substructure : {}'.format(len(significant_reference_molecules.substructure_dictionary)))\n",
    "print('number of extracted significant substructure : {}'.format(len(significant_substructure)))\n",
    "print('{} out of {} have the label which represent remaining significant substructure\\n'.format(len(mol_id_set),len(bio_training)))\n",
    "\n",
    "print ('THRESHOLD - \\n\\tnumber of substructures : {}\\n\\tp value : {}\\n\\tratio : {}\\n\\tnumber of high activity threshold : {}\\n\\thigh activity ratio : {}\\n\\thigh bioactivity threshold : {}\\n'\n",
    "       .format(threshold_nb_substructures,threshold_pvalue,threshold_ratio,threshold_high_act_nb_substructures,threshold_high_act_ratio,threshold_ ))"
   ]
  },
  {
   "cell_type": "code",
   "execution_count": 28,
   "metadata": {},
   "outputs": [],
   "source": [
    "# run the code when you repair hyperparameter\n",
    "if len(significant_substructure) is not 0 :\n",
    "    significant_substructure.clear()\n",
    "if len(mol_id_set) is not 0 :\n",
    "    mol_id_set.clear()\n",
    "if len(significant_reference_keys) is not 0:\n",
    "    significant_reference_keys = []"
   ]
  },
  {
   "cell_type": "markdown",
   "metadata": {},
   "source": [
    "### A.1 Computating HASHED Morgan fingerprints for the TRAINING set"
   ]
  },
  {
   "cell_type": "markdown",
   "metadata": {},
   "source": [
    "We first initialize the class bioalerts.FPCalculator.CalculateFPs()"
   ]
  },
  {
   "cell_type": "code",
   "execution_count": 33,
   "metadata": {},
   "outputs": [],
   "source": [
    "fps_training = bioalerts.FPCalculator.CalculateFPs(radii=[0,1,2],mols=training)\n",
    "fps_training_with_refer = bioalerts.FPCalculator.CalculateFPs(radii=[0,1,2],mols=training,reference_substructure_keys=reference_keys)\n",
    "fps_training_with_sig_refer = bioalerts.FPCalculator.CalculateFPs(radii=[2,3,4,5],mols=training,reference_substructure_keys=significant_reference_keys)\n",
    "\n",
    "# reference keys have no effect to hashed, only to unhashed "
   ]
  },
  {
   "cell_type": "code",
   "execution_count": 34,
   "metadata": {},
   "outputs": [],
   "source": [
    "fps_training.calculate_hashed_fps_binary_quick(nBits=128)"
   ]
  },
  {
   "cell_type": "code",
   "execution_count": 35,
   "metadata": {},
   "outputs": [
    {
     "name": "stdout",
     "output_type": "stream",
     "text": [
      "(250, 128)\n"
     ]
    }
   ],
   "source": [
    "print fps_training.fps_hashed_binary_quick.shape"
   ]
  },
  {
   "cell_type": "markdown",
   "metadata": {},
   "source": [
    "The method \"calculate_hashed_fps_binary_quick()\" considers all substructures with a bond radius smaller or equal to the maximum value of the argument radii. In this example, 2. Thus, in this case this method will consider all substructures with a bond radius of 0, 1 and 2."
   ]
  },
  {
   "cell_type": "code",
   "execution_count": 36,
   "metadata": {},
   "outputs": [],
   "source": [
    "fps_training.calculate_hashed_fps(nBits=128)"
   ]
  },
  {
   "cell_type": "code",
   "execution_count": 37,
   "metadata": {},
   "outputs": [
    {
     "name": "stdout",
     "output_type": "stream",
     "text": [
      "(250, 128)\n",
      "(250, 128)\n"
     ]
    }
   ],
   "source": [
    "print fps_training.fps_hashed_binary.shape\n",
    "print fps_training.fps_hashed_counts.shape"
   ]
  },
  {
   "cell_type": "markdown",
   "metadata": {},
   "source": [
    "The method **\"calculate_hashed_fps()\"** computes hashed fingerpints in **(i) count** and **(ii) also binary format**. The difference of the method *calculate_hashed_fps()* with respect to the method *calculate_hashed_fps_binary_quick()* is that the **former only consider the substructures with a bond radius in the list input** to the argument radii when instantiating the class bioalerts.FPCalculator.CalculateFPs(). In the example above: [1,2].\n",
    "\n",
    "Therefore, the hashed fingerprints in binary format calculated by these two methods will be *identical* if the bond radii especified in the aforesaid argument radii comprise all natural number from 0 to the maximum bond radius. In this example, this would be correspond to setting the value of the argument radii to [0,1,2]."
   ]
  },
  {
   "cell_type": "code",
   "execution_count": 38,
   "metadata": {},
   "outputs": [
    {
     "name": "stdout",
     "output_type": "stream",
     "text": [
      "True\n"
     ]
    }
   ],
   "source": [
    "print (fps_training.fps_hashed_binary_quick == fps_training.fps_hashed_binary).all()"
   ]
  },
  {
   "cell_type": "code",
   "execution_count": 39,
   "metadata": {},
   "outputs": [
    {
     "data": {
      "text/plain": [
       "array([[0, 1, 0, ..., 1, 0, 0],\n",
       "       [0, 1, 0, ..., 0, 1, 0],\n",
       "       [0, 0, 0, ..., 0, 0, 0],\n",
       "       ...,\n",
       "       [0, 1, 0, ..., 1, 0, 0],\n",
       "       [0, 1, 0, ..., 1, 0, 0],\n",
       "       [0, 0, 0, ..., 0, 0, 0]])"
      ]
     },
     "execution_count": 39,
     "metadata": {},
     "output_type": "execute_result"
    }
   ],
   "source": [
    "toto = fps_training.fps_hashed_counts\n",
    "toto\n",
    "#toto.shape #(250L, 128L)"
   ]
  },
  {
   "cell_type": "code",
   "execution_count": 40,
   "metadata": {},
   "outputs": [
    {
     "data": {
      "text/plain": [
       "array([[1, 0, 0, 1, 1, 0, 0, 0, 0],\n",
       "       [0, 0, 0, 0, 0, 0, 0, 0, 0],\n",
       "       [0, 1, 0, 0, 0, 0, 1, 0, 0],\n",
       "       [1, 0, 0, 0, 0, 0, 1, 1, 0],\n",
       "       [0, 0, 0, 0, 0, 0, 1, 1, 0],\n",
       "       [1, 0, 0, 0, 0, 0, 0, 1, 0],\n",
       "       [0, 0, 0, 0, 1, 0, 0, 0, 0],\n",
       "       [0, 0, 1, 0, 0, 0, 0, 0, 0],\n",
       "       [1, 1, 0, 0, 1, 1, 1, 1, 0]])"
      ]
     },
     "execution_count": 40,
     "metadata": {},
     "output_type": "execute_result"
    }
   ],
   "source": [
    "fps_training.fps_hashed_binary[1:10,1:10]"
   ]
  },
  {
   "cell_type": "code",
   "execution_count": 41,
   "metadata": {},
   "outputs": [
    {
     "data": {
      "text/plain": [
       "array([[1, 0, 0, 1, 1, 0, 0, 0, 0],\n",
       "       [0, 0, 0, 0, 0, 0, 0, 0, 0],\n",
       "       [0, 1, 0, 0, 0, 0, 1, 0, 0],\n",
       "       [1, 0, 0, 0, 0, 0, 1, 1, 0],\n",
       "       [0, 0, 0, 0, 0, 0, 1, 1, 0],\n",
       "       [1, 0, 0, 0, 0, 0, 0, 1, 0],\n",
       "       [0, 0, 0, 0, 1, 0, 0, 0, 0],\n",
       "       [0, 0, 1, 0, 0, 0, 0, 0, 0],\n",
       "       [1, 1, 0, 0, 1, 1, 1, 1, 0]])"
      ]
     },
     "execution_count": 41,
     "metadata": {},
     "output_type": "execute_result"
    }
   ],
   "source": [
    "fps_training.fps_hashed_binary_quick[1:10,1:10]"
   ]
  },
  {
   "cell_type": "markdown",
   "metadata": {},
   "source": [
    "### A.2 Computating UNHASHED Morgan fingerprints for the TRAINING set"
   ]
  },
  {
   "cell_type": "markdown",
   "metadata": {},
   "source": [
    "#### A.2.1 UNHASHED without reference dict"
   ]
  },
  {
   "cell_type": "code",
   "execution_count": 42,
   "metadata": {
    "scrolled": true
   },
   "outputs": [
    {
     "name": "stdout",
     "output_type": "stream",
     "text": [
      "No input set of keys for the substructures. \n",
      "Thus, the substructures present in the input molecules will be considered for the calculation of unhashed fingerprints.\n"
     ]
    }
   ],
   "source": [
    "fps_training.calculate_unhashed_fps(draw_substructures=True)"
   ]
  },
  {
   "cell_type": "code",
   "execution_count": 43,
   "metadata": {},
   "outputs": [
    {
     "data": {
      "text/plain": [
       "(250, 1205)"
      ]
     },
     "execution_count": 43,
     "metadata": {},
     "output_type": "execute_result"
    }
   ],
   "source": [
    "fps_training.fps_unhashed_binary.shape"
   ]
  },
  {
   "cell_type": "markdown",
   "metadata": {},
   "source": [
    "#### A.2.2 UNHASHED with reference dict"
   ]
  },
  {
   "cell_type": "code",
   "execution_count": 44,
   "metadata": {},
   "outputs": [],
   "source": [
    "fps_training_with_refer.calculate_unhashed_fps(draw_substructures=True)"
   ]
  },
  {
   "cell_type": "code",
   "execution_count": 45,
   "metadata": {
    "scrolled": true
   },
   "outputs": [
    {
     "data": {
      "text/plain": [
       "(250, 1205)"
      ]
     },
     "execution_count": 45,
     "metadata": {},
     "output_type": "execute_result"
    }
   ],
   "source": [
    "fps_training_with_refer.fps_unhashed_counts.shape"
   ]
  },
  {
   "cell_type": "markdown",
   "metadata": {},
   "source": [
    "check whether unhashed counts are same value or not between fps without refer and fps with refer"
   ]
  },
  {
   "cell_type": "code",
   "execution_count": 47,
   "metadata": {},
   "outputs": [
    {
     "name": "stdout",
     "output_type": "stream",
     "text": [
      "True\n"
     ]
    }
   ],
   "source": [
    "print (fps_training.fps_unhashed_counts == fps_training_with_refer.fps_unhashed_counts).all()"
   ]
  },
  {
   "cell_type": "markdown",
   "metadata": {},
   "source": [
    "#### A.2.3 UNHASHED with significant reference dict"
   ]
  },
  {
   "cell_type": "code",
   "execution_count": 46,
   "metadata": {},
   "outputs": [
    {
     "data": {
      "text/plain": [
       "(250, 31)"
      ]
     },
     "execution_count": 46,
     "metadata": {},
     "output_type": "execute_result"
    }
   ],
   "source": [
    "fps_training_with_sig_refer.calculate_unhashed_fps(draw_substructures=True)\n",
    "fps_training_with_sig_refer.fps_unhashed_counts.shape"
   ]
  },
  {
   "cell_type": "markdown",
   "metadata": {},
   "source": [
    "### A.3 Computating Morgan fingerprints for the TEST set "
   ]
  },
  {
   "cell_type": "markdown",
   "metadata": {},
   "source": [
    "#### A.3.1 Computating UNHASHED Morgan fingerprints for the test set using a different set of molecules:"
   ]
  },
  {
   "cell_type": "markdown",
   "metadata": {},
   "source": [
    "Since the positions of the substructures in the unhashed fingerprints depend on the training set, the method calculate_unhashed_fps() allows the computation of unhashed fingerprints for new compounds using a basis defined by the substructures present in the training set. This basis is defined by the keys of the substructure dictionary calculated for the molecules from the training set. This reference substructure dictionary is input to the class CalculateFPs() using the argument reference_substucture_keys.\n",
    "\n",
    "*This ensures that substructures in new compounds map to the same locations on the fingerprint and allows enhanced model interpretation by noting which exact substructures are deemed important by the learning algorithm.*"
   ]
  },
  {
   "cell_type": "code",
   "execution_count": 136,
   "metadata": {},
   "outputs": [],
   "source": [
    "#  Reference molecules\n",
    "#reference_molecules = bioalerts.LoadMolecules.GetDataSetInfo(name_field=None)"
   ]
  },
  {
   "cell_type": "code",
   "execution_count": 137,
   "metadata": {},
   "outputs": [
    {
     "data": {
      "text/plain": [
       "array([ 218993025, 3334525955,  757425542, ..., 1842898132, 1861965050,\n",
       "       1101907775], dtype=int64)"
      ]
     },
     "execution_count": 137,
     "metadata": {},
     "output_type": "execute_result"
    },
    {
     "data": {
      "text/plain": [
       "array([ 218993025, 3334525955,  757425542, ..., 1842898132, 1861965050,\n",
       "       1101907775], dtype=int64)"
      ]
     },
     "execution_count": 137,
     "metadata": {},
     "output_type": "execute_result"
    }
   ],
   "source": [
    "#fps_training.substructure_ids"
   ]
  },
  {
   "cell_type": "code",
   "execution_count": 138,
   "metadata": {},
   "outputs": [],
   "source": [
    "#reference_molecules.extract_substructure_information(radii=[0,1,2],mols=training)"
   ]
  },
  {
   "cell_type": "code",
   "execution_count": 139,
   "metadata": {},
   "outputs": [
    {
     "name": "stdout",
     "output_type": "stream",
     "text": [
      "1205\n",
      "1205\n"
     ]
    }
   ],
   "source": [
    "#reference_keys = reference_molecules.substructure_dictionary.keys()\n",
    "#print len(reference_keys)\n"
   ]
  },
  {
   "cell_type": "code",
   "execution_count": 48,
   "metadata": {},
   "outputs": [],
   "source": [
    "#initialization \n",
    "fps_test = bioalerts.FPCalculator.CalculateFPs(radii=[0,1,2],\n",
    "                                         mols=test,\n",
    "                                         reference_substructure_keys=reference_keys)\n",
    "\n",
    "fps_test_with_sig_refer = bioalerts.FPCalculator.CalculateFPs(radii=[2,3,4,5],\n",
    "                                                             mols=test,\n",
    "                                                             reference_substructure_keys=significant_reference_keys)"
   ]
  },
  {
   "cell_type": "code",
   "execution_count": 49,
   "metadata": {},
   "outputs": [],
   "source": [
    "fps_test.calculate_unhashed_fps()\n",
    "fps_test_with_sig_refer.calculate_unhashed_fps()"
   ]
  },
  {
   "cell_type": "code",
   "execution_count": 50,
   "metadata": {},
   "outputs": [
    {
     "name": "stdout",
     "output_type": "stream",
     "text": [
      "(28, 1205)\n",
      "(28, 31)\n"
     ]
    }
   ],
   "source": [
    "print fps_test.fps_unhashed_binary.shape\n",
    "print fps_test_with_sig_refer.fps_unhashed_binary.shape"
   ]
  },
  {
   "cell_type": "code",
   "execution_count": 51,
   "metadata": {
    "scrolled": true
   },
   "outputs": [
    {
     "data": {
      "text/plain": [
       "1205"
      ]
     },
     "execution_count": 51,
     "metadata": {},
     "output_type": "execute_result"
    }
   ],
   "source": [
    "len(fps_training.columns_unhashed)"
   ]
  },
  {
   "cell_type": "code",
   "execution_count": 52,
   "metadata": {},
   "outputs": [
    {
     "data": {
      "text/plain": [
       "(250, 128)"
      ]
     },
     "execution_count": 52,
     "metadata": {},
     "output_type": "execute_result"
    }
   ],
   "source": [
    "fps_training.fps_hashed_counts.shape"
   ]
  },
  {
   "cell_type": "markdown",
   "metadata": {},
   "source": [
    "#### A.3.2 Computating HASHED Morgan fingerprints for the test set (e.g. using a different set of molecules)"
   ]
  },
  {
   "cell_type": "code",
   "execution_count": 53,
   "metadata": {},
   "outputs": [],
   "source": [
    "fps_test.calculate_hashed_fps(nBits=128)"
   ]
  },
  {
   "cell_type": "markdown",
   "metadata": {},
   "source": [
    "### A.4 Training models "
   ]
  },
  {
   "cell_type": "markdown",
   "metadata": {},
   "source": [
    "#### A.4.1 Using hashed fps"
   ]
  },
  {
   "cell_type": "code",
   "execution_count": 65,
   "metadata": {},
   "outputs": [
    {
     "data": {
      "text/plain": [
       "RandomForestRegressor(bootstrap=True, criterion='mse', max_depth=None,\n",
       "           max_features='auto', max_leaf_nodes=None,\n",
       "           min_impurity_decrease=0.0, min_impurity_split=None,\n",
       "           min_samples_leaf=1, min_samples_split=2,\n",
       "           min_weight_fraction_leaf=0.0, n_estimators=100, n_jobs=2,\n",
       "           oob_score=False, random_state=23, verbose=0, warm_start=False)"
      ]
     },
     "execution_count": 65,
     "metadata": {},
     "output_type": "execute_result"
    }
   ],
   "source": [
    "#RF\n",
    "seed = 23\n",
    "RF_hashed_counts = RandomForestRegressor(n_estimators=100,random_state=seed,n_jobs=2)\n",
    "RF_hashed_counts.fit(fps_training.fps_hashed_counts,bio_training)\n",
    "\n",
    "# RF binary \n",
    "seed = 23 \n",
    "RF_hashed_binary = RandomForestRegressor(n_estimators=100,random_state=seed,n_jobs=2)\n",
    "RF_hashed_binary.fit(fps_training.fps_hashed_binary,bio_training)"
   ]
  },
  {
   "cell_type": "code",
   "execution_count": 66,
   "metadata": {},
   "outputs": [
    {
     "data": {
      "text/plain": [
       "KNeighborsRegressor(algorithm='auto', leaf_size=30, metric='jaccard',\n",
       "          metric_params=None, n_jobs=None, n_neighbors=5, p=2,\n",
       "          weights='distance')"
      ]
     },
     "execution_count": 66,
     "metadata": {},
     "output_type": "execute_result"
    }
   ],
   "source": [
    "# KNN\n",
    "KNN_hashed_counts = KNeighborsRegressor(n_neighbors=5, weights='distance', algorithm='auto',metric='jaccard')\n",
    "KNN_hashed_counts.fit(fps_training.fps_hashed_counts,bio_training)\n",
    "\n",
    "#KNN binary\n",
    "KNN_hashed_binary = KNeighborsRegressor(n_neighbors=5, weights='distance', algorithm='auto',metric='jaccard')\n",
    "KNN_hashed_binary.fit(fps_training.fps_hashed_binary,bio_training)"
   ]
  },
  {
   "cell_type": "code",
   "execution_count": 67,
   "metadata": {},
   "outputs": [
    {
     "data": {
      "text/plain": [
       "MLPRegressor(activation='relu', alpha=0.0001, batch_size='auto', beta_1=0.9,\n",
       "       beta_2=0.999, early_stopping=False, epsilon=1e-08,\n",
       "       hidden_layer_sizes=(50, 25, 10), learning_rate='adaptive',\n",
       "       learning_rate_init=0.001, max_iter=200, momentum=0.9,\n",
       "       n_iter_no_change=10, nesterovs_momentum=True, power_t=0.5,\n",
       "       random_state=23, shuffle=True, solver='adam', tol=0.0001,\n",
       "       validation_fraction=0.1, verbose=False, warm_start=False)"
      ]
     },
     "execution_count": 67,
     "metadata": {},
     "output_type": "execute_result"
    }
   ],
   "source": [
    "# MLP \n",
    "seed = 23\n",
    "MLP_hashed_counts = MLPRegressor(hidden_layer_sizes=(50,25,10),activation='relu', solver='adam',learning_rate='adaptive', random_state = seed)\n",
    "MLP_hashed_counts.fit(fps_training.fps_hashed_counts,bio_training)"
   ]
  },
  {
   "cell_type": "markdown",
   "metadata": {},
   "source": [
    "#### A.4.2 Using unhashed fps"
   ]
  },
  {
   "cell_type": "code",
   "execution_count": 68,
   "metadata": {},
   "outputs": [
    {
     "data": {
      "text/plain": [
       "RandomForestRegressor(bootstrap=True, criterion='mse', max_depth=None,\n",
       "           max_features='auto', max_leaf_nodes=None,\n",
       "           min_impurity_decrease=0.0, min_impurity_split=None,\n",
       "           min_samples_leaf=1, min_samples_split=2,\n",
       "           min_weight_fraction_leaf=0.0, n_estimators=100, n_jobs=2,\n",
       "           oob_score=False, random_state=23, verbose=0, warm_start=False)"
      ]
     },
     "execution_count": 68,
     "metadata": {},
     "output_type": "execute_result"
    }
   ],
   "source": [
    "#RF\n",
    "seed = 23\n",
    "RF_UNhashed_counts = RandomForestRegressor(n_estimators=100,random_state=seed,n_jobs=2)\n",
    "RF_UNhashed_counts.fit(fps_training.fps_unhashed_counts,bio_training)\n",
    "\n",
    "RF_UNhashed_counts_with_sig_refer = RandomForestRegressor(n_estimators=100,random_state=seed,n_jobs=2)\n",
    "RF_UNhashed_counts_with_sig_refer.fit(fps_training_with_sig_refer.fps_unhashed_counts,bio_training)\n",
    "\n",
    "# RF binary \n",
    "seed = 23 \n",
    "RF_UNhashed_binary = RandomForestRegressor(n_estimators=100,random_state=seed,n_jobs=2)\n",
    "RF_UNhashed_binary.fit(fps_training.fps_unhashed_binary,bio_training)\n",
    "\n",
    "RF_UNhashed_binary_with_sig_refer = RandomForestRegressor(n_estimators=100,random_state=seed,n_jobs=2)\n",
    "RF_UNhashed_binary_with_sig_refer.fit(fps_training_with_sig_refer.fps_unhashed_binary,bio_training)"
   ]
  },
  {
   "cell_type": "code",
   "execution_count": 69,
   "metadata": {},
   "outputs": [
    {
     "data": {
      "text/plain": [
       "KNeighborsRegressor(algorithm='auto', leaf_size=30, metric='jaccard',\n",
       "          metric_params=None, n_jobs=None, n_neighbors=5, p=2,\n",
       "          weights='distance')"
      ]
     },
     "execution_count": 69,
     "metadata": {},
     "output_type": "execute_result"
    }
   ],
   "source": [
    "# KNN\n",
    "KNN_UNhashed_counts = KNeighborsRegressor(n_neighbors=5, weights='distance', algorithm='auto',metric='jaccard')\n",
    "KNN_UNhashed_counts.fit(fps_training.fps_unhashed_counts,bio_training)\n",
    "\n",
    "KNN_UNhashed_counts_with_sig_refer = KNeighborsRegressor(n_neighbors=5, weights='distance', algorithm='auto',metric='jaccard')\n",
    "KNN_UNhashed_counts_with_sig_refer.fit(fps_training_with_sig_refer.fps_unhashed_counts,bio_training)\n",
    "\n",
    "#KNN binary \n",
    "KNN_UNhashed_binary = KNeighborsRegressor(n_neighbors=5, weights='distance', algorithm='auto',metric='jaccard')\n",
    "KNN_UNhashed_binary.fit(fps_training.fps_unhashed_binary,bio_training)\n",
    "\n",
    "KNN_UNhashed_binary_with_sig_refer = KNeighborsRegressor(n_neighbors=5, weights='distance', algorithm='auto',metric='jaccard')\n",
    "KNN_UNhashed_binary_with_sig_refer.fit(fps_training_with_sig_refer.fps_unhashed_binary,bio_training)"
   ]
  },
  {
   "cell_type": "code",
   "execution_count": 70,
   "metadata": {},
   "outputs": [
    {
     "data": {
      "text/plain": [
       "MLPRegressor(activation='relu', alpha=0.0001, batch_size='auto', beta_1=0.9,\n",
       "       beta_2=0.999, early_stopping=False, epsilon=1e-08,\n",
       "       hidden_layer_sizes=(50, 25, 10), learning_rate='adaptive',\n",
       "       learning_rate_init=0.001, max_iter=200, momentum=0.9,\n",
       "       n_iter_no_change=10, nesterovs_momentum=True, power_t=0.5,\n",
       "       random_state=23, shuffle=True, solver='adam', tol=0.0001,\n",
       "       validation_fraction=0.1, verbose=False, warm_start=False)"
      ]
     },
     "execution_count": 70,
     "metadata": {},
     "output_type": "execute_result"
    }
   ],
   "source": [
    "#MLP\n",
    "seed = 23 \n",
    "MLP_UNhashed_counts = MLPRegressor(hidden_layer_sizes=(50,25,10),activation='relu', solver='adam',learning_rate='adaptive', random_state = seed)\n",
    "MLP_UNhashed_counts.fit(fps_training.fps_unhashed_counts,bio_training)                                "
   ]
  },
  {
   "cell_type": "markdown",
   "metadata": {},
   "source": [
    "## A.5  predict bioactivities for the test set"
   ]
  },
  {
   "cell_type": "markdown",
   "metadata": {},
   "source": [
    "We define two functions for validating our predictions, namely: Pearson's correlation coefficient (R2) and root mean squared errro (RMSE)"
   ]
  },
  {
   "cell_type": "code",
   "execution_count": 71,
   "metadata": {},
   "outputs": [],
   "source": [
    "def Rsquared(pred,true):\n",
    "    slope, intercept, r_value, p_value, std_err = scipy.stats.linregress(true,pred)\n",
    "    return r_value**2\n",
    "\n",
    "def RMSE(pred,true):\n",
    "    rmse = np.sqrt(mean_squared_error(true,pred))\n",
    "    return rmse"
   ]
  },
  {
   "cell_type": "code",
   "execution_count": 72,
   "metadata": {},
   "outputs": [],
   "source": [
    "RF_preds_hashed = RF_hashed_counts.predict(fps_test.fps_hashed_counts)\n",
    "MLP_preds_hashed = MLP_hashed_counts.predict(fps_test.fps_hashed_counts)\n",
    "KNN_preds_hashed = KNN_hashed_counts.predict(fps_test.fps_hashed_counts)\n",
    "\n",
    "RF_preds_hashed_bin = RF_hashed_binary.predict(fps_test.fps_hashed_binary)\n",
    "KNN_preds_hashed_bin = KNN_hashed_binary.predict(fps_test.fps_hashed_binary)"
   ]
  },
  {
   "cell_type": "code",
   "execution_count": 73,
   "metadata": {},
   "outputs": [],
   "source": [
    "RF_preds_UNhashed = RF_UNhashed_counts.predict(fps_test.fps_unhashed_counts)\n",
    "KNN_preds_UNhashed = KNN_UNhashed_counts.predict(fps_test.fps_unhashed_counts)\n",
    "MLP_preds_UNhashed = MLP_UNhashed_counts.predict(fps_test.fps_unhashed_counts)\n",
    "\n",
    "RF_preds_UNhashed_bin = RF_UNhashed_binary.predict(fps_test.fps_unhashed_binary)\n",
    "KNN_preds_UNhashed_bin = KNN_UNhashed_binary.predict(fps_test.fps_unhashed_binary)\n",
    "\n",
    "RF_preds_UNhashed_with_sig_refer = RF_UNhashed_counts_with_sig_refer.predict(fps_test_with_sig_refer.fps_unhashed_counts)\n",
    "KNN_preds_UNhashed_with_sig_refer = KNN_UNhashed_counts_with_sig_refer.predict(fps_test_with_sig_refer.fps_unhashed_counts)\n",
    "\n",
    "RF_preds_UNhashed_with_sig_refer_bin = RF_UNhashed_binary_with_sig_refer.predict(fps_test_with_sig_refer.fps_unhashed_binary)\n",
    "KNN_preds_UNhashed_with_sig_refer_bin = KNN_UNhashed_binary_with_sig_refer.predict(fps_test_with_sig_refer.fps_unhashed_binary)"
   ]
  },
  {
   "cell_type": "markdown",
   "metadata": {},
   "source": [
    "## A.6 Model validation "
   ]
  },
  {
   "cell_type": "code",
   "execution_count": 76,
   "metadata": {},
   "outputs": [
    {
     "name": "stdout",
     "output_type": "stream",
     "text": [
      "========= COUNTS ========= \n",
      "RMSE RF hashed counts fps:  0.6349067825593026\n",
      "RMSE KNN hashed counts fps:  0.5902037552372623\n",
      "RMSE MLP hashed counts fps:  0.6775207323120627\n",
      "\n",
      "RMSE RF UNhashed counts fps:  0.644878359553079\n",
      "RMSE KNN UNhashed counts fps:  0.6843179083251608\n",
      "RMSE MLP UNhashed counts fps:  0.9994362650390597\n",
      "RMSE RF UNhashed counts fps with sig refer 0.8472336394014165\n",
      "RMSE KNN UNhashed counts fps with sig refer 0.8744071498994512\n",
      "\n",
      "========= BINARY ========= \n",
      "RMSE RF hashed binary fps:  0.6864513272611216\n",
      "RMSE KNN hashed binary fps:  0.6005301506526197\n",
      "\n",
      "RMSE RF UNhashed binary fps:  0.6070642459961657\n",
      "RMSE KNN UNhashed binary fps:  0.6736750332676493\n",
      "RMSE RF UNhashed binary fps with sig refer 0.8456577374310799\n",
      "RMSE KNN UNhashed binary fps with sig refer 0.8912418212730204\n"
     ]
    }
   ],
   "source": [
    "print \"========= COUNTS ========= \"\n",
    "print \"RMSE RF hashed counts fps: \", RMSE(RF_preds_hashed, bio_test)\n",
    "print \"RMSE KNN hashed counts fps: \", RMSE(KNN_preds_hashed, bio_test)\n",
    "print \"RMSE MLP hashed counts fps: \", RMSE(MLP_preds_hashed, bio_test)\n",
    "print\n",
    "print \"RMSE RF UNhashed counts fps: \", RMSE(RF_preds_UNhashed, bio_test)\n",
    "print \"RMSE KNN UNhashed counts fps: \", RMSE(KNN_preds_UNhashed, bio_test)\n",
    "print \"RMSE MLP UNhashed counts fps: \", RMSE(MLP_preds_UNhashed, bio_test)\n",
    "print \"RMSE RF UNhashed counts fps with sig refer\", RMSE(RF_preds_UNhashed_with_sig_refer,bio_test)\n",
    "print \"RMSE KNN UNhashed counts fps with sig refer\", RMSE(KNN_preds_UNhashed_with_sig_refer,bio_test)\n",
    "print\n",
    "print \"========= BINARY ========= \"\n",
    "print \"RMSE RF hashed binary fps: \", RMSE(RF_preds_hashed_bin, bio_test)\n",
    "print \"RMSE KNN hashed binary fps: \", RMSE(KNN_preds_hashed_bin, bio_test)\n",
    "print\n",
    "print \"RMSE RF UNhashed binary fps: \", RMSE(RF_preds_UNhashed_bin, bio_test)\n",
    "print \"RMSE KNN UNhashed binary fps: \", RMSE(KNN_preds_UNhashed_bin, bio_test)\n",
    "print \"RMSE RF UNhashed binary fps with sig refer\", RMSE(RF_preds_UNhashed_with_sig_refer_bin,bio_test)\n",
    "print \"RMSE KNN UNhashed binary fps with sig refer\", RMSE(KNN_preds_UNhashed_with_sig_refer_bin,bio_test)"
   ]
  },
  {
   "cell_type": "code",
   "execution_count": 80,
   "metadata": {},
   "outputs": [
    {
     "name": "stdout",
     "output_type": "stream",
     "text": [
      "========= COUNTS ========= \n",
      "R2 RF hashed fps:  0.6544171312924008\n",
      "R2 KNN hashed fps:  0.7831289073740177\n",
      "R2 MLP hashed fps:  0.7049414537947494\n",
      "\n",
      "R2 RF UNhashed fps:  0.6496775327858499\n",
      "R2 KNN UNhashed fps:  0.6814441494073264\n",
      "R2 MLP UNhashed fps:  0.43055998155483677\n",
      "R2 RF Unhashed fps with sig refer 0.34041634598514803\n",
      "R2 KNN Unhashed fps with sig refer 0.3530713140574211\n",
      "\n",
      "========= BINARY ========= \n",
      "R2 RF hashed binary fps:  0.5932456217916399\n",
      "R2 KNN hashed binary fps:  0.7736173616322083\n",
      "\n",
      "R2 RF UNhashed binary fps:  0.6895628319078321\n",
      "R2 KNN UNhashed binary fps:  0.6888883921089402\n",
      "R2 RF Unhashed bonary fps with sig refer 0.34065576463664526\n",
      "R2 KNN Unhashed binary fps with sig refer 0.3411916317153259\n"
     ]
    }
   ],
   "source": [
    "print \"========= COUNTS ========= \"\n",
    "print \"R2 RF hashed fps: \", Rsquared(RF_preds_hashed, bio_test)\n",
    "print \"R2 KNN hashed fps: \", Rsquared(KNN_preds_hashed, bio_test)\n",
    "print \"R2 MLP hashed fps: \", Rsquared(MLP_preds_hashed, bio_test)\n",
    "print\n",
    "print \"R2 RF UNhashed fps: \", Rsquared(RF_preds_UNhashed, bio_test)\n",
    "print \"R2 KNN UNhashed fps: \", Rsquared(KNN_preds_UNhashed, bio_test)\n",
    "print \"R2 MLP UNhashed fps: \", Rsquared(MLP_preds_UNhashed, bio_test)\n",
    "print \"R2 RF Unhashed fps with sig refer\", Rsquared(RF_preds_UNhashed_with_sig_refer, bio_test)\n",
    "print \"R2 KNN Unhashed fps with sig refer\", Rsquared(KNN_preds_UNhashed_with_sig_refer, bio_test)\n",
    "print\n",
    "print \"========= BINARY ========= \"\n",
    "print \"R2 RF hashed binary fps: \", Rsquared(RF_preds_hashed_bin, bio_test)\n",
    "print \"R2 KNN hashed binary fps: \", Rsquared(KNN_preds_hashed_bin, bio_test)\n",
    "print\n",
    "print \"R2 RF UNhashed binary fps: \", Rsquared(RF_preds_UNhashed_bin, bio_test)\n",
    "print \"R2 KNN UNhashed binary fps: \", Rsquared(KNN_preds_UNhashed_bin, bio_test)\n",
    "print \"R2 RF Unhashed bonary fps with sig refer\", Rsquared(RF_preds_UNhashed_with_sig_refer_bin, bio_test)\n",
    "print \"R2 KNN Unhashed binary fps with sig refer\", Rsquared(KNN_preds_UNhashed_with_sig_refer_bin, bio_test)"
   ]
  },
  {
   "cell_type": "markdown",
   "metadata": {},
   "source": [
    "### (optional) A.4.3 10 samplings of 5 fold cross validation "
   ]
  },
  {
   "cell_type": "code",
   "execution_count": null,
   "metadata": {},
   "outputs": [],
   "source": [
    "### (optional) A.4.3 10 samplings of 5 fold cross validation \n",
    "\n",
    "########## ########## ########## ########## ########## ########## ########## ########## ########## ########## ########## ########## ########## ########## ########## ##########  \n",
    "\n",
    "def Rsquared(pred,true):\n",
    "    slope, intercept, r_value, p_value, std_err = scipy.stats.linregress(true,pred)\n",
    "    return r_value**2\n",
    "\n",
    "def RMSE(pred,true):\n",
    "    rmse = np.sqrt(mean_squared_error(true,pred))\n",
    "    return rmse\n",
    "\n",
    "########## ########## ########## ########## ########## ########## ########## ########## ########## ########## ########## ########## ########## ########## ########## ##########  \n",
    "\n",
    "test_size = 0\n",
    "x_train, x_test, y_train, y_test = train_test_split(fps_training.fps_unhashed_counts,bio_training,test_size = test_size, shuffle = True)\n",
    "\n",
    "########## ########## ########## ########## ########## ########## ########## ########## ########## ########## ########## ########## ########## ########## ########## ##########  \n",
    "\n",
    "#fold setting\n",
    "kf = RepeatedKFold(n_splits = 5,n_repeats=10)\n",
    "kf.get_n_splits(x_train)\n",
    "#kf\n",
    "#>>> KFold(n_splits=5, random_state=None, shuffle=False)\n",
    "\n",
    "#for numbering k folds\n",
    "k=0\n",
    "cv_rmse = []\n",
    "cv_rmse_mean = []\n",
    "tmp = []\n",
    "\n",
    "#cross-val training\n",
    "for train_idx, test_idx in kf.split(x_train):\n",
    "    #print(\"iteration num : {}\".format(k))\n",
    "    #print(\"train : \", train_idx, \"\\ntest : \", test_idx)\n",
    "    x_cv_train , x_cv_test = x_train[train_idx], x_train[test_idx]\n",
    "    y_cv_train , y_cv_test = y_train[train_idx], y_train[test_idx]\n",
    "    \n",
    "    RF_UNhashed_counts.fit(x_cv_train,y_cv_train)\n",
    "    \n",
    "    y_cv_testidx = test_idx\n",
    "    y_cv_pred = RF_UNhashed_counts.predict(x_cv_test)\n",
    "    cv_rmse.append(round(RMSE(y_cv_pred,y_cv_test),4))\n",
    "    cv_rmse_mean.append(round(RMSE(y_cv_pred,y_cv_test),4))\n",
    "    k += 1 \n",
    "    \n",
    "    if k % 5 == 0 : \n",
    "        tmp.append(np.mean(cv_rmse_mean))\n",
    "        print(cv_rmse_mean) # per fold rmse value in one cv \n",
    "        print(\"mean : \",np.mean(cv_rmse_mean)) # RMSE mean value per iteration of cv  \n",
    "        del cv_rmse_mean[:]\n",
    "        \n",
    "\n",
    "print(\"total fold mean : \", round(np.mean(cv_rmse),4)) # mean of 50 cv rmse (1회 iter돌 때의 모든 rmse의 평균 (50회의 평균)) \n",
    "print(\"total cv mean : \",round(np.mean(tmp),4)) # mean of cv's mean of 1 iter (각 cv rmse 평균의 평균) # we need var of this value "
   ]
  }
 ],
 "metadata": {
  "kernelspec": {
   "display_name": "Python 2",
   "language": "python",
   "name": "python2"
  },
  "language_info": {
   "codemirror_mode": {
    "name": "ipython",
    "version": 2
   },
   "file_extension": ".py",
   "mimetype": "text/x-python",
   "name": "python",
   "nbconvert_exporter": "python",
   "pygments_lexer": "ipython2",
   "version": "2.7.16"
  }
 },
 "nbformat": 4,
 "nbformat_minor": 2
}
