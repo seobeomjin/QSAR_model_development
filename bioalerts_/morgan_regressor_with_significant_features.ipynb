{
 "cells": [
  {
   "cell_type": "code",
   "execution_count": 1,
   "metadata": {},
   "outputs": [],
   "source": [
    "import bioalerts\n",
    "from bioalerts import LoadMolecules, Alerts, FPCalculator\n",
    "import sys"
   ]
  },
  {
   "cell_type": "code",
   "execution_count": 55,
   "metadata": {},
   "outputs": [],
   "source": [
    "import numpy as np \n",
    "import scipy\n",
    "import matplotlib.pyplot as plt\n",
    "\n",
    "from rdkit.Chem.Draw import IPythonConsole \n",
    "from rdkit.Chem import PandasTools \n",
    "\n",
    "import pandas as pd \n",
    "\n",
    "from sklearn.neighbors import KNeighborsRegressor #knn\n",
    "from sklearn.ensemble import RandomForestRegressor #RF\n",
    "from sklearn.svm import SVR #SVR\n",
    "from sklearn.neural_network import MLPRegressor #MLP \n",
    "\n",
    "from sklearn.model_selection import train_test_split, cross_val_score \n",
    "from sklearn.model_selection import RepeatedKFold\n",
    "from sklearn.metrics import mean_squared_error\n",
    "from sklearn.metrics import r2_score"
   ]
  },
  {
   "cell_type": "code",
   "execution_count": 4,
   "metadata": {},
   "outputs": [
    {
     "name": "stdout",
     "output_type": "stream",
     "text": [
      "\n"
     ]
    }
   ],
   "source": [
    "import sys, numpy as np, scipy as sc, rdkit, matplotlib as pylab, pandas as pd, IPython\n",
    "#print \" Python:\", sys.version, \"\\n\"\n",
    "#print \" Numpy:\", np.__version__\n",
    "#print \" Scipy:\", sc.__version__\n",
    "#print \" Rdkit:\", rdkit.rdBase.rdkitVersion\n",
    "#print \" Matplotlib:\", pylab.__version__\n",
    "#print \" Pandas:\", pd.__version__\n",
    "#print \" Ipython:\", IPython.__version__\n",
    "#print \" Scikit-Learn:\", sklearn.__version__\n",
    "#print \" Scipy:\", scipy.__version__"
   ]
  },
  {
   "cell_type": "markdown",
   "metadata": {},
   "source": [
    "## A. Calculating Morgan fingerprints"
   ]
  },
  {
   "cell_type": "markdown",
   "metadata": {},
   "source": [
    "In this section, we will see how to calculate hashed and unhashed Morgan fingerprints for a set of molecules, and will train some models. "
   ]
  },
  {
   "cell_type": "code",
   "execution_count": 5,
   "metadata": {},
   "outputs": [],
   "source": [
    "AR_mols = bioalerts.LoadMolecules.LoadMolecules(\"./tutorial/datasets/5AR.smi\",name_field=None) \n",
    "#COX2.smi is a set of only SMILES data"
   ]
  },
  {
   "cell_type": "code",
   "execution_count": 6,
   "metadata": {},
   "outputs": [
    {
     "name": "stdout",
     "output_type": "stream",
     "text": [
      "Format of the structures file = SMILES\n",
      "All molecules in the input file were processed correctly\n"
     ]
    }
   ],
   "source": [
    "AR_mols.ReadMolecules()"
   ]
  },
  {
   "cell_type": "code",
   "execution_count": 7,
   "metadata": {},
   "outputs": [
    {
     "name": "stdout",
     "output_type": "stream",
     "text": [
      "278\n",
      "278\n"
     ]
    }
   ],
   "source": [
    "AR_bio = np.genfromtxt('./tutorial/datasets/5AR.bio.txt',skip_header=0) \n",
    "print len(AR_mols.mols)\n",
    "print len(AR_bio)"
   ]
  },
  {
   "cell_type": "code",
   "execution_count": 8,
   "metadata": {},
   "outputs": [
    {
     "name": "stdout",
     "output_type": "stream",
     "text": [
      "278 28 250\n",
      "278 28 250\n"
     ]
    }
   ],
   "source": [
    "stride = int(len(AR_mols.mols) * 0.9)\n",
    "training = AR_mols.mols[0:stride]\n",
    "test = AR_mols.mols[stride:len(AR_mols.mols)]\n",
    "print len(AR_mols.mols), len(test), len(training)\n",
    "\n",
    "bio_training = AR_bio[0:stride]\n",
    "bio_test = AR_bio[stride:len(AR_mols.mols)]\n",
    "print len(AR_bio), len(bio_test), len(bio_training)"
   ]
  },
  {
   "cell_type": "markdown",
   "metadata": {},
   "source": [
    "### A.1 Computating HASHED Morgan fingerprints for the TRAINING set"
   ]
  },
  {
   "cell_type": "markdown",
   "metadata": {},
   "source": [
    "We first initialize the class bioalerts.FPCalculator.CalculateFPs()"
   ]
  },
  {
   "cell_type": "code",
   "execution_count": 9,
   "metadata": {},
   "outputs": [],
   "source": [
    "fps_training = bioalerts.FPCalculator.CalculateFPs(radii=[0,1,2],mols=training)"
   ]
  },
  {
   "cell_type": "code",
   "execution_count": 10,
   "metadata": {},
   "outputs": [],
   "source": [
    "fps_training.calculate_hashed_fps_binary_quick(nBits=128)"
   ]
  },
  {
   "cell_type": "code",
   "execution_count": 11,
   "metadata": {},
   "outputs": [
    {
     "name": "stdout",
     "output_type": "stream",
     "text": [
      "(250L, 128L)\n"
     ]
    }
   ],
   "source": [
    "print fps_training.fps_hashed_binary_quick.shape"
   ]
  },
  {
   "cell_type": "markdown",
   "metadata": {},
   "source": [
    "The method \"calculate_hashed_fps_binary_quick()\" considers all substructures with a bond radius smaller or equal to the maximum value of the argument radii. In this example, 2. Thus, in this case this method will consider all substructures with a bond radius of 0, 1 and 2."
   ]
  },
  {
   "cell_type": "code",
   "execution_count": 12,
   "metadata": {},
   "outputs": [],
   "source": [
    "fps_training.calculate_hashed_fps(nBits=128)"
   ]
  },
  {
   "cell_type": "code",
   "execution_count": 13,
   "metadata": {},
   "outputs": [
    {
     "name": "stdout",
     "output_type": "stream",
     "text": [
      "(250L, 128L)\n",
      "(250L, 128L)\n"
     ]
    }
   ],
   "source": [
    "print fps_training.fps_hashed_binary.shape\n",
    "print fps_training.fps_hashed_counts.shape"
   ]
  },
  {
   "cell_type": "markdown",
   "metadata": {},
   "source": [
    "The method **\"calculate_hashed_fps()\"** computes hashed fingerpints in **(i) count** and **(ii) also binary format**. The difference of the method *calculate_hashed_fps()* with respect to the method *calculate_hashed_fps_binary_quick()* is that the **former only consider the substructures with a bond radius in the list input** to the argument radii when instantiating the class bioalerts.FPCalculator.CalculateFPs(). In the example above: [1,2].\n",
    "\n",
    "Therefore, the hashed fingerprints in binary format calculated by these two methods will be *identical* if the bond radii especified in the aforesaid argument radii comprise all natural number from 0 to the maximum bond radius. In this example, this would be correspond to setting the value of the argument radii to [0,1,2]."
   ]
  },
  {
   "cell_type": "code",
   "execution_count": 20,
   "metadata": {},
   "outputs": [
    {
     "name": "stdout",
     "output_type": "stream",
     "text": [
      "True\n"
     ]
    }
   ],
   "source": [
    "print (fps_training.fps_hashed_binary_quick == fps_training.fps_hashed_binary).all()"
   ]
  },
  {
   "cell_type": "code",
   "execution_count": 38,
   "metadata": {},
   "outputs": [
    {
     "data": {
      "text/plain": [
       "(250L, 128L)"
      ]
     },
     "execution_count": 38,
     "metadata": {},
     "output_type": "execute_result"
    }
   ],
   "source": [
    "toto = fps_training.fps_hashed_counts\n",
    "#toto[1:10,1:10]\n",
    "toto.shape"
   ]
  },
  {
   "cell_type": "code",
   "execution_count": 16,
   "metadata": {},
   "outputs": [
    {
     "data": {
      "text/plain": [
       "array([[1, 0, 0, 1, 1, 0, 0, 0, 0],\n",
       "       [0, 0, 0, 0, 0, 0, 0, 0, 0],\n",
       "       [0, 1, 0, 0, 0, 0, 1, 0, 0],\n",
       "       [1, 0, 0, 0, 0, 0, 1, 1, 0],\n",
       "       [0, 0, 0, 0, 0, 0, 1, 1, 0],\n",
       "       [1, 0, 0, 0, 0, 0, 0, 1, 0],\n",
       "       [0, 0, 0, 0, 1, 0, 0, 0, 0],\n",
       "       [0, 0, 1, 0, 0, 0, 0, 0, 0],\n",
       "       [1, 1, 0, 0, 1, 1, 1, 1, 0]])"
      ]
     },
     "execution_count": 16,
     "metadata": {},
     "output_type": "execute_result"
    }
   ],
   "source": [
    "fps_training.fps_hashed_binary[1:10,1:10]"
   ]
  },
  {
   "cell_type": "code",
   "execution_count": 17,
   "metadata": {},
   "outputs": [
    {
     "data": {
      "text/plain": [
       "array([[1, 0, 0, 1, 1, 0, 0, 0, 0],\n",
       "       [0, 0, 0, 0, 0, 0, 0, 0, 0],\n",
       "       [0, 1, 0, 0, 0, 0, 1, 0, 0],\n",
       "       [1, 0, 0, 0, 0, 0, 1, 1, 0],\n",
       "       [0, 0, 0, 0, 0, 0, 1, 1, 0],\n",
       "       [1, 0, 0, 0, 0, 0, 0, 1, 0],\n",
       "       [0, 0, 0, 0, 1, 0, 0, 0, 0],\n",
       "       [0, 0, 1, 0, 0, 0, 0, 0, 0],\n",
       "       [1, 1, 0, 0, 1, 1, 1, 1, 0]])"
      ]
     },
     "execution_count": 17,
     "metadata": {},
     "output_type": "execute_result"
    }
   ],
   "source": [
    "fps_training.fps_hashed_binary_quick[1:10,1:10]"
   ]
  },
  {
   "cell_type": "markdown",
   "metadata": {},
   "source": [
    "### A.2 Computating UNHASHED Morgan fingerprints for the TRAINING set"
   ]
  },
  {
   "cell_type": "code",
   "execution_count": 21,
   "metadata": {},
   "outputs": [
    {
     "name": "stdout",
     "output_type": "stream",
     "text": [
      "No input set of keys for the substructures. \n",
      "Thus, the substructures present in the input molecules will be considered for the calculation of unhashed fingerprints.\n"
     ]
    }
   ],
   "source": [
    "fps_training.calculate_unhashed_fps(draw_substructures=True)"
   ]
  },
  {
   "cell_type": "markdown",
   "metadata": {},
   "source": [
    "## A.3 Computating Morgan fingerprints for the TEST set "
   ]
  },
  {
   "cell_type": "markdown",
   "metadata": {},
   "source": [
    "### A.3.1 Computating UNHASHED Morgan fingerprints for the test set using a different set of molecules:"
   ]
  },
  {
   "cell_type": "markdown",
   "metadata": {},
   "source": [
    "Since the positions of the substructures in the unhashed fingerprints depend on the training set, the method calculate_unhashed_fps() allows the computation of unhashed fingerprints for new compounds using a basis defined by the substructures present in the training set. This basis is defined by the keys of the substructure dictionary calculated for the molecules from the training set. This reference substructure dictionary is input to the class CalculateFPs() using the argument reference_substucture_keys.\n",
    "\n",
    "*This ensures that substructures in new compounds map to the same locations on the fingerprint and allows enhanced model interpretation by noting which exact substructures are deemed important by the learning algorithm.*"
   ]
  },
  {
   "cell_type": "code",
   "execution_count": 22,
   "metadata": {},
   "outputs": [],
   "source": [
    "#  Reference molecules\n",
    "reference_molecules = bioalerts.LoadMolecules.GetDataSetInfo(name_field=None)"
   ]
  },
  {
   "cell_type": "code",
   "execution_count": 23,
   "metadata": {},
   "outputs": [
    {
     "data": {
      "text/plain": [
       "array([ 218993025, 3334525955,  757425542, ..., 1842898132, 1861965050,\n",
       "       1101907775], dtype=int64)"
      ]
     },
     "execution_count": 23,
     "metadata": {},
     "output_type": "execute_result"
    }
   ],
   "source": [
    "fps_training.substructure_ids"
   ]
  },
  {
   "cell_type": "code",
   "execution_count": 24,
   "metadata": {},
   "outputs": [],
   "source": [
    "reference_molecules.extract_substructure_information(radii=[0,1,2],mols=training)"
   ]
  },
  {
   "cell_type": "code",
   "execution_count": 26,
   "metadata": {
    "collapsed": true
   },
   "outputs": [
    {
     "name": "stdout",
     "output_type": "stream",
     "text": [
      "1205\n"
     ]
    },
    {
     "data": {
      "text/plain": [
       "[2245273601L,\n",
       " 171200514,\n",
       " 3325788165L,\n",
       " 1462992903,\n",
       " 4257302536L,\n",
       " 3341916169L,\n",
       " 2074365963,\n",
       " 559345677,\n",
       " 203749390,\n",
       " 844021776,\n",
       " 2394513426L,\n",
       " 2128345568,\n",
       " 2132284755,\n",
       " 2458968089L,\n",
       " 203491355,\n",
       " 2272196637L,\n",
       " 3931877381L,\n",
       " 2251845666L,\n",
       " 3346153511L,\n",
       " 1884262887,\n",
       " 3315826729L,\n",
       " 2344097836L,\n",
       " 3820826669L,\n",
       " 2246961199L,\n",
       " 29763632,\n",
       " 469438472,\n",
       " 3628319739L,\n",
       " 4004630581L,\n",
       " 4277401654L,\n",
       " 1423712863,\n",
       " 2970601533L,\n",
       " 2488692798L,\n",
       " 331483199,\n",
       " 251179073,\n",
       " 1620013122,\n",
       " 1970409539,\n",
       " 3000223812L,\n",
       " 2619926597L,\n",
       " 3527817293L,\n",
       " 4084308046L,\n",
       " 74537039,\n",
       " 2245384272L,\n",
       " 414398545,\n",
       " 2178795604L,\n",
       " 1480134744,\n",
       " 118059098,\n",
       " 2477914203L,\n",
       " 1973221468,\n",
       " 1901242461,\n",
       " 1026654305,\n",
       " 891920484,\n",
       " 1999904870,\n",
       " 1140799591,\n",
       " 272019561,\n",
       " 1596002410,\n",
       " 3873941611L,\n",
       " 3614376044L,\n",
       " 699682834,\n",
       " 3890010222L,\n",
       " 3420254321L,\n",
       " 2245277810L,\n",
       " 3880022399L,\n",
       " 567853172,\n",
       " 1362518133,\n",
       " 1486598263,\n",
       " 2086410360,\n",
       " 2308118649L,\n",
       " 3124242557L,\n",
       " 1049880707,\n",
       " 1224122500,\n",
       " 2077658817,\n",
       " 1740632203,\n",
       " 2591432844L,\n",
       " 3214112909L,\n",
       " 1360035982,\n",
       " 43143312,\n",
       " 3674658961L,\n",
       " 4239050898L,\n",
       " 2222715027L,\n",
       " 2081267862,\n",
       " 2497005724L,\n",
       " 195764383,\n",
       " 3241193840L,\n",
       " 2607036443L,\n",
       " 1314134180,\n",
       " 2594220197L,\n",
       " 3871410344L,\n",
       " 3248361648L,\n",
       " 1255403697,\n",
       " 3294781618L,\n",
       " 2853237107L,\n",
       " 2138597558,\n",
       " 2575624905L,\n",
       " 714893496,\n",
       " 2238333113L,\n",
       " 3091625199L,\n",
       " 977838267,\n",
       " 1949014205,\n",
       " 3918336191L,\n",
       " 2965860544L,\n",
       " 1236172086,\n",
       " 717512901,\n",
       " 3753330886L,\n",
       " 1514095308,\n",
       " 3801174218L,\n",
       " 3157481675L,\n",
       " 3337029836L,\n",
       " 3804489762L,\n",
       " 3756071118L,\n",
       " 3546577103L,\n",
       " 403007696,\n",
       " 220023931,\n",
       " 3454070996L,\n",
       " 2436276437L,\n",
       " 2145427670,\n",
       " 2822504663L,\n",
       " 2246340824L,\n",
       " 2296493092L,\n",
       " 3345225135L,\n",
       " 4162818269L,\n",
       " 636971230,\n",
       " 1710205153,\n",
       " 1739309282,\n",
       " 977565923,\n",
       " 1026924773,\n",
       " 2584230118L,\n",
       " 1824088295,\n",
       " 2931695851L,\n",
       " 4140259565L,\n",
       " 3868066031L,\n",
       " 1375082737,\n",
       " 3833608434L,\n",
       " 3927611635L,\n",
       " 411967733,\n",
       " 2224595191L,\n",
       " 465524985,\n",
       " 3253205242L,\n",
       " 311542011,\n",
       " 306323708,\n",
       " 2329178365L,\n",
       " 59813713,\n",
       " 847336149,\n",
       " 858984704,\n",
       " 1262276865,\n",
       " 1168818436,\n",
       " 3902071045L,\n",
       " 305828102,\n",
       " 1512251655,\n",
       " 3987005704L,\n",
       " 2856245513L,\n",
       " 1395732746,\n",
       " 1942243596,\n",
       " 2806268173L,\n",
       " 1724795150,\n",
       " 980700205,\n",
       " 2375993616L,\n",
       " 914983640,\n",
       " 103779374,\n",
       " 2952101863L,\n",
       " 3361693976L,\n",
       " 1888311577,\n",
       " 3537119515L,\n",
       " 721127130,\n",
       " 2763854213L,\n",
       " 4051831072L,\n",
       " 4261830945L,\n",
       " 1847015715,\n",
       " 3542456614L,\n",
       " 2159481127L,\n",
       " 843919656,\n",
       " 3522301660L,\n",
       " 1627482410,\n",
       " 3510196525L,\n",
       " 416356657,\n",
       " 1070821685,\n",
       " 1429883190,\n",
       " 4105142165L,\n",
       " 10565946,\n",
       " 3578779359L,\n",
       " 1260628285,\n",
       " 3162837314L,\n",
       " 1523851588,\n",
       " 616374597,\n",
       " 2707334881L,\n",
       " 2150721866L,\n",
       " 3165396706L,\n",
       " 1346851151,\n",
       " 3848368466L,\n",
       " 2811394787L,\n",
       " 1719779668,\n",
       " 1010524501,\n",
       " 2562034006L,\n",
       " 2328129879L,\n",
       " 1693589848,\n",
       " 185358682,\n",
       " 728758620,\n",
       " 3533643770L,\n",
       " 1240664414,\n",
       " 4126902623L,\n",
       " 3982076256L,\n",
       " 171065744,\n",
       " 1814116706,\n",
       " 804725095,\n",
       " 1842114921,\n",
       " 2424973678L,\n",
       " 1909452861,\n",
       " 1626222960,\n",
       " 974827889,\n",
       " 4083722611L,\n",
       " 1215492469,\n",
       " 2835079913L,\n",
       " 2041434490,\n",
       " 3624133695L,\n",
       " 4042373501L,\n",
       " 3972090239L,\n",
       " 263215426,\n",
       " 218993025,\n",
       " 2479841666L,\n",
       " 4051040643L,\n",
       " 1533864325,\n",
       " 3537123720L,\n",
       " 2752008585L,\n",
       " 1949970826,\n",
       " 241973646,\n",
       " 739041005,\n",
       " 1916602768,\n",
       " 2630830481L,\n",
       " 4212385948L,\n",
       " 241199508,\n",
       " 1601792405,\n",
       " 2303564182L,\n",
       " 3177362943L,\n",
       " 3077822872L,\n",
       " 320113050,\n",
       " 2418022127L,\n",
       " 804536389,\n",
       " 382284193,\n",
       " 3909974435L,\n",
       " 2412866808L,\n",
       " 1282365863,\n",
       " 2060586396,\n",
       " 1899422126,\n",
       " 65798575,\n",
       " 3737344432L,\n",
       " 2225799601L,\n",
       " 1821698485,\n",
       " 2672648630L,\n",
       " 4024144969L,\n",
       " 2353583745L,\n",
       " 2370593214L,\n",
       " 2070976245,\n",
       " 157739456,\n",
       " 2146927041,\n",
       " 493201859,\n",
       " 1465027698,\n",
       " 1721149895,\n",
       " 2784506312L,\n",
       " 372292343,\n",
       " 1796784588,\n",
       " 1157681614,\n",
       " 1997687247,\n",
       " 572760528,\n",
       " 1226975992,\n",
       " 1501651531,\n",
       " 15667668,\n",
       " 1065183701,\n",
       " 460073430,\n",
       " 208656855,\n",
       " 1105492440,\n",
       " 4023654873L,\n",
       " 1568606682,\n",
       " 2263228892L,\n",
       " 3745584548L,\n",
       " 396311007,\n",
       " 3840147540L,\n",
       " 1255419984,\n",
       " 2839806434L,\n",
       " 2339996131L,\n",
       " 3816921572L,\n",
       " 3724702181L,\n",
       " 1054767590,\n",
       " 4232686055L,\n",
       " 3880688105L,\n",
       " 3334979549L,\n",
       " 1454894380,\n",
       " 1171638766,\n",
       " 679670255,\n",
       " 1295649264,\n",
       " 2263376369L,\n",
       " 3801108978L,\n",
       " 1639057907,\n",
       " 4079203070L,\n",
       " 3327625720L,\n",
       " 994494548,\n",
       " 3992410619L,\n",
       " 784370174,\n",
       " 4176971489L,\n",
       " 2841059844L,\n",
       " 1397494279,\n",
       " 2722937352L,\n",
       " 1100037548,\n",
       " 1288483338,\n",
       " 617798156,\n",
       " 3595211277L,\n",
       " 2395259406L,\n",
       " 3400866319L,\n",
       " 2762756625L,\n",
       " 2734098962L,\n",
       " 2507477524L,\n",
       " 3594356142L,\n",
       " 3987247535L,\n",
       " 1999299100,\n",
       " 545321501,\n",
       " 951239203,\n",
       " 451906087,\n",
       " 3851604523L,\n",
       " 2154975788L,\n",
       " 3129262637L,\n",
       " 3452535345L,\n",
       " 2760376882L,\n",
       " 2058834483,\n",
       " 3042542132L,\n",
       " 960340539,\n",
       " 2376477245L,\n",
       " 1614150208,\n",
       " 1743688259,\n",
       " 357046852,\n",
       " 31076933,\n",
       " 277467718,\n",
       " 4093135431L,\n",
       " 1373829704,\n",
       " 3376857674L,\n",
       " 3430910539L,\n",
       " 514870344,\n",
       " 3189271117L,\n",
       " 2274148942L,\n",
       " 1685248591,\n",
       " 3084241488L,\n",
       " 88831783,\n",
       " 2934719058L,\n",
       " 2001748563,\n",
       " 3839949396L,\n",
       " 1823304278,\n",
       " 144568923,\n",
       " 2154838620L,\n",
       " 1022974558,\n",
       " 1124020831,\n",
       " 2680703584L,\n",
       " 368713488,\n",
       " 3229995618L,\n",
       " 4237157819L,\n",
       " 910450790,\n",
       " 4099226215L,\n",
       " 1690016360,\n",
       " 2700925547L,\n",
       " 4066386540L,\n",
       " 1421345390,\n",
       " 2552021615L,\n",
       " 3785658992L,\n",
       " 747455090,\n",
       " 4228237939L,\n",
       " 1978727030,\n",
       " 1839403113,\n",
       " 967359099,\n",
       " 1732344444,\n",
       " 1466409066,\n",
       " 1989436032,\n",
       " 2136240769,\n",
       " 1097089666,\n",
       " 4104822550L,\n",
       " 1216311943,\n",
       " 864942730,\n",
       " 1732653707,\n",
       " 932692620,\n",
       " 20361869,\n",
       " 736514702,\n",
       " 3321538669L,\n",
       " 3189457552L,\n",
       " 695581330,\n",
       " 3285021331L,\n",
       " 502655637,\n",
       " 2244018839L,\n",
       " 3507124888L,\n",
       " 2397011396L,\n",
       " 3386196635L,\n",
       " 3853345438L,\n",
       " 2245900962L,\n",
       " 3351556771L,\n",
       " 1729577636,\n",
       " 1112345254,\n",
       " 3490910321L,\n",
       " 1549284008,\n",
       " 2557045420L,\n",
       " 4052892333L,\n",
       " 38514050,\n",
       " 3082224305L,\n",
       " 2341585586L,\n",
       " 3170466931L,\n",
       " 1317278494,\n",
       " 2246703798L,\n",
       " 864674487,\n",
       " 3247280826L,\n",
       " 3337745083L,\n",
       " 3124328171L,\n",
       " 312306367,\n",
       " 1592853184,\n",
       " 378767620,\n",
       " 40921796,\n",
       " 3068938949L,\n",
       " 3121177286L,\n",
       " 422715066,\n",
       " 1092328137,\n",
       " 864942795,\n",
       " 3940594380L,\n",
       " 4226335437L,\n",
       " 2944555726L,\n",
       " 225673336,\n",
       " 490601172,\n",
       " 3851139797L,\n",
       " 1731904214,\n",
       " 2036328569,\n",
       " 3612926680L,\n",
       " 1190685401,\n",
       " 3635614426L,\n",
       " 1124260571,\n",
       " 2800553082L,\n",
       " 2185212638L,\n",
       " 2984966880L,\n",
       " 902527714,\n",
       " 1583799011,\n",
       " 4066067173L,\n",
       " 2283772647L,\n",
       " 2905660137L,\n",
       " 2246699815L,\n",
       " 3650394863L,\n",
       " 2764081905L,\n",
       " 52071157,\n",
       " 2712480502L,\n",
       " 1603959543,\n",
       " 3506490104L,\n",
       " 768785146,\n",
       " 1696237216,\n",
       " 2595241924L,\n",
       " 89961214,\n",
       " 3462479532L,\n",
       " 2857220865L,\n",
       " 2509818629L,\n",
       " 2661985371L,\n",
       " 3505255175L,\n",
       " 1277979401,\n",
       " 1914066391,\n",
       " 1353626381,\n",
       " 1987492622,\n",
       " 1016976143,\n",
       " 624327128,\n",
       " 2604585747L,\n",
       " 235897646,\n",
       " 4141701911L,\n",
       " 4026101892L,\n",
       " 1173125914,\n",
       " 1680678703,\n",
       " 2510215966L,\n",
       " 3848534832L,\n",
       " 3346539298L,\n",
       " 3031438116L,\n",
       " 2476373126L,\n",
       " 4006045013L,\n",
       " 864662311,\n",
       " 1795978025,\n",
       " 1180318509,\n",
       " 2363984686L,\n",
       " 885026269,\n",
       " 2259731248L,\n",
       " 3462859570L,\n",
       " 445015927,\n",
       " 1768770356,\n",
       " 2653051701L,\n",
       " 3873101583L,\n",
       " 463571768,\n",
       " 3857712607L,\n",
       " 367713084,\n",
       " 414767933,\n",
       " 1646750527,\n",
       " 912632640,\n",
       " 2524469728L,\n",
       " 3652476930L,\n",
       " 980020035,\n",
       " 2233412420L,\n",
       " 3820999494L,\n",
       " 1230172999,\n",
       " 1762382665,\n",
       " 2560252747L,\n",
       " 43357009,\n",
       " 2250750806L,\n",
       " 1611400492,\n",
       " 3523470168L,\n",
       " 2939120473L,\n",
       " 1170459482,\n",
       " 642423645,\n",
       " 3895620446L,\n",
       " 4072278882L,\n",
       " 2186773347L,\n",
       " 1352399629,\n",
       " 1781441382,\n",
       " 2827868305L,\n",
       " 2530491242L,\n",
       " 994485099,\n",
       " 845999250,\n",
       " 228862830,\n",
       " 1961848637,\n",
       " 3304326854L,\n",
       " 848128881,\n",
       " 3420400499L,\n",
       " 2621581118L,\n",
       " 435602294,\n",
       " 3975295864L,\n",
       " 2832976762L,\n",
       " 2360741695L,\n",
       " 2168980351L,\n",
       " 4216335232L,\n",
       " 2064788354,\n",
       " 2119707523,\n",
       " 454919045,\n",
       " 1871590209,\n",
       " 1673980810,\n",
       " 2646219661L,\n",
       " 4158944142L,\n",
       " 1024251450,\n",
       " 4156406673L,\n",
       " 3901563794L,\n",
       " 287232915,\n",
       " 4251370388L,\n",
       " 1389140885,\n",
       " 2446961558L,\n",
       " 1909922711,\n",
       " 3706894148L,\n",
       " 2235413463L,\n",
       " 3959710621L,\n",
       " 2968968094L,\n",
       " 2094236579,\n",
       " 540046244,\n",
       " 3270380453L,\n",
       " 2092489639,\n",
       " 702132380,\n",
       " 1955136426,\n",
       " 1707143630,\n",
       " 535847852,\n",
       " 1554777586,\n",
       " 3537631542L,\n",
       " 2781567920L,\n",
       " 929921969,\n",
       " 3534789554L,\n",
       " 427867059,\n",
       " 1265936623,\n",
       " 3975275337L,\n",
       " 3572274106L,\n",
       " 1251298235,\n",
       " 3776905034L,\n",
       " 2034850751,\n",
       " 166544320,\n",
       " 2394338241L,\n",
       " 3376291928L,\n",
       " 2311205828L,\n",
       " 3094365125L,\n",
       " 754070472,\n",
       " 3920757710L,\n",
       " 3402236879L,\n",
       " 795449745,\n",
       " 3371156433L,\n",
       " 3012778962L,\n",
       " 3139331030L,\n",
       " 3003610071L,\n",
       " 1323467736,\n",
       " 2975116251L,\n",
       " 819348444,\n",
       " 1077263325,\n",
       " 3601654750L,\n",
       " 2082797629,\n",
       " 2828911586L,\n",
       " 1914229733,\n",
       " 2891033575L,\n",
       " 1338498024,\n",
       " 1510337516,\n",
       " 832263152,\n",
       " 3542035441L,\n",
       " 950023157,\n",
       " 290983949,\n",
       " 3545365497L,\n",
       " 2976033787L,\n",
       " 2579041280L,\n",
       " 2195654129L,\n",
       " 3334525955L,\n",
       " 2142032900,\n",
       " 602262358,\n",
       " 3901142559L,\n",
       " 3406201864L,\n",
       " 123769865,\n",
       " 581644218,\n",
       " 2812398603L,\n",
       " 2009615374,\n",
       " 3199411215L,\n",
       " 1941511195,\n",
       " 1153219603,\n",
       " 2378775366L,\n",
       " 3120784405L,\n",
       " 619881494,\n",
       " 137022487,\n",
       " 501836124,\n",
       " 3010378927L,\n",
       " 4244175903L,\n",
       " 2246728737L,\n",
       " 880794658,\n",
       " 3927757939L,\n",
       " 2976816164L,\n",
       " 2127538173,\n",
       " 3514909735L,\n",
       " 3692055567L,\n",
       " 3090652201L,\n",
       " 1182622762,\n",
       " 4118802951L,\n",
       " 2765300781L,\n",
       " 2604440622L,\n",
       " 213183535,\n",
       " 2590563377L,\n",
       " 2233316817L,\n",
       " 1267873599,\n",
       " 2445100084L,\n",
       " 353395765,\n",
       " 2610166839L,\n",
       " 500724793,\n",
       " 3307283515L,\n",
       " 3097783358L,\n",
       " 3976623167L,\n",
       " 98513984,\n",
       " 526611522,\n",
       " 3594696610L,\n",
       " 3120667717L,\n",
       " 1961380935,\n",
       " 1449131080,\n",
       " 3182824521L,\n",
       " 1975587916,\n",
       " 571978829,\n",
       " 1467524174,\n",
       " 3757038672L,\n",
       " 549564600,\n",
       " 2490756178L,\n",
       " 620256340,\n",
       " 311968854,\n",
       " 2806018737L,\n",
       " 2132511834,\n",
       " 880315483,\n",
       " 1565219933,\n",
       " 102032480,\n",
       " 3253869667L,\n",
       " 1273324646,\n",
       " 901088219,\n",
       " 2959846504L,\n",
       " 2926967913L,\n",
       " 1828340842,\n",
       " 1074582637,\n",
       " 1238205550,\n",
       " 1710869618,\n",
       " 1191111795,\n",
       " 406541428,\n",
       " 161963127,\n",
       " 3657471097L,\n",
       " 1845232762,\n",
       " 3308295291L,\n",
       " 2563337343L,\n",
       " 847961216,\n",
       " 856123584,\n",
       " 3607377026L,\n",
       " 1857396528,\n",
       " 3652437124L,\n",
       " 3443041413L,\n",
       " 1153930374,\n",
       " 2353112200L,\n",
       " 2119439498,\n",
       " 3818546315L,\n",
       " 4008337421L,\n",
       " 4086932623L,\n",
       " 1543552144,\n",
       " 4013243538L,\n",
       " 2856701074L,\n",
       " 251176131,\n",
       " 1007283054,\n",
       " 389270680,\n",
       " 925203121,\n",
       " 9283401,\n",
       " 1832463515,\n",
       " 4130182993L,\n",
       " 3462547653L,\n",
       " 3312778438L,\n",
       " 368531313,\n",
       " 1911841960,\n",
       " 94145705,\n",
       " 2154935424L,\n",
       " 271903915,\n",
       " 19852674,\n",
       " 3999906991L,\n",
       " 1016769712,\n",
       " 882399112,\n",
       " 3786253491L,\n",
       " 422718765,\n",
       " 3983062349L,\n",
       " 3312272571L,\n",
       " 3424892092L,\n",
       " 2689149130L,\n",
       " 604517567,\n",
       " 658484419,\n",
       " 1738265797,\n",
       " 3722624198L,\n",
       " 4041573576L,\n",
       " 3693427914L,\n",
       " 1616452811,\n",
       " 1349266638,\n",
       " 1397513080,\n",
       " 321337029,\n",
       " 715135432,\n",
       " 1842898132,\n",
       " 2508289237L,\n",
       " 2355616982L,\n",
       " 3840531671L,\n",
       " 4185134296L,\n",
       " 1383236273,\n",
       " 3624155,\n",
       " 4178058460L,\n",
       " 3665511290L,\n",
       " 3677042578L,\n",
       " 1491315937,\n",
       " 4062897381L,\n",
       " 3654532326L,\n",
       " 4194776273L,\n",
       " 4074701319L,\n",
       " 266675433,\n",
       " 413476074,\n",
       " 2673417767L,\n",
       " 476060908,\n",
       " 1876382957,\n",
       " 432631022,\n",
       " 3726304495L,\n",
       " 973010160,\n",
       " 644322065,\n",
       " 2529809651L,\n",
       " 3013207284L,\n",
       " 863253805,\n",
       " 184386807,\n",
       " 2538415352L,\n",
       " 3338510548L,\n",
       " 1861965050,\n",
       " 970433791,\n",
       " 3204333457L,\n",
       " 730918145,\n",
       " 2950679810L,\n",
       " 476479702,\n",
       " 4096713990L,\n",
       " 851463431,\n",
       " 1405523208,\n",
       " 2604399148L,\n",
       " 913990922,\n",
       " 517457164,\n",
       " 41264398,\n",
       " 3796841743L,\n",
       " 2906174736L,\n",
       " 2480547089L,\n",
       " 444546327,\n",
       " 1583009052,\n",
       " 1858577693,\n",
       " 816580582,\n",
       " 2027040032,\n",
       " 2629723425L,\n",
       " 3741615394L,\n",
       " 3361449251L,\n",
       " 2004753708,\n",
       " 2117068077,\n",
       " 2271925550L,\n",
       " 3109297455L,\n",
       " 3176649511L,\n",
       " 4280683826L,\n",
       " 4256524850L,\n",
       " 1535166686,\n",
       " 1220982070,\n",
       " 1576487476,\n",
       " 4224357381L,\n",
       " 3924284734L,\n",
       " 1420373315,\n",
       " 156142916,\n",
       " 4089138501L,\n",
       " 69887201,\n",
       " 1649826782,\n",
       " 145374537,\n",
       " 2994748777L,\n",
       " 1871404364,\n",
       " 4045722957L,\n",
       " 3665073486L,\n",
       " 956673363,\n",
       " 9556878,\n",
       " 1351951702,\n",
       " 2257970297L,\n",
       " 1182051672,\n",
       " 3050515803L,\n",
       " 856616506,\n",
       " 1216027998,\n",
       " 1936012047,\n",
       " 3217380708L,\n",
       " 798018918,\n",
       " 87737703,\n",
       " 1753204072,\n",
       " 1383435625,\n",
       " 1913824618,\n",
       " 1736394091,\n",
       " 1247998866,\n",
       " 4227593582L,\n",
       " 3124581743L,\n",
       " 2596902256L,\n",
       " 1401154748,\n",
       " 14956098,\n",
       " 3175341431L,\n",
       " 3016453496L,\n",
       " 686390649,\n",
       " 363259261,\n",
       " 449545599,\n",
       " 762457472,\n",
       " 2192223749L,\n",
       " 2014543234,\n",
       " 2342656235L,\n",
       " 1115856821,\n",
       " 757425542,\n",
       " 3933537673L,\n",
       " 26234434,\n",
       " 30707086,\n",
       " 2677858541L,\n",
       " 570529833,\n",
       " 466466198,\n",
       " 2431932319L,\n",
       " 2863250840L,\n",
       " 3799700719L,\n",
       " 1626062236,\n",
       " 43575877,\n",
       " 2341188717L,\n",
       " 1997997476,\n",
       " 2576599622L,\n",
       " 3860260262L,\n",
       " 2867629479L,\n",
       " 3027150250L,\n",
       " 2115476908,\n",
       " 485463469,\n",
       " 1920005550,\n",
       " 2484183965L,\n",
       " 2065915312,\n",
       " 662511025,\n",
       " 750196096,\n",
       " 369821939,\n",
       " 1035185590,\n",
       " 3136349624L,\n",
       " 2569247988L,\n",
       " 828523962,\n",
       " 603510687,\n",
       " 2308348490L,\n",
       " 273968574,\n",
       " 1412343231,\n",
       " 1643146688,\n",
       " 4019034699L,\n",
       " 845764036,\n",
       " 778974661,\n",
       " 2803848648L,\n",
       " 2342471927L,\n",
       " 693302733,\n",
       " 564309454,\n",
       " 92620239,\n",
       " 164529616,\n",
       " 3248088529L,\n",
       " 2487304099L,\n",
       " 2907247592L,\n",
       " 739909078,\n",
       " 932712697,\n",
       " 4251960793L,\n",
       " 1135660282,\n",
       " 633854201,\n",
       " 2251888095L,\n",
       " 3722149346L,\n",
       " 1280488931,\n",
       " 2751466952L,\n",
       " 2412500453L,\n",
       " 3120642300L,\n",
       " 1036559850,\n",
       " 4042302956L,\n",
       " 3134313966L,\n",
       " 3110284785L,\n",
       " 3787488754L,\n",
       " 533120503,\n",
       " 2567267832L,\n",
       " 354559572,\n",
       " 1266820605,\n",
       " 3777168895L,\n",
       " 2076190208,\n",
       " 2891526400L,\n",
       " 1301245444,\n",
       " 2126281302,\n",
       " 2059730245,\n",
       " 2065735937,\n",
       " 1506563592,\n",
       " 306288037,\n",
       " 3574627850L,\n",
       " 1362202978,\n",
       " 2238073819L,\n",
       " 4229088015L,\n",
       " 2137019923,\n",
       " 2540281364L,\n",
       " 3280952853L,\n",
       " 755248663,\n",
       " 1886461465,\n",
       " 2958169626L,\n",
       " 1167322652,\n",
       " 2554232350L,\n",
       " 1792562719,\n",
       " 1849554589,\n",
       " 1512861218,\n",
       " 1606047268,\n",
       " 1313967653,\n",
       " 3234104871L,\n",
       " 1262303836,\n",
       " 3011305002L,\n",
       " 1141329452,\n",
       " 642367021,\n",
       " 1421848111,\n",
       " 441624112,\n",
       " 1349404210,\n",
       " 158244403,\n",
       " 2327113268L,\n",
       " 3909951032L,\n",
       " 3981688378L,\n",
       " 1790259807,\n",
       " 1216095805,\n",
       " 2271106623L,\n",
       " 2582709826L,\n",
       " 3118255683L,\n",
       " 4197146180L,\n",
       " 1530150470,\n",
       " 3026394695L,\n",
       " 1217189132,\n",
       " 594658892,\n",
       " 3124498018L,\n",
       " 3047048782L,\n",
       " 685955341,\n",
       " 2132772432,\n",
       " 2644323921L,\n",
       " 2066658899,\n",
       " 4162551380L,\n",
       " 1685931278,\n",
       " 1561070355,\n",
       " 2968823384L,\n",
       " 136676957,\n",
       " 4240174685L,\n",
       " 3632350815L,\n",
       " 3417857634L,\n",
       " 3694063205L,\n",
       " 2479916646L,\n",
       " 3705139132L,\n",
       " 4277593706L,\n",
       " 3696402029L,\n",
       " 467603055,\n",
       " 1146194536,\n",
       " 2246997334L,\n",
       " 2174428787L,\n",
       " 2064248437,\n",
       " 2146109902,\n",
       " 2454907487L,\n",
       " 587522589,\n",
       " 934571645,\n",
       " 2187394687L,\n",
       " 2198820481L,\n",
       " 2740842114L,\n",
       " 787069595,\n",
       " 1911799429,\n",
       " 4294552722L,\n",
       " 2841958024L,\n",
       " 1842713196,\n",
       " 410310586,\n",
       " 2891101840L,\n",
       " 1655707281,\n",
       " 2607304338L,\n",
       " 1016841875,\n",
       " 2455017113L,\n",
       " 1023190685,\n",
       " 1255595680,\n",
       " 2509211297L,\n",
       " 2007912390,\n",
       " 319612584,\n",
       " 3158795946L,\n",
       " 3058407084L,\n",
       " 1709203058,\n",
       " 1940327429,\n",
       " 4123143112L,\n",
       " 3064131250L,\n",
       " 2107190963,\n",
       " 3888537269L,\n",
       " 412434102,\n",
       " 2072239802,\n",
       " 203851115,\n",
       " ...]"
      ]
     },
     "execution_count": 26,
     "metadata": {},
     "output_type": "execute_result"
    }
   ],
   "source": [
    "reference_keys = reference_molecules.substructure_dictionary.keys()\n",
    "print len(reference_keys)\n",
    "reference_keys"
   ]
  },
  {
   "cell_type": "code",
   "execution_count": 29,
   "metadata": {},
   "outputs": [],
   "source": [
    "fps_test = bioalerts.FPCalculator.CalculateFPs(radii=[0,1,2],\n",
    "                                         mols=test,\n",
    "                                         reference_substructure_keys=reference_keys)"
   ]
  },
  {
   "cell_type": "code",
   "execution_count": 30,
   "metadata": {},
   "outputs": [],
   "source": [
    "fps_test.calculate_unhashed_fps()"
   ]
  },
  {
   "cell_type": "code",
   "execution_count": 31,
   "metadata": {},
   "outputs": [
    {
     "data": {
      "text/plain": [
       "(28L, 1205L)"
      ]
     },
     "execution_count": 31,
     "metadata": {},
     "output_type": "execute_result"
    }
   ],
   "source": [
    "fps_test.fps_unhashed_counts.shape"
   ]
  },
  {
   "cell_type": "code",
   "execution_count": 35,
   "metadata": {},
   "outputs": [
    {
     "data": {
      "text/plain": [
       "1205"
      ]
     },
     "execution_count": 35,
     "metadata": {},
     "output_type": "execute_result"
    }
   ],
   "source": [
    "len(fps_training.columns_unhashed)"
   ]
  },
  {
   "cell_type": "markdown",
   "metadata": {},
   "source": [
    "### A.3.2 Computating HASHED Morgan fingerprints for the test set (e.g. using a different set of molecules)"
   ]
  },
  {
   "cell_type": "code",
   "execution_count": 39,
   "metadata": {},
   "outputs": [],
   "source": [
    "fps_test.calculate_hashed_fps(nBits=128)"
   ]
  },
  {
   "cell_type": "markdown",
   "metadata": {},
   "source": [
    "## A.4 Training models "
   ]
  },
  {
   "cell_type": "markdown",
   "metadata": {},
   "source": [
    "### A.4.1 Using hashed fps"
   ]
  },
  {
   "cell_type": "code",
   "execution_count": 40,
   "metadata": {},
   "outputs": [
    {
     "data": {
      "text/plain": [
       "RandomForestRegressor(bootstrap=True, criterion='mse', max_depth=None,\n",
       "           max_features='auto', max_leaf_nodes=None,\n",
       "           min_impurity_decrease=0.0, min_impurity_split=None,\n",
       "           min_samples_leaf=1, min_samples_split=2,\n",
       "           min_weight_fraction_leaf=0.0, n_estimators=100, n_jobs=2,\n",
       "           oob_score=False, random_state=23, verbose=0, warm_start=False)"
      ]
     },
     "execution_count": 40,
     "metadata": {},
     "output_type": "execute_result"
    }
   ],
   "source": [
    "#RF\n",
    "seed = 23\n",
    "RF_hashed_counts = RandomForestRegressor(n_estimators=100,random_state=seed,n_jobs=2)\n",
    "RF_hashed_counts.fit(fps_training.fps_hashed_counts,bio_training)"
   ]
  },
  {
   "cell_type": "code",
   "execution_count": 106,
   "metadata": {},
   "outputs": [
    {
     "data": {
      "text/plain": [
       "MLPRegressor(activation='relu', alpha=0.0001, batch_size='auto', beta_1=0.9,\n",
       "       beta_2=0.999, early_stopping=False, epsilon=1e-08,\n",
       "       hidden_layer_sizes=(50, 25, 10), learning_rate='adaptive',\n",
       "       learning_rate_init=0.001, max_iter=200, momentum=0.9,\n",
       "       n_iter_no_change=10, nesterovs_momentum=True, power_t=0.5,\n",
       "       random_state=23, shuffle=True, solver='adam', tol=0.0001,\n",
       "       validation_fraction=0.1, verbose=False, warm_start=False)"
      ]
     },
     "execution_count": 106,
     "metadata": {},
     "output_type": "execute_result"
    }
   ],
   "source": [
    "# MLP \n",
    "seed = 23\n",
    "MLP_hashed_counts = MLPRegressor(hidden_layer_sizes=(50,25,10),activation='relu', solver='adam',learning_rate='adaptive', random_state = seed)\n",
    "MLP_hashed_counts.fit(fps_training.fps_hashed_counts,bio_training)"
   ]
  },
  {
   "cell_type": "code",
   "execution_count": null,
   "metadata": {},
   "outputs": [],
   "source": [
    "# KNN "
   ]
  },
  {
   "cell_type": "markdown",
   "metadata": {},
   "source": [
    "### A.4.2 Using unhashed fps"
   ]
  },
  {
   "cell_type": "code",
   "execution_count": 41,
   "metadata": {},
   "outputs": [
    {
     "data": {
      "text/plain": [
       "RandomForestRegressor(bootstrap=True, criterion='mse', max_depth=None,\n",
       "           max_features='auto', max_leaf_nodes=None,\n",
       "           min_impurity_decrease=0.0, min_impurity_split=None,\n",
       "           min_samples_leaf=1, min_samples_split=2,\n",
       "           min_weight_fraction_leaf=0.0, n_estimators=100, n_jobs=2,\n",
       "           oob_score=False, random_state=23, verbose=0, warm_start=False)"
      ]
     },
     "execution_count": 41,
     "metadata": {},
     "output_type": "execute_result"
    }
   ],
   "source": [
    "#RF\n",
    "seed = 23\n",
    "RF_UNhashed_counts = RandomForestRegressor(n_estimators=100,random_state=seed,n_jobs=2)\n",
    "RF_UNhashed_counts.fit(fps_training.fps_unhashed_counts,bio_training)"
   ]
  },
  {
   "cell_type": "code",
   "execution_count": 107,
   "metadata": {},
   "outputs": [
    {
     "data": {
      "text/plain": [
       "MLPRegressor(activation='relu', alpha=0.0001, batch_size='auto', beta_1=0.9,\n",
       "       beta_2=0.999, early_stopping=False, epsilon=1e-08,\n",
       "       hidden_layer_sizes=(50, 25, 10), learning_rate='adaptive',\n",
       "       learning_rate_init=0.001, max_iter=200, momentum=0.9,\n",
       "       n_iter_no_change=10, nesterovs_momentum=True, power_t=0.5,\n",
       "       random_state=23, shuffle=True, solver='adam', tol=0.0001,\n",
       "       validation_fraction=0.1, verbose=False, warm_start=False)"
      ]
     },
     "execution_count": 107,
     "metadata": {},
     "output_type": "execute_result"
    }
   ],
   "source": [
    "#MLP\n",
    "seed = 23 \n",
    "MLP_UNhashed_counts = MLPRegressor(hidden_layer_sizes=(50,25,10),activation='relu', solver='adam',learning_rate='adaptive', random_state = seed)\n",
    "MLP_UNhashed_counts.fit(fps_training.fps_unhashed_counts,bio_training)                                "
   ]
  },
  {
   "cell_type": "code",
   "execution_count": null,
   "metadata": {},
   "outputs": [],
   "source": [
    "#KNN "
   ]
  },
  {
   "cell_type": "markdown",
   "metadata": {},
   "source": [
    "### (optional) A.4.3 10 samplings of 5 fold cross validation "
   ]
  },
  {
   "cell_type": "code",
   "execution_count": null,
   "metadata": {},
   "outputs": [],
   "source": [
    "def Rsquared(pred,true):\n",
    "    slope, intercept, r_value, p_value, std_err = scipy.stats.linregress(true,pred)\n",
    "    return r_value**2\n",
    "\n",
    "def RMSE(pred,true):\n",
    "    rmse = np.sqrt(mean_squared_error(true,pred))\n",
    "    return rmse"
   ]
  },
  {
   "cell_type": "code",
   "execution_count": 61,
   "metadata": {},
   "outputs": [],
   "source": [
    "test_size = 0\n",
    "x_train, x_test, y_train, y_test = train_test_split(fps_training.fps_unhashed_counts,bio_training,test_size = test_size, shuffle = True)"
   ]
  },
  {
   "cell_type": "code",
   "execution_count": 63,
   "metadata": {},
   "outputs": [
    {
     "name": "stdout",
     "output_type": "stream",
     "text": [
      "[0.7401, 0.7627, 0.8313, 0.6866, 0.65]\n",
      "('mean : ', 0.73414)\n",
      "[0.6809, 0.6339, 0.7285, 0.5971, 0.5995]\n",
      "('mean : ', 0.6479799999999999)\n",
      "[0.8326, 0.5834, 0.5847, 0.8627, 0.7445]\n",
      "('mean : ', 0.7215800000000001)\n",
      "[0.5738, 0.7671, 0.5862, 0.5122, 0.8529]\n",
      "('mean : ', 0.65844)\n",
      "[0.5457, 0.622, 0.6515, 0.6079, 0.7839]\n",
      "('mean : ', 0.6422)\n",
      "[0.6767, 0.6661, 0.6645, 0.7467, 0.6842]\n",
      "('mean : ', 0.68764)\n",
      "[0.6533, 0.5886, 0.7403, 0.5842, 0.753]\n",
      "('mean : ', 0.66388)\n",
      "[0.6233, 0.6027, 0.7628, 0.614, 0.7549]\n",
      "('mean : ', 0.67154)\n",
      "[0.7843, 0.8002, 0.6866, 0.6713, 0.5514]\n",
      "('mean : ', 0.69876)\n",
      "[0.6551, 0.5743, 0.718, 0.6189, 0.712]\n",
      "('mean : ', 0.6556599999999999)\n",
      "('total fold mean : ', 0.6782)\n",
      "('total cv mean : ', 0.6782)\n"
     ]
    }
   ],
   "source": [
    "#fold setting\n",
    "kf = RepeatedKFold(n_splits = 5,n_repeats=10)\n",
    "kf.get_n_splits(x_train)\n",
    "#kf\n",
    "#>>> KFold(n_splits=5, random_state=None, shuffle=False)\n",
    "\n",
    "#for numbering k folds\n",
    "k=0\n",
    "cv_rmse = []\n",
    "cv_rmse_mean = []\n",
    "tmp = []\n",
    "\n",
    "#cross-val training\n",
    "for train_idx, test_idx in kf.split(x_train):\n",
    "    #print(\"iteration num : {}\".format(k))\n",
    "    #print(\"train : \", train_idx, \"\\ntest : \", test_idx)\n",
    "    x_cv_train , x_cv_test = x_train[train_idx], x_train[test_idx]\n",
    "    y_cv_train , y_cv_test = y_train[train_idx], y_train[test_idx]\n",
    "    \n",
    "    RF_UNhashed_counts.fit(x_cv_train,y_cv_train)\n",
    "    \n",
    "    y_cv_testidx = test_idx\n",
    "    y_cv_pred = RF_UNhashed_counts.predict(x_cv_test)\n",
    "    cv_rmse.append(round(RMSE(y_cv_pred,y_cv_test),4))\n",
    "    cv_rmse_mean.append(round(RMSE(y_cv_pred,y_cv_test),4))\n",
    "    k += 1 \n",
    "    \n",
    "    if k % 5 == 0 : \n",
    "        tmp.append(np.mean(cv_rmse_mean))\n",
    "        print(cv_rmse_mean) # per fold rmse value in one cv \n",
    "        print(\"mean : \",np.mean(cv_rmse_mean)) # RMSE mean value per iteration of cv  \n",
    "        del cv_rmse_mean[:]\n",
    "        \n",
    "\n",
    "print(\"total fold mean : \", round(np.mean(cv_rmse),4)) # mean of 50 cv rmse (1회 iter돌 때의 모든 rmse의 평균 (50회의 평균)) \n",
    "print(\"total cv mean : \",round(np.mean(tmp),4)) # mean of cv's mean of 1 iter (각 cv rmse 평균의 평균) # we need var of this value "
   ]
  },
  {
   "cell_type": "markdown",
   "metadata": {},
   "source": [
    "## A.5  predict bioactivities for the test set"
   ]
  },
  {
   "cell_type": "markdown",
   "metadata": {},
   "source": [
    "We define two functions for validating our predictions, namely: Pearson's correlation coefficient (R2) and root mean squared errro (RMSE)"
   ]
  },
  {
   "cell_type": "code",
   "execution_count": 42,
   "metadata": {},
   "outputs": [],
   "source": [
    "def Rsquared(pred,true):\n",
    "    slope, intercept, r_value, p_value, std_err = scipy.stats.linregress(true,pred)\n",
    "    return r_value**2\n",
    "\n",
    "def RMSE(pred,true):\n",
    "    rmse = np.sqrt(mean_squared_error(true,pred))\n",
    "    return rmse"
   ]
  },
  {
   "cell_type": "code",
   "execution_count": 108,
   "metadata": {},
   "outputs": [],
   "source": [
    "RF_preds_hashed = RF_hashed_counts.predict(fps_test.fps_hashed_counts)\n",
    "MLP_preds_hashed = MLP_hashed_counts.predict(fps_test.fps_hashed_counts)\n",
    "#KNN"
   ]
  },
  {
   "cell_type": "code",
   "execution_count": 109,
   "metadata": {},
   "outputs": [],
   "source": [
    "RF_preds_UNhashed = RF_UNhashed_counts.predict(fps_test.fps_unhashed_counts)\n",
    "MLP_preds_UNhashed = MLP_UNhashed_counts.predict(fps_test.fps_unhashed_counts) \n",
    "#KNN "
   ]
  },
  {
   "cell_type": "markdown",
   "metadata": {},
   "source": [
    "## A.6 Model validation "
   ]
  },
  {
   "cell_type": "code",
   "execution_count": 110,
   "metadata": {},
   "outputs": [
    {
     "name": "stdout",
     "output_type": "stream",
     "text": [
      "RMSE RF hashed fps:  0.6389450617226295\n",
      "RMSE RF UNhashed fps:  0.6550376431992654\n",
      "RMSE MLP hashed fps:  0.6775207323120629\n",
      "RMSE MLP UNhashed fps:  0.9532095476747148\n"
     ]
    }
   ],
   "source": [
    "print \"RMSE RF hashed fps: \", RMSE(RF_preds_hashed, bio_test)\n",
    "print \"RMSE RF UNhashed fps: \", RMSE(RF_preds_UNhashed, bio_test)\n",
    "print \"RMSE MLP hashed fps: \", RMSE(MLP_preds_hashed, bio_test)\n",
    "print \"RMSE MLP UNhashed fps: \", RMSE(MLP_preds_UNhashed, bio_test)\n",
    "#print \"RMSE knn hashed fps: \", RMSE(preds_knn_hashed, bio_test)\n",
    "#print \"RMSE knn UNhashed fps: \", RMSE(preds_knn_UNhashed, bio_test)"
   ]
  },
  {
   "cell_type": "code",
   "execution_count": 111,
   "metadata": {},
   "outputs": [
    {
     "name": "stdout",
     "output_type": "stream",
     "text": [
      "R2 RF hashed fps:  0.675541585463033\n",
      "R2 RF UNhashed fps:  0.641275872727945\n",
      "R2 MLP hashed fps:  0.7049414537947494\n",
      "R2 MLP UNhashed fps:  0.44078416469585924\n"
     ]
    }
   ],
   "source": [
    "print \"R2 RF hashed fps: \", Rsquared(RF_preds_hashed, bio_test)\n",
    "print \"R2 RF UNhashed fps: \", Rsquared(RF_preds_UNhashed, bio_test)\n",
    "print \"R2 MLP hashed fps: \", Rsquared(MLP_preds_hashed, bio_test)\n",
    "print \"R2 MLP UNhashed fps: \", Rsquared(MLP_preds_UNhashed, bio_test)\n",
    "#print \"R2 knn hashed fps: \", Rsquared(preds_knn_hashed, bio_test)\n",
    "#print \"R2 knn UNhashed fps: \", Rsquared(preds_knn_UNhashed, bio_test)"
   ]
  }
 ],
 "metadata": {
  "kernelspec": {
   "display_name": "Python 2",
   "language": "python",
   "name": "python2"
  },
  "language_info": {
   "codemirror_mode": {
    "name": "ipython",
    "version": 2
   },
   "file_extension": ".py",
   "mimetype": "text/x-python",
   "name": "python",
   "nbconvert_exporter": "python",
   "pygments_lexer": "ipython2",
   "version": "2.7.16"
  }
 },
 "nbformat": 4,
 "nbformat_minor": 2
}
