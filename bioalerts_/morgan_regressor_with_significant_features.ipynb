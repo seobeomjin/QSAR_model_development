{
 "cells": [
  {
   "cell_type": "code",
   "execution_count": 1,
   "metadata": {},
   "outputs": [],
   "source": [
    "import bioalerts\n",
    "from bioalerts import LoadMolecules, Alerts, FPCalculator\n",
    "import sys"
   ]
  },
  {
   "cell_type": "code",
   "execution_count": 2,
   "metadata": {},
   "outputs": [],
   "source": [
    "import numpy as np \n",
    "import scipy\n",
    "import matplotlib.pyplot as plt\n",
    "\n",
    "from rdkit.Chem.Draw import IPythonConsole \n",
    "from rdkit.Chem import PandasTools \n",
    "\n",
    "import pandas as pd \n",
    "\n",
    "from sklearn.neighbors import KNeighborsRegressor #knn\n",
    "from sklearn.ensemble import RandomForestRegressor #RF\n",
    "from sklearn.svm import SVR #SVR\n",
    "from sklearn.neural_network import MLPRegressor #MLP \n",
    "\n",
    "from sklearn.model_selection import train_test_split, cross_val_score \n",
    "from sklearn.model_selection import RepeatedKFold\n",
    "from sklearn.metrics import mean_squared_error\n",
    "from sklearn.metrics import r2_score"
   ]
  },
  {
   "cell_type": "code",
   "execution_count": 3,
   "metadata": {},
   "outputs": [],
   "source": [
    "import sys, numpy as np, scipy as sc, rdkit, matplotlib as pylab, pandas as pd, IPython\n",
    "#print \" Python:\", sys.version, \"\\n\"\n",
    "#print \" Numpy:\", np.__version__\n",
    "#print \" Scipy:\", sc.__version__\n",
    "#print \" Rdkit:\", rdkit.rdBase.rdkitVersion\n",
    "#print \" Matplotlib:\", pylab.__version__\n",
    "#print \" Pandas:\", pd.__version__\n",
    "#print \" Ipython:\", IPython.__version__\n",
    "#print \" Scikit-Learn:\", sklearn.__version__\n",
    "#print \" Scipy:\", scipy.__version__"
   ]
  },
  {
   "cell_type": "markdown",
   "metadata": {},
   "source": [
    "## A. Calculating Morgan fingerprints"
   ]
  },
  {
   "cell_type": "markdown",
   "metadata": {},
   "source": [
    "In this section, we will see how to calculate hashed and unhashed Morgan fingerprints for a set of molecules, and will train some models. "
   ]
  },
  {
   "cell_type": "code",
   "execution_count": 4,
   "metadata": {},
   "outputs": [],
   "source": [
    "AR_mols = bioalerts.LoadMolecules.LoadMolecules(\"./tutorial/datasets/5AR.smi\",name_field=None) \n",
    "#COX2.smi is a set of only SMILES data"
   ]
  },
  {
   "cell_type": "code",
   "execution_count": 5,
   "metadata": {},
   "outputs": [
    {
     "name": "stdout",
     "output_type": "stream",
     "text": [
      "Format of the structures file = SMILES\n",
      "Format of the structures file = SMILES\n",
      "All molecules in the input file were processed correctly\n",
      "All molecules in the input file were processed correctly\n"
     ]
    }
   ],
   "source": [
    "AR_mols.ReadMolecules()"
   ]
  },
  {
   "cell_type": "code",
   "execution_count": 6,
   "metadata": {},
   "outputs": [
    {
     "name": "stdout",
     "output_type": "stream",
     "text": [
      "278\n",
      "278\n",
      "278\n",
      "278\n"
     ]
    }
   ],
   "source": [
    "AR_bio = np.genfromtxt('./tutorial/datasets/5AR.bio.txt',skip_header=0) \n",
    "print len(AR_mols.mols)\n",
    "print len(AR_bio)"
   ]
  },
  {
   "cell_type": "code",
   "execution_count": 7,
   "metadata": {},
   "outputs": [
    {
     "name": "stdout",
     "output_type": "stream",
     "text": [
      "278 28 250\n",
      "278 28 250\n",
      "278 28 250\n",
      "278 28 250\n"
     ]
    }
   ],
   "source": [
    "stride = int(len(AR_mols.mols) * 0.9)\n",
    "training = AR_mols.mols[0:stride]\n",
    "test = AR_mols.mols[stride:len(AR_mols.mols)]\n",
    "training_mols_ids = AR_mols.mols_ids[0:stride] # for sig-sub-extract\n",
    "print len(AR_mols.mols), len(test), len(training)\n",
    "\n",
    "bio_training = AR_bio[0:stride]\n",
    "bio_test = AR_bio[stride:len(AR_mols.mols)]\n",
    "print len(AR_bio), len(bio_test), len(bio_training)"
   ]
  },
  {
   "cell_type": "markdown",
   "metadata": {},
   "source": [
    "## A.0 substructure extraction"
   ]
  },
  {
   "cell_type": "markdown",
   "metadata": {},
   "source": [
    "The length of the substructure dictionary indicates the total number of distinct substructures present in the training set **satisfying the bond radii indicated by the user**, whereas the number of keys for each dictionary element indicates the number of distinct molecules in which the substructure is present."
   ]
  },
  {
   "cell_type": "markdown",
   "metadata": {},
   "source": [
    "### A.0.1 whole substructure extraction"
   ]
  },
  {
   "cell_type": "code",
   "execution_count": 96,
   "metadata": {},
   "outputs": [],
   "source": [
    "#  Reference molecules\n",
    "reference_molecules = bioalerts.LoadMolecules.GetDataSetInfo(name_field=None)"
   ]
  },
  {
   "cell_type": "code",
   "execution_count": null,
   "metadata": {},
   "outputs": [],
   "source": [
    "#fps_training.substructure_ids"
   ]
  },
  {
   "cell_type": "code",
   "execution_count": 97,
   "metadata": {},
   "outputs": [],
   "source": [
    "reference_molecules.extract_substructure_information(radii=[0,1,2],mols=training)"
   ]
  },
  {
   "cell_type": "code",
   "execution_count": 111,
   "metadata": {},
   "outputs": [
    {
     "name": "stdout",
     "output_type": "stream",
     "text": [
      "1205\n",
      "1205\n"
     ]
    }
   ],
   "source": [
    "reference_keys = reference_molecules.substructure_dictionary.keys()\n",
    "print len(reference_keys)"
   ]
  },
  {
   "cell_type": "markdown",
   "metadata": {},
   "source": [
    "### A.0.2 significant substructure extraction"
   ]
  },
  {
   "cell_type": "code",
   "execution_count": 124,
   "metadata": {},
   "outputs": [],
   "source": [
    "significant_reference_molecules = bioalerts.LoadMolecules.GetDataSetInfo(name_field=None)\n",
    "significant_reference_molecules.extract_substructure_information(radii=[0,1,2],mols=training)"
   ]
  },
  {
   "cell_type": "code",
   "execution_count": 125,
   "metadata": {},
   "outputs": [],
   "source": [
    "Alerts_continuous_high_activity = bioalerts.Alerts.CalculatePvaluesContinuous(radii_ext=[0,1,2])"
   ]
  },
  {
   "cell_type": "code",
   "execution_count": 126,
   "metadata": {},
   "outputs": [],
   "source": [
    "def calculate_bioactivity_threshold(bio,threshold):\n",
    "    # a pIC50 is smaller, higher activity \n",
    "    \n",
    "    sorted_bio = sorted(bio)\n",
    "    threshold_bio_value = sorted_bio[int(len(sorted_bio)*threshold)]\n",
    "    \n",
    "    print(\"activity ratio is {}\".format(1-threshold))\n",
    "    print(\"threshold value is {}\".format(threshold_bio_value))\n",
    "    print(\"actual bioactivity value is {}\".format(np.power(10,9 - threshold_bio_value)))\n",
    "    return threshold_bio_value"
   ]
  },
  {
   "cell_type": "code",
   "execution_count": 127,
   "metadata": {},
   "outputs": [
    {
     "name": "stdout",
     "output_type": "stream",
     "text": [
      "activity ratio is 0.67\n",
      "threshold value is 6.525783736\n",
      "actual bioactivity value is 297.999999948\n",
      "activity ratio is 0.67\n",
      "threshold value is 6.525783736\n",
      "actual bioactivity value is 297.999999948\n"
     ]
    }
   ],
   "source": [
    "threshold_= 0.33\n",
    "threshold_bio_value = calculate_bioactivity_threshold(AR_bio,threshold_)\n",
    "\n",
    "threshold_nb_substructures = 10\n",
    "threshold_ratio = 0.3\n",
    "threshold_high_act_nb_substructures = 3 #5\n",
    "threshold_high_act_ratio = 0.15 #0.5                                                                  \n",
    "\n",
    "# maybe no necessary to change\n",
    "threshold_pvalue = 0.05 "
   ]
  },
  {
   "cell_type": "code",
   "execution_count": 128,
   "metadata": {},
   "outputs": [],
   "source": [
    "significant_substructure = {}\n",
    "significant_substructure = Alerts_continuous_high_activity.get_significant_substructure_with_high_bioactivity(\n",
    "mols = training,\n",
    "     substructure_dictionary = significant_reference_molecules.substructure_dictionary,\n",
    "     bioactivities = bio_training,\n",
    "     mols_ids = training_mols_ids[:],\n",
    "     threshold_nb_substructures = threshold_nb_substructures,\n",
    "     threshold_pvalue = threshold_pvalue,\n",
    "     threshold_ratio=threshold_ratio,\n",
    "     threshold_high_act_nb_substructures=threshold_high_act_nb_substructures,\n",
    "     threshold_high_act_ratio = threshold_high_act_ratio,                                                                        \n",
    "     threshold_bioactivity=threshold_bio_value)"
   ]
  },
  {
   "cell_type": "code",
   "execution_count": 129,
   "metadata": {},
   "outputs": [
    {
     "data": {
      "text/plain": [
       "30"
      ]
     },
     "execution_count": 129,
     "metadata": {},
     "output_type": "execute_result"
    },
    {
     "data": {
      "text/plain": [
       "30"
      ]
     },
     "execution_count": 129,
     "metadata": {},
     "output_type": "execute_result"
    }
   ],
   "source": [
    "significant_reference_keys = significant_substructure.keys()\n",
    "len(significant_reference_keys)"
   ]
  },
  {
   "cell_type": "code",
   "execution_count": 130,
   "metadata": {},
   "outputs": [],
   "source": [
    "mol_id_set = set()\n",
    "for k,v in significant_substructure.items():\n",
    "    for mol_id in v: \n",
    "        mol_id_set.add(mol_id)"
   ]
  },
  {
   "cell_type": "code",
   "execution_count": 131,
   "metadata": {},
   "outputs": [
    {
     "name": "stdout",
     "output_type": "stream",
     "text": [
      "number of total substructure : 1205\n",
      "number of extracted significant substructure : 30\n",
      "250 out of 250 have the label which represent remaining significant substructure\n",
      "\n",
      "THRESHOLD - \n",
      "\tnumber of substructures : 10\n",
      "\tp value : 0.05\n",
      "\tratio : 0.3\n",
      "\tnumber of high activity threshold : 3\n",
      "\thigh activity ratio : 0.15\n",
      "\thigh bioactivity threshold : 0.33\n",
      "\n",
      "number of total substructure : 1205\n",
      "number of extracted significant substructure : 30\n",
      "250 out of 250 have the label which represent remaining significant substructure\n",
      "\n",
      "THRESHOLD - \n",
      "\tnumber of substructures : 10\n",
      "\tp value : 0.05\n",
      "\tratio : 0.3\n",
      "\tnumber of high activity threshold : 3\n",
      "\thigh activity ratio : 0.15\n",
      "\thigh bioactivity threshold : 0.33\n",
      "\n"
     ]
    }
   ],
   "source": [
    "print('number of total substructure : {}'.format(len(significant_reference_molecules.substructure_dictionary)))\n",
    "print('number of extracted significant substructure : {}'.format(len(significant_substructure)))\n",
    "print('{} out of {} have the label which represent remaining significant substructure\\n'.format(len(mol_id_set),len(bio_training)))\n",
    "\n",
    "print ('THRESHOLD - \\n\\tnumber of substructures : {}\\n\\tp value : {}\\n\\tratio : {}\\n\\tnumber of high activity threshold : {}\\n\\thigh activity ratio : {}\\n\\thigh bioactivity threshold : {}\\n'\n",
    "       .format(threshold_nb_substructures,threshold_pvalue,threshold_ratio,threshold_high_act_nb_substructures,threshold_high_act_ratio,threshold_ ))"
   ]
  },
  {
   "cell_type": "code",
   "execution_count": 89,
   "metadata": {},
   "outputs": [],
   "source": [
    "# run the code when you repair hyperparameter\n",
    "if len(significant_substructure) is not 0 :\n",
    "    significant_substructure.clear()\n",
    "if len(mol_id_set) is not 0 :\n",
    "    mol_id_set.clear()"
   ]
  },
  {
   "cell_type": "markdown",
   "metadata": {},
   "source": [
    "### A.1 Computating HASHED Morgan fingerprints for the TRAINING set"
   ]
  },
  {
   "cell_type": "markdown",
   "metadata": {},
   "source": [
    "We first initialize the class bioalerts.FPCalculator.CalculateFPs()"
   ]
  },
  {
   "cell_type": "code",
   "execution_count": 171,
   "metadata": {},
   "outputs": [],
   "source": [
    "fps_training = bioalerts.FPCalculator.CalculateFPs(radii=[0,1,2],mols=training,reference_substructure_keys=reference_keys)\n",
    "fps_training_with_refer = bioalerts.FPCalculator.CalculateFPs(radii=[0,1,2],mols=training,reference_substructure_keys=reference_keys)\n",
    "fps_training_with_sig_refer = bioalerts.FPCalculator.CalculateFPs(radii=[2,3,4,5],mols=training,reference_substructure_keys=significant_reference_keys)\n",
    "\n",
    "# reference keys have no effect to hashed, only to unhashed "
   ]
  },
  {
   "cell_type": "code",
   "execution_count": 172,
   "metadata": {},
   "outputs": [],
   "source": [
    "fps_training.calculate_hashed_fps_binary_quick(nBits=128)"
   ]
  },
  {
   "cell_type": "code",
   "execution_count": 173,
   "metadata": {},
   "outputs": [
    {
     "name": "stdout",
     "output_type": "stream",
     "text": [
      "(250L, 128L)\n",
      "(250L, 128L)\n"
     ]
    }
   ],
   "source": [
    "print fps_training.fps_hashed_binary_quick.shape"
   ]
  },
  {
   "cell_type": "markdown",
   "metadata": {},
   "source": [
    "The method \"calculate_hashed_fps_binary_quick()\" considers all substructures with a bond radius smaller or equal to the maximum value of the argument radii. In this example, 2. Thus, in this case this method will consider all substructures with a bond radius of 0, 1 and 2."
   ]
  },
  {
   "cell_type": "code",
   "execution_count": 174,
   "metadata": {},
   "outputs": [],
   "source": [
    "fps_training.calculate_hashed_fps(nBits=128)"
   ]
  },
  {
   "cell_type": "code",
   "execution_count": 175,
   "metadata": {},
   "outputs": [
    {
     "name": "stdout",
     "output_type": "stream",
     "text": [
      "(250L, 128L)\n",
      "(250L, 128L)\n",
      "(250L, 128L)\n",
      "(250L, 128L)\n"
     ]
    }
   ],
   "source": [
    "print fps_training.fps_hashed_binary.shape\n",
    "print fps_training.fps_hashed_counts.shape"
   ]
  },
  {
   "cell_type": "markdown",
   "metadata": {},
   "source": [
    "The method **\"calculate_hashed_fps()\"** computes hashed fingerpints in **(i) count** and **(ii) also binary format**. The difference of the method *calculate_hashed_fps()* with respect to the method *calculate_hashed_fps_binary_quick()* is that the **former only consider the substructures with a bond radius in the list input** to the argument radii when instantiating the class bioalerts.FPCalculator.CalculateFPs(). In the example above: [1,2].\n",
    "\n",
    "Therefore, the hashed fingerprints in binary format calculated by these two methods will be *identical* if the bond radii especified in the aforesaid argument radii comprise all natural number from 0 to the maximum bond radius. In this example, this would be correspond to setting the value of the argument radii to [0,1,2]."
   ]
  },
  {
   "cell_type": "code",
   "execution_count": 176,
   "metadata": {},
   "outputs": [
    {
     "name": "stdout",
     "output_type": "stream",
     "text": [
      "True\n",
      "True\n"
     ]
    }
   ],
   "source": [
    "print (fps_training.fps_hashed_binary_quick == fps_training.fps_hashed_binary).all()"
   ]
  },
  {
   "cell_type": "code",
   "execution_count": 177,
   "metadata": {},
   "outputs": [
    {
     "data": {
      "text/plain": [
       "array([[0, 1, 0, ..., 1, 0, 0],\n",
       "       [0, 1, 0, ..., 0, 1, 0],\n",
       "       [0, 0, 0, ..., 0, 0, 0],\n",
       "       ...,\n",
       "       [0, 1, 0, ..., 1, 0, 0],\n",
       "       [0, 1, 0, ..., 1, 0, 0],\n",
       "       [0, 0, 0, ..., 0, 0, 0]])"
      ]
     },
     "execution_count": 177,
     "metadata": {},
     "output_type": "execute_result"
    },
    {
     "data": {
      "text/plain": [
       "array([[0, 1, 0, ..., 1, 0, 0],\n",
       "       [0, 1, 0, ..., 0, 1, 0],\n",
       "       [0, 0, 0, ..., 0, 0, 0],\n",
       "       ...,\n",
       "       [0, 1, 0, ..., 1, 0, 0],\n",
       "       [0, 1, 0, ..., 1, 0, 0],\n",
       "       [0, 0, 0, ..., 0, 0, 0]])"
      ]
     },
     "execution_count": 177,
     "metadata": {},
     "output_type": "execute_result"
    }
   ],
   "source": [
    "toto = fps_training.fps_hashed_counts\n",
    "toto\n",
    "#toto.shape #(250L, 128L)"
   ]
  },
  {
   "cell_type": "code",
   "execution_count": 178,
   "metadata": {},
   "outputs": [
    {
     "data": {
      "text/plain": [
       "array([[1, 0, 0, 1, 1, 0, 0, 0, 0],\n",
       "       [0, 0, 0, 0, 0, 0, 0, 0, 0],\n",
       "       [0, 1, 0, 0, 0, 0, 1, 0, 0],\n",
       "       [1, 0, 0, 0, 0, 0, 1, 1, 0],\n",
       "       [0, 0, 0, 0, 0, 0, 1, 1, 0],\n",
       "       [1, 0, 0, 0, 0, 0, 0, 1, 0],\n",
       "       [0, 0, 0, 0, 1, 0, 0, 0, 0],\n",
       "       [0, 0, 1, 0, 0, 0, 0, 0, 0],\n",
       "       [1, 1, 0, 0, 1, 1, 1, 1, 0]])"
      ]
     },
     "execution_count": 178,
     "metadata": {},
     "output_type": "execute_result"
    },
    {
     "data": {
      "text/plain": [
       "array([[1, 0, 0, 1, 1, 0, 0, 0, 0],\n",
       "       [0, 0, 0, 0, 0, 0, 0, 0, 0],\n",
       "       [0, 1, 0, 0, 0, 0, 1, 0, 0],\n",
       "       [1, 0, 0, 0, 0, 0, 1, 1, 0],\n",
       "       [0, 0, 0, 0, 0, 0, 1, 1, 0],\n",
       "       [1, 0, 0, 0, 0, 0, 0, 1, 0],\n",
       "       [0, 0, 0, 0, 1, 0, 0, 0, 0],\n",
       "       [0, 0, 1, 0, 0, 0, 0, 0, 0],\n",
       "       [1, 1, 0, 0, 1, 1, 1, 1, 0]])"
      ]
     },
     "execution_count": 178,
     "metadata": {},
     "output_type": "execute_result"
    }
   ],
   "source": [
    "fps_training.fps_hashed_binary[1:10,1:10]"
   ]
  },
  {
   "cell_type": "code",
   "execution_count": 179,
   "metadata": {},
   "outputs": [
    {
     "data": {
      "text/plain": [
       "array([[1, 0, 0, 1, 1, 0, 0, 0, 0],\n",
       "       [0, 0, 0, 0, 0, 0, 0, 0, 0],\n",
       "       [0, 1, 0, 0, 0, 0, 1, 0, 0],\n",
       "       [1, 0, 0, 0, 0, 0, 1, 1, 0],\n",
       "       [0, 0, 0, 0, 0, 0, 1, 1, 0],\n",
       "       [1, 0, 0, 0, 0, 0, 0, 1, 0],\n",
       "       [0, 0, 0, 0, 1, 0, 0, 0, 0],\n",
       "       [0, 0, 1, 0, 0, 0, 0, 0, 0],\n",
       "       [1, 1, 0, 0, 1, 1, 1, 1, 0]])"
      ]
     },
     "execution_count": 179,
     "metadata": {},
     "output_type": "execute_result"
    },
    {
     "data": {
      "text/plain": [
       "array([[1, 0, 0, 1, 1, 0, 0, 0, 0],\n",
       "       [0, 0, 0, 0, 0, 0, 0, 0, 0],\n",
       "       [0, 1, 0, 0, 0, 0, 1, 0, 0],\n",
       "       [1, 0, 0, 0, 0, 0, 1, 1, 0],\n",
       "       [0, 0, 0, 0, 0, 0, 1, 1, 0],\n",
       "       [1, 0, 0, 0, 0, 0, 0, 1, 0],\n",
       "       [0, 0, 0, 0, 1, 0, 0, 0, 0],\n",
       "       [0, 0, 1, 0, 0, 0, 0, 0, 0],\n",
       "       [1, 1, 0, 0, 1, 1, 1, 1, 0]])"
      ]
     },
     "execution_count": 179,
     "metadata": {},
     "output_type": "execute_result"
    }
   ],
   "source": [
    "fps_training.fps_hashed_binary_quick[1:10,1:10]"
   ]
  },
  {
   "cell_type": "markdown",
   "metadata": {},
   "source": [
    "### A.2 Computating UNHASHED Morgan fingerprints for the TRAINING set"
   ]
  },
  {
   "cell_type": "markdown",
   "metadata": {},
   "source": [
    "#### A.2.1 UNHASHED without reference dict"
   ]
  },
  {
   "cell_type": "code",
   "execution_count": 180,
   "metadata": {
    "scrolled": true
   },
   "outputs": [],
   "source": [
    "fps_training.calculate_unhashed_fps(draw_substructures=True)"
   ]
  },
  {
   "cell_type": "code",
   "execution_count": 181,
   "metadata": {},
   "outputs": [
    {
     "data": {
      "text/plain": [
       "(250L, 1205L)"
      ]
     },
     "execution_count": 181,
     "metadata": {},
     "output_type": "execute_result"
    },
    {
     "data": {
      "text/plain": [
       "(250L, 1205L)"
      ]
     },
     "execution_count": 181,
     "metadata": {},
     "output_type": "execute_result"
    }
   ],
   "source": [
    "fps_training.fps_unhashed_binary.shape"
   ]
  },
  {
   "cell_type": "markdown",
   "metadata": {},
   "source": [
    "#### A.2.2 UNHASHED with reference dict"
   ]
  },
  {
   "cell_type": "code",
   "execution_count": 182,
   "metadata": {},
   "outputs": [],
   "source": [
    "fps_training_with_refer.calculate_unhashed_fps(draw_substructures=True)"
   ]
  },
  {
   "cell_type": "code",
   "execution_count": 183,
   "metadata": {},
   "outputs": [
    {
     "data": {
      "text/plain": [
       "(250L, 1205L)"
      ]
     },
     "execution_count": 183,
     "metadata": {},
     "output_type": "execute_result"
    },
    {
     "data": {
      "text/plain": [
       "(250L, 1205L)"
      ]
     },
     "execution_count": 183,
     "metadata": {},
     "output_type": "execute_result"
    }
   ],
   "source": [
    "fps_training_with_refer.fps_unhashed_counts.shape"
   ]
  },
  {
   "cell_type": "markdown",
   "metadata": {},
   "source": [
    "#### A.2.3 UNHASHED with significant reference dict"
   ]
  },
  {
   "cell_type": "code",
   "execution_count": null,
   "metadata": {},
   "outputs": [],
   "source": [
    "fps_training_with_sig_refer.calculate_unhashed_fps(draw_substructures=True)\n",
    "fps_training_with_sig_refer.fps_unhashed_counts.shape"
   ]
  },
  {
   "cell_type": "markdown",
   "metadata": {},
   "source": [
    "### A.3 Computating Morgan fingerprints for the TEST set "
   ]
  },
  {
   "cell_type": "markdown",
   "metadata": {},
   "source": [
    "#### A.3.1 Computating UNHASHED Morgan fingerprints for the test set using a different set of molecules:"
   ]
  },
  {
   "cell_type": "markdown",
   "metadata": {},
   "source": [
    "Since the positions of the substructures in the unhashed fingerprints depend on the training set, the method calculate_unhashed_fps() allows the computation of unhashed fingerprints for new compounds using a basis defined by the substructures present in the training set. This basis is defined by the keys of the substructure dictionary calculated for the molecules from the training set. This reference substructure dictionary is input to the class CalculateFPs() using the argument reference_substucture_keys.\n",
    "\n",
    "*This ensures that substructures in new compounds map to the same locations on the fingerprint and allows enhanced model interpretation by noting which exact substructures are deemed important by the learning algorithm.*"
   ]
  },
  {
   "cell_type": "code",
   "execution_count": 136,
   "metadata": {},
   "outputs": [],
   "source": [
    "#  Reference molecules\n",
    "#reference_molecules = bioalerts.LoadMolecules.GetDataSetInfo(name_field=None)"
   ]
  },
  {
   "cell_type": "code",
   "execution_count": 137,
   "metadata": {},
   "outputs": [
    {
     "data": {
      "text/plain": [
       "array([ 218993025, 3334525955,  757425542, ..., 1842898132, 1861965050,\n",
       "       1101907775], dtype=int64)"
      ]
     },
     "execution_count": 137,
     "metadata": {},
     "output_type": "execute_result"
    },
    {
     "data": {
      "text/plain": [
       "array([ 218993025, 3334525955,  757425542, ..., 1842898132, 1861965050,\n",
       "       1101907775], dtype=int64)"
      ]
     },
     "execution_count": 137,
     "metadata": {},
     "output_type": "execute_result"
    }
   ],
   "source": [
    "#fps_training.substructure_ids"
   ]
  },
  {
   "cell_type": "code",
   "execution_count": 138,
   "metadata": {},
   "outputs": [],
   "source": [
    "#reference_molecules.extract_substructure_information(radii=[0,1,2],mols=training)"
   ]
  },
  {
   "cell_type": "code",
   "execution_count": 139,
   "metadata": {},
   "outputs": [
    {
     "name": "stdout",
     "output_type": "stream",
     "text": [
      "1205\n",
      "1205\n"
     ]
    }
   ],
   "source": [
    "#reference_keys = reference_molecules.substructure_dictionary.keys()\n",
    "#print len(reference_keys)\n"
   ]
  },
  {
   "cell_type": "code",
   "execution_count": 151,
   "metadata": {},
   "outputs": [],
   "source": [
    "#initialization \n",
    "fps_test = bioalerts.FPCalculator.CalculateFPs(radii=[0,1,2],\n",
    "                                         mols=test,\n",
    "                                         reference_substructure_keys=reference_keys)\n",
    "\n",
    "fps_test_with_sig_refer = bioalerts.FPCalculator.CalculateFPs(radii=[2,3,4,5],\n",
    "                                                             mols=test,\n",
    "                                                             reference_substructure_keys=significant_reference_keys)"
   ]
  },
  {
   "cell_type": "code",
   "execution_count": 152,
   "metadata": {},
   "outputs": [],
   "source": [
    "fps_test.calculate_unhashed_fps()\n",
    "fps_test_with_sig_refer.calculate_unhashed_fps()"
   ]
  },
  {
   "cell_type": "code",
   "execution_count": 153,
   "metadata": {},
   "outputs": [
    {
     "name": "stdout",
     "output_type": "stream",
     "text": [
      "(28L, 1205L)\n",
      "(28L, 30L)\n",
      "(28L, 1205L)\n",
      "(28L, 30L)\n"
     ]
    }
   ],
   "source": [
    "print fps_test.fps_unhashed_binary.shape\n",
    "print fps_test_with_sig_refer.fps_unhashed_binary.shape"
   ]
  },
  {
   "cell_type": "code",
   "execution_count": 154,
   "metadata": {
    "scrolled": true
   },
   "outputs": [
    {
     "data": {
      "text/plain": [
       "1205"
      ]
     },
     "execution_count": 154,
     "metadata": {},
     "output_type": "execute_result"
    },
    {
     "data": {
      "text/plain": [
       "1205"
      ]
     },
     "execution_count": 154,
     "metadata": {},
     "output_type": "execute_result"
    }
   ],
   "source": [
    "len(fps_training.columns_unhashed)"
   ]
  },
  {
   "cell_type": "code",
   "execution_count": 155,
   "metadata": {},
   "outputs": [
    {
     "ename": "AttributeError",
     "evalue": "'NoneType' object has no attribute 'shape'",
     "output_type": "error",
     "traceback": [
      "\u001b[1;31m---------------------------------------------------------------------------\u001b[0m",
      "\u001b[1;31mAttributeError\u001b[0m                            Traceback (most recent call last)",
      "\u001b[1;32m<ipython-input-155-b357fb528078>\u001b[0m in \u001b[0;36m<module>\u001b[1;34m()\u001b[0m\n\u001b[1;32m----> 1\u001b[1;33m \u001b[0mfps_training\u001b[0m\u001b[1;33m.\u001b[0m\u001b[0mfps_hashed_counts\u001b[0m\u001b[1;33m.\u001b[0m\u001b[0mshape\u001b[0m\u001b[1;33m\u001b[0m\u001b[0m\n\u001b[0m",
      "\u001b[1;31mAttributeError\u001b[0m: 'NoneType' object has no attribute 'shape'"
     ]
    },
    {
     "ename": "AttributeError",
     "evalue": "'NoneType' object has no attribute 'shape'",
     "output_type": "error",
     "traceback": [
      "\u001b[1;31m---------------------------------------------------------------------------\u001b[0m",
      "\u001b[1;31mAttributeError\u001b[0m                            Traceback (most recent call last)",
      "\u001b[1;32m<ipython-input-155-b357fb528078>\u001b[0m in \u001b[0;36m<module>\u001b[1;34m()\u001b[0m\n\u001b[1;32m----> 1\u001b[1;33m \u001b[0mfps_training\u001b[0m\u001b[1;33m.\u001b[0m\u001b[0mfps_hashed_counts\u001b[0m\u001b[1;33m.\u001b[0m\u001b[0mshape\u001b[0m\u001b[1;33m\u001b[0m\u001b[0m\n\u001b[0m",
      "\u001b[1;31mAttributeError\u001b[0m: 'NoneType' object has no attribute 'shape'"
     ]
    }
   ],
   "source": [
    "fps_training.fps_hashed_counts.shape"
   ]
  },
  {
   "cell_type": "markdown",
   "metadata": {},
   "source": [
    "#### A.3.2 Computating HASHED Morgan fingerprints for the test set (e.g. using a different set of molecules)"
   ]
  },
  {
   "cell_type": "code",
   "execution_count": null,
   "metadata": {},
   "outputs": [],
   "source": [
    "fps_test.calculate_hashed_fps(nBits=128)"
   ]
  },
  {
   "cell_type": "markdown",
   "metadata": {},
   "source": [
    "### A.4 Training models "
   ]
  },
  {
   "cell_type": "markdown",
   "metadata": {},
   "source": [
    "#### A.4.1 Using hashed fps"
   ]
  },
  {
   "cell_type": "code",
   "execution_count": null,
   "metadata": {},
   "outputs": [],
   "source": [
    "#RF\n",
    "seed = 23\n",
    "RF_hashed_counts = RandomForestRegressor(n_estimators=100,random_state=seed,n_jobs=2)\n",
    "RF_hashed_counts.fit(fps_training.fps_hashed_counts,bio_training)\n",
    "\n",
    "# RF binary \n",
    "seed = 23 \n",
    "RF_hashed_binary = RandomForestRegressor(n_estimators=100,random_state=seed,n_jobs=2)\n",
    "RF_hashed_binary.fit(fps_training.fps_hashed_binary,bio_training)"
   ]
  },
  {
   "cell_type": "code",
   "execution_count": null,
   "metadata": {},
   "outputs": [],
   "source": [
    "# KNN\n",
    "KNN_hashed_counts = KNeighborsRegressor(n_neighbors=5, weights='distance', algorithm='auto',metric='jaccard')\n",
    "KNN_hashed_counts.fit(fps_training.fps_hashed_counts,bio_training)\n",
    "\n",
    "#KNN binary\n",
    "KNN_hashed_binary = KNeighborsRegressor(n_neighbors=5, weights='distance', algorithm='auto',metric='jaccard')\n",
    "KNN_hashed_binary.fit(fps_training.fps_hashed_binary,bio_training)"
   ]
  },
  {
   "cell_type": "code",
   "execution_count": null,
   "metadata": {},
   "outputs": [],
   "source": [
    "# MLP \n",
    "seed = 23\n",
    "MLP_hashed_counts = MLPRegressor(hidden_layer_sizes=(50,25,10),activation='relu', solver='adam',learning_rate='adaptive', random_state = seed)\n",
    "MLP_hashed_counts.fit(fps_training.fps_hashed_counts,bio_training)"
   ]
  },
  {
   "cell_type": "markdown",
   "metadata": {},
   "source": [
    "#### A.4.2 Using unhashed fps"
   ]
  },
  {
   "cell_type": "code",
   "execution_count": null,
   "metadata": {},
   "outputs": [],
   "source": [
    "#RF\n",
    "seed = 23\n",
    "RF_UNhashed_counts = RandomForestRegressor(n_estimators=100,random_state=seed,n_jobs=2)\n",
    "RF_UNhashed_counts.fit(fps_training.fps_unhashed_counts,bio_training)\n",
    "\n",
    "# RF binary \n",
    "seed = 23 \n",
    "RF_UNhashed_binary = RandomForestRegressor(n_estimators=100,random_state=seed,n_jobs=2)\n",
    "RF_UNhashed_binary.fit(fps_training.fps_unhashed_binary,bio_training)"
   ]
  },
  {
   "cell_type": "code",
   "execution_count": null,
   "metadata": {},
   "outputs": [],
   "source": [
    "# KNN\n",
    "KNN_UNhashed_counts = KNeighborsRegressor(n_neighbors=5, weights='distance', algorithm='auto',metric='jaccard')\n",
    "KNN_UNhashed_counts.fit(fps_training.fps_unhashed_counts,bio_training)\n",
    "\n",
    "#KNN binary \n",
    "KNN_UNhashed_binary = KNeighborsRegressor(n_neighbors=5, weights='distance', algorithm='auto',metric='jaccard')\n",
    "KNN_UNhashed_binary.fit(fps_training.fps_unhashed_binary,bio_training)"
   ]
  },
  {
   "cell_type": "code",
   "execution_count": null,
   "metadata": {},
   "outputs": [],
   "source": [
    "#MLP\n",
    "seed = 23 \n",
    "MLP_UNhashed_counts = MLPRegressor(hidden_layer_sizes=(50,25,10),activation='relu', solver='adam',learning_rate='adaptive', random_state = seed)\n",
    "MLP_UNhashed_counts.fit(fps_training.fps_unhashed_counts,bio_training)                                "
   ]
  },
  {
   "cell_type": "markdown",
   "metadata": {},
   "source": [
    "## A.5  predict bioactivities for the test set"
   ]
  },
  {
   "cell_type": "markdown",
   "metadata": {},
   "source": [
    "We define two functions for validating our predictions, namely: Pearson's correlation coefficient (R2) and root mean squared errro (RMSE)"
   ]
  },
  {
   "cell_type": "code",
   "execution_count": null,
   "metadata": {},
   "outputs": [],
   "source": [
    "def Rsquared(pred,true):\n",
    "    slope, intercept, r_value, p_value, std_err = scipy.stats.linregress(true,pred)\n",
    "    return r_value**2\n",
    "\n",
    "def RMSE(pred,true):\n",
    "    rmse = np.sqrt(mean_squared_error(true,pred))\n",
    "    return rmse"
   ]
  },
  {
   "cell_type": "code",
   "execution_count": null,
   "metadata": {},
   "outputs": [],
   "source": [
    "RF_preds_hashed = RF_hashed_counts.predict(fps_test.fps_hashed_counts)\n",
    "MLP_preds_hashed = MLP_hashed_counts.predict(fps_test.fps_hashed_counts)\n",
    "KNN_preds_hashed = KNN_hashed_counts.predict(fps_test.fps_hashed_counts)\n",
    "\n",
    "RF_preds_hashed_bin = RF_hashed_binary.predict(fps_test.fps_hashed_binary)\n",
    "KNN_preds_hashed_bin = KNN_hashed_binary.predict(fps_test.fps_hashed_binary)"
   ]
  },
  {
   "cell_type": "code",
   "execution_count": null,
   "metadata": {},
   "outputs": [],
   "source": [
    "RF_preds_UNhashed = RF_UNhashed_counts.predict(fps_test.fps_unhashed_counts)\n",
    "MLP_preds_UNhashed = MLP_UNhashed_counts.predict(fps_test.fps_unhashed_counts) \n",
    "KNN_preds_UNhashed = KNN_UNhashed_counts.predict(fps_test.fps_unhashed_counts)  \n",
    "\n",
    "RF_preds_UNhashed_bin = RF_UNhashed_binary.predict(fps_test.fps_unhashed_binary)\n",
    "KNN_preds_UNhashed_bin = KNN_UNhashed_binary.predict(fps_test.fps_unhashed_binary)"
   ]
  },
  {
   "cell_type": "markdown",
   "metadata": {},
   "source": [
    "## A.6 Model validation "
   ]
  },
  {
   "cell_type": "code",
   "execution_count": null,
   "metadata": {},
   "outputs": [],
   "source": [
    "print \"RMSE RF hashed counts fps: \", RMSE(RF_preds_hashed, bio_test)\n",
    "print \"RMSE RF UNhashed counts fps: \", RMSE(RF_preds_UNhashed, bio_test)\n",
    "print \"RMSE KNN hashed counts fps: \", RMSE(KNN_preds_hashed, bio_test)\n",
    "print \"RMSE KNN UNhashed counts fps: \", RMSE(KNN_preds_UNhashed, bio_test)\n",
    "print \"RMSE MLP hashed counts fps: \", RMSE(MLP_preds_hashed, bio_test)\n",
    "print \"RMSE MLP UNhashed counts fps: \", RMSE(MLP_preds_UNhashed, bio_test)\n",
    "print \n",
    "print \"RMSE RF hashed binary fps: \", RMSE(RF_preds_hashed_bin, bio_test)\n",
    "print \"RMSE RF UNhashed binary fps: \", RMSE(RF_preds_UNhashed_bin, bio_test)\n",
    "print \"RMSE KNN hashed binary fps: \", RMSE(KNN_preds_hashed_bin, bio_test)\n",
    "print \"RMSE KNN UNhashed binary fps: \", RMSE(KNN_preds_UNhashed_bin, bio_test)"
   ]
  },
  {
   "cell_type": "code",
   "execution_count": null,
   "metadata": {},
   "outputs": [],
   "source": [
    "print \"R2 RF hashed fps: \", Rsquared(RF_preds_hashed, bio_test)\n",
    "print \"R2 RF UNhashed fps: \", Rsquared(RF_preds_UNhashed, bio_test)\n",
    "print \"R2 MLP hashed fps: \", Rsquared(MLP_preds_hashed, bio_test)\n",
    "print \"R2 MLP UNhashed fps: \", Rsquared(MLP_preds_UNhashed, bio_test)\n",
    "print \"R2 KNN hashed fps: \", Rsquared(KNN_preds_hashed, bio_test)\n",
    "print \"R2 KNN UNhashed fps: \", Rsquared(KNN_preds_UNhashed, bio_test)\n",
    "print\n",
    "print \"R2 RF hashed binary fps: \", Rsquared(RF_preds_hashed_bin, bio_test)\n",
    "print \"R2 RF UNhashed binary fps: \", Rsquared(RF_preds_UNhashed_bin, bio_test)\n",
    "print \"R2 KNN hashed binary fps: \", Rsquared(KNN_preds_hashed_bin, bio_test)\n",
    "print \"R2 KNN UNhashed binary fps: \", Rsquared(KNN_preds_UNhashed_bin, bio_test)"
   ]
  },
  {
   "cell_type": "markdown",
   "metadata": {},
   "source": [
    "### (optional) A.4.3 10 samplings of 5 fold cross validation "
   ]
  },
  {
   "cell_type": "code",
   "execution_count": null,
   "metadata": {},
   "outputs": [],
   "source": [
    "### (optional) A.4.3 10 samplings of 5 fold cross validation \n",
    "\n",
    "########## ########## ########## ########## ########## ########## ########## ########## ########## ########## ########## ########## ########## ########## ########## ##########  \n",
    "\n",
    "def Rsquared(pred,true):\n",
    "    slope, intercept, r_value, p_value, std_err = scipy.stats.linregress(true,pred)\n",
    "    return r_value**2\n",
    "\n",
    "def RMSE(pred,true):\n",
    "    rmse = np.sqrt(mean_squared_error(true,pred))\n",
    "    return rmse\n",
    "\n",
    "########## ########## ########## ########## ########## ########## ########## ########## ########## ########## ########## ########## ########## ########## ########## ##########  \n",
    "\n",
    "test_size = 0\n",
    "x_train, x_test, y_train, y_test = train_test_split(fps_training.fps_unhashed_counts,bio_training,test_size = test_size, shuffle = True)\n",
    "\n",
    "########## ########## ########## ########## ########## ########## ########## ########## ########## ########## ########## ########## ########## ########## ########## ##########  \n",
    "\n",
    "#fold setting\n",
    "kf = RepeatedKFold(n_splits = 5,n_repeats=10)\n",
    "kf.get_n_splits(x_train)\n",
    "#kf\n",
    "#>>> KFold(n_splits=5, random_state=None, shuffle=False)\n",
    "\n",
    "#for numbering k folds\n",
    "k=0\n",
    "cv_rmse = []\n",
    "cv_rmse_mean = []\n",
    "tmp = []\n",
    "\n",
    "#cross-val training\n",
    "for train_idx, test_idx in kf.split(x_train):\n",
    "    #print(\"iteration num : {}\".format(k))\n",
    "    #print(\"train : \", train_idx, \"\\ntest : \", test_idx)\n",
    "    x_cv_train , x_cv_test = x_train[train_idx], x_train[test_idx]\n",
    "    y_cv_train , y_cv_test = y_train[train_idx], y_train[test_idx]\n",
    "    \n",
    "    RF_UNhashed_counts.fit(x_cv_train,y_cv_train)\n",
    "    \n",
    "    y_cv_testidx = test_idx\n",
    "    y_cv_pred = RF_UNhashed_counts.predict(x_cv_test)\n",
    "    cv_rmse.append(round(RMSE(y_cv_pred,y_cv_test),4))\n",
    "    cv_rmse_mean.append(round(RMSE(y_cv_pred,y_cv_test),4))\n",
    "    k += 1 \n",
    "    \n",
    "    if k % 5 == 0 : \n",
    "        tmp.append(np.mean(cv_rmse_mean))\n",
    "        print(cv_rmse_mean) # per fold rmse value in one cv \n",
    "        print(\"mean : \",np.mean(cv_rmse_mean)) # RMSE mean value per iteration of cv  \n",
    "        del cv_rmse_mean[:]\n",
    "        \n",
    "\n",
    "print(\"total fold mean : \", round(np.mean(cv_rmse),4)) # mean of 50 cv rmse (1회 iter돌 때의 모든 rmse의 평균 (50회의 평균)) \n",
    "print(\"total cv mean : \",round(np.mean(tmp),4)) # mean of cv's mean of 1 iter (각 cv rmse 평균의 평균) # we need var of this value "
   ]
  }
 ],
 "metadata": {
  "kernelspec": {
   "display_name": "Python 2",
   "language": "python",
   "name": "python2"
  },
  "language_info": {
   "codemirror_mode": {
    "name": "ipython",
    "version": 2
   },
   "file_extension": ".py",
   "mimetype": "text/x-python",
   "name": "python",
   "nbconvert_exporter": "python",
   "pygments_lexer": "ipython2",
   "version": "2.7.16"
  }
 },
 "nbformat": 4,
 "nbformat_minor": 2
}
