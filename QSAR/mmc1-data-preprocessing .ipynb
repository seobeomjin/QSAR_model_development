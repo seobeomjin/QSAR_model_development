{
 "cells": [
  {
   "cell_type": "code",
   "execution_count": 71,
   "metadata": {},
   "outputs": [],
   "source": [
    "from rdkit.Chem import MACCSkeys                       #MACCS Keys\n",
    "from rdkit import Chem, DataStructs\n",
    "import numpy as np\n",
    "import pandas as pd\n",
    "import os \n",
    "import xlrd \n",
    "import openpyxl\n",
    "\n",
    "def fingerprint_bitgenerator(fps):\n",
    "    np_fps = []\n",
    "    \n",
    "    for fp in fps:\n",
    "        arr = np.zeros((1,))\n",
    "        DataStructs.ConvertToNumpyArray(fp,arr)\n",
    "        np_fps.append(arr)\n",
    "        \n",
    "    return np_fps\n",
    "\n",
    "wdir = 'C:/jupyter_devel/kist-europe/QSAR/mmc1_data/'\n",
    "xlsx = '1-s2.0-S0147651314004047-mmc1.xls'\n",
    "csv = 'mmc1-androgen.csv'"
   ]
  },
  {
   "cell_type": "markdown",
   "metadata": {},
   "source": [
    "### - to save data as csv which we can use"
   ]
  },
  {
   "cell_type": "code",
   "execution_count": null,
   "metadata": {},
   "outputs": [],
   "source": [
    "#Data Load \n",
    "wb = xlrd.open_workbook(wdir+xlsx)\n",
    "ws = wb.sheet_by_index(2) # index(1) >> androgen data  |  index(2) >> estrogen data  \n",
    "nrows = sheet.nrows\n",
    "\n",
    "#Get data as list type\n",
    "row_val = []\n",
    "for row_num in range(nrows):\n",
    "    row_val.append(ws.row_values(row_num))\n",
    "    \n",
    "#To save as csv file \n",
    "df_to_save = pd.DataFrame(row_val)\n",
    "#df_to_save.to_csv(wdir+'mmc1-estrogen.csv')"
   ]
  },
  {
   "cell_type": "markdown",
   "metadata": {},
   "source": [
    "### - data preprocess"
   ]
  },
  {
   "cell_type": "code",
   "execution_count": 76,
   "metadata": {
    "scrolled": true
   },
   "outputs": [
    {
     "ename": "ArgumentError",
     "evalue": "Python argument types in\n    rdkit.Chem.rdMolDescriptors.GetMACCSKeysFingerprint(NoneType)\ndid not match C++ signature:\n    GetMACCSKeysFingerprint(class RDKit::ROMol mol)",
     "output_type": "error",
     "traceback": [
      "\u001b[1;31m---------------------------------------------------------------------------\u001b[0m",
      "\u001b[1;31mArgumentError\u001b[0m                             Traceback (most recent call last)",
      "\u001b[1;32m<ipython-input-76-1c44a49dcf97>\u001b[0m in \u001b[0;36m<module>\u001b[1;34m\u001b[0m\n\u001b[0;32m      4\u001b[0m \u001b[0msd\u001b[0m \u001b[1;33m=\u001b[0m \u001b[1;33m[\u001b[0m\u001b[0mChem\u001b[0m\u001b[1;33m.\u001b[0m\u001b[0mMolFromSmiles\u001b[0m\u001b[1;33m(\u001b[0m\u001b[0mm\u001b[0m\u001b[1;33m)\u001b[0m \u001b[1;32mfor\u001b[0m \u001b[0mm\u001b[0m \u001b[1;32min\u001b[0m \u001b[0msmi\u001b[0m\u001b[1;33m]\u001b[0m\u001b[1;33m\u001b[0m\u001b[1;33m\u001b[0m\u001b[0m\n\u001b[0;32m      5\u001b[0m \u001b[1;33m\u001b[0m\u001b[0m\n\u001b[1;32m----> 6\u001b[1;33m \u001b[0mmaccfps\u001b[0m \u001b[1;33m=\u001b[0m \u001b[1;33m[\u001b[0m\u001b[0mMACCSkeys\u001b[0m\u001b[1;33m.\u001b[0m\u001b[0mGenMACCSKeys\u001b[0m\u001b[1;33m(\u001b[0m\u001b[0mm\u001b[0m\u001b[1;33m)\u001b[0m \u001b[1;32mfor\u001b[0m \u001b[0mm\u001b[0m \u001b[1;32min\u001b[0m \u001b[0msd\u001b[0m\u001b[1;33m]\u001b[0m\u001b[1;33m\u001b[0m\u001b[1;33m\u001b[0m\u001b[0m\n\u001b[0m\u001b[0;32m      7\u001b[0m \u001b[0mmaccfps_bit\u001b[0m \u001b[1;33m=\u001b[0m \u001b[0mfingerprint_bitgenerator\u001b[0m\u001b[1;33m(\u001b[0m\u001b[0mmaccfps\u001b[0m\u001b[1;33m)\u001b[0m\u001b[1;33m\u001b[0m\u001b[1;33m\u001b[0m\u001b[0m\n\u001b[0;32m      8\u001b[0m \u001b[0mfp_df\u001b[0m \u001b[1;33m=\u001b[0m \u001b[0mpd\u001b[0m\u001b[1;33m.\u001b[0m\u001b[0mDataFrame\u001b[0m\u001b[1;33m(\u001b[0m\u001b[0mmaccfps_bit\u001b[0m\u001b[1;33m,\u001b[0m\u001b[0mcolumns\u001b[0m\u001b[1;33m=\u001b[0m\u001b[0mlist\u001b[0m\u001b[1;33m(\u001b[0m\u001b[0mrange\u001b[0m\u001b[1;33m(\u001b[0m\u001b[0mlen\u001b[0m\u001b[1;33m(\u001b[0m\u001b[0mmaccfps_bit\u001b[0m\u001b[1;33m[\u001b[0m\u001b[1;36m0\u001b[0m\u001b[1;33m]\u001b[0m\u001b[1;33m)\u001b[0m\u001b[1;33m)\u001b[0m\u001b[1;33m)\u001b[0m\u001b[1;33m)\u001b[0m\u001b[1;33m\u001b[0m\u001b[1;33m\u001b[0m\u001b[0m\n",
      "\u001b[1;32m<ipython-input-76-1c44a49dcf97>\u001b[0m in \u001b[0;36m<listcomp>\u001b[1;34m(.0)\u001b[0m\n\u001b[0;32m      4\u001b[0m \u001b[0msd\u001b[0m \u001b[1;33m=\u001b[0m \u001b[1;33m[\u001b[0m\u001b[0mChem\u001b[0m\u001b[1;33m.\u001b[0m\u001b[0mMolFromSmiles\u001b[0m\u001b[1;33m(\u001b[0m\u001b[0mm\u001b[0m\u001b[1;33m)\u001b[0m \u001b[1;32mfor\u001b[0m \u001b[0mm\u001b[0m \u001b[1;32min\u001b[0m \u001b[0msmi\u001b[0m\u001b[1;33m]\u001b[0m\u001b[1;33m\u001b[0m\u001b[1;33m\u001b[0m\u001b[0m\n\u001b[0;32m      5\u001b[0m \u001b[1;33m\u001b[0m\u001b[0m\n\u001b[1;32m----> 6\u001b[1;33m \u001b[0mmaccfps\u001b[0m \u001b[1;33m=\u001b[0m \u001b[1;33m[\u001b[0m\u001b[0mMACCSkeys\u001b[0m\u001b[1;33m.\u001b[0m\u001b[0mGenMACCSKeys\u001b[0m\u001b[1;33m(\u001b[0m\u001b[0mm\u001b[0m\u001b[1;33m)\u001b[0m \u001b[1;32mfor\u001b[0m \u001b[0mm\u001b[0m \u001b[1;32min\u001b[0m \u001b[0msd\u001b[0m\u001b[1;33m]\u001b[0m\u001b[1;33m\u001b[0m\u001b[1;33m\u001b[0m\u001b[0m\n\u001b[0m\u001b[0;32m      7\u001b[0m \u001b[0mmaccfps_bit\u001b[0m \u001b[1;33m=\u001b[0m \u001b[0mfingerprint_bitgenerator\u001b[0m\u001b[1;33m(\u001b[0m\u001b[0mmaccfps\u001b[0m\u001b[1;33m)\u001b[0m\u001b[1;33m\u001b[0m\u001b[1;33m\u001b[0m\u001b[0m\n\u001b[0;32m      8\u001b[0m \u001b[0mfp_df\u001b[0m \u001b[1;33m=\u001b[0m \u001b[0mpd\u001b[0m\u001b[1;33m.\u001b[0m\u001b[0mDataFrame\u001b[0m\u001b[1;33m(\u001b[0m\u001b[0mmaccfps_bit\u001b[0m\u001b[1;33m,\u001b[0m\u001b[0mcolumns\u001b[0m\u001b[1;33m=\u001b[0m\u001b[0mlist\u001b[0m\u001b[1;33m(\u001b[0m\u001b[0mrange\u001b[0m\u001b[1;33m(\u001b[0m\u001b[0mlen\u001b[0m\u001b[1;33m(\u001b[0m\u001b[0mmaccfps_bit\u001b[0m\u001b[1;33m[\u001b[0m\u001b[1;36m0\u001b[0m\u001b[1;33m]\u001b[0m\u001b[1;33m)\u001b[0m\u001b[1;33m)\u001b[0m\u001b[1;33m)\u001b[0m\u001b[1;33m)\u001b[0m\u001b[1;33m\u001b[0m\u001b[1;33m\u001b[0m\u001b[0m\n",
      "\u001b[1;31mArgumentError\u001b[0m: Python argument types in\n    rdkit.Chem.rdMolDescriptors.GetMACCSKeysFingerprint(NoneType)\ndid not match C++ signature:\n    GetMACCSKeysFingerprint(class RDKit::ROMol mol)"
     ]
    }
   ],
   "source": [
    "df = pd.read_csv(wdir+csv)\n",
    "\n",
    "smi = df['SMILES']\n",
    "sd = [Chem.MolFromSmiles(m) for m in smi]\n",
    "\n",
    "maccfps = [MACCSkeys.GenMACCSKeys(m) for m in sd]\n",
    "maccfps_bit = fingerprint_bitgenerator(maccfps)\n",
    "fp_df = pd.DataFrame(maccfps_bit,columns=list(range(len(maccfps_bit[0]))))\n",
    "\n",
    "df_id = df[['Set','Class']]\n",
    "df_label_fp = pd.concat([df_id,fp_df],axis=1)\n",
    "\n",
    "df_colnames = df_label_fp.columns[2:]\n",
    "\n",
    "#Remove features with low variance\n",
    "remove_cols = []\n",
    "for c in df_colnames:\n",
    "    if df_label_fp[c].std() < 0.01:\n",
    "        remove_cols.append(c)\n",
    "        \n",
    "df_label_fp = df_label_fp.drop(remove_cols, axis=1)\n",
    "corr = df_label_fp.corr().iloc[0]\n",
    "\n",
    "df_label_fp.to_csv(wdir+'mmc1-androgen-maccs-activity.csv',index=False)\n"
   ]
  },
  {
   "cell_type": "markdown",
   "metadata": {},
   "source": [
    " - invalid SMILES string, which results in invalid molecule object (from SMILES using MolFromSmiles method of RDKit), but I tried excluding such molecules by having an exception (even though these are drawn from a popular dataset).\n",
    " \n",
    " \n",
    " - You are passing a None where a molecule is expected. Note that unparsable molecules normally return None on error, so you should check for this and not process them further.\n",
    " \n",
    "- The SMILES strings are not correct, rings should be enumerated. In the first\n",
    "string for example, all four rings are labelled with '1' but it should look\n",
    "like this: c1ccc(c(c1)C2CC(=NN2c3ccccc3F)c4ccc(cc4)Br)Cl. That is why RDKit\n",
    "is throwing an error. Which software did you use to create the SMILES\n",
    "\n",
    "- https://github.com/rdkit/rdkit/issues/866\n",
    "\n",
    "- https://sourceforge.net/p/rdkit/mailman/message/24007265/"
   ]
  }
 ],
 "metadata": {
  "kernelspec": {
   "display_name": "develroom-pytorch",
   "language": "python",
   "name": "develroom"
  },
  "language_info": {
   "codemirror_mode": {
    "name": "ipython",
    "version": 3
   },
   "file_extension": ".py",
   "mimetype": "text/x-python",
   "name": "python",
   "nbconvert_exporter": "python",
   "pygments_lexer": "ipython3",
   "version": "3.7.5"
  }
 },
 "nbformat": 4,
 "nbformat_minor": 2
}
