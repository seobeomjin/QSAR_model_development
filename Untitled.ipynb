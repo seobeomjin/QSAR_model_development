{
 "cells": [
  {
   "cell_type": "code",
   "execution_count": 1,
   "metadata": {},
   "outputs": [
    {
     "name": "stderr",
     "output_type": "stream",
     "text": [
      "RDKit WARNING: [15:18:13] Enabling RDKit 2019.09.3 jupyter extensions\n"
     ]
    }
   ],
   "source": [
    "from rdkit.Chem import MACCSkeys                       #MACCS Keys\n",
    "from rdkit import Chem, DataStructs\n",
    "import numpy as np\n",
    "import pandas as pd\n",
    "import os \n",
    "import xlrd \n",
    "import openpyxl\n",
    "\n",
    "def fingerprint_bitgenerator(fps):\n",
    "    np_fps = []\n",
    "    \n",
    "    for fp in fps:\n",
    "        arr = np.zeros((1,))\n",
    "        DataStructs.ConvertToNumpyArray(fp,arr)\n",
    "        np_fps.append(arr)\n",
    "        \n",
    "    return np_fps\n",
    "\n",
    "wdir = 'mmc/'\n",
    "csv = 'mmc1-androgen.csv'\n",
    "\n"
   ]
  },
  {
   "cell_type": "code",
   "execution_count": 2,
   "metadata": {},
   "outputs": [
    {
     "name": "stdout",
     "output_type": "stream",
     "text": [
      "no problem\n"
     ]
    }
   ],
   "source": [
    "df = pd.read_csv(wdir+csv)\n",
    "smi = df['SMILES']\n",
    "dic = {}\n",
    "weirdLists = [\"CN(C)(C)CCCl\", \"OC[P+]1C[P+](O)C[P+](O)CC(O1)C#N2C=NC3C(O)NCNC23\", \\\n",
    "              \"CC(C)(Nc1ccc(cc1Cl)C(F)(F)F)C(=O)OCC(N#C)c2cccc(Oc3ccccc3)c2\", \\\n",
    "              \"CC1=C(C(=O)c2ccc(Cl)cc2Cl)C(=N(C)N1)OCC(=O)c3ccccc3\",\\\n",
    "              \"CC1=C(C(=O)c2ccc(Cl)cc2Cl)C(=N(C)N1)OS(=O)(=O)c3ccc(C)cc3\",\\\n",
    "              \"CCN(CC)C(=O)N1=CN=C(N1)S(=O)(=O)c2c(C)cc(C)cc2C\",\\\n",
    "              \"CN1C(=O)N(CCCCC(=O)C)C(=O)C2=C1NC=N2C\",\\\n",
    "              \"CCCCCCN1C(=O)N(C)C2=C(C1=O)N(=CN2)C\"]\n",
    "for m in smi:\n",
    "    if m in weirdLists:\n",
    "        continue\n",
    "    dic[Chem.MolFromSmiles(m)] = m\n",
    "#sd = [Chem.MolFromSmiles(m) for m in smi]\n",
    "for m in dic.keys():\n",
    "    #print(\"check:\", dic[m])\n",
    "    MACCSkeys.GenMACCSKeys(m)\n",
    "#maccfps = [MACCSkeys.GenMACCSKeys(m) for m in sd]    \n",
    "print(\"no problem\")"
   ]
  },
  {
   "cell_type": "code",
   "execution_count": null,
   "metadata": {},
   "outputs": [],
   "source": []
  },
  {
   "cell_type": "code",
   "execution_count": null,
   "metadata": {},
   "outputs": [],
   "source": []
  },
  {
   "cell_type": "code",
   "execution_count": null,
   "metadata": {},
   "outputs": [],
   "source": []
  }
 ],
 "metadata": {
  "kernelspec": {
   "display_name": "Python 3",
   "language": "python",
   "name": "python3"
  },
  "language_info": {
   "codemirror_mode": {
    "name": "ipython",
    "version": 3
   },
   "file_extension": ".py",
   "mimetype": "text/x-python",
   "name": "python",
   "nbconvert_exporter": "python",
   "pygments_lexer": "ipython3",
   "version": "3.7.6"
  }
 },
 "nbformat": 4,
 "nbformat_minor": 4
}
