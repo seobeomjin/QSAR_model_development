{
 "cells": [
  {
   "cell_type": "code",
   "execution_count": null,
   "metadata": {},
   "outputs": [],
   "source": [
    "# -*- coding: utf-8 -*-\n",
    "\"\"\"\n",
    "Created on Mon Apr  8 23:37:12 2019\n",
    "\n",
    "@author: phdgil\n",
    "\"\"\"\n",
    "# SVR , cross-validation , MSE \n",
    "# with Recursive Feature Elimination (RFE) to get the informative features \n",
    "\n",
    "from sklearn.ensemble import RandomForestRegressor\n",
    "\n",
    "import warnings\n",
    "warnings.filterwarnings(\"ignore\")\n",
    "\n",
    "wdir = '/Users/beomjin_seo/Documents/work_space/kist-europe/QSAR/AOP_data/'\n",
    "csv = '5-alpha-reductase-maccs-remcols-stdval.csv'\n",
    "\n",
    "df = pd.read_csv(wdir+csv)\n",
    "df = df.dropna(axis=0)\n",
    "y = df['Standard Value']\n",
    "x = df.drop(['Molecule', 'Standard Value'], axis=1)\n",
    "\n",
    "#hyperparam for cross_val\n",
    "test_size = 0.1  \n",
    "cv = 5  \n",
    "x_train, x_test, y_train, y_test = train_test_split(x,y,test_size = test_size)  #data split \n",
    "\n",
    "#model generation\n",
    "RFregr = RandomForestRegressor()\n",
    "feature = range(10,30,2)  ### N of features is selected as 10, 12, 14 ,,, to 30 \n",
    "\n",
    "for f in feature:\n",
    "    \n",
    "    print ('feature :', f)\n",
    "    rfe = RFE(RFregr, n_features_to_select=f, step=1)  \n",
    "    ### rfe model which estimator=RandomForestRegressor() \n",
    "    \n",
    "    rfe = rfe.fit(x_train,y_train)\n",
    "    print('N of features : {}\\n feature support : {}\\n feature ranking : {} '.format(f,rfe.support_,rfe.ranking_))\n",
    "\n",
    "    mse = cross_val_score(rfe, \n",
    "                        x_train, \n",
    "                        y_train, \n",
    "                        scoring='neg_mean_squared_error',  \n",
    "                        cv=cv )\n",
    "    mse *= -1\n",
    "    rmse  = np.sqrt(mse)\n",
    "    log_rmse = np.log(rmse)\n",
    "\n",
    "    print('{} SVR with {} features LOG_RMSE : '.format(kernel, f), log_rmse)\n",
    "    print('{} SVR with {} features LOG_RMSE.mean : '.format(kernel, f) , np.sum(log_rmse)/cv)\n",
    "    \n",
    "\n"
   ]
  }
 ],
 "metadata": {
  "kernelspec": {
   "display_name": "Python 3",
   "language": "python",
   "name": "python3"
  },
  "language_info": {
   "codemirror_mode": {
    "name": "ipython",
    "version": 3
   },
   "file_extension": ".py",
   "mimetype": "text/x-python",
   "name": "python",
   "nbconvert_exporter": "python",
   "pygments_lexer": "ipython3",
   "version": "3.7.4"
  }
 },
 "nbformat": 4,
 "nbformat_minor": 2
}
