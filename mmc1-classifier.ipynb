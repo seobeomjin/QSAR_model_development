{
 "cells": [
  {
   "cell_type": "code",
   "execution_count": 82,
   "metadata": {},
   "outputs": [],
   "source": [
    "import pandas as pd \n",
    "import numpy as np\n",
    "#import matplotlib.pyplot as plt \n",
    "from sklearn.neighbors import KNeighborsClassifier\n",
    "from sklearn import metrics\n",
    "#from sklearn.feature_selection import RFE \n",
    "#from sklearn.model_selection import train_test_split, cross_val_score \n",
    "#from sklearn.metrics import mean_squared_error\n",
    "#from sklearn.model_selection import KFold\n",
    "#from sklearn.model_selection import RepeatedKFold\n",
    "\n",
    "wdir = 'C:/jupyter_devel/kist-europe/QSAR/mmc1_data/'\n",
    "csv = 'mmc1-androgen-maccs-activity.csv'\n",
    "\n",
    "df = pd.read_csv(wdir+csv)\n",
    "df = df.dropna(axis=0) "
   ]
  },
  {
   "cell_type": "markdown",
   "metadata": {},
   "source": [
    "### data load"
   ]
  },
  {
   "cell_type": "code",
   "execution_count": 83,
   "metadata": {},
   "outputs": [],
   "source": [
    "validation_set = []\n",
    "val_set_idx = []\n",
    "for i in df.index : \n",
    "    if df.loc[i]['Set'] == 'External validation set': \n",
    "        validation_set.append(df.iloc[i])\n",
    "        val_set_idx.append(i)\n",
    "        \n",
    "val_df = pd.DataFrame(validation_set) \n",
    "y_test = val_df['Class']\n",
    "x_test = val_df.drop(['Set','Class'],axis=1)"
   ]
  },
  {
   "cell_type": "code",
   "execution_count": 84,
   "metadata": {},
   "outputs": [],
   "source": [
    "train_df = df.drop(val_set_idx)\n",
    "y_train = train_df['Class']\n",
    "x_train = train_df.drop(['Set','Class'],axis=1)"
   ]
  },
  {
   "cell_type": "markdown",
   "metadata": {},
   "source": [
    "### model setting"
   ]
  },
  {
   "cell_type": "markdown",
   "metadata": {},
   "source": [
    "#### knn classifier"
   ]
  },
  {
   "cell_type": "code",
   "execution_count": 124,
   "metadata": {
    "scrolled": true
   },
   "outputs": [
    {
     "data": {
      "text/plain": [
       "KNeighborsClassifier(algorithm='auto', leaf_size=30, metric='jaccard',\n",
       "                     metric_params=None, n_jobs=None, n_neighbors=4, p=2,\n",
       "                     weights='uniform')"
      ]
     },
     "execution_count": 124,
     "metadata": {},
     "output_type": "execute_result"
    }
   ],
   "source": [
    "neigh = KNeighborsClassifier(n_neighbors=4,weights='uniform',metric='jaccard')\n",
    "neigh.fit(x_train,y_train)"
   ]
  },
  {
   "cell_type": "code",
   "execution_count": 125,
   "metadata": {},
   "outputs": [
    {
     "data": {
      "text/plain": [
       "0.6371681415929203"
      ]
     },
     "execution_count": 125,
     "metadata": {},
     "output_type": "execute_result"
    }
   ],
   "source": [
    "metrics.accuracy_score(y_test,neigh.predict(x_test))"
   ]
  },
  {
   "cell_type": "code",
   "execution_count": 126,
   "metadata": {
    "scrolled": true
   },
   "outputs": [
    {
     "data": {
      "text/plain": [
       "0.5636212624584718"
      ]
     },
     "execution_count": 126,
     "metadata": {},
     "output_type": "execute_result"
    }
   ],
   "source": [
    "fpr,tpr,thresholds = metrics.roc_curve(y_test,neigh.predict(x_test),pos_label=1)\n",
    "metrics.auc(fpr,tpr)"
   ]
  },
  {
   "cell_type": "markdown",
   "metadata": {},
   "source": [
    "#### support vector classifier"
   ]
  },
  {
   "cell_type": "code",
   "execution_count": 98,
   "metadata": {
    "scrolled": true
   },
   "outputs": [
    {
     "name": "stdout",
     "output_type": "stream",
     "text": [
      "feature : 10\n",
      "ACC : 0.6017699115044248  | AUC : 0.4857142857142857\n",
      "feature : 12\n",
      "ACC : 0.6017699115044248  | AUC : 0.508139534883721\n",
      "feature : 14\n",
      "ACC : 0.6017699115044248  | AUC : 0.5036544850498338\n",
      "feature : 16\n",
      "ACC : 0.6017699115044248  | AUC : 0.4991694352159468\n",
      "feature : 18\n",
      "ACC : 0.6106194690265486  | AUC : 0.515282392026578\n",
      "feature : 20\n",
      "ACC : 0.6106194690265486  | AUC : 0.510797342192691\n",
      "feature : 22\n",
      "ACC : 0.6106194690265486  | AUC : 0.510797342192691\n",
      "feature : 24\n",
      "ACC : 0.6017699115044248  | AUC : 0.5036544850498338\n",
      "feature : 26\n",
      "ACC : 0.5929203539823009  | AUC : 0.4965116279069767\n",
      "feature : 28\n",
      "ACC : 0.5929203539823009  | AUC : 0.49202657807308964\n"
     ]
    }
   ],
   "source": [
    "from sklearn.feature_selection import RFE\n",
    "from sklearn.svm import SVC\n",
    "\n",
    "svc = SVC(kernel='linear',gamma='auto')\n",
    "\n",
    "feature = range(10,30,2)\n",
    "\n",
    "for f in feature : \n",
    "    print('feature : {}'.format(f))\n",
    "    rfe = RFE(estimator=svc,n_features_to_select=f,step=1)\n",
    "    rfe.fit(x_train,y_train)\n",
    "    \n",
    "    fpr,tpr,thresholds = metrics.roc_curve(y_test,rfe.predict(x_test),pos_label=1)\n",
    "    print('ACC : {}  | AUC : {}'.format(metrics.accuracy_score(y_test,rfe.predict(x_test)),metrics.auc(fpr,tpr) ))\n",
    "    \n",
    "#best N of feature on this model\n",
    "#feature : 18\n",
    "#ACC : 0.6106194690265486  | AUC : 0.515282392026578"
   ]
  },
  {
   "cell_type": "code",
   "execution_count": 107,
   "metadata": {},
   "outputs": [
    {
     "name": "stdout",
     "output_type": "stream",
     "text": [
      "ACC : 0.6017699115044248  | AUC : 0.521594684385382\n"
     ]
    },
    {
     "name": "stderr",
     "output_type": "stream",
     "text": [
      "C:\\Users\\chon0\\Anaconda3\\envs\\develroom\\lib\\site-packages\\sklearn\\svm\\base.py:929: ConvergenceWarning: Liblinear failed to converge, increase the number of iterations.\n",
      "  \"the number of iterations.\", ConvergenceWarning)\n"
     ]
    }
   ],
   "source": [
    "from sklearn.svm import LinearSVC \n",
    "\n",
    "linear_svc = LinearSVC()\n",
    "linear_svc.fit(x_train,y_train)\n",
    "\n",
    "fpr,tpr,thresholds = metrics.roc_curve(y_test,linear_svc.predict(x_test),pos_label=1)\n",
    "print('ACC : {}  | AUC : {}'.format(metrics.accuracy_score(y_test,linear_svc.predict(x_test)),metrics.auc(fpr,tpr) ))\n",
    "\n"
   ]
  }
 ],
 "metadata": {
  "kernelspec": {
   "display_name": "develroom-pytorch",
   "language": "python",
   "name": "develroom"
  },
  "language_info": {
   "codemirror_mode": {
    "name": "ipython",
    "version": 3
   },
   "file_extension": ".py",
   "mimetype": "text/x-python",
   "name": "python",
   "nbconvert_exporter": "python",
   "pygments_lexer": "ipython3",
   "version": "3.7.5"
  }
 },
 "nbformat": 4,
 "nbformat_minor": 4
}
